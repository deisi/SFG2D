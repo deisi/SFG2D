{
 "cells": [
  {
   "cell_type": "code",
   "execution_count": null,
   "metadata": {
    "collapsed": false
   },
   "outputs": [],
   "source": [
    "%pylab notebook\n",
    "import SFG2D\n",
    "import pandas as pd"
   ]
  },
  {
   "cell_type": "code",
   "execution_count": null,
   "metadata": {
    "collapsed": false,
    "scrolled": true
   },
   "outputs": [],
   "source": [
    "#ret = pd.read_csv('/home/malte/MeasurmentData/2016/07/27/11_sc_gold_w674_gcm_e5s_ppp_pu1_pr1_vis1_gal1_chop1_purge1.dat', sep='\\t', header=None)\n",
    "#times = ret.iloc[0::1602,0]\n",
    "#ret2 = ret.drop(times.index)\n",
    "#ret3 = ret2[~all(ret2 == ret2.irow(1600), 1)]\n",
    "\n",
    "ret = SFG2D.io.veronica.read_time_scan('/home/malte/MeasurmentData/2016/07/27/11_sc_gold_w674_gcm_e5s_ppp_pu1_pr1_vis1_gal1_chop1_purge1.dat')"
   ]
  },
  {
   "cell_type": "code",
   "execution_count": null,
   "metadata": {
    "collapsed": false
   },
   "outputs": [],
   "source": [
    "ret"
   ]
  },
  {
   "cell_type": "code",
   "execution_count": null,
   "metadata": {
    "collapsed": false
   },
   "outputs": [],
   "source": [
    "ret.memory_usage().sum()"
   ]
  },
  {
   "cell_type": "code",
   "execution_count": null,
   "metadata": {
    "collapsed": false
   },
   "outputs": [],
   "source": [
    "ret"
   ]
  },
  {
   "cell_type": "code",
   "execution_count": null,
   "metadata": {
    "collapsed": false
   },
   "outputs": [],
   "source": [
    "d0 = SFG2D.io.veronica.read_save('../data/00_sp_quarz_w650_gcm_e20s_pr3000.dat')\n",
    "quartz = SFG2D.io.veronica.read_scan_stack('../data/01_sc_quarz_w650_gcm_e20s_pr3000.dat')\n",
    "quartz._norm = d0._df\n",
    "quartz._base = d0._df['spec_0']"
   ]
  },
  {
   "cell_type": "code",
   "execution_count": null,
   "metadata": {
    "collapsed": false
   },
   "outputs": [],
   "source": [
    "np.ones(df.shape)"
   ]
  },
  {
   "cell_type": "code",
   "execution_count": null,
   "metadata": {
    "collapsed": false
   },
   "outputs": [],
   "source": [
    "base = pd.DataFrame(np.N)\n",
    "\n",
    "left = df[:50].median(0)\n",
    "right = df[-50:].median(0)\n"
   ]
  },
  {
   "cell_type": "code",
   "execution_count": null,
   "metadata": {
    "collapsed": false
   },
   "outputs": [],
   "source": [
    "df = quartz._df\n",
    "md = df.copy()\n",
    "md[(df.index > 50) & (df.index < 1550)] = NaN\n",
    "plot(md.interpolate())\n",
    "print(md[49:53])\n"
   ]
  },
  {
   "cell_type": "code",
   "execution_count": null,
   "metadata": {
    "collapsed": false,
    "scrolled": true
   },
   "outputs": [],
   "source": [
    "plot(a.add(b, axis=0))"
   ]
  },
  {
   "cell_type": "code",
   "execution_count": null,
   "metadata": {
    "collapsed": true
   },
   "outputs": [],
   "source": []
  }
 ],
 "metadata": {
  "kernelspec": {
   "display_name": "Python 3",
   "language": "python",
   "name": "python3"
  },
  "language_info": {
   "codemirror_mode": {
    "name": "ipython",
    "version": 3
   },
   "file_extension": ".py",
   "mimetype": "text/x-python",
   "name": "python",
   "nbconvert_exporter": "python",
   "pygments_lexer": "ipython3",
   "version": "3.5.1"
  }
 },
 "nbformat": 4,
 "nbformat_minor": 0
}
