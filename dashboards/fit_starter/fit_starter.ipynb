{
 "cells": [
  {
   "cell_type": "code",
   "execution_count": null,
   "metadata": {
    "collapsed": false,
    "extensions": {
     "jupyter_dashboards": {
      "version": 1,
      "views": {
       "grid_default": {
        "col": 0,
        "height": 4,
        "hidden": false,
        "row": 0,
        "width": 4
       },
       "report_default": {}
      }
     }
    }
   },
   "outputs": [],
   "source": [
    "%pylab notebook\n",
    "%load_ext autoreload\n",
    "%autoreload 2\n",
    "from fitGui import FitGui"
   ]
  },
  {
   "cell_type": "code",
   "execution_count": null,
   "metadata": {
    "collapsed": true
   },
   "outputs": [],
   "source": [
    "def sfgn1(x, nr, phase, amplitude, pos, width):\n",
    "    '''NR background and one lorenzian peak\n",
    "\n",
    "    Parameters\n",
    "    ---------- \n",
    "    x : array\n",
    "        wavenumbers\n",
    "    nr : Non Resonant background (amplitude)\n",
    "    phase : Phase of the non resonant background\n",
    "    amplitude : number\n",
    "        Amplitude\n",
    "    pos : number\n",
    "    width : width of the lorenzian (FWHM)\n",
    "\n",
    "    Returns\n",
    "    -------\n",
    "    array with the same shape as x\n",
    "    '''\n",
    "\n",
    "    # Non resonant part\n",
    "    ChiNR = nr * (cos(phase) + 1j * sin(phase))\n",
    "\n",
    "    # Resonent part\n",
    "    ## Prepare parameters\n",
    "    A = amplitude\n",
    "    delta = pos - x\n",
    "    gamma = width / 2\n",
    "    \n",
    "    ## The actural lorenzian distribution\n",
    "    ChiR_i = A * gamma / (delta**2 + gamma**2)\n",
    "    ChiR_r = A * delta / (delta**2 + gamma**2)\n",
    "    ChiR = ChiR_r + 1j * ChiR_i\n",
    "\n",
    "    # The physical Chi\n",
    "    Chi = ChiR + ChiNR\n",
    "\n",
    "    # Doing it this way seems to be the fastest\n",
    "    return square(Chi.real) + square(Chi.imag)"
   ]
  },
  {
   "cell_type": "markdown",
   "metadata": {},
   "source": [
    "# Gui to Fit-Spectra"
   ]
  },
  {
   "cell_type": "code",
   "execution_count": null,
   "metadata": {
    "collapsed": false,
    "extensions": {
     "jupyter_dashboards": {
      "version": 1,
      "views": {
       "grid_default": {
        "hidden": true
       },
       "report_default": {}
      }
     }
    }
   },
   "outputs": [],
   "source": [
    "# Load some example data\n",
    "data = load('./example_peak.npz')\n",
    "\n",
    "# Data must be sorted. Otherwise roi will do shit.\n",
    "x = data['wavenumber'][::-1]\n",
    "\n",
    "# y_data for the fit\n",
    "y = data['normalized'].squeeze()[::-1] * 1000 # 1000 so values are ~1. This helps the fitting algorithm\n",
    "\n",
    "# Uncertaincy of the y_data for the fit\n",
    "y_err = data['dnormalized'].squeeze()[::-1] * 1000\n",
    "\n",
    "# fit function\n",
    "fit_func = sfgn1\n",
    "\n",
    "f = FitGui(x, y, fit_func, y_err)\n",
    "\n",
    "# Set debug level for further output 0 to 3 are allowed levels\n",
    "#f._debug = 3\n",
    "\n",
    "fig, ax = subplots()\n",
    "plt.ylim(0, 10)\n",
    "plt.xlim(1400, 1800)\n",
    "f()"
   ]
  },
  {
   "cell_type": "markdown",
   "metadata": {},
   "source": [
    "## Plot with addiontal Information"
   ]
  },
  {
   "cell_type": "code",
   "execution_count": null,
   "metadata": {
    "collapsed": false
   },
   "outputs": [],
   "source": [
    "fig, ax = subplots()\n",
    "f.chi2.show();"
   ]
  },
  {
   "cell_type": "markdown",
   "metadata": {},
   "source": [
    "# Fit Gui with SFG2D dependencies"
   ]
  },
  {
   "cell_type": "code",
   "execution_count": null,
   "metadata": {
    "collapsed": true,
    "extensions": {
     "jupyter_dashboards": {
      "version": 1,
      "views": {
       "grid_default": {
        "hidden": true
       },
       "report_default": {}
      }
     }
    }
   },
   "outputs": [],
   "source": [
    "import sfg2d\n",
    "import pandas\n",
    "import iminuit\n",
    "import probfit"
   ]
  },
  {
   "cell_type": "code",
   "execution_count": null,
   "metadata": {
    "collapsed": false
   },
   "outputs": [],
   "source": [
    "urea8m = sfg2d.io.load_npz_to_Scan('/home/malte/MeasurmentData/Dolly1/2016/10/19/urea_002_v1_avg.npz')\n",
    "urea7m = sfg2d.io.load_npz_to_Scan('/home/malte/MeasurmentData/Dolly1/2016/10/20/urea_002_03_avg.npz')\n",
    "urea6m = sfg2d.io.load_npz_to_Scan('/home/malte/MeasurmentData/Dolly1/2016/10/20/urea_002_02_avg.npz')\n",
    "urea4m = sfg2d.io.load_npz_to_Scan('/home/malte/MeasurmentData/Dolly1/2016/10/19/urea_002_01_v1_avg.npz')\n",
    "\n",
    "data = urea8m \n",
    "\n",
    "# Region of Interest in coordinates of x\n",
    "roi = slice(1540, 1660)\n",
    "\n",
    "# x_data for the fit\n",
    "x = data.df['normalized'][roi].index.get_values()\n",
    "\n",
    "# y_data for the fit\n",
    "y = data.df['normalized'][roi].get_values() * 1000\n",
    "\n",
    "# Uncertaincy of the y_data for the fit\n",
    "y_err = data.df['dnormalized'][roi].get_values() * 1000\n",
    "g\n",
    "# fit function\n",
    "fit_func = sfg2d.utils.static.sfgn1\n",
    "\n",
    "f = FitGui(x, y, fit_func, y_err)\n",
    "\n",
    "# Set debug level for further output 0 to 3 are allowed levels\n",
    "#f._debug = 3\n",
    "\n",
    "fig, ax = subplots()\n",
    "f()"
   ]
  },
  {
   "cell_type": "markdown",
   "metadata": {},
   "source": [
    "## Plot with additional Information"
   ]
  },
  {
   "cell_type": "code",
   "execution_count": null,
   "metadata": {
    "collapsed": true
   },
   "outputs": [],
   "source": [
    "fig, ax = subplots()\n",
    "f.chi2.show()"
   ]
  },
  {
   "cell_type": "code",
   "execution_count": null,
   "metadata": {
    "collapsed": false
   },
   "outputs": [],
   "source": [
    "urea8m = sfg2d.io.load_npz_to_Scan('/home/malte/MeasurmentData/Dolly1/2016/10/19/urea_002_v1_avg.npz')\n",
    "urea7m = sfg2d.io.load_npz_to_Scan('/home/malte/MeasurmentData/Dolly1/2016/10/20/urea_002_03_avg.npz')\n",
    "urea6m = sfg2d.io.load_npz_to_Scan('/home/malte/MeasurmentData/Dolly1/2016/10/20/urea_002_02_avg.npz')\n",
    "urea4m = sfg2d.io.load_npz_to_Scan('/home/malte/MeasurmentData/Dolly1/2016/10/19/urea_002_01_v1_avg.npz')\n",
    "\n",
    "urea8m.fitarg = sfg2d.io.load_fitarg('/home/malte/MeasurmentData/Dolly1/2016/10/19/urea_002_v1_fit.text')\n",
    "urea7m.fitarg = sfg2d.io.load_fitarg('/home/malte/MeasurmentData/Dolly1/2016/10/20/urea_002_03_fit.text')\n",
    "urea6m.fitarg = sfg2d.io.load_fitarg('/home/malte/MeasurmentData/Dolly1/2016/10/20/urea_002_02_fit.text')\n",
    "urea4m.fitarg = sfg2d.io.load_fitarg('/home/malte/MeasurmentData/Dolly1/2016/10/19/urea_002_01_v1_fit.text')\n",
    "\n",
    "urea8m.fit = fit = iminuit.Minuit(sfg2d.utils.static.sfgn1, **urea8m.fitarg, pedantic=False)\n",
    "\n",
    "\n",
    "def sfg1d(x, fit_func, fitarg):\n",
    "    kwargs = iminuit.describe(sfg2d.utils.static.sfgn1)[1:]\n",
    "    \n",
    "    \n",
    "    \n",
    "    sfg2d.utils.static.sfgn1(x, )"
   ]
  },
  {
   "cell_type": "code",
   "execution_count": null,
   "metadata": {
    "collapsed": false
   },
   "outputs": [],
   "source": [
    "urea8m.fit.values"
   ]
  },
  {
   "cell_type": "code",
   "execution_count": null,
   "metadata": {
    "collapsed": true
   },
   "outputs": [],
   "source": [
    "fit = iminuit.Minuit(sfg2d.utils.static.sfgn1, **fitarg)\n"
   ]
  },
  {
   "cell_type": "code",
   "execution_count": null,
   "metadata": {
    "collapsed": false,
    "scrolled": true
   },
   "outputs": [],
   "source": [
    "fig, ax = subplots()\n",
    "\n",
    "plot(urea8m.df.normalized * 1000)\n",
    "plot(urea7m.df.normalized * 1000)\n",
    "plot(urea6m.df.normalized * 1000)\n",
    "plot(urea4m.df.normalized * 1000)\n",
    "\n",
    "xlim(1400, 1800)\n",
    "ylim(0, 10)"
   ]
  },
  {
   "cell_type": "code",
   "execution_count": null,
   "metadata": {
    "collapsed": true
   },
   "outputs": [],
   "source": []
  }
 ],
 "metadata": {
  "extensions": {
   "jupyter_dashboards": {
    "activeView": "grid_default",
    "version": 1,
    "views": {
     "grid_default": {
      "cellMargin": 10,
      "defaultCellHeight": 20,
      "maxColumns": 12,
      "name": "grid",
      "type": "grid"
     },
     "report_default": {
      "name": "report",
      "type": "report"
     }
    }
   }
  },
  "kernelspec": {
   "display_name": "sfg2d",
   "language": "python",
   "name": "sfg2d"
  },
  "language_info": {
   "codemirror_mode": {
    "name": "ipython",
    "version": 3
   },
   "file_extension": ".py",
   "mimetype": "text/x-python",
   "name": "python",
   "nbconvert_exporter": "python",
   "pygments_lexer": "ipython3",
   "version": "3.5.2"
  },
  "widgets": {
   "state": {
    "136ad06537024a6cb1e71a845ce22220": {
     "views": [
      {
       "cell_index": 5
      }
     ]
    },
    "13fdb2c661374648b97f965f06ba1bb4": {
     "views": [
      {
       "cell_index": 3
      }
     ]
    },
    "1e47a6e9347f4d4890ffccbe3d53c6ec": {
     "views": [
      {
       "cell_index": 3
      }
     ]
    },
    "1fd0f9a367204e87b53c8d3d91ee4025": {
     "views": [
      {
       "cell_index": 6
      }
     ]
    },
    "2b5f683288ef492abfe59dc73cd8649a": {
     "views": [
      {
       "cell_index": 6
      }
     ]
    },
    "3bd18d180dcb48d8bb036d6e7485f00f": {
     "views": [
      {
       "cell_index": 6
      }
     ]
    },
    "500d5589d3654857b2067e2b17ab9232": {
     "views": [
      {
       "cell_index": 3
      }
     ]
    },
    "5c0211867c104849912a1f0827c0e1a8": {
     "views": [
      {
       "cell_index": 5
      }
     ]
    },
    "60e2d2319d324d259839b690dedb19ec": {
     "views": [
      {
       "cell_index": 3
      }
     ]
    },
    "673b80159cf646a7bf3c199d97553268": {
     "views": [
      {
       "cell_index": 5
      }
     ]
    },
    "743101e2b68a4d0f83e6d913740bd92f": {
     "views": [
      {
       "cell_index": 6
      }
     ]
    },
    "8190f1126e884a8189e366689be8acec": {
     "views": [
      {
       "cell_index": 3
      }
     ]
    },
    "a41dad1d49314ff28d50dd6b53c004d0": {
     "views": [
      {
       "cell_index": 3
      }
     ]
    },
    "abb838e42b4e4ced9b18b6543b417735": {
     "views": [
      {
       "cell_index": 6
      }
     ]
    },
    "af145044af4c43bd9d9262b746c2e20b": {
     "views": [
      {
       "cell_index": 5
      }
     ]
    },
    "b82549ba8d8d4167839be8f884f75601": {
     "views": [
      {
       "cell_index": 6
      }
     ]
    },
    "c7d3d6d3be9948bf9b0b6074c8bedd7c": {
     "views": [
      {
       "cell_index": 3
      }
     ]
    },
    "cb54e28c4b1d4ada9a272269503e246d": {
     "views": [
      {
       "cell_index": 5
      }
     ]
    },
    "cb88900925b64a0993f8ea17fc91085e": {
     "views": [
      {
       "cell_index": 5
      }
     ]
    },
    "eb0082c9815f4ae8b038fa364f0d4902": {
     "views": [
      {
       "cell_index": 6
      }
     ]
    }
   },
   "version": "1.2.0"
  }
 },
 "nbformat": 4,
 "nbformat_minor": 1
}
