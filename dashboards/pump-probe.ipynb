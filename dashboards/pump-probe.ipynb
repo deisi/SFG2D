{
 "cells": [
  {
   "cell_type": "code",
   "execution_count": 1,
   "metadata": {
    "collapsed": false,
    "extensions": {
     "jupyter_dashboards": {
      "version": 1,
      "views": {
       "grid_default": {
        "col": 0,
        "height": 4,
        "hidden": true,
        "row": 4,
        "width": 4
       },
       "report_default": {
        "hidden": true
       }
      }
     }
    }
   },
   "outputs": [],
   "source": [
    "%%capture\n",
    "#mutes cell output\n",
    "#%pylab inline\n",
    "%matplotlib inline\n",
    "#%matplotlib notebook\n",
    "import matplotlib.pyplot as plt\n",
    "from glob import glob\n",
    "from IPython.display import display\n",
    "#from bqplot import pyplot as bgplt\n",
    "from watchdog.observers import Observer\n",
    "from watchdog.events import FileSystemEventHandler\n",
    "\n",
    "import os\n",
    "import SFG2D\n",
    "import pandas as pd\n",
    "import seaborn as sns\n",
    "import ipywidgets as ipyw\n",
    "\n",
    "plt.style.use('seaborn-notebook')\n",
    "sns.set_style(\"white\")\n",
    "sns.set_style(\"ticks\")\n",
    "#sns.set_context(\"talk\", font_scale=1.5, rc={\"lines.linewidth\": 2.5})"
   ]
  },
  {
   "cell_type": "markdown",
   "metadata": {
    "extensions": {
     "jupyter_dashboards": {
      "version": 1,
      "views": {
       "grid_default": {
        "col": 5,
        "height": 4,
        "hidden": false,
        "row": 0,
        "width": 4
       },
       "report_default": {
        "hidden": false
       }
      }
     }
    }
   },
   "source": [
    "# Import Data"
   ]
  },
  {
   "cell_type": "markdown",
   "metadata": {
    "extensions": {
     "jupyter_dashboards": {
      "version": 1,
      "views": {
       "grid_default": {
        "col": 0,
        "height": 4,
        "hidden": false,
        "row": 0,
        "width": 5
       },
       "report_default": {
        "hidden": true
       }
      }
     }
    }
   },
   "source": [
    "## Select Data"
   ]
  },
  {
   "cell_type": "code",
   "execution_count": 2,
   "metadata": {
    "collapsed": false,
    "extensions": {
     "jupyter_dashboards": {
      "version": 1,
      "views": {
       "grid_default": {
        "hidden": true
       },
       "report_default": {
        "hidden": true
       }
      }
     }
    }
   },
   "outputs": [],
   "source": [
    "# Global variables hold data\n",
    "ffolder = '/home/malte/deiseroth/MeasurmentData/2016/08/01/'\n",
    "ffiles = glob(ffolder + '/*.dat')\n",
    "ffiles = [ x for x in ffiles if \"AVG\" not in x ]\n",
    "\n",
    "fnames = [os.path.split(ffile)[1] for ffile in ffiles]\n",
    "\n",
    "ir = None\n",
    "pump = None\n",
    "base = None\n",
    "ts0 = None\n",
    "ts0u = None # Unnormalized TimeSeries\n",
    "\n",
    "# Watchdog to monitor ffolder\n",
    "class MyHandler(FileSystemEventHandler):\n",
    "    def on_modified(self, event):\n",
    "        global ffiles, fnames\n",
    "        ffiles = glob(ffolder + '/*.dat')\n",
    "        ffiles = [ x for x in ffiles if \"AVG\" not in x ]\n",
    "        fnames = [os.path.split(ffile)[1] for ffile in ffiles]\n",
    "        w_ir_fpath.options = fnames\n",
    "\n",
    "ffolder_observer = Observer()\n",
    "event_handler = MyHandler()\n",
    "ffolder_observer.schedule(event_handler, ffolder, recursive=False)\n",
    "ffolder_observer.start()\n",
    "    \n",
    "# register widgets\n",
    "w_ir_fpath = ipyw.Select(options=fnames, description='IR Profile')\n",
    "w_ir_fbase = ipyw.Select(description='IR Base')\n",
    "w_ir_spec = ipyw.Select(\n",
    "    options = [\"All\", \"spec_0\", \"spec_1\", \"spec_2\"], \n",
    "    description=\"Spectrum\", value=\"spec_1\"\n",
    ")\n",
    "w_ir_sub_base = ipyw.RadioButtons(\n",
    "    description='Sub Baseline',\n",
    "    options=(True, False),\n",
    "    value=False\n",
    ")\n",
    "\n",
    "w_pump_fpath = ipyw.Select(description='Pump SFG')\n",
    "w_pump_fbase = ipyw.Select(description='Pump Base')\n",
    "w_pump_spec = ipyw.Select(\n",
    "    options = [\"All\", \"spec_0\", \"spec_1\", \"spec_2\"], \n",
    "    description=\"Spectrum\", value=\"spec_1\"\n",
    ")\n",
    "w_pump_ppdelay = ipyw.SelectionSlider(continuous_update=False)\n",
    "\n",
    "w_ts0_fpath = ipyw.Select(description='Pump Probe')\n",
    "w_ts0_pumped = ipyw.Dropdown(\n",
    "    options = [\"spec_0\", \"spec_1\", \"spec_2\"], \n",
    "    description=\"pumped\", value=\"spec_0\"\n",
    ")\n",
    "w_ts0_probed = ipyw.Dropdown(\n",
    "    options = [\"spec_0\", \"spec_1\", \"spec_2\"], \n",
    "    description=\"probed\", value=\"spec_1\"\n",
    ")\n",
    "w_ts0_ppdelay = ipyw.SelectionSlider(continuous_update=False)\n",
    "w_ts0_ppdelay_childs = [ ipyw.SelectionSlider(continuous_update=False)\n",
    "                  for i in range(4)\n",
    "]\n",
    "\n",
    "#w_ts0_ppdelay0 = ipyw.SelectionSlider(continuous_update=False)\n",
    "#w_ts0_ppdelay1 = ipyw.SelectionSlider(continuous_update=False)\n",
    "#w_ts0_ppdelay2 = ipyw.SelectionSlider(continuous_update=False)\n",
    "#w_ts0_ppdelay3 = ipyw.SelectionSlider(continuous_update=False)\n",
    "\n",
    "w_fbase = ipyw.Select(description='Baseline')\n",
    "\n",
    "# observer functions\n",
    "def pump_plot_update(change):\n",
    "    pump_plot(w_pump_spec.value, w_pump_ppdelay.value)  \n",
    "    \n",
    "def pump_probe_plot_update(change):\n",
    "    pump_probe_plot(w_ts0_ppdelay.value)\n",
    "    \n",
    "def ts0_pumped_update(change):\n",
    "    ts0._pumped = w_ts0_pumped.value\n",
    "    if isinstance(ts0._df.get(\"bleach\"), pd.core.series.Series):\n",
    "        ts0.df.drop('bleach', axis=1, inplace=True)\n",
    "    \n",
    "def ts0_proped_update(change):\n",
    "    ts0._probed = w_ts0_probed.value\n",
    "    if isinstance(ts0._df.get(\"bleach\"), pd.core.series.Series):\n",
    "        ts0.df.drop('bleach', axis=1, inplace=True)\n",
    "\n",
    "# link widget properties\n",
    "import traitlets\n",
    "_l_fpath = {}\n",
    "for _name, _w in (('ir_fbase',w_ir_fbase), \n",
    "                  ('pump_fpath',w_pump_fpath), ('pump_fbase', w_pump_fbase), \n",
    "                  ('ts0_fpath', w_ts0_fpath), ('ts0_fbase', w_fbase)):\n",
    "     _l_fpath[_name] = (traitlets.dlink((w_ir_fpath, 'options'), (_w, 'options')))\n",
    "    \n",
    "_l_ts0_ppdelay_childs = []\n",
    "for _w in w_ts0_ppdelay_childs:\n",
    "    _l_ts0_ppdelay_childs.append(traitlets.dlink((w_ts0_ppdelay, 'options'),(_w, 'options')))\n",
    " \n",
    "# Default Widget values\n",
    "if '2016/08/01' in ffolder:\n",
    "    w_ir_fpath.value = '09_sc_quartz_w674_gcm_e10s_ssp_pu0_pr1_vis1_gal1_chop1_purge1.dat'\n",
    "    w_ir_fbase.value = '08_sp_gold_w674_gcm_e1s_ppp_pu0_pr0_vis1_gal1_chop1_purge1.dat'\n",
    "    w_pump_fpath.value ='04_ts_quartz_w674_gcm_e10s_ssp_pu1_pr0_vis1_gal0_chop0_purge1.dat'\n",
    "    w_pump_fbase.value = '05_sc_quartz_w674_gcm_e10s_ssp_pu0_pr1_vis1_gal0_chop0_purge1.dat'\n",
    "    w_ts0_fpath.value = '15_ts_na2s04-002_w674_gcm_e10m_ssp_pu1_pr1_vis1_gal1_chop1_purge1_chil10.dat'\n",
    "    w_fbase.value = '11_sc_quartz_w674_gcm_e10m_ssp_pu0_pr0_vis1_gal1_chop1_purge1.dat'\n",
    "    \n",
    "# widget observers\n",
    "w_pump_fpath.observe(pump_plot_update, names=\"value\")\n",
    "w_ts0_fpath.observe(pump_probe_plot_update, names=\"value\")\n",
    "w_ts0_pumped.observe(ts0_pumped_update, names=\"value\")\n",
    "w_ts0_probed.observe(ts0_proped_update, names=\"value\")"
   ]
  },
  {
   "cell_type": "markdown",
   "metadata": {
    "extensions": {
     "jupyter_dashboards": {
      "version": 1,
      "views": {
       "grid_default": {
        "col": 5,
        "height": 4,
        "hidden": false,
        "row": 4,
        "width": 4
       },
       "report_default": {
        "hidden": false
       }
      }
     }
    }
   },
   "source": [
    "## IR Profile"
   ]
  },
  {
   "cell_type": "code",
   "execution_count": 3,
   "metadata": {
    "collapsed": false,
    "extensions": {
     "jupyter_dashboards": {
      "version": 1,
      "views": {
       "grid_default": {},
       "report_default": {
        "hidden": false
       }
      }
     }
    }
   },
   "outputs": [
    {
     "data": {
      "image/png": "[encoded data removed]",
      "text/plain": [
       "<matplotlib.figure.Figure at 0xada1710c>"
      ]
     },
     "metadata": {},
     "output_type": "display_data"
    }
   ],
   "source": [
    "# These functions have strings as input,\n",
    "# Then there form becomes unclear\n",
    "# and at the end they need to return a spectrum  object with\n",
    "# well defined form.\n",
    "def get_ir(fpath, fbase, sub_base, spec):\n",
    "    global ir\n",
    "    ir = SFG2D.io.veronica.get_scan(ffolder + fpath, ffolder + fbase, sub_base=sub_base)\n",
    "    #base = SFG2D.io.veronica.read_auto(fbase).med\n",
    "    \n",
    "    if isinstance(ir, SFG2D.core.scan.TimeScan):\n",
    "        raise NotImplementedError\n",
    "    \n",
    "    if isinstance(ir, SFG2D.core.scan.Scan):\n",
    "        # background doesnt fit well.\n",
    "        #ir._df -= 40 \n",
    "        #ir.base =+ 40 \n",
    "        \n",
    "        #ir.df.drop(\"pixel\", inplace=True, axis=1)\n",
    "        if spec is \"All\":\n",
    "            ir.df.plot()\n",
    "        else:\n",
    "            ir.med[spec].plot()\n",
    "        plt.title(\"IR Profile\")\n",
    "        plt.draw()\n",
    "\n",
    "w_ir = ipyw.interactive(get_ir, fpath=w_ir_fpath, fbase=w_ir_fbase, \n",
    "                        sub_base=w_ir_sub_base, spec=w_ir_spec )\n",
    "display(w_ir)\n",
    "plt.show()"
   ]
  },
  {
   "cell_type": "markdown",
   "metadata": {
    "extensions": {
     "jupyter_dashboards": {
      "version": 1,
      "views": {
       "grid_default": {
        "col": 5,
        "height": 4,
        "hidden": false,
        "row": 8,
        "width": 4
       },
       "report_default": {
        "hidden": false
       }
      }
     }
    }
   },
   "source": [
    "## Pump Profile"
   ]
  },
  {
   "cell_type": "code",
   "execution_count": 4,
   "metadata": {
    "collapsed": false,
    "extensions": {
     "jupyter_dashboards": {
      "version": 1,
      "views": {
       "grid_default": {
        "col": 5,
        "height": 20,
        "hidden": false,
        "row": 12,
        "width": 5
       },
       "report_default": {
        "hidden": false
       }
      }
     }
    },
    "scrolled": true
   },
   "outputs": [
    {
     "data": {
      "image/png": "[encoded data removed]",
      "text/plain": [
       "<matplotlib.figure.Figure at 0xabfcc8ec>"
      ]
     },
     "metadata": {},
     "output_type": "display_data"
    }
   ],
   "source": [
    "def get_pump(fpath):\n",
    "    global pump, w_pump_ppdelay\n",
    "    pump = SFG2D.io.veronica.read_auto(ffolder + fpath)\n",
    "    \n",
    "    if isinstance(pump, SFG2D.core.scan.Scan):\n",
    "        raise NotImplementedError\n",
    "    \n",
    "    if isinstance(pump, SFG2D.core.scan.TimeScan):\n",
    "        w_pump_ppdelay.options = list(pump.pp_delays)\n",
    "        w_pump_ppdelay.value = 0\n",
    "\n",
    "def pump_plot(spec, pp_delay):\n",
    "    if isinstance(pump, SFG2D.core.scan.TimeScan):\n",
    "    \n",
    "        if spec == \"All\":\n",
    "            pump.med.ix[pp_delay].plot()\n",
    "        else:\n",
    "            pump.med.ix[pp_delay, spec].plot()\n",
    "        plt.title('%i fs'%pp_delay)\n",
    "        plt.draw()\n",
    "\n",
    "    \n",
    "    \n",
    "w_pump = ipyw.interactive(get_pump, fpath = w_pump_fpath)\n",
    "display(w_pump)\n",
    "\n",
    "w_pump_plot = ipyw.interactive(pump_plot, spec=w_pump_spec, pp_delay=w_pump_ppdelay)\n",
    "#w_pump_fpath.observe(w_pump, names='value')\n",
    "\n",
    "display(w_pump_plot)\n",
    "plt.show()"
   ]
  },
  {
   "cell_type": "markdown",
   "metadata": {
    "collapsed": false,
    "extensions": {
     "jupyter_dashboards": {
      "version": 1,
      "views": {
       "grid_default": {
        "col": 0,
        "height": 4,
        "hidden": false,
        "row": 26,
        "width": 4
       },
       "report_default": {
        "hidden": false
       }
      }
     }
    }
   },
   "source": [
    "## Pump-Probe Data"
   ]
  },
  {
   "cell_type": "code",
   "execution_count": 5,
   "metadata": {
    "collapsed": false,
    "extensions": {
     "jupyter_dashboards": {
      "version": 1,
      "views": {
       "grid_default": {
        "col": 0,
        "height": 15,
        "hidden": false,
        "row": 30,
        "width": 5
       },
       "report_default": {
        "hidden": false
       }
      }
     }
    }
   },
   "outputs": [
    {
     "data": {
      "image/png": "[encoded data removed]",
      "text/plain": [
       "<matplotlib.figure.Figure at 0xabdfd0ec>"
      ]
     },
     "metadata": {},
     "output_type": "display_data"
    }
   ],
   "source": [
    "def get_base(fbase):\n",
    "    global base\n",
    "    base = SFG2D.io.veronica.read_auto(ffolder + fbase)\n",
    "    base.med.plot()\n",
    "    plt.title(\"Baseline\")\n",
    "    plt.draw()\n",
    "\n",
    "\n",
    "w_base = ipyw.interactive(get_base, fbase = w_fbase)\n",
    "display(w_base)\n",
    "plt.show()"
   ]
  },
  {
   "cell_type": "code",
   "execution_count": 6,
   "metadata": {
    "collapsed": false
   },
   "outputs": [],
   "source": [
    "%%capture\n",
    "def get_pump_probe(fpath):\n",
    "    global ts0, ts0u\n",
    "    ts0 = SFG2D.io.veronica.read_auto(ffolder + fpath)\n",
    "    ts0.base = base.med\n",
    "    ts0.sub_base(inplace=True)\n",
    "    if w_ir_spec.value is \"All\":\n",
    "        ts0.norm = ir.med\n",
    "    else:\n",
    "        ts0.norm = ir.med[w_ir_spec.value]\n",
    "    ts0u = ts0.__deepcopy__()\n",
    "    ts0.normalize(inplace=True)\n",
    "    if isinstance(ts0, SFG2D.core.scan.TimeScan):\n",
    "        w_ts0_ppdelay.options=list(ts0.pp_delays)\n",
    "        w_ts0_ppdelay.value=0\n",
    "    \n",
    "    if isinstance(ts0, SFG2D.core.scan.TimeScan):\n",
    "        raise NotImplementedError\n",
    "    \n",
    "    \n",
    "def ts0_pump_update(*args):\n",
    "    #global ts0\n",
    "    ts0._pumped = w_ts0_pumped.value\n",
    "    ts0u._pumped = w_ts0_pumped.value\n",
    "    \n",
    "def ts0_probe_update(*args):\n",
    "    #global ts0\n",
    "    ts0u._probed = w_ts0_probed.value\n",
    "    ts0._probed = w_ts0_probed.value\n",
    "    \n",
    "def pump_probe_sum_plot(*args):\n",
    "    ax = axes_pump_probe_get[1]\n",
    "    ax.set_title('jajaja')\n",
    "    if isinstance(ts0, SFG2D.core.scan.TimeScan):\n",
    "        [SFG2D.plotting.ts.sum_of_spectra(ts0u, spec, ax) for spec in ('spec_0', 'spec_1', 'spec_2')]\n",
    "    ax.set_title(\"Sum of Spectra\")\n",
    "    #display(fig_pump_probe_get)\n",
    "\n",
    "def pump_probe_plot(pp_delay):\n",
    "    ax = axes_pump_probe_get[0]\n",
    "    ax.clear()\n",
    "    \n",
    "    if isinstance(ts0, SFG2D.core.scan.TimeScan):\n",
    "        ts0u.med.ix[pp_delay].plot(ax=ax)\n",
    "        ax.set_title(\"%i fs\"%pp_delay)\n",
    "        #plt.ylim(-0.002, 0.015) # get this from data\n",
    "        #plt.xlim(2100, 2800) # get this from ir profile\n",
    "    fig_pump_probe_get.tight_layout()\n",
    "    display(fig_pump_probe_get)\n",
    "\n",
    "w_ts0_pumped.observe(ts0_pump_update, 'value')\n",
    "w_ts0_probed.observe(ts0_proped_update, 'value')\n",
    "    \n",
    "fig_pump_probe_get, axes_pump_probe_get = plt.subplots(1,2, figsize=(16,6))"
   ]
  },
  {
   "cell_type": "code",
   "execution_count": 7,
   "metadata": {
    "collapsed": true
   },
   "outputs": [],
   "source": [
    "ts0u"
   ]
  },
  {
   "cell_type": "code",
   "execution_count": 8,
   "metadata": {
    "collapsed": false,
    "extensions": {
     "jupyter_dashboards": {
      "version": 1,
      "views": {
       "grid_default": {
        "col": 5,
        "height": 18,
        "hidden": false,
        "row": 32,
        "width": 5
       },
       "report_default": {
        "hidden": false
       }
      }
     }
    }
   },
   "outputs": [
    {
     "data": {
      "image/png": "[encoded data removed]",
      "text/plain": [
       "<matplotlib.figure.Figure at 0xabe32bac>"
      ]
     },
     "metadata": {},
     "output_type": "display_data"
    }
   ],
   "source": [
    "w_ts0 = ipyw.interactive(get_pump_probe, fpath=w_ts0_fpath)\n",
    "\n",
    "w_ts0_plot = ipyw.interactive(pump_probe_plot, pp_delay=w_ts0_ppdelay)\n",
    "display(w_ts0, w_ts0_pumped, w_ts0_probed, w_ts0_plot)\n",
    "pump_probe_sum_plot()"
   ]
  },
  {
   "cell_type": "markdown",
   "metadata": {
    "extensions": {
     "jupyter_dashboards": {
      "version": 1,
      "views": {
       "grid_default": {},
       "report_default": {
        "hidden": false
       }
      }
     }
    }
   },
   "source": [
    "## Normalize Spectra"
   ]
  },
  {
   "cell_type": "code",
   "execution_count": null,
   "metadata": {
    "collapsed": false,
    "extensions": {
     "jupyter_dashboards": {
      "version": 1,
      "views": {
       "grid_default": {},
       "report_default": {
        "hidden": true
       }
      }
     }
    }
   },
   "outputs": [],
   "source": [
    "%%capture\n",
    "fig_norm, ax_norm = plt.subplots(1,2, figsize=(12,6))\n",
    "ax_norm[0].set_title(\"Unnormalized\")\n",
    "ax_norm[1].set_title(\"Normalized\")\n",
    "ax_norm[1].set_ylim(-0.002, 0.015)\n",
    "ts0u.pumped.ix[w_ts0_ppdelay.value].plot(ax = ax_norm[0], label=\"pumped\")\n",
    "ts0u.probed.ix[w_ts0_ppdelay.value].plot(ax = ax_norm[0], label=\"probed\")\n",
    "\n",
    "ts0.pumped.ix[w_ts0_ppdelay.value].plot(ax = ax_norm[1], label = \"pumped\")\n",
    "ts0.probed.ix[w_ts0_ppdelay.value].plot(ax = ax_norm[1], label = \"probed\")\n",
    "\n",
    "ax_norm[0].legend()\n",
    "fig_norm.tight_layout()\n",
    "\n",
    "\n",
    "def plot_norm_update(pp_delay):\n",
    "    ax_norm[0].lines[0].set_ydata(ts0u.pumped.ix[pp_delay])\n",
    "    ax_norm[0].lines[1].set_ydata(ts0u.probed.ix[pp_delay])\n",
    "\n",
    "    ax_norm[1].lines[0].set_ydata(ts0.pumped.ix[pp_delay])\n",
    "    ax_norm[1].lines[1].set_ydata(ts0.probed.ix[pp_delay])\n",
    "       \n",
    "    display(fig_norm)"
   ]
  },
  {
   "cell_type": "code",
   "execution_count": null,
   "metadata": {
    "collapsed": false,
    "extensions": {
     "jupyter_dashboards": {
      "version": 1,
      "views": {
       "grid_default": {},
       "report_default": {
        "hidden": false
       }
      }
     }
    },
    "scrolled": true
   },
   "outputs": [],
   "source": [
    "ipyw.interact(plot_norm_update, pp_delay=w_ts0_ppdelay_childs[0])"
   ]
  },
  {
   "cell_type": "markdown",
   "metadata": {
    "extensions": {
     "jupyter_dashboards": {
      "version": 1,
      "views": {
       "grid_default": {
        "col": 4,
        "height": 4,
        "hidden": false,
        "row": 50,
        "width": 4
       },
       "report_default": {
        "hidden": false
       }
      }
     }
    }
   },
   "source": [
    "# Spectra Over Time"
   ]
  },
  {
   "cell_type": "code",
   "execution_count": null,
   "metadata": {
    "collapsed": false,
    "extensions": {
     "jupyter_dashboards": {
      "version": 1,
      "views": {
       "grid_default": {},
       "report_default": {
        "hidden": false
       }
      }
     }
    }
   },
   "outputs": [],
   "source": [
    "%%capture\n",
    "#pp_slider = ipyw.SelectionSlider(options=list(ts0.pp_delays), value=0, continuous_update=False)\n",
    "roi = slice(2200,2800)\n",
    "\n",
    "def plot_compare_update(pp_delay):\n",
    "    #fig_normalize.suptitle(pp_delay)\n",
    "    #[ax.clear() for ax in ax_normalize]\n",
    "    #ts0.df.loc[pp_delay][\"spec_0\"][roi].plot(ax=ax_normalize[0])        \n",
    "    #ts0.df.loc[pp_delay][\"spec_1\"][roi].plot(ax=ax_normalize[1])\n",
    "    #plt.ylim(-0.002, 0.015)\n",
    "    for i in range(ts0.df['spec_0'].shape[1]):\n",
    "        data = ts0.df.loc[w_ts0_ppdelay_childs[1].value, \"spec_0\"][roi].iloc[:,i]\n",
    "        ax_compare[0].lines[i].set_ydata(data)\n",
    "        data = ts0.df.loc[w_ts0_ppdelay_childs[1].value, \"spec_1\"][roi].iloc[:,i]\n",
    "        ax_compare[1].lines[i].set_ydata(data)\n",
    "    \n",
    "    display(fig_compare)\n",
    "    \n",
    "\n",
    "fig_compare, ax_compare = plt.subplots(1, 2, sharey=True, figsize=(16,6))\n",
    "ts0.df.loc[w_ts0_ppdelay_childs[1].value, \"spec_0\"][roi].plot(ax=ax_compare[0])        \n",
    "ts0.df.loc[w_ts0_ppdelay_childs[1].value, \"spec_1\"][roi].plot(ax=ax_compare[1])\n",
    "for ax, title in zip(ax_compare, ('spec_0', 'spec_1')):\n",
    "    ax.set_title(title)\n",
    "    for i in range(len(ax.lines)):\n",
    "        ax.lines[i].set_label('run %i'%i)\n",
    "    ax.legend()\n",
    "plt.ylim(-0.002, 0.017)"
   ]
  },
  {
   "cell_type": "code",
   "execution_count": null,
   "metadata": {
    "collapsed": false,
    "extensions": {
     "jupyter_dashboards": {
      "version": 1,
      "views": {
       "grid_default": {
        "col": 8,
        "height": 8,
        "hidden": false,
        "row": 50,
        "width": 4
       },
       "report_default": {
        "hidden": false
       }
      }
     }
    }
   },
   "outputs": [],
   "source": [
    "w_f0 = ipyw.interact(plot_compare_update, pp_delay=w_ts0_ppdelay_childs[1])\n",
    "#display(w_f0)"
   ]
  },
  {
   "cell_type": "markdown",
   "metadata": {
    "extensions": {
     "jupyter_dashboards": {
      "version": 1,
      "views": {
       "grid_default": {
        "col": 4,
        "height": 4,
        "hidden": false,
        "row": 54,
        "width": 4
       },
       "report_default": {
        "hidden": false
       }
      }
     }
    }
   },
   "source": [
    "## Smoothed"
   ]
  },
  {
   "cell_type": "code",
   "execution_count": null,
   "metadata": {
    "collapsed": false,
    "extensions": {
     "jupyter_dashboards": {
      "version": 1,
      "views": {
       "grid_default": {
        "col": 0,
        "height": 12,
        "hidden": false,
        "row": 58,
        "width": 4
       },
       "report_default": {
        "hidden": false
       }
      }
     }
    }
   },
   "outputs": [],
   "source": [
    "#pp_slider3 = ipyw.SelectionSlider(options=list(ts0.pp_delays), value=0, continuous_update=False)\n",
    "roi = slice(2200,2800) # get this from the pump\n",
    "def p3(pp_delay):\n",
    "    ts0.pumped.loc[pp_delay][roi].rolling(10).mean().plot(label=\"pumped\")\n",
    "    ts0.probed.loc[pp_delay][roi].rolling(10).mean().plot(label=\"probed\")\n",
    "    #plt.ylim(0.001, 0.015)\n",
    "    plt.title(str(pp_delay) + \" fs\")\n",
    "    plt.legend()\n",
    "    #plt.grid()\n",
    "\n",
    "w_p3 = ipyw.interactive(p3, pp_delay=w_ts0_ppdelay_childs[2])\n",
    "display(w_p3)\n",
    "plt.show()"
   ]
  },
  {
   "cell_type": "markdown",
   "metadata": {
    "extensions": {
     "jupyter_dashboards": {
      "version": 1,
      "views": {
       "grid_default": {
        "col": 4,
        "height": 4,
        "hidden": false,
        "row": 58,
        "width": 4
       },
       "report_default": {
        "hidden": false
       }
      }
     }
    }
   },
   "source": [
    "# Bleach Trace"
   ]
  },
  {
   "cell_type": "code",
   "execution_count": null,
   "metadata": {
    "collapsed": false,
    "extensions": {
     "jupyter_dashboards": {
      "version": 1,
      "views": {
       "grid_default": {
        "col": 8,
        "height": 11,
        "hidden": false,
        "row": 58,
        "width": 4
       },
       "report_default": {
        "hidden": false
       }
      }
     }
    }
   },
   "outputs": [],
   "source": [
    "roi_slider_range = int(ts0.df.index.levels[1].min()), int(ts0.df.index.levels[1].max())\n",
    "#roi_slider_range = 0, 800\n",
    "roi_slider = ipyw.IntRangeSlider(\n",
    "    value = (2450, 2600),\n",
    "    min = roi_slider_range[0],\n",
    "    max = roi_slider_range[1],\n",
    "    continuous_update=False\n",
    ")\n",
    "\n",
    "#roi = slice(2450,2600)\n",
    "\n",
    "def plot_bleach_trace(roi):\n",
    "    tss = ts0.bleach.unstack(0)\n",
    "    tss = tss[(tss.index > roi[0]) & (tss.index < roi[1])].sum()\n",
    "\n",
    "    tss.plot()\n",
    "    plt.scatter(tss.index, tss)\n",
    "    plt.title(r\"Bleach from (%i to %i)cm$^{-1}$\"%(roi[0], roi[1]))\n",
    "    \n",
    "ipyw.interact(plot_bleach_trace, roi=roi_slider)\n",
    "plt.show()"
   ]
  },
  {
   "cell_type": "code",
   "execution_count": null,
   "metadata": {
    "collapsed": true
   },
   "outputs": [],
   "source": []
  }
 ],
 "metadata": {
  "extensions": {
   "jupyter_dashboards": {
    "activeView": "report_default",
    "version": 1,
    "views": {
     "grid_default": {
      "cellMargin": 10,
      "defaultCellHeight": 20,
      "maxColumns": 12,
      "name": "grid",
      "type": "grid"
     },
     "report_default": {
      "name": "report",
      "type": "report"
     }
    }
   }
  },
  "kernelspec": {
   "display_name": "Python 3",
   "language": "python",
   "name": "python3"
  },
  "language_info": {
   "codemirror_mode": {
    "name": "ipython",
    "version": 3
   },
   "file_extension": ".py",
   "mimetype": "text/x-python",
   "name": "python",
   "nbconvert_exporter": "python",
   "pygments_lexer": "ipython3",
   "version": "3.5.2"
  },
  "widgets": {
   "state": {
    "070e1c001a5f4ed494638747d6a01367": {
     "views": [
      {
       "cell_index": 12
      }
     ]
    },
    "0ec641a546174adab1ba34bae11c38dd": {
     "views": [
      {
       "cell_index": 12
      }
     ]
    },
    "19b879f59487438daaaa17d2244f8685": {
     "views": [
      {
       "cell_index": 11
      }
     ]
    },
    "35c73971efd7452aaf150cbfc417bd4c": {
     "views": [
      {
       "cell_index": 5
      }
     ]
    },
    "43156e7566ec4aa7bff549052e6f75ce": {
     "views": [
      {
       "cell_index": 9
      }
     ]
    },
    "43aa3345c43a456cafbf9303310fc460": {
     "views": [
      {
       "cell_index": 7
      }
     ]
    },
    "47eab429bbac4e67ad92a6762741ded5": {
     "views": [
      {
       "cell_index": 7
      }
     ]
    },
    "4d818647e61f45508ca3c0717490ee9d": {
     "views": [
      {
       "cell_index": 11
      }
     ]
    },
    "59bbef5b70a34f38875c50999a0bb399": {
     "views": [
      {
       "cell_index": 7
      }
     ]
    },
    "677b4184f2274316bff48977cbd329cc": {
     "views": [
      {
       "cell_index": 12
      }
     ]
    },
    "941133ef27924d00a08159d783bc0094": {
     "views": [
      {
       "cell_index": 11
      }
     ]
    },
    "9458a0cebd8a493682f9bccea23ef99b": {
     "views": [
      {
       "cell_index": 7
      }
     ]
    },
    "a4fb6d3bc1b64a6fb2eb036bcd91648f": {
     "views": [
      {
       "cell_index": 11
      }
     ]
    },
    "b07c6894159f4a7ba4e1de9cc220164e": {
     "views": [
      {
       "cell_index": 11
      },
      {
       "cell_index": 11
      }
     ]
    },
    "c5888c6c788e491989516d560c7d9043": {
     "views": [
      {
       "cell_index": 11
      }
     ]
    },
    "c6ae49167f5c4c4bb0b0447a8fb48f4b": {
     "views": [
      {
       "cell_index": 12
      }
     ]
    },
    "dbb0953b2f404820bd1330f4850a2f71": {
     "views": [
      {
       "cell_index": 11
      }
     ]
    },
    "f1825e21f2964bf6871da60327133f3d": {
     "views": [
      {
       "cell_index": 7
      }
     ]
    }
   },
   "version": "1.2.0"
  }
 },
 "nbformat": 4,
 "nbformat_minor": 0
}
