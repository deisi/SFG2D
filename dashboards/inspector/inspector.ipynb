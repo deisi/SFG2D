{
 "cells": [
  {
   "cell_type": "code",
   "execution_count": 1,
   "metadata": {
    "collapsed": false,
    "extensions": {
     "jupyter_dashboards": {
      "version": 1,
      "views": {
       "grid_default": {
        "hidden": true
       },
       "report_default": {}
      }
     }
    },
    "scrolled": false
   },
   "outputs": [
    {
     "name": "stdout",
     "output_type": "stream",
     "text": [
      "Populating the interactive namespace from numpy and matplotlib\n"
     ]
    },
    {
     "data": {
      "application/javascript": [
       "/* Put everything inside the global mpl namespace */\n",
       "window.mpl = {};\n",
       "\n",
       "mpl.get_websocket_type = function() {\n",
       "    if (typeof(WebSocket) !== 'undefined') {\n",
       "        return WebSocket;\n",
       "    } else if (typeof(MozWebSocket) !== 'undefined') {\n",
       "        return MozWebSocket;\n",
       "    } else {\n",
       "        alert('Your browser does not have WebSocket support.' +\n",
       "              'Please try Chrome, Safari or Firefox ≥ 6. ' +\n",
       "              'Firefox 4 and 5 are also supported but you ' +\n",
       "              'have to enable WebSockets in about:config.');\n",
       "    };\n",
       "}\n",
       "\n",
       "mpl.figure = function(figure_id, websocket, ondownload, parent_element) {\n",
       "    this.id = figure_id;\n",
       "\n",
       "    this.ws = websocket;\n",
       "\n",
       "    this.supports_binary = (this.ws.binaryType != undefined);\n",
       "\n",
       "    if (!this.supports_binary) {\n",
       "        var warnings = document.getElementById(\"mpl-warnings\");\n",
       "        if (warnings) {\n",
       "            warnings.style.display = 'block';\n",
       "            warnings.textContent = (\n",
       "                \"This browser does not support binary websocket messages. \" +\n",
       "                    \"Performance may be slow.\");\n",
       "        }\n",
       "    }\n",
       "\n",
       "    this.imageObj = new Image();\n",
       "\n",
       "    this.context = undefined;\n",
       "    this.message = undefined;\n",
       "    this.canvas = undefined;\n",
       "    this.rubberband_canvas = undefined;\n",
       "    this.rubberband_context = undefined;\n",
       "    this.format_dropdown = undefined;\n",
       "\n",
       "    this.image_mode = 'full';\n",
       "\n",
       "    this.root = $('<div/>');\n",
       "    this._root_extra_style(this.root)\n",
       "    this.root.attr('style', 'display: inline-block');\n",
       "\n",
       "    $(parent_element).append(this.root);\n",
       "\n",
       "    this._init_header(this);\n",
       "    this._init_canvas(this);\n",
       "    this._init_toolbar(this);\n",
       "\n",
       "    var fig = this;\n",
       "\n",
       "    this.waiting = false;\n",
       "\n",
       "    this.ws.onopen =  function () {\n",
       "            fig.send_message(\"supports_binary\", {value: fig.supports_binary});\n",
       "            fig.send_message(\"send_image_mode\", {});\n",
       "            fig.send_message(\"refresh\", {});\n",
       "        }\n",
       "\n",
       "    this.imageObj.onload = function() {\n",
       "            if (fig.image_mode == 'full') {\n",
       "                // Full images could contain transparency (where diff images\n",
       "                // almost always do), so we need to clear the canvas so that\n",
       "                // there is no ghosting.\n",
       "                fig.context.clearRect(0, 0, fig.canvas.width, fig.canvas.height);\n",
       "            }\n",
       "            fig.context.drawImage(fig.imageObj, 0, 0);\n",
       "        };\n",
       "\n",
       "    this.imageObj.onunload = function() {\n",
       "        this.ws.close();\n",
       "    }\n",
       "\n",
       "    this.ws.onmessage = this._make_on_message_function(this);\n",
       "\n",
       "    this.ondownload = ondownload;\n",
       "}\n",
       "\n",
       "mpl.figure.prototype._init_header = function() {\n",
       "    var titlebar = $(\n",
       "        '<div class=\"ui-dialog-titlebar ui-widget-header ui-corner-all ' +\n",
       "        'ui-helper-clearfix\"/>');\n",
       "    var titletext = $(\n",
       "        '<div class=\"ui-dialog-title\" style=\"width: 100%; ' +\n",
       "        'text-align: center; padding: 3px;\"/>');\n",
       "    titlebar.append(titletext)\n",
       "    this.root.append(titlebar);\n",
       "    this.header = titletext[0];\n",
       "}\n",
       "\n",
       "\n",
       "\n",
       "mpl.figure.prototype._canvas_extra_style = function(canvas_div) {\n",
       "\n",
       "}\n",
       "\n",
       "\n",
       "mpl.figure.prototype._root_extra_style = function(canvas_div) {\n",
       "\n",
       "}\n",
       "\n",
       "mpl.figure.prototype._init_canvas = function() {\n",
       "    var fig = this;\n",
       "\n",
       "    var canvas_div = $('<div/>');\n",
       "\n",
       "    canvas_div.attr('style', 'position: relative; clear: both; outline: 0');\n",
       "\n",
       "    function canvas_keyboard_event(event) {\n",
       "        return fig.key_event(event, event['data']);\n",
       "    }\n",
       "\n",
       "    canvas_div.keydown('key_press', canvas_keyboard_event);\n",
       "    canvas_div.keyup('key_release', canvas_keyboard_event);\n",
       "    this.canvas_div = canvas_div\n",
       "    this._canvas_extra_style(canvas_div)\n",
       "    this.root.append(canvas_div);\n",
       "\n",
       "    var canvas = $('<canvas/>');\n",
       "    canvas.addClass('mpl-canvas');\n",
       "    canvas.attr('style', \"left: 0; top: 0; z-index: 0; outline: 0\")\n",
       "\n",
       "    this.canvas = canvas[0];\n",
       "    this.context = canvas[0].getContext(\"2d\");\n",
       "\n",
       "    var rubberband = $('<canvas/>');\n",
       "    rubberband.attr('style', \"position: absolute; left: 0; top: 0; z-index: 1;\")\n",
       "\n",
       "    var pass_mouse_events = true;\n",
       "\n",
       "    canvas_div.resizable({\n",
       "        start: function(event, ui) {\n",
       "            pass_mouse_events = false;\n",
       "        },\n",
       "        resize: function(event, ui) {\n",
       "            fig.request_resize(ui.size.width, ui.size.height);\n",
       "        },\n",
       "        stop: function(event, ui) {\n",
       "            pass_mouse_events = true;\n",
       "            fig.request_resize(ui.size.width, ui.size.height);\n",
       "        },\n",
       "    });\n",
       "\n",
       "    function mouse_event_fn(event) {\n",
       "        if (pass_mouse_events)\n",
       "            return fig.mouse_event(event, event['data']);\n",
       "    }\n",
       "\n",
       "    rubberband.mousedown('button_press', mouse_event_fn);\n",
       "    rubberband.mouseup('button_release', mouse_event_fn);\n",
       "    // Throttle sequential mouse events to 1 every 20ms.\n",
       "    rubberband.mousemove('motion_notify', mouse_event_fn);\n",
       "\n",
       "    rubberband.mouseenter('figure_enter', mouse_event_fn);\n",
       "    rubberband.mouseleave('figure_leave', mouse_event_fn);\n",
       "\n",
       "    canvas_div.on(\"wheel\", function (event) {\n",
       "        event = event.originalEvent;\n",
       "        event['data'] = 'scroll'\n",
       "        if (event.deltaY < 0) {\n",
       "            event.step = 1;\n",
       "        } else {\n",
       "            event.step = -1;\n",
       "        }\n",
       "        mouse_event_fn(event);\n",
       "    });\n",
       "\n",
       "    canvas_div.append(canvas);\n",
       "    canvas_div.append(rubberband);\n",
       "\n",
       "    this.rubberband = rubberband;\n",
       "    this.rubberband_canvas = rubberband[0];\n",
       "    this.rubberband_context = rubberband[0].getContext(\"2d\");\n",
       "    this.rubberband_context.strokeStyle = \"#000000\";\n",
       "\n",
       "    this._resize_canvas = function(width, height) {\n",
       "        // Keep the size of the canvas, canvas container, and rubber band\n",
       "        // canvas in synch.\n",
       "        canvas_div.css('width', width)\n",
       "        canvas_div.css('height', height)\n",
       "\n",
       "        canvas.attr('width', width);\n",
       "        canvas.attr('height', height);\n",
       "\n",
       "        rubberband.attr('width', width);\n",
       "        rubberband.attr('height', height);\n",
       "    }\n",
       "\n",
       "    // Set the figure to an initial 600x600px, this will subsequently be updated\n",
       "    // upon first draw.\n",
       "    this._resize_canvas(600, 600);\n",
       "\n",
       "    // Disable right mouse context menu.\n",
       "    $(this.rubberband_canvas).bind(\"contextmenu\",function(e){\n",
       "        return false;\n",
       "    });\n",
       "\n",
       "    function set_focus () {\n",
       "        canvas.focus();\n",
       "        canvas_div.focus();\n",
       "    }\n",
       "\n",
       "    window.setTimeout(set_focus, 100);\n",
       "}\n",
       "\n",
       "mpl.figure.prototype._init_toolbar = function() {\n",
       "    var fig = this;\n",
       "\n",
       "    var nav_element = $('<div/>')\n",
       "    nav_element.attr('style', 'width: 100%');\n",
       "    this.root.append(nav_element);\n",
       "\n",
       "    // Define a callback function for later on.\n",
       "    function toolbar_event(event) {\n",
       "        return fig.toolbar_button_onclick(event['data']);\n",
       "    }\n",
       "    function toolbar_mouse_event(event) {\n",
       "        return fig.toolbar_button_onmouseover(event['data']);\n",
       "    }\n",
       "\n",
       "    for(var toolbar_ind in mpl.toolbar_items) {\n",
       "        var name = mpl.toolbar_items[toolbar_ind][0];\n",
       "        var tooltip = mpl.toolbar_items[toolbar_ind][1];\n",
       "        var image = mpl.toolbar_items[toolbar_ind][2];\n",
       "        var method_name = mpl.toolbar_items[toolbar_ind][3];\n",
       "\n",
       "        if (!name) {\n",
       "            // put a spacer in here.\n",
       "            continue;\n",
       "        }\n",
       "        var button = $('<button/>');\n",
       "        button.addClass('ui-button ui-widget ui-state-default ui-corner-all ' +\n",
       "                        'ui-button-icon-only');\n",
       "        button.attr('role', 'button');\n",
       "        button.attr('aria-disabled', 'false');\n",
       "        button.click(method_name, toolbar_event);\n",
       "        button.mouseover(tooltip, toolbar_mouse_event);\n",
       "\n",
       "        var icon_img = $('<span/>');\n",
       "        icon_img.addClass('ui-button-icon-primary ui-icon');\n",
       "        icon_img.addClass(image);\n",
       "        icon_img.addClass('ui-corner-all');\n",
       "\n",
       "        var tooltip_span = $('<span/>');\n",
       "        tooltip_span.addClass('ui-button-text');\n",
       "        tooltip_span.html(tooltip);\n",
       "\n",
       "        button.append(icon_img);\n",
       "        button.append(tooltip_span);\n",
       "\n",
       "        nav_element.append(button);\n",
       "    }\n",
       "\n",
       "    var fmt_picker_span = $('<span/>');\n",
       "\n",
       "    var fmt_picker = $('<select/>');\n",
       "    fmt_picker.addClass('mpl-toolbar-option ui-widget ui-widget-content');\n",
       "    fmt_picker_span.append(fmt_picker);\n",
       "    nav_element.append(fmt_picker_span);\n",
       "    this.format_dropdown = fmt_picker[0];\n",
       "\n",
       "    for (var ind in mpl.extensions) {\n",
       "        var fmt = mpl.extensions[ind];\n",
       "        var option = $(\n",
       "            '<option/>', {selected: fmt === mpl.default_extension}).html(fmt);\n",
       "        fmt_picker.append(option)\n",
       "    }\n",
       "\n",
       "    // Add hover states to the ui-buttons\n",
       "    $( \".ui-button\" ).hover(\n",
       "        function() { $(this).addClass(\"ui-state-hover\");},\n",
       "        function() { $(this).removeClass(\"ui-state-hover\");}\n",
       "    );\n",
       "\n",
       "    var status_bar = $('<span class=\"mpl-message\"/>');\n",
       "    nav_element.append(status_bar);\n",
       "    this.message = status_bar[0];\n",
       "}\n",
       "\n",
       "mpl.figure.prototype.request_resize = function(x_pixels, y_pixels) {\n",
       "    // Request matplotlib to resize the figure. Matplotlib will then trigger a resize in the client,\n",
       "    // which will in turn request a refresh of the image.\n",
       "    this.send_message('resize', {'width': x_pixels, 'height': y_pixels});\n",
       "}\n",
       "\n",
       "mpl.figure.prototype.send_message = function(type, properties) {\n",
       "    properties['type'] = type;\n",
       "    properties['figure_id'] = this.id;\n",
       "    this.ws.send(JSON.stringify(properties));\n",
       "}\n",
       "\n",
       "mpl.figure.prototype.send_draw_message = function() {\n",
       "    if (!this.waiting) {\n",
       "        this.waiting = true;\n",
       "        this.ws.send(JSON.stringify({type: \"draw\", figure_id: this.id}));\n",
       "    }\n",
       "}\n",
       "\n",
       "\n",
       "mpl.figure.prototype.handle_save = function(fig, msg) {\n",
       "    var format_dropdown = fig.format_dropdown;\n",
       "    var format = format_dropdown.options[format_dropdown.selectedIndex].value;\n",
       "    fig.ondownload(fig, format);\n",
       "}\n",
       "\n",
       "\n",
       "mpl.figure.prototype.handle_resize = function(fig, msg) {\n",
       "    var size = msg['size'];\n",
       "    if (size[0] != fig.canvas.width || size[1] != fig.canvas.height) {\n",
       "        fig._resize_canvas(size[0], size[1]);\n",
       "        fig.send_message(\"refresh\", {});\n",
       "    };\n",
       "}\n",
       "\n",
       "mpl.figure.prototype.handle_rubberband = function(fig, msg) {\n",
       "    var x0 = msg['x0'];\n",
       "    var y0 = fig.canvas.height - msg['y0'];\n",
       "    var x1 = msg['x1'];\n",
       "    var y1 = fig.canvas.height - msg['y1'];\n",
       "    x0 = Math.floor(x0) + 0.5;\n",
       "    y0 = Math.floor(y0) + 0.5;\n",
       "    x1 = Math.floor(x1) + 0.5;\n",
       "    y1 = Math.floor(y1) + 0.5;\n",
       "    var min_x = Math.min(x0, x1);\n",
       "    var min_y = Math.min(y0, y1);\n",
       "    var width = Math.abs(x1 - x0);\n",
       "    var height = Math.abs(y1 - y0);\n",
       "\n",
       "    fig.rubberband_context.clearRect(\n",
       "        0, 0, fig.canvas.width, fig.canvas.height);\n",
       "\n",
       "    fig.rubberband_context.strokeRect(min_x, min_y, width, height);\n",
       "}\n",
       "\n",
       "mpl.figure.prototype.handle_figure_label = function(fig, msg) {\n",
       "    // Updates the figure title.\n",
       "    fig.header.textContent = msg['label'];\n",
       "}\n",
       "\n",
       "mpl.figure.prototype.handle_cursor = function(fig, msg) {\n",
       "    var cursor = msg['cursor'];\n",
       "    switch(cursor)\n",
       "    {\n",
       "    case 0:\n",
       "        cursor = 'pointer';\n",
       "        break;\n",
       "    case 1:\n",
       "        cursor = 'default';\n",
       "        break;\n",
       "    case 2:\n",
       "        cursor = 'crosshair';\n",
       "        break;\n",
       "    case 3:\n",
       "        cursor = 'move';\n",
       "        break;\n",
       "    }\n",
       "    fig.rubberband_canvas.style.cursor = cursor;\n",
       "}\n",
       "\n",
       "mpl.figure.prototype.handle_message = function(fig, msg) {\n",
       "    fig.message.textContent = msg['message'];\n",
       "}\n",
       "\n",
       "mpl.figure.prototype.handle_draw = function(fig, msg) {\n",
       "    // Request the server to send over a new figure.\n",
       "    fig.send_draw_message();\n",
       "}\n",
       "\n",
       "mpl.figure.prototype.handle_image_mode = function(fig, msg) {\n",
       "    fig.image_mode = msg['mode'];\n",
       "}\n",
       "\n",
       "mpl.figure.prototype.updated_canvas_event = function() {\n",
       "    // Called whenever the canvas gets updated.\n",
       "    this.send_message(\"ack\", {});\n",
       "}\n",
       "\n",
       "// A function to construct a web socket function for onmessage handling.\n",
       "// Called in the figure constructor.\n",
       "mpl.figure.prototype._make_on_message_function = function(fig) {\n",
       "    return function socket_on_message(evt) {\n",
       "        if (evt.data instanceof Blob) {\n",
       "            /* FIXME: We get \"Resource interpreted as Image but\n",
       "             * transferred with MIME type text/plain:\" errors on\n",
       "             * Chrome.  But how to set the MIME type?  It doesn't seem\n",
       "             * to be part of the websocket stream */\n",
       "            evt.data.type = \"image/png\";\n",
       "\n",
       "            /* Free the memory for the previous frames */\n",
       "            if (fig.imageObj.src) {\n",
       "                (window.URL || window.webkitURL).revokeObjectURL(\n",
       "                    fig.imageObj.src);\n",
       "            }\n",
       "\n",
       "            fig.imageObj.src = (window.URL || window.webkitURL).createObjectURL(\n",
       "                evt.data);\n",
       "            fig.updated_canvas_event();\n",
       "            fig.waiting = false;\n",
       "            return;\n",
       "        }\n",
       "        else if (typeof evt.data === 'string' && evt.data.slice(0, 21) == \"data:image/png;base64\") {\n",
       "            fig.imageObj.src = evt.data;\n",
       "            fig.updated_canvas_event();\n",
       "            fig.waiting = false;\n",
       "            return;\n",
       "        }\n",
       "\n",
       "        var msg = JSON.parse(evt.data);\n",
       "        var msg_type = msg['type'];\n",
       "\n",
       "        // Call the  \"handle_{type}\" callback, which takes\n",
       "        // the figure and JSON message as its only arguments.\n",
       "        try {\n",
       "            var callback = fig[\"handle_\" + msg_type];\n",
       "        } catch (e) {\n",
       "            console.log(\"No handler for the '\" + msg_type + \"' message type: \", msg);\n",
       "            return;\n",
       "        }\n",
       "\n",
       "        if (callback) {\n",
       "            try {\n",
       "                // console.log(\"Handling '\" + msg_type + \"' message: \", msg);\n",
       "                callback(fig, msg);\n",
       "            } catch (e) {\n",
       "                console.log(\"Exception inside the 'handler_\" + msg_type + \"' callback:\", e, e.stack, msg);\n",
       "            }\n",
       "        }\n",
       "    };\n",
       "}\n",
       "\n",
       "// from http://stackoverflow.com/questions/1114465/getting-mouse-location-in-canvas\n",
       "mpl.findpos = function(e) {\n",
       "    //this section is from http://www.quirksmode.org/js/events_properties.html\n",
       "    var targ;\n",
       "    if (!e)\n",
       "        e = window.event;\n",
       "    if (e.target)\n",
       "        targ = e.target;\n",
       "    else if (e.srcElement)\n",
       "        targ = e.srcElement;\n",
       "    if (targ.nodeType == 3) // defeat Safari bug\n",
       "        targ = targ.parentNode;\n",
       "\n",
       "    // jQuery normalizes the pageX and pageY\n",
       "    // pageX,Y are the mouse positions relative to the document\n",
       "    // offset() returns the position of the element relative to the document\n",
       "    var x = e.pageX - $(targ).offset().left;\n",
       "    var y = e.pageY - $(targ).offset().top;\n",
       "\n",
       "    return {\"x\": x, \"y\": y};\n",
       "};\n",
       "\n",
       "/*\n",
       " * return a copy of an object with only non-object keys\n",
       " * we need this to avoid circular references\n",
       " * http://stackoverflow.com/a/24161582/3208463\n",
       " */\n",
       "function simpleKeys (original) {\n",
       "  return Object.keys(original).reduce(function (obj, key) {\n",
       "    if (typeof original[key] !== 'object')\n",
       "        obj[key] = original[key]\n",
       "    return obj;\n",
       "  }, {});\n",
       "}\n",
       "\n",
       "mpl.figure.prototype.mouse_event = function(event, name) {\n",
       "    var canvas_pos = mpl.findpos(event)\n",
       "\n",
       "    if (name === 'button_press')\n",
       "    {\n",
       "        this.canvas.focus();\n",
       "        this.canvas_div.focus();\n",
       "    }\n",
       "\n",
       "    var x = canvas_pos.x;\n",
       "    var y = canvas_pos.y;\n",
       "\n",
       "    this.send_message(name, {x: x, y: y, button: event.button,\n",
       "                             step: event.step,\n",
       "                             guiEvent: simpleKeys(event)});\n",
       "\n",
       "    /* This prevents the web browser from automatically changing to\n",
       "     * the text insertion cursor when the button is pressed.  We want\n",
       "     * to control all of the cursor setting manually through the\n",
       "     * 'cursor' event from matplotlib */\n",
       "    event.preventDefault();\n",
       "    return false;\n",
       "}\n",
       "\n",
       "mpl.figure.prototype._key_event_extra = function(event, name) {\n",
       "    // Handle any extra behaviour associated with a key event\n",
       "}\n",
       "\n",
       "mpl.figure.prototype.key_event = function(event, name) {\n",
       "\n",
       "    // Prevent repeat events\n",
       "    if (name == 'key_press')\n",
       "    {\n",
       "        if (event.which === this._key)\n",
       "            return;\n",
       "        else\n",
       "            this._key = event.which;\n",
       "    }\n",
       "    if (name == 'key_release')\n",
       "        this._key = null;\n",
       "\n",
       "    var value = '';\n",
       "    if (event.ctrlKey && event.which != 17)\n",
       "        value += \"ctrl+\";\n",
       "    if (event.altKey && event.which != 18)\n",
       "        value += \"alt+\";\n",
       "    if (event.shiftKey && event.which != 16)\n",
       "        value += \"shift+\";\n",
       "\n",
       "    value += 'k';\n",
       "    value += event.which.toString();\n",
       "\n",
       "    this._key_event_extra(event, name);\n",
       "\n",
       "    this.send_message(name, {key: value,\n",
       "                             guiEvent: simpleKeys(event)});\n",
       "    return false;\n",
       "}\n",
       "\n",
       "mpl.figure.prototype.toolbar_button_onclick = function(name) {\n",
       "    if (name == 'download') {\n",
       "        this.handle_save(this, null);\n",
       "    } else {\n",
       "        this.send_message(\"toolbar_button\", {name: name});\n",
       "    }\n",
       "};\n",
       "\n",
       "mpl.figure.prototype.toolbar_button_onmouseover = function(tooltip) {\n",
       "    this.message.textContent = tooltip;\n",
       "};\n",
       "mpl.toolbar_items = [[\"Home\", \"Reset original view\", \"fa fa-home icon-home\", \"home\"], [\"Back\", \"Back to  previous view\", \"fa fa-arrow-left icon-arrow-left\", \"back\"], [\"Forward\", \"Forward to next view\", \"fa fa-arrow-right icon-arrow-right\", \"forward\"], [\"\", \"\", \"\", \"\"], [\"Pan\", \"Pan axes with left mouse, zoom with right\", \"fa fa-arrows icon-move\", \"pan\"], [\"Zoom\", \"Zoom to rectangle\", \"fa fa-square-o icon-check-empty\", \"zoom\"], [\"\", \"\", \"\", \"\"], [\"Download\", \"Download plot\", \"fa fa-floppy-o icon-save\", \"download\"]];\n",
       "\n",
       "mpl.extensions = [\"eps\", \"jpeg\", \"pdf\", \"png\", \"ps\", \"raw\", \"svg\", \"tif\"];\n",
       "\n",
       "mpl.default_extension = \"png\";var comm_websocket_adapter = function(comm) {\n",
       "    // Create a \"websocket\"-like object which calls the given IPython comm\n",
       "    // object with the appropriate methods. Currently this is a non binary\n",
       "    // socket, so there is still some room for performance tuning.\n",
       "    var ws = {};\n",
       "\n",
       "    ws.close = function() {\n",
       "        comm.close()\n",
       "    };\n",
       "    ws.send = function(m) {\n",
       "        //console.log('sending', m);\n",
       "        comm.send(m);\n",
       "    };\n",
       "    // Register the callback with on_msg.\n",
       "    comm.on_msg(function(msg) {\n",
       "        //console.log('receiving', msg['content']['data'], msg);\n",
       "        // Pass the mpl event to the overriden (by mpl) onmessage function.\n",
       "        ws.onmessage(msg['content']['data'])\n",
       "    });\n",
       "    return ws;\n",
       "}\n",
       "\n",
       "mpl.mpl_figure_comm = function(comm, msg) {\n",
       "    // This is the function which gets called when the mpl process\n",
       "    // starts-up an IPython Comm through the \"matplotlib\" channel.\n",
       "\n",
       "    var id = msg.content.data.id;\n",
       "    // Get hold of the div created by the display call when the Comm\n",
       "    // socket was opened in Python.\n",
       "    var element = $(\"#\" + id);\n",
       "    var ws_proxy = comm_websocket_adapter(comm)\n",
       "\n",
       "    function ondownload(figure, format) {\n",
       "        window.open(figure.imageObj.src);\n",
       "    }\n",
       "\n",
       "    var fig = new mpl.figure(id, ws_proxy,\n",
       "                           ondownload,\n",
       "                           element.get(0));\n",
       "\n",
       "    // Call onopen now - mpl needs it, as it is assuming we've passed it a real\n",
       "    // web socket which is closed, not our websocket->open comm proxy.\n",
       "    ws_proxy.onopen();\n",
       "\n",
       "    fig.parent_element = element.get(0);\n",
       "    fig.cell_info = mpl.find_output_cell(\"<div id='\" + id + \"'></div>\");\n",
       "    if (!fig.cell_info) {\n",
       "        console.error(\"Failed to find cell for figure\", id, fig);\n",
       "        return;\n",
       "    }\n",
       "\n",
       "    var output_index = fig.cell_info[2]\n",
       "    var cell = fig.cell_info[0];\n",
       "\n",
       "};\n",
       "\n",
       "mpl.figure.prototype.handle_close = function(fig, msg) {\n",
       "    fig.root.unbind('remove')\n",
       "\n",
       "    // Update the output cell to use the data from the current canvas.\n",
       "    fig.push_to_output();\n",
       "    var dataURL = fig.canvas.toDataURL();\n",
       "    // Re-enable the keyboard manager in IPython - without this line, in FF,\n",
       "    // the notebook keyboard shortcuts fail.\n",
       "    IPython.keyboard_manager.enable()\n",
       "    $(fig.parent_element).html('<img src=\"' + dataURL + '\">');\n",
       "    fig.close_ws(fig, msg);\n",
       "}\n",
       "\n",
       "mpl.figure.prototype.close_ws = function(fig, msg){\n",
       "    fig.send_message('closing', msg);\n",
       "    // fig.ws.close()\n",
       "}\n",
       "\n",
       "mpl.figure.prototype.push_to_output = function(remove_interactive) {\n",
       "    // Turn the data on the canvas into data in the output cell.\n",
       "    var dataURL = this.canvas.toDataURL();\n",
       "    this.cell_info[1]['text/html'] = '<img src=\"' + dataURL + '\">';\n",
       "}\n",
       "\n",
       "mpl.figure.prototype.updated_canvas_event = function() {\n",
       "    // Tell IPython that the notebook contents must change.\n",
       "    IPython.notebook.set_dirty(true);\n",
       "    this.send_message(\"ack\", {});\n",
       "    var fig = this;\n",
       "    // Wait a second, then push the new image to the DOM so\n",
       "    // that it is saved nicely (might be nice to debounce this).\n",
       "    setTimeout(function () { fig.push_to_output() }, 1000);\n",
       "}\n",
       "\n",
       "mpl.figure.prototype._init_toolbar = function() {\n",
       "    var fig = this;\n",
       "\n",
       "    var nav_element = $('<div/>')\n",
       "    nav_element.attr('style', 'width: 100%');\n",
       "    this.root.append(nav_element);\n",
       "\n",
       "    // Define a callback function for later on.\n",
       "    function toolbar_event(event) {\n",
       "        return fig.toolbar_button_onclick(event['data']);\n",
       "    }\n",
       "    function toolbar_mouse_event(event) {\n",
       "        return fig.toolbar_button_onmouseover(event['data']);\n",
       "    }\n",
       "\n",
       "    for(var toolbar_ind in mpl.toolbar_items){\n",
       "        var name = mpl.toolbar_items[toolbar_ind][0];\n",
       "        var tooltip = mpl.toolbar_items[toolbar_ind][1];\n",
       "        var image = mpl.toolbar_items[toolbar_ind][2];\n",
       "        var method_name = mpl.toolbar_items[toolbar_ind][3];\n",
       "\n",
       "        if (!name) { continue; };\n",
       "\n",
       "        var button = $('<button class=\"btn btn-default\" href=\"#\" title=\"' + name + '\"><i class=\"fa ' + image + ' fa-lg\"></i></button>');\n",
       "        button.click(method_name, toolbar_event);\n",
       "        button.mouseover(tooltip, toolbar_mouse_event);\n",
       "        nav_element.append(button);\n",
       "    }\n",
       "\n",
       "    // Add the status bar.\n",
       "    var status_bar = $('<span class=\"mpl-message\" style=\"text-align:right; float: right;\"/>');\n",
       "    nav_element.append(status_bar);\n",
       "    this.message = status_bar[0];\n",
       "\n",
       "    // Add the close button to the window.\n",
       "    var buttongrp = $('<div class=\"btn-group inline pull-right\"></div>');\n",
       "    var button = $('<button class=\"btn btn-mini btn-primary\" href=\"#\" title=\"Stop Interaction\"><i class=\"fa fa-power-off icon-remove icon-large\"></i></button>');\n",
       "    button.click(function (evt) { fig.handle_close(fig, {}); } );\n",
       "    button.mouseover('Stop Interaction', toolbar_mouse_event);\n",
       "    buttongrp.append(button);\n",
       "    var titlebar = this.root.find($('.ui-dialog-titlebar'));\n",
       "    titlebar.prepend(buttongrp);\n",
       "}\n",
       "\n",
       "mpl.figure.prototype._root_extra_style = function(el){\n",
       "    var fig = this\n",
       "    el.on(\"remove\", function(){\n",
       "\tfig.close_ws(fig, {});\n",
       "    });\n",
       "}\n",
       "\n",
       "mpl.figure.prototype._canvas_extra_style = function(el){\n",
       "    // this is important to make the div 'focusable\n",
       "    el.attr('tabindex', 0)\n",
       "    // reach out to IPython and tell the keyboard manager to turn it's self\n",
       "    // off when our div gets focus\n",
       "\n",
       "    // location in version 3\n",
       "    if (IPython.notebook.keyboard_manager) {\n",
       "        IPython.notebook.keyboard_manager.register_events(el);\n",
       "    }\n",
       "    else {\n",
       "        // location in version 2\n",
       "        IPython.keyboard_manager.register_events(el);\n",
       "    }\n",
       "\n",
       "}\n",
       "\n",
       "mpl.figure.prototype._key_event_extra = function(event, name) {\n",
       "    var manager = IPython.notebook.keyboard_manager;\n",
       "    if (!manager)\n",
       "        manager = IPython.keyboard_manager;\n",
       "\n",
       "    // Check for shift+enter\n",
       "    if (event.shiftKey && event.which == 13) {\n",
       "        this.canvas_div.blur();\n",
       "        // select the cell after this one\n",
       "        var index = IPython.notebook.find_cell_index(this.cell_info[0]);\n",
       "        IPython.notebook.select(index + 1);\n",
       "    }\n",
       "}\n",
       "\n",
       "mpl.figure.prototype.handle_save = function(fig, msg) {\n",
       "    fig.ondownload(fig, null);\n",
       "}\n",
       "\n",
       "\n",
       "mpl.find_output_cell = function(html_output) {\n",
       "    // Return the cell and output element which can be found *uniquely* in the notebook.\n",
       "    // Note - this is a bit hacky, but it is done because the \"notebook_saving.Notebook\"\n",
       "    // IPython event is triggered only after the cells have been serialised, which for\n",
       "    // our purposes (turning an active figure into a static one), is too late.\n",
       "    var cells = IPython.notebook.get_cells();\n",
       "    var ncells = cells.length;\n",
       "    for (var i=0; i<ncells; i++) {\n",
       "        var cell = cells[i];\n",
       "        if (cell.cell_type === 'code'){\n",
       "            for (var j=0; j<cell.output_area.outputs.length; j++) {\n",
       "                var data = cell.output_area.outputs[j];\n",
       "                if (data.data) {\n",
       "                    // IPython >= 3 moved mimebundle to data attribute of output\n",
       "                    data = data.data;\n",
       "                }\n",
       "                if (data['text/html'] == html_output) {\n",
       "                    return [cell, data, j];\n",
       "                }\n",
       "            }\n",
       "        }\n",
       "    }\n",
       "}\n",
       "\n",
       "// Register the function which deals with the matplotlib target/channel.\n",
       "// The kernel may be null if the page has been refreshed.\n",
       "if (IPython.notebook.kernel != null) {\n",
       "    IPython.notebook.kernel.comm_manager.register_target('matplotlib', mpl.mpl_figure_comm);\n",
       "}\n"
      ],
      "text/plain": [
       "<IPython.core.display.Javascript object>"
      ]
     },
     "metadata": {},
     "output_type": "display_data"
    },
    {
     "data": {
      "text/html": [
       "<img src=\"data:image/png;base64,iVBORw0KGgoAAAANSUhEUgAAAyAAAAJYCAYAAACadoJwAAAgAElEQVR4XuydCbxNVf/GH1NFMkXmsUSlwRRFVKSImyljQhoIqUwN/oQkU2b1yvQaI6GrjNWLJJnpJWODkDHhNVS4/89vO0fHde89+5z12/vuc86zPp/7//fes/az1vo+6967H3uvtdKAhQRIgARIgARIgARIgARIgARcIpDGpXbYDAmQAAmQAAmQAAmQAAmQAAmAAYSTgARIgARIgARIgARIgARIwDUCDCCuoWZDJEACJEACJEACJEACJEACDCCcAyRAAiRAAiRAAiRAAiRAAq4RYABxDTUbIgESIAESIAESIAESIAESYADhHCABEiABEiABEiABEiABEnCNAAOIa6jZEAmQAAmQAAmQAAmQAAmQAAMI5wAJkAAJkAAJkAAJkAAJkIBrBBhAXEPNhkiABEiABEiABEiABEiABBhAOAdIgARIgARIgARIgARIgARcI8AA4hpqNkQCJEACJEACJEACJEACJMAAwjlAAiRAAiRAAiRAAiRAAiTgGgEGENdQsyESIAESIAESIAESIAESIAEGEM4BEiABEiABEiABEiABEiAB1wgwgLiGmg2RAAmQAAmQAAmQAAmQAAkwgHAOkAAJkAAJkAAJkAAJkAAJuEaAAcQ11GyIBEiABEiABEiABEiABEiAAYRzgARIgARIgARIgARIgARIwDUCDCCuoWZDJEACJEACJEACJEACJEACDCCcAyRAAiRAAiRAAiRAAiRAAq4RYABxDTUbIgESIAESIAESIAESIAESYADhHCABEiABEiABEiABEiABEnCNAAOIa6jZEAmQAAmQAAmQAAmQAAmQAAMI5wAJkAAJkAAJkAAJkAAJkIBrBBhAXEPNhkiABEiABEiABEiABEiABBhAOAdIgARIgARIgARIgARIgARcI8AA4hpqNkQCJEACJEACJEACJEACJMAAwjlAAiRAAiRAAiRAAiRAAiTgGgEGENdQsyESIAESIAESIAESIAESIAEGEM4BEiABEiABEiABEiABEiAB1wgwgLiGmg2RAAmQAAmQAAmQAAmQAAkwgHAOkAAJkAAJkAAJkAAJkAAJuEaAAcQ11GyIBEiABEiABEiABEiABEiAAYRzgARIgARIgARIgARIgARIwDUCDCCuoWZDJEACJEACJEACJEACJEACDCCcAyRAAiRAAiRAAiRAAiRAAq4RYABxDTUbIgESIAESIAESIAESIAESYADhHCABEiABEiABEiABEiABEnCNAAOIa6jZEAmQAAmQAAmQAAmQAAmQAAMI5wAJkAAJkAAJkAAJkAAJkIBrBBhAXEPNhkiABEiABEiABEiABEiABBhAOAdIgARIgARIgARIgARIgARcI8AA4hpqNkQCJEACJEACJEACJEACJMAAwjlAAiRAAiRAAiRAAiRAAiTgGgEGENdQsyESIAESIAESIAESIAESIAEGEM4BEiABEiABEiABEiABEiAB1wgwgLiGmg2RAAmQAAmQAAmQAAmQAAkwgHAOkAAJkAAJkAAJkAAJkAAJuEaAAcQ11GyIBEiABEiABEiABEiABEiAAYRzgARIgARIgARIgARIgARIwDUCDCCuoWZDJEACJEACJEACJEACJEAC0RpAygFoBeBBAEUAHAOwGkAPALsCbJ8IoGUS02A7gNuT+H4bAJ0BFAXwK4ARAEYlUS8rgEEA6gLIBGCN77qNnHIkQAIkQAIkQAIkQAIkEMsEojWAfAzgfgDy/7cAyAOgI4DMACoA2OYzXQJIYwASLAJZnADweaKJ8QKA932aSwA8AOBpAN19YcNfXXRWArgTwEBf+HkRQCEAZQDsieUJx7GTAAmQAAmQAAmQAAnENoFoDSAVAawDcD7A3lsAfO8LEBIcpEgAaQAgS5BpcJ3viccqAE8E1J3i+98FAUhokdIIwEc+3bm+7+UEsBPAAgBPxfaU4+hJgARIgARIgARIgARimUC0BpDkPJVQkgCgfKIAkg3A9QBOJXNhTQCfAagFYHFAHQk6EkokVEz3fX+m7+lIvkRaHwBoDiAHgL9jedJx7CRAAiRAAiRAAiRAArFLINYCiKzb+C8ACRRS5AlICwDnfGs1jgOY4Xut6nTAtHgDQF8AuQEcDfh+BgBnAQwF0NX3fXnSIV+1E02rZwB8COAuAFtjd8px5CRAAiRAAiRAAiRAArFMIJYCiDylmAygNYB/+0zv51v7sQFAWgCP+RavyxoOWcB+0VdvJABZA3JNEpPlEIAvfE835GN5iiKvYD2XqK7/KYq0sTSWJx3HTgIkQAIkQAIkQAIkELsEYiWAlPTtgiVrQKr4XsNKzvXXAbwNoCmAWb5K4wA08S1iT3zdLwDWA6jv+0DWncjrVh0SVXwIwJe+nbHiY3fKceQkQAIkQAIkQAIkQAKxTCAWAoi8NiXrNOQJx30ADgYxXBac/w/ABADPu/wE5EYAjwL42fdaWCzPTY6dBEiABEiABEiABLxIQO4V5ZgHWRcsRz2whEgg2gOI7G61HEABAJUB7LDJR16r+hpAQ199t9aANAMwzWYfWY0ESIAESIAESIAESCD1CMjmQv5NiFKvFxHYcjQHkGt9ay1KA6jmOwzQjkVyVohsqTsWQDvfBbL7lX8XrEUBInLWiKwXkYXs/uAgr21J2Em8C5boyWtdKe2CJXrfTJ06FbfddpudvrJOCgQaNmyI2bNnk5EHCdAbD5oS0CX6Q3+8TcC7vePPjne9kZ5p+fPDDz/gqaesUxUq+d6y8fbAPdi7aA0g8rqVnMEhC77jEm2d67dBAorsYiWvWwUWOTxQTjuvB8C/VkMete2TcJDEOSBy2rmcA/KHT0TOAZGdtJ4EMMf3Pf85IAsDFqsnNR3koML169evR5ky8p8sJgRKlCiBHTvsPvQyaYnXhkqA3oRKzN369Mdd3qG2Rn9CJeZefXrjHutwWtLyZ8OGDShbtqx0Qf6PbGTEEiKBaA0gwwC85AsQchp64iJPKwoD2OgLC9t9FSSwyG5VcmBg4m105WnIKACf+AKNLGaX+CuvZw0IaEDCjzwVuQPAYN+2vXISuoQUOX9kVwoeMYCEOIFTqh4XF4f4eK73V0SqJkVv1FA6IkR/HMGqJkp/1FCqC9EbdaSqglr+MICY2xKtAeQ/vt2ukiOUDkBWACMAyGGC8rqUfG83gKkAhgC4kMTFbXxPR4r6TkaX7XnlK3ER7UG+Ha8y+l7/6uILPCm5xgBiPqcvK2j9olHsEqV8BOiNt6cC/aE/3ibg3d7xZ8e73kjPtPxhADH3OVoDiDmZ1FFgAFHkrvWLRrFLlGIAiYg5wJ8db9tEf7zrD73xrjcMIN7yhgHEW34wgCj6MXbsWDz/vH8nZUVhShkToDfGCB0VoD+O4jUWpz/GCB0ToDeOoVUR1vKHT0DM7WAAMWeoqcAAokiT/xKlCFNZit4oA1WWoz/KQJXl6I8yUEU5eqMI0wEpLX8YQMzNYQAxZ6ipwACiSFN+QXA3MUWgilL0RhGmA1L0xwGoipL0RxGmshS9UQaqLKflDwOIuTEMIOYMNRUYQDRpUosESIAESIAEfAT27duHI0eOICEhgUxI4DKBNGnSIFeuXChQQM6stlcYQOxxSqkWA4g5Q00FBhBNmtQiARIgARKIeQKzZs1Cv379sGXLlphnQQDJE7jrrrvw5ptvolEjOc4t5cIAEoxQ8M8ZQIIzcrMGA4ibtNkWCZAACZBAVBOQ8NGkSRPUrFkTrVu3RuHChZEuney6z0IClwhcuHABv/zyCyZOnIiFCxfio48+ChpCGEDMZw8DiDlDTQUGEEWa48ePR5s2cnQLi9cI0BuvOXJlf+gP/fE2Afu9u/vuu61Xa+bPn4+0aeWcYBYSSJrAxYsXUadOHezfvx+bNm1KERMDiPksYgAxZ6ipwACiSLN9+/YYPXq0oiKltAjQGy2SzujQH2e4aqnSH3skZc1HwYIF8fHHH6Nhw4b2LmKtmCYgc0VewZK5kz9//mRZMICYTxMGEHOGmgoMIJo0qUUCJEACJBCzBDZu3GjthLhmzRqUL18+Zjlw4PYJrF27Fvfeey9k7txzzz0MIPbRhVyTASRkZI5ewADiKF6KkwAJkAAJxAoB/79Sr1+/nluyx4rphuO0O2f4BMQQNAAGEHOGmgoMIJo0qUUCJEACJBCzBOzeTMYsIA78KgJ25wwDiPnkYQAxZ6ipwACiSZNaJEACJEACMUvA7s1kzALiwBlAUnEOMICkIvwkmmYAUfQjLi4O8fHxioqU0iJAb7RIOqNDf5zhqqVKf+yRZACxx4m1/iFgd87wCYj5rGEAMWeoqcAAokhzyZIlqFGjhqIipbQI0Bstks7o0B9nuGqp0h97JO3eTNpTYy2vE/jss88wePBgawtdOdvjjjvuwIsvvoinn37adtftzhkGENtIk63IAGLOUFOBAUSTJrVIgARIgARiloDdm8mYBRRFAx81ahReeukl5MyZE40bN8Y111yD2bNn49dff0WXLl0wcOBAW6O1O2cYQGzhTLESA4g5Q00FBhBNmtQiARIgARKIWQJ2byZjFlCUDFxOMS9ZsiQyZ84M8VzOfpFy4sQJlCtXDj/++CNWrVqFChUqBB2x3TnDABIUZdAKDCBBEblagQHEVdxsjARIgARIIFoJ2L2ZjNbxB45L1kMOHz4cP/zwA37//XfceOONKF68uPW0oF27dlbVBx98EF9//TXOnj2LPn36YPr06Thw4IB1kry8xvT6668jQ4YMV+HasWMH+vfvj6+++gqHDh1C9uzZUa1aNfTq1Qu33nrrVfVFf8SIEdYTCrk2ISHBCg2PPPIIevTogVy5coVkSc+ePdGvXz+rPfnvwDJx4kS0adMGLVu2hPx3sGJ3zjCABCMZ/HMGkOCM3KzBAKJIe968eahbt66iIqW0CNAbLZLO6NAfZ7hqqdIfeyTt3kzaU4vcWmPHjkXbtm2RN29e1KlTx3pN6fDhw9iyZYt18//dd99Zg3vooYewYsUKq866deus0+MlcHz66afYvXu39X3578CyaNEiNGjQAOfPn7c+v+WWW6xTxOfMmWO9BrVs2bIrDvT7448/rKAjbctTi0cffdSqt2fPHixduhTz589HlSpVQoL9wAMPWE84knrKcfDgQeTLl88KOPKkJFixO2cYQIKRDP45A0hwRm7WYABRpC3/sjNz5kxFRUppEaA3WiSd0aE/znDVUqU/9kjavZm0pxa5teQ1pK1bt1rBQJ58BBZ5GpIjR47LAWT58uXWUws5PT5LlizW9//66y8rNEhQmTx5Mpo3b259X8JE0aJFrQAhwaVEiRKXpbdt22a98iTfkzDjL82aNbP+LstTF1m3EVjOnDljLR6/4YYbQoJ900034dixYzh69Kj19CVxET3RPn36NK677roUte3OGQaQkCxKsjIDiDlDTQUGEE2a1CIBEiABEohZAnZvJhMDOnMG2L7dfWwlSwKZMum3KwFEXnWSBdnZsmVLtgH/E5ApU6ZAgkJgkWAin8vXl19+aX0kr3S9+uqrVpDwv8YVeI18JnUk/MjTjiNHjlhPYfLkyYNdu3YhY8aMKoO99tprrScwf//9N9KmTXuVprxC9ttvv1mvk+XOnZsBRIW6uQgDiDlDTQUGEE2a1CIBEiABEohZAuEGkA0bgLJl3ce2fj1QRu4ClMvQoUOtnaDk5rtJkyaoWrUqKlWqZL2KFVj8AUReVZKb9sAiTybk6YE8TZCnJlKaNm2KWbNm4dlnn7Vec0pc1q5di4ULF1prPerVq4cFCxagdu3aVh9kfYlWYQDRIumuDgOIu7yDtcYAEowQPycBEiABEiABGwTCDSDR9gREUE2dOhVjxoyBhIKLFy9a9CSIDBo0CGV9acsfQM6dO5fkYnN5eiFPMeRpgxQ5Z+uLL75AmjQp30pOmjQJLVq0sELHU089hc6dO1vtahW+gqVF0l0dBhB3eQdrjQEkGCF+TgIkQAIkQAI2CIQbQGxIR2yVkydPWou1586di/Hjx1trJrZv326tDQn1CciTTz5pLTaXBeVy6F+w4tQTEC5CD0bem58zgHjLFwYQRT9at25ta9s9xSYpZZMAvbEJKpWq0Z9UAm+zWfpjDxQDSMqc5NUp2ZrW/4qUP4AELjT3K8huVg8//PAVa0CGDBmCrl27YvTo0UmuAUncuiwSl/Uf2mtAZPvdvn37WtvwyldgmTBhgvWKWKtWrSD/HazYnTNchB6MZPDPGUCCM3KzBgOIIu0ZM2ZY76iyeI8AvfGeJ4E9oj/0x9sE7PXO7s2kPbXIrSXhQXaxSlxk21x5KiFfsh2uBBD/LlirV6++vGD9zz//tK6XnbECw4msBZFtd2UXLNk+t3z58lc0IVv8yu5Y8qqXv8grWPIqln8XrMDXt2SXKllr4t99yy7xn3/+Gbfddpt1EKHsuFW4cGHr0uPHj1t9+umnn3gQoV2YLtZjAHERto2mGEBsQGIVEiABEiABEghGgAHkEiF5zUpuzitWrIgiRYpYZ3/IgYOyHkRu0OWVrHTp0l1+BSsuLs4KG4HngMhp4rKAPPE5IHL4YP369XHq1Cnr8EF5FUtChey49e2331oL1mULXH+RrXsl6MhrW7JFr/8cENFfsmRJWOeAiLbsxNWpUydrS2HZplpCkTzZ2b9/v7UAf8CAAcGmi/W53TnDJyC2cKZYiQHEnKGmAgOIJk1qkQAJkAAJxCwBuzeT0Q5IDiJcvHgxNm/eDDmYT3azkqcEstWuHFB4/fXXWwgCF6HLK03Tpk2ztq7Nnz+/9QpT9+7dk1ycvnfvXgwePNhqQ4KH3PzLrlgSbiTEyJOWwCInoQ8bNsw6D0QOOJTwIwcFShiR09YT785l15/PP//c6of4Lgvtb7/9dnTs2NFa+G632J0zDCB2iSZfjwHEnKGmAgOIJk1qkQAJkAAJxCwBuzeTMQso0cD9AUReg4rVYnfOMICYzxAGEHOGmgoMIIo0V65cicqVKysqUkqLAL3RIumMDv1xhquWKv2xR9LuzaQ9teivxQDCV7DcnOUMIG7SDt4WA0hwRrZryHus8fHxtuuzonsE6I17rMNpif6EQ829a+iPPdYMIPY4+WsxgDCAhDZjzGozgJjx076aAUSRqCx8y5Qpk6IipbQI0Bstks7o0B9nuGqp0h97JBlA7HEKDCCyON1/0GBoV+vVloXumzZtCiooC+pbtmwZtF4oFezOGb6CFQrVpOsygJgz1FRgANGkSS0SIAESIIGYJWD3ZjJmAXl04HLOjWz3G6zI9r6yC5dmsTtnGEDMqTOAmDPUVGAA0aRJLRIgARIggZglYPdmMmYBceBXEbA7ZxhAzCcPA4g5Q00FBhBNmtQiARIgARKIWQJ2byZjFhAHzgCSinOAASQV4SfRNAOIoh9du3bFoEGDFBUppUWA3miRdEaH/jjDVUuV/tgjyQBijxNr/UPA7pzhExDzWcMAYs5QU4EBRJHmyJEjrUOIWLxHgN54z5PAHtEf+uNtAvZ6Z/dm0p4aa8UCAbtzhgHEfDYwgJgz1FRgANGkSS0SIAESIIGYJWD3ZjJmAXHgVxGwO2cYQMwnDwOIOUNNBQYQTZrUIgESIAESiFkCdm8mYxYQB84AkopzgAEkFeEn0TQDiLf8YG9IgARIgAQilAADSIQal4rdtjtn+ATE3CQGEHOGmgoMIIo0t2/fjpIlSyoqUkqLAL3RIumMDv1xhquWKv2xR9LuzaQ9NdaKBQJ25wwDiPlsYAAxZ6ipwACiSDMuLg7x8fGKipTSIkBvtEg6o0N/nOGqpUp/7JG0ezNpT421YoGA3TnDAGI+GxhAzBlqKjCAKNLcu3cvChUqpKhIKS0C9EaLpDM69McZrlqq9MceSbs3k/bUWCsWCNidMwwg5rOBAcScoaYCA4gmTWqRAAmQAAnELAG7N5MxC4gDv4qA3TnDAGI+eRhAzBlqKjCAaNKkFgmQAAmQQMwSsHszGbOAomTgJ06cwNixY7F582Zs3LgRO3fuxIULF/DFF1/g4YcfDmmUducMA0hIWJOszABizlBTgQFEkya1SIAESIAEYpaA3ZvJmAUUJQOX4FG6dGmkSZMGBQoUwN9//41Dhw5h6dKlDCAe9pgBxFvmMIAo+jFgwAB0795dUZFSWgTojRZJZ3TojzNctVTpjz2SDCD2OEV6rT/++MN68iEhJFu2bGjdujUmT57MAOJxYxlAvGUQA4iiH7169ULv3r0VFSmlRYDeaJF0Rof+OMNVS5X+2CPJAPIPJ9kRcvjw4fjhhx/w+++/48Ybb0Tx4sXRuHFjtGvXzqr44IMP4uuvv8bZs2fRp08fTJ8+HQcOHLCeKjz99NN4/fXXkSFDhqvg79ixA/3798dXX31lPXnInj07qlWrBpmnt95661X1RX/EiBGYPXs25NqEhAQULFgQjzzyCHr06IFcuXLZMziZWgwgRvhcu5gBxDXUthpiALGFiZVIgARIgARIIGUCDCCX+Mj6iLZt2yJv3ryoU6cOcubMicOHD2PLli3Wzf93331n1XvooYewYsUKq866devQsGFDK3B8+umn2L17t/V9+e/AsmjRIjRo0ADnz5+3Pr/llluwb98+zJkzB9dccw2WLVuGe+655/Il8rRCgo60Led0Pfroo1a9PXv2WE8s5s+fjypVqhhNbQYQI3yuXcwA4hpqWw0xgNjCxEokQAIkQAIkwABiZw6UK1cOW7dutYKBPPkILPI0JEeOHJcDyPLly62nFmvWrEGWLFms7//1119WaJCgIq82NW/e3Pq+hImiRYtaAUKCS4kSJS5Lb9u2DRUqVLC+J2HGX5o1a4aZM2daT11GjRp1RV/OnDljLR6/4YYb7Awr2ToMIEb4XLuYAcQ11LYaYgCxhYmVSIAESIAESMCZAHLm7zPYfnS763hL5iyJTBkyqbcrAURedfr111+tNRLJFf8TkClTpkCCQmCRYCKfy9eXX35pfSSvdL366qtWkPC/xhV4jXwmdST8yNOOI0eOWE9h8uTJg127diFjxozqYxVBBhBHsKqLMoCoIzUSZAAxwnflxUePHrUeNbN4jwC98Z4ngT2iP/TH2wTs9S7cV7A2/LYBZceWtdeIYq31z69HmbxyG6Bbhg4dii5duiB37txo0qQJqlatikqVKl3199EfQH755Rdr3UdgkScT1113nfV0Qp6aSGnatClmzZqFZ599Fvny5buq02vXrsXChQuttR716tXDggULULt2basPsr7EqcIA4hRZXV0GEF2epmoMIKYEA66Pi4uDLLxj8R4BeuM9TwJ7RH/oj7cJ2OtduAEk2p6ACK2pU6dizJgxkFBw8eJFC6AEkUGDBqFs2Uthyx9Azp07l+Ric3l6IU8xZL2HlBo1alhnbcj2tymVSZMmoUWLFlboeOqpp9C5c2erXacKA4hTZHV1GUB0eZqqMYCYEgy4Xv74lCmj/69Jil2MWSl6423r6Q/98TYBe70LN4DYU4/MWidPnsSqVaswd+5cjB8/3tqxavv27dbakFCfgDz55JPWYnNZUH7HHXcEBcInIEERxVQFBhBv2c0A4i0/2BsSIAESIIEIJcAAkrJx8urUxIkTL78i5Q8ggQvN/Qqym5WcKh64BmTIkCHo2rUrRo8eneQakMSty6udsv6Da0Ai9AdKudsMIMpADeUYQAwB8nISIIHIIXAx4SLSpkkbOR1mTyOKAAPIJbskPMguVomLbJsrTyXkS7bDlXDh3wVr9erVlxes//nnn9b1sjNWYDiRtSCy7a7sgiXb55YvX/6KJmSLX9kdS1718hd5BUtexfLvghX4+tbp06etXbD8u2+FO9n4Cla45Ny9jgHEXd7BWmMACUaIn5MACUQFgYP/O4i8Q/Li82afo1bxWlExJg7CWwQYQC75Ia9ZZc6cGRUrVkSRIkWssz/kwEFZDyKhQV7JSpcu3eVXsGQNmISNwHNAfvzxR2sBeeJzQOTwwfr16+PUqVPW4YPyKpaECtlx69tvv7UWrMv2uv4iW/dK0JHXtmSLXv85IKK/ZMmSsM8BkUX2x44ds5pZuXKlda6IrFGRdStS6tatiyeeeCLoBLU7Z/z1AMgCmg1BhVnhKgIMIN6aFAwgin7I+61t2rRRVKSUFgF6o0XSGR03/Bm3YRyem/8c+lfrj9cqv+bMQKJU1Q1/ogGd3ZvJaBhrSmOQgwgXL16MzZs34+DBg9ZuVoULF7a22pUDCq+//nrr8sBF6H379sW0adOsk9Dz58+PVq1aoXv37kkuTt+7dy8GDx5stSHBQ56IyK5YEm4kxMiTlsAiJ6EPGzbMOg9EDjiU8CMnoUsYkdPWw9m9Us4jkX4kV+RU9p49ewa12u6cYQAJijJoBQaQoIhcrcAAooi7ffv21rupLN4jQG+850lgj9zwZ8iqIeiytAsGPzIYne/v7G0gHuudG/54bMhhdcfuzWRY4lF4kT+AyGtQsVrszhkGEPMZwgBizlBTgQFEkya1SIAEPEugz/I+6LWsF96q+hZ6PdjLs/1kxyKXgN2bycgdoW7PGUAAu3OGAcR87jGAmDPUVGAA0aRJLRIgAc8S6L60OwauGojO93XG4BqDPdtPdixyCdi9mYzcEer2nAGEAUR3RqWsxgDiJu3gbTGABGfEGiRAAlFAoMOCDhi9djReKPsCPqj9QRSMiEPwGgEGkNAckQAii9P9Bw2GdrVebVnovmnTpqCCsqC+ZcuWQeuFUsHunOETkFCoJl2XAcScoaYCA4gmTWqRAAl4lkDrT1tj0qZJaHZnM0yrP82z/WTHIpeA3ZvJyB1hdPbcv41usNHJ9r6yC5dmsTtnGEDMqTOAmDPUVGAAUaQpWwnGx8crKlJKiwC90SLpjI4b/jT6uBE+3vYx6txaB/FN+XMaipNu+BNKf7xa1+7NpFf7z365T8DunGEAMfeGAcScoaYCA4giTdlTXJyU8KUAACAASURBVPYBZ/EeAXrjPU8Ce+SGP49PfxwLdi3AQ0Uewlctdf8V09t0zXvnhj/mvUx9Bbs3k6nfU/bAKwTszhkGEHPHGEDMGWoqMIBo0qQWCZCAZwlUnVQVK35Zgbty34XNbTd7tp/sWOQSsHszGbkjZM+1CdidMwwg5uQZQMwZaiowgGjSpBYJkIBnCZQbWw7rf1tv9W9A9QHoVqmbZ/vKjkUmAbs3k5E5OvbaCQJ25wwDiDl9BhBzhpoKDCCaNKlFAiTgSQKHTx9GgfcK4Lr01+HUX6esPib0SvBkX9mpyCVg92YyckfInmsTsDtnGEDMyTOAmDPUVGAAUaQ5b9481K1bV1GRUloE6I0WSWd0nPYn16BcOHrmKO7Jcw82Hby03eaFnheQNk1aZwYUZapO+xMtuOzeTEbLeDkOcwJ25wwDiDlrBhBzhpoKDCCKNBs3boyZM2cqKlJKiwC90SLpjI6T/hw/exw5BuawOv5apdfw7jfvWv998rWTuOHaG5wZUJSpOulPNKGyezMZTWPmWMwI2J0zDCBmnOVqBhBzhpoKDCCaNKlFAiTgKQKvf/H65cAhHRtZcyRuzn4zak2vhV9f+RUFshTwVH/ZmcgmYPdmMrJHyd5rErA7ZxhAzKkzgJgz1FRgANGkSS0SIAFPEUjT+8o/OePjxqNkzpKoNKGS1c8Tr51AlmuzeKrP7EzkErB7Mxm5I2TPtQnYnTMMIObkGUDMGWoqMIBo0qQWCZCApwik75MeFxIuXO7TuDrjUKFABdz5/p3W91a2XolKhS6FERYSMCVg92bStB1eHz0E7M4ZBhBzzxlAzBlqKjCAaNKkFgmQgKcIpO2dFgn4Z7erDx7/ADWL10ThYYWtfi5tsRTVi1X3VJ/ZmcglYPdmMnJHyJ5rE7A7ZxhAzMkzgJgz1FRgAFGk2bp1a0ycOFFRkVJaBOiNFklndJzy55YRt2DP8T2XOz2q5ig8dddTyDYgm/W9Txp9gvq31XdmUFGk6pQ/UYTIGordm8loG3esjWfz5s2YO3cuvvjiC/z44484duwYcuXKhSpVqqBr164oXbq0bSR25wwDiG2kyVZkADFnqKnAAKJIc8aMGWjatKmiIqW0CNAbLZLO6DjlT7Z3s6FasWqY88Mcq+M7OuywFqGn75ve+t//qv0vPF/2eWcGFUWqTvkTRYgYQKLNzBTGc99992HNmjUoW7YsKlSogMyZM2PTpk1YvHgx0qdPj1mzZtnekp8BxL2JwwDiHms7LTGA2KHEOiRAAhFH4GLCRcgakNcqv4b+K/ujYoGK+LbNt9Y4/IvT337obbxZ5c2IGxs77E0Cdm8mvdl79sougdGjR6NmzZooVqzYFZdIUG/evDly5syJAwcOWGEkWLE7Z/gEJBjJ4J8zgARn5GYNBhA3abMtEiAB1wicOHfCetVqQtwEPBP/DErdVArft/v+igDS5b4uGFRjkGt9YkPRTcDuzWR0U7g0uvj4eAwfPhw//PADfv/9d9x4440oXrw45EyZdu3aWXUefPBBfP311zh79iz69OmD6dOnWzfuBQoUwNNPP43XX38dGTJkuArXjh070L9/f3z11Vc4dOgQsmfPjmrVqqFXr1649dZbr6ov+iNGjMDs2bMh1yYkJKBgwYJ45JFH0KNHD+v1Ka1SokQJ7N69G+vWrbP1KpbdOcMAYu4QA4g5Q00FBhBNmtQiARLwDIG9J/Zai80XNV+Ex6Y9hg7lO2BkrZFXBJAXyr6AD2p/4Jk+syORTcDuzWRkjzJ478eOHYu2bdsib968qFOnjvVE4PDhw9iyZYt18//dd99ZIg899BBWrFhh1ZEb9oYNG1qB49NPP7Vu4uX78t+BZdGiRWjQoAHOnz9vfX7LLbdg3759mDNnDq655hosW7YM99xzz+VL/vjjDyvoSNslS5bEo48+atXbs2cPli5divnz51trN7RKqVKlrNAlr2Tdeeel3fZSKnbnDANIMJLBP2cACc7IzRoMIIq0V65cicqVKysqUkqLAL3RIumMjhP+fH/oe9z1wV3Wa1ey7iN7xuxIn/bSKxH+V7Ca3dkM0+pPc2ZQUaTqhD9RhOfyUOzeTEbj2APHVK5cOWzdutUKBvLkI7DI05AcOXJY35IAsnz5cuuphaypyJLl0pk8f/31lxUaJKhMnjzZeq1JioSJokWLWgFCgos8bfCXbdu2Wesx5HsSZvylWbNmmDlzpvXUZdSoUVf05cyZM7hw4QJuuOEGFUtWr16N+++/33q68vPPPyNNmuC3vHbnDAOIuUXB3TBvgwr2CTCA2GcVtGZcXJz12JnFewTojfc8CeyRE/6s3LsSD0x8ANte3Ibbct12BQB/AKlzax3EN+XPbLDZ4YQ/wdqMxM/t3kxeNbYzZ4Dt290fcsmSQKZM6u1KAJFXnX799Vdky3Zpx7mkiv8JyJQpUyBBIbBIMJHP5evLL7+0PpJXul599VUrSPhf4wq8Rj6TOhJ+5GnHkSNHrKcwefLkwa5du5AxY0b1sfoFjx8/bgUgebLy8ccfo359e7vr2Z0zDCDm1jGAmDPUVGAAUaQp/5qSyYFf5opdjFkpeuNt653wZ+4Pc1F/Vn0c7HwQuTPnvgLA2v1r0WJuC+S9IS/+0/I/3objgd454Y8HhqXeBbs3k1c1vGEDULasen+CCq5fD5SR2wDdMnToUHTp0gW5c+dGkyZNULVqVVSqVMl6FSuw+APIL7/8Yq37CCzyZOK6666znk7IUxMpssuk7DD17LPPIl++fFd1eu3atVi4cKG11qNevXpYsGABateubfVB1pc4VeTnQ17tWrVqFbp374533nnHdlN25wwDiG2kyVZkADFnqKnAAKJJk1okQAKeITBg5QC8s/Id/NH9jyRfhWj7WVusO7AO657/53UNz3SeHYlIAnZvJq8aXJQ9AZHxTZ06FWPGjIGEgosXL1pDliAyaNAga/taKf4Acu7cuSQXm8vTC3mKIes9pNSoUcM6eyPYq02TJk1CixYtrNDx1FNPoXPnzla7ThQJH7Vq1bIW00s7AwcODKkZu3OGASQkrElWjtYAUg5AK9nUAUARAMcArAbQA8CuRCRKAhgGoJK86gjgcwCvAjiaBLE2ADoDKArgVwAjAFz5EuOli7ICkJ+uugDkeeoa33Ubg1jGAGI+p6lAAiTgQQKtP22NrYe3Ys1z8uvw6tJ1SVfE74y3zgZhIQENAnZvJjXaihSNkydPWk8G5OC+8ePHWztWbd++3VobEuoTkCeffNJabC4Lyu+4446gCJx+AvK///3PCh/ffPNNyE8+/J23O2cYQILaHbRCtAaQjwHcD0D+/xYAeQB0BJAZQAUA23xk8gPYBOC4vM4IQFY+dQXwC4B7AVyK+ZfKCwDe92kuAfAAgKcBdPeFDX89YboSgGy3INFbws+LAAoBkIDxzzHAV9vDABJ0yrICCZBApBGYvHkyOi3qhGpFq2F2o9lJdr/P8j74YN0HOND5QKQNj/31KAG7N5Me7b7j3ZJXpyZOnHj5FSl/AAlcaO7vhOxm9fDDD1+xBmTIkCHWSeNyDkdSa0ASD+Do0aPW+g8n1oBIsJLXrmTxvGzl27t377D42Z0zDCBh4b3iomgNIBUByHP8wABxCwDZdF5CiQQHKWN8/y1bN+z3fa8agKUA5Djecb7vXed74rEKwBMBBKf4/ndBACd8328E4CMADQDM9X1PXrTcCWABgKdSsI0BxHxOX1aQX4xOPeZV7GZMStEbb9uu7Y9/kXmb0m0wLs7/a/VKBkO/HYqey3ri1OunvA3HA73T9scDQ3KkC3ZvJh1p3EOiEh5kF6vERbbNlacS8iU374G7YMkOUv4F63/++ad1vdzcB4YTWQsi2+7KLliyfW758uWvaEK2+JXdseRVL3+RV7DkVSz/LliBr2+dPn3a2gXLv/uWXYSyG5ecISJ+y/klb74Z/mGmducMA4hdd5KvF60BJLkRSyhJAOD/KTkIYBmAJokukO0v9sorjr7v1wTwGYBaABYH1JWgI6FEQoV/RdVM39ORxCuyZHN72btO9rv7O5kOMoCYz+nLCiNHjkTHjvLgi8VrBOiN1xy5sj/a/vgDyCsVX8F7j76X5ODHbRiH5+Y/hws9LyBtmrTeBpTKvdP2J5WH41jzdm8mHeuAR4TlNavMmTOjYsWKKFKkiHX2h6yRkPUgEhrklax06dJdfgVLdlmTsBF4DsiPP/5oLSBPfA6IHD4oO0ydOnXKOnxQXsWSUCE7bn377bfWgnVZl+EvEhYk6MhrW7JFr/8cENFfsmRJWOeA+IOThCH/FsGJ0csi+LvuuiuoI3bnDANIUJRBK8RaAJF1G/8FIIFCAsI+AN0ADE5EarKvjv84zjcA9AUgW7cErg2RI0HPAhjqe3VLZORJh3zVTqT5DIAPAchPwFYGkKBzkxVIgASihIA/gLxV9S30erBXkqOa+d+ZaPJJE5x87SRuuFbnHIAowcdhhEnA7s1kmPIRc5kcRLh48WJs3rwZBw8etHazKly4sLXVrhxQeP3111tjCVyE3rdvX0ybNs06CT1//vxo1aqVta4iqZPQ9+7di8GDB1ttSPCQJyKyK5aEGwkx8qQlsMhJ6MOGDbPOA5EDDiX8yFkdEkbktPXEu3MFAy1nkUgfUiryqpmc5h6s2J0zDCDBSAb/PJYCiDylkGDRGsC/Aci2D2sBtACQ+OSrAQC6AJBXr+RphRzXK2tArkkC6SEAX/iebsjH8v6AvIL1XKK6/qcoj/le8UrKHT4BCT5nWYMESCDCCPgDyNBHh+Llii8n2fsFuxbg8emPo3Khyvi69dcRNkJ214sE7N5MerHvqdEnfwCR16BitdidMwwg5jMkVgKI7HQlu2DJGpAqvtew5IjsFQBkzUbiVZGyekl2zMoO4KRvLYi8piWL2BMXWbC+HoD/lBtZdyKvW3VIVPEhAHJ6j+yMldxJWwwg5nOaCiRAAh4j4A8gH9b5EM+WeTbJ3n39y9eoMkl+PQMJveRNWRYSMCNg92bSrJXouZoBBNY6EtmWeP369SiTwpksDCDm8z4WAoi8NiXrNOSl4vsAyLoPKXwCYj5/PK0gWwvK6ass3iNAb7znSWCPNP05f/E8MvSVt1WBpS2Wonqx6kkOftPBTSj9r9IMIDamhqY/NpqL2Cp2byYjdoDKHWcAYQBRnlIpykV7AMkCYDkAOdJTnngEbjDv2TUgclrpvffKLsD/FDn8R96/rFtXHqBcKrJga9SoUYiPv/KBSvv27a3k3qaNHFtyqcgv4rfeegsTJky44v3KXr16WaeFi7a/yLuUHTp0sA7wCbyBl4WP8lngzlKyuExONe3WrRsqVxbEl8qMGTOs/sl7l4GlcePG1umpboyjevXq1tgifRzR4kfgOGS++OdtpM2raPQj8c/58OHDrXez/cXk5/z0X6eRuX9mvJLrFexetDvZ31f3x92P28fcbjW5vs76mPt9Fcq8krMO0qdP78nfu6GMw2Re2fk7KGdbyFqGYP+aneJdUgx9KAFEFqf7DxpMraHLQvdNm+SEhJSLLKhv2bJlsGohfe4PrXJvJWta5O+U3M/Il5Tvv/8eWbNmtb5khy/fP2ZvCKkRVrYIRHMAuda31kL+SU221k3q9CtZv/GfZHbBkgXrj/jmiex+5d8Fa1HA3JGzRuTMj8B1JLN8YSfxLlhjATTlLlju/eTJH8JCheT4FRavEaA3XnPkyv5o+nPszDHkHJQTcxrNQb3b6iU78ONnjyPHQNkkkK9gBZsdmv4EayuSP+cTkMh0r3Xr1tZ2v8GKbO8ru3BpFrtzhq9gmVOP1gAir1vJGRyy4Dsu0da5gdRSOgdEFp3LrlVSZDG67Jj1TRLngMgjCTkH5A9fXVlTIlH5SQBzfN/znwOyMGCxelLucQ2I+ZymAgmQgIcIPDjpQSz/ZTkWNFuAmsVlL47ky8BvBqL/yv443l3OhmUhATMCdm8mzVrh1dFEwO6cYQAxdz1aA8gwAC/5FnvLwYOJi3/XK3k1Sx6dySGC/pPQZfcr2c9N3oEKPK+jHYBRAD7xBRpZLSk7a8kWvbJrlr9I+JGnInf4tveVbXvlJHQJKXL+yK4UbGMAMZ/TVCABEvAQAf8C9K+e/goPFZW9OJIv/1r3L7y44EWc/7/z1lkCLCRgQsDuzaRJG7w2ugjYnTMMIOa+R+tveHmt6tJ2KkmXdAHfvg2AnIwlCxj+8r1qJSHkSBKXyqKKzgCK+k5Gl+155StxyQpgkG/Hq4y+179Ec2MQyxhAzOc0FUiABDxCwL/+Q7qz6plVuK+g7AOSfJnx/Qw0m9PMOg098zVJbTrokYGxGxFBwO7NZEQMhp10hYDdOcMAYm5HtAYQczKpo8AAosh9wIABVyyuV5SmlCEBemMI0OHLtfw5euYocg26dJ7ruufWoWw+2Xww+bJ0z1LUmFoDP770I4pml3/nYUmKgJY/0U7X7s1ktHPg+OwTsDtnGEDsM02uJgOIOUNNBQYQRZqyw1fv3nKkC4vXCNAbrzlyZX+0/Pn1xK8oNOzSRhByuKAcMphS2XZkG+4YcweGPzYcL1WQt2hZkiKg5U+00924caO1I+SaNWusU7lZSCAYgbVr11q7kMrcueeee5KtzgASjGTwzxlAgjNyswYDiJu02RYJkICjBHYd24VbR91qtXGw80HkzizHMiVfTpw7gWwDslkVeBiho9bEhPi+fftQsGBBfPzxx2jYsGFMjJmDNCMgc6VRo0aQuZM/f34GEDOcKV7NAOIg3DCkGUDCgMZLSIAEvElgwsYJaBPfBqvbrEaFAhWCdjIhIQFp+8g+HgwgQWGxgi0Cd999NwoUKID58+cjbdpLc4uFBJIicPHiRdSpUwf79+8Peg4Jn4CYzyEGEHOGmgoMIJo0qUUCJJCqBPw7YG1uuxl35b7LVl+6Le2GKVum4LfOv9mqz0okkBKBWbNmWYfl1qxZE61atYIcXpcuXeA+NOQX6wQuXLiAn3/+GZMmTcLChQvx0UcfWU9BUioMIOazhgHEnKGmAgOIIs2jR49eceq7ojSlDAnQG0OADl+u5Y8/gOzosAO33njpVaxgpf/X/fHe6vdwpGtSGxEGuzo2PtfyJzZoARJC3nnnHWzevDlWhsxxhkFAnpa98cYbQcOHSDOAhAE40SUMIOYMNRUYQBRpxsXFIT4+XlGRUloE6I0WSWd0tPzxB5C9L+9FwaxyFFLwMnjVYLy94m388Zr/bNfg18RaDS1/Yo2bvFpz5MgRyKs2TpWXX34Zw4bJUWQsXiSQlD/yal6uXLlSXPOReCwMIObuMoCYM9RUYABRpCm/IGQHFBbvEaA33vMksEda/vgDiDzNyJkpp61BD189HG989QZOv3HaVv1YrKTlTyyyc3rM9MZpwmb6Wv4wgJj5IFczgJgz1FRgANGkSS0SIIFUJeAPIKEcLDhm7Rh0WtQJf//f36nadzZOAiRAAskRYAAxnxsMIOYMNRUYQDRpUosESCBVCfgDiISJ9GnT2+rLuA3j8Nz853Cx50WkScM/UbagsRIJkICrBBhAzHHzt7s5Q00FBhBNmtQiARJIVQISQLJemzWk9Rz/3vRvtPq0Ff7q8RcypMuQqv1n4yRAAiSQFAEGEPN5wQBizlBTgQFEkeb48ePRpk0bRUVKaRGgN1okndHR8idTv0zoX60/OlXsZLuj07+fjuZzmltrQDJlyGT7uliqqOVPLDFza6z0xi3S4bWj5Q8DSHj8A69iADFnqKnAAKJIs3379hg9erSiIqW0CNAbLZLO6Gj5k65POoyuNRpty7W13dGPt36MRrMb4Xj348h23aVT0VmuJKDlD7nqE6A3+kw1FbX8YQAxd4UBxJyhpgIDiCZNapEACaQagfMXzyND3wyYEDcBrUu3tt2Pedvnod7Mejjc5TByXZ/L9nWsSAIkQAJuEWAAMSfNAGLOUFOBAUSTJrVIgARSjcDpv04jc//MmFZ/Gprd2cx2PxbsWoDHpz+O/a/uR74b8tm+jhVJgARIwC0CDCDmpBlAzBlqKjCAaNKkFgmQQKoR+P3s77hx4I2Y/eRsNLi9ge1+LN2zFDWm1sDPnX5G4WyFbV/HiiRAAiTgFgEGEHPSDCDmDDUVGEA0aVKLBEgg1Qj8duo35HsvHz5r+hkev/Vx2/1Y9vMyPPTvh7Czw04Uv7G47etYkQRIgATcIsAAYk6aAcScoaYCA4gizbi4OMTHxysqUkqLAL3RIumMjoY/P//xM4oOL4qlLZaierHqtjv6zd5vUHliZWx9cStuz3W77etiqaKGP7HEy82x0hs3aYfelpY/DCChs098BQOIOUNNBQYQRZpLlixBjRo1FBUppUWA3miRdEZHw58dR3eg5OiSWNFqBR4o/IDtjq7ZvwYVxlXAphc24e48d9u+LpYqavgTS7zcHCu9cZN26G1p+cMAEjp7BhBzZk4qMIA4SZfaJEACrhHwB4kNz29A6bylbbe76eAmlP5XaSxruQxVi1S1fR0rkgAJkIBbBBhAzEnzCYg5Q00FBhBNmtQiARJINQJTt0xFi7ktcPK1k7jh2hts90N2zyo2ohjqlayHD2p/YPs6ViQBEiABtwgwgJiTZgAxZ6ipwACiSZNaJEACqUbg/776P0zYNMHaTjfUEjcjDhcTLuKzZp+FeinrkwAJkIDjBBhAzBEzgJgz1FRgAFGkOW/ePNStW1dRkVJaBOiNFklndEz9OXL6CG4afBNK5ymNDS9sCLmTrT9tDVlDsqrNqpCvjYULTP2JBUapNUZ6k1rk7bWr5Q8DiD3eKdViADFnqKnAAKJIs3Hjxpg5c6aiIqW0CNAbLZLO6Jj68+LnL+L9de9bBwmG8wSk8+LO+GzXZ9jRYYczA4xwVVN/Inz4nu4+vfG0PdDyhwHE3GcGEHOGmgoMIJo0qUUCJJAqBDou6IhRa0ehaLai+LHTjyH3ocdXPdDv635Y8tQSPHLzIyFfzwtIgARIwEkCDCDmdBlAzBlqKjCAaNKkFgmQQKoQeO2L1zDgmwG4OfvN2P3S7pD7MGrNKHRc2BFNSjXBjAYzQr6eF5AACZCAkwQYQMzpMoCYM9RUYADRpEktEiCBVCHQd3lf9FzWE0WyFcFPnX4KuQ/nL55HxXEVkev6XFjYfGHI1/MCEiABEnCSAAOIOV0GEHOGmgoMIJo0qUUCJJAqBHov6423lr+F7pW6493q74bVh+fin8PmQ5ux5rk1YV3Pi0iABEjAKQIMIOZkGUDMGWoqMIAo0mzdujUmTpyoqEgpLQL0RoukMzqm/nRf2h3Tvp+Gva/sRdo0acPqZIcFHfD13q+xue3msK6P5otM/YlmNqk9NnqT2g6k3L6WPwwg5j4zgJgz1FRgAFGkOWPGDDRt2lRRkVJaBOiNFklndEz9kUXoK/auMAoPXZZ0wWc7P8P2DtudGWQEq5r6E8FD93zX6Y23LdLyhwHE3GcGEHOGmgoMIJo0qUUCJJAqBNp82gbbjm7Dt22+Dbv9N798E9P/Oz2sNSRhN8oLSYAESMAGAQYQG5CCVGEAMWeoqcAAokmTWiRAAqlCoMnsJjhy5gi+fPrLsNvvs7wPPlj3AQ50PhC2Bi8kARIgAScIMICYU2UAMWeoqcAAokmTWiRAAqlCIG5GnNVufNP4sNsfsHIABq4aiGPdjoWtwQtJgARIwAkCDCDmVBlAzBlqKjCAKNJcuXIlKleurKhIKS0C9EaLpDM6pv5UnVQV+W/Ij+kNpofdwWGrh+HNr97E6TdOh60RrRea+hOtXLwwLnrjBReS74OWPwwg5j4zgJgz1FRgAFGkGRcXh/j48P8FVrErlEpEgN54e0qY+lNseDE8efuTGPDIgLAH+v7a963DCM/3PB+2RrReaOpPtHLxwrjojRdcSL4PWv4wgJj7zABizlBTgQFEkeaZM2eQKVMmRUVKaRGgN1okndEx8efCxQvI2C8jhj46FO3vbR92BydunIhn4p/Br6/8igJZCoStE40XmvgTjTy8NCZ64yU3ru6Llj8MIOY+M4CYM9RUYADRpEktEiAB1wkc+t8h5BmSB/Maz8MTJZ8Iu/3p309H8znNresTeiWErcMLSYAESECbAAOIOVEGEHOGmgoMIJo0qUUCJOA6gR+P/4ibR9yML1p8gWrFqoXd/ifbPkHDjxsygIRNkBeSAAk4RYABxJwsA4g5Q00FBhBNmtQiARJwncDWw1tR6v1SWPXMKtxX8L6w25+/Yz7iPrq0m9bFnheRJg3/XIUNkxeSAAmoEmAAMcfJ3+jmDDUVGEAUaXbt2hWDBg1SVKSUFgF6o0XSGR0Tf9buX4t7x92LjS9sxD157gm7gx9v/RiNZjeyrj/1+ilkviZz2FrRdqGJP9HGwmvjoTdec+TK/mj5wwBi7jMDiDlDTQUGEEWaI0eORMeOHRUVKaVFgN5okXRGx8SfFb+sgGzDu739dpTIWSLsDv5707/R6tNW1vUHXj2AvDfkDVsr2i408SfaWHhtPPTGa45c2R8tfxhAzH1mADFnqKnAAKJJk1okQAKuE1i8ezEem/YY9r68FwWzFgy7/c93fo7aM2pb1+/ssBPFbywethYvJAESIAFNAgwg5jQZQMwZaiowgGjSpBYJkIDrBOb+MBf1Z9XHka5HkDNTzrDbT0hIwOi1o62zQMbUGoN25duFrcULSYAESECTAAOIOU0GEHOGmgoMIJo0qUUCJOAqAdmCt/jI4jj11ynrBPNMGczO4dl5bCdKjLr0Ghe34nXVSjZGAiSQAgEGEPPpwQBizlBTgQFEkeb27dtRsmRJRUVKaRGgN1okndEJ159XFr2CYd8Nszp1oecFpE2T1qiDB04dQP738jOAJKIYrj9GZvBiWwTojS1MqVZJyx8GEHMLGUDMGWoqMIAo0oyLi0N8fLyiIqW0CNAbLZLO0hZaqwAAIABJREFU6ITrT7el3TBo1aWd5zSeWJy/eB4Z+mZA+rTp8ff//e3MYCNQNVx/InCoEddleuNty7T8YQAx95kBxJyhpgIDiCLNvXv3olChQoqKlNIiQG+0SDqjE64/b375Jt5Z+Y5aABGhLku64LOdn2F7h+3ODDYCVcP1JwKHGnFdpjfetkzLHwYQc58ZQMwZaiowgGjSpBYJkICrBP7vq//D21+/rRpARHPKlin4+eWfXR0LGyMBEiCB5AgwgJjPDQYQc4aaCgwgmjSpRQIk4CqBlxe9jOHfDVcNIP1W9MPINSNxsMtBV8fCxkiABEiAAcS5OcAA4hzbcJQZQMKhxmtIgAQ8QaDF3BaYumUq1jy7BuXzl1fp05BVQ9BnRR+ceO2Eih5FSIAESMCUAJ+AmBIEGEDMGWoqMIAo0hwwYAC6d++uqEgpLQL0RoukMzrh+PP3hb+RZ0getLq7FYY8OkStY6PXjMarS17Fnz3+VNOMdKFw/In0MUdK/+mNt53S8ocBxNxnBhBzhpoKDCCKNHv16oXevXsrKlJKiwC90SLpjE44/sgZIBJAPm3yKeJKxKl1bPyG8Xh2/rMq2/qqdSqVhcLxJ5W7HDPN0xtvW63lDwOIuc8MIOYMNRUYQDRpUosESMA1Ant+34NbRt6CL5/+Eg8XfVit3enfT0fzOc1x5o0zyJgho5ouhUiABEggXAIMIOGS++c6BhBzhpoKDCCaNKlFAiTgGoEth7bg7g/uxuo2q1GhQAW1duf8MAcNZjXA791+R/aM2dV0KUQCJEAC4RJgAAmXHAOIOTlnFBhAnOFKVRIgAYcJfPvrt7h/wv34vt33KHVTKbXWFu5aiFrTa2HfK/uQP8ulU9FZSIAESCA1CTCAmNPnExBzhpoKDCCKNI8ePYqcOXMqKlJKiwC90SLpjE44/izdsxQ1ptbAT51+QpFsRdQ6turXVag0oRK2vrgVt+e6XU03koXC8SeSxxtJfac33nZLyx8GEHOfGUDMGWoqMIAo0oyLi0N8fLyiIqW0CNAbLZLO6ITjz7zt81BvZj0c7nIYua7PpdaxbUe24Y4xd+CbZ77B/QXvV9ONZKFw/Ink8UZS3+mNt93S8ocBxNxnBhBzhpoKDCCKNOUXRJkygpTFawTojdccubI/4fgzbcs0PDX3KZx+4zQyZcikNsADpw4g/3v58VnTz/D4rY+r6UayUDj+RPJ4I6nv9Mbbbmn5wwBi7jMDiDlDTQUGEE2a1CIBEnCNwNj1Y9H2s7bWdrlp0uj9aTnz9xlc/871KJ6jOHZ23OnaeNgQCZAACSRHgAHEfG7o/ZUw7wsVAAYQzgISIIGIJNBvRT+8t/o9HOt2TLX/CQkJSNsnraWZ0CtBVZtiJEACJBAOAQaQcKhdeQ0DiDlDTQUGEE2a1CIBEnCNwHPxz2HjwY1Y9/w69TbT9L70p4oBRB0tBUmABMIgwAASBrRElzCAmDPUVGAAUaQ5fvx4tGnTRlGRUloE6I0WSWd0wvGn+uTqyHZdNsxuNFu9UyVHlcSOYztw7s1zuDb9ter6kSYYjj+RNsZI7S+98bZzWv4wgJj7zABizlBTgQFEkWb79u0xevRoRUVKaRGgN1okndEJxx8JCTVvqYmhjw1V75RTO2ypd9QlwXD8calrMd8MvfH2FNDyhwHE3GcGEHOGmgoMIJo0qUUCJOAagQLvFUCb0m3Q+6He6m3+56f/4OHJD2NXx124Jcct6voUJAESIIFQCDCAhEIr6boMIOYMNRUYQDRpUosESMA1AtkHZMfrlV9Ht0rd1Nvc8NsGlB1bFuufX48yebm1tjpgCpIACYREgAEkJFxJVmYAMWeoqcAAokmTWiRAAq4RuKbvNRj66FC0v7e9epu7f9+N4iOL46unv8JDRR9S16cgCZAACYRCgAEkFFp8AmJOy3kFBhDnGbMFEiABZQJ/X/gb17x9DSY+MRGt7mmlrA4c+t8h5BmSB582+RRxJeLU9SlIAiRAAqEQYAAJhRYDiDkt5xUYQBQZx8XFIT4+XlGRUloE6I0WSWd0QvXnj3N/QF7BmtVwFp6840n1Tp368xSyvJsFHzX4CI1LNVbXjzTBUP2JtPFFcn/pjbfd0/KHAcTcZ76CZc5QU4EBRJHmkiVLUKNGDUVFSmkRoDdaJJ3RCdWf/Sf3o8DQAvi82eeoVbyWeqfOXzyPDH0zOPaERb3DDguG6o/D3aF8AAF64+3poOUPA4i5zwwg5gw1FRhANGlSiwRIwBUCO4/tRIlRJbCs5TJULVLVkTYlgAx/bDheLP+iI/oUJQESIAG7BBhA7JJKvh4DiDlDTQUGEE2a1CIBEnCFwMbfNqLM2DJY+9xalMtXzpE2s76bFT2r9ETn+zs7ok9REiABErBLgAHELikGEHNS7igwgLjDma2QAAkoEli5dyUemPgAtr24Dbfluk1R+R+pPIPzoMO9HdCjSg9H9ClKAiRAAnYJMIDYJcUAYk7KHQUGEEXO8+bNQ926dRUVKaVFgN5okXRGJ1R/Fu9ejMemPYZfXv4FhbIWcqRTRYcXRdNSTfFOtXcc0Y8k0VD9iaSxRXpf6Y23HdTyhwHE3Ge+gmXOUFOBAUSRZuPGjTFz5kxFRUppEaA3WiSd0QnVnzk/zEGDWQ1wtOtR3JjpRkc6dceYO1CjWA0MfWyoI/qRJBqqP5E0tkjvK73xtoNa/jCAmPvMAGLOUFOBAUSTJrVIgARcITBl8xQ8Pe9pnH3zLK5Lf50jbZYbW85aX/JB7Q8c0acoCZAACdglwABil1Ty9RhAzBlqKjCAaNKkFgmQgCsEPlj3AdovaI/z/3ceadI482dF1pgUzVYUk+tNdmVMbIQESIAEkiPAAGI+N5z5S2Her1hVYACJVec5bhKIYAJDVg1B7+W9cfL1k46NIm5GHC4kXLDOGmEhARIggdQkwABiTp8BxJyhpgIDiCZNapEACbhCoM/yPnh/3fv4rfNvjrX36uJX8dnOz7Cz407H2qAwCZAACdghwABih1LKdRhAzBlqKjCAKNJs3bo1Jk6cqKhIKS0C9EaLpDM6ofrTfWl3fPLDJ9j90m5nOgRgzNox6LSok7XOJH3a9I61EwnCofoTCWOKlj7SG287qeUPA4i5zwwg5gw1FRhAFGnOmDEDTZs2VVSklBYBeqNF0hmdUP3psKADvt77NTa33exMhwDr6UedGXWw/9X9yHdDPsfaiQThUP2JhDFFSx/pjbed1PKHAcTcZwYQc4aaCgwgmjSpRQIk4AqBlvNaYs/ve7DymZWOtffN3m9QeWJlbH1xK27Pdbtj7VCYBEiABIIRYAAJRij45wwgwRm5WYMBxE3abIsESECFwGNTH0OmDJkwp/EcFb2kRLYd2QY5C2Rl65WoVKiSY+1QmARIgASCEWAACUYo+OcMIMEZuVmDAcRN2myLBEhAhUDpf5XGfQXuw5jHx6joJSXy26nfkO+9fJjfdD5q31rbsXYoTAIkQALBCDCABCMU/PNoDiDXA+gG4F7fV3YArQAk3kReVim3TALVdgBJPedvA6AzgKIAfgUwAsCoJK7PCmAQgLoAMgFY47tuYwq2MIAEn7O2a6xcuRKVK1e2XZ8V3SNAb9xjHU5LofqTd0hetCvXDj2r9gynOVvXnP37LDK9kwlT6k3BU3c9ZeuaaK0Uqj/RysGL46I3XnTlnz5p+cMAYu5zNAeQwgB+AvALgB8BPAigdTIBpDEACRaBPE4ASLzh/AsA3gfwMYAlAB4A8DSA7r6w4XdEdORl6DsBDARwDMCLAAoBkJCxJxnrGEDM5/Rlhbi4OMTHxysqUkqLAL3RIumMTij+XLh4Ade+fS1G1xqNF8rJr0jnSsZ+GfHOw+/glfteca6RCFAOxZ8IGE5UdZHeeNtOLX8YQMx9juYAkgGAPPU4DKAsgLUpPAFpACBLEJzX+Z54rALwREDdKb7/XRCAhBYpjQB8BEB05/q+lxOAbGC/AEBy/3zHAGI+py8rnDlzBpkyycMnFq8RoDdec+TK/oTiz+HTh5F7cG7MazwPT5QM/NWoP8byH5bHbTlvi/nT0EPxR98FKqZEgN54e35o+cMAYu5zNAeQQDp2Akg2APLa1qlksNaUnSAB1AKwOKBORQASSiRUTPd9f6bv6UjivSI/ANAcQA4AfyfRDgOI+ZymAgmQgIsEthzagrs/uBur26xGhQIVHG25/eftseyXZdZOWCwkQAIkkFoEGEDMyTOAALIGpAWAc761GscBzPC9VnU6APEbAPoCyA3gaMD35UnLWQBDAXT1fV+edMhX4pWSzwD4EMBdAJL6C8oAYj6nqUACJOAigaV7lqLG1Br4qdNPKJKtiKMtD/xmIPqv7I/j3eXXNAsJkAAJpA4BBhBz7gwgQD/f2o8NANICeMz3qpas4ZB1Ixd9mEcCkBecr0kC+yEAX/iebsjH8hRFXsF6LlFd/1MUaWNpEjoMIOZzmgokQAIuEpiyeQqenvc0zrxxBhkzZHS05X9v+jdafdoK5948h2vTX+toWxQnARIggeQIMICYzw0GkKQZvg7gbQByjPYsX5VxAJoAyJzEJbLQfT2A+r7PzgOQ1606JKr7EIAvfTtjJbU6mgHEfE5fVujatSsGDZKNyFi8RoDeeM2RK/sTij8jvhuB1754DWfePOP4oBbtXoSa02pi78t7UTCrLLuLzRKKP7FJKPVGTW9Sj72dlrX8YQCxQzvlOgwgSfORBef/AzABwPO+KnwCYj7fXFUYOXIkOnbs6GqbbMweAXpjj1Nq1QrFn34r+mHEmhE41EUeBDtbNv62EWXGlsHa59aiXL5yzjbmYfVQ/PHwMKKya/TG27Zq+cMAYu4zA0jyDOWv6dcAGvqquLYGJHfu3Lj3Xjm+5J9y5MgRdO/eHXXryrEil8qSJUswatSoq7aabd++PcqUKYM2bWRn4UtFfljeeustTJgwATlzyoZcl0qvXr2snaJE21/27t2LDh06YODAgShZsuTl78sPrnwW+FRBdpRo0qQJunXrdsWZGzNmzLD6N3GiLLH5pzRu3BhNmzblOOgH51WU/Hy8M+kdnH38LHa/tPuyp079nHd9oysGrx2MmcNmotEdstkgrN9J/H11CT1/7/7zt4Z/By+x4M/HP2eBhfvzIdfJl5Tvv/8eWbNmtb5WrFgh35JNjuQVfpYQCTCAJA1MXrOSLXXHAmjnqyK7X/l3wVoUcNn9vjM/ZCH7NN/35bUtmfWJd8ESPXmti7tghThRWZ0ESMCbBF78/EWs3rcaG15w529wgfcKoMVdLdC/en9vAmGvSIAEop4An4CYWxzrAURWMcouVvK6VWCRwwPltPN6APxrNeS1rH0AvkniHBB5LCEvJP/hE5F/mpO4/CSAOb7v+c8BWRiwWD2xg1wDYj6nqUACJOAigRZzW2Dvib1Y3mq5K61Wn1wdOTLmwKwn/cvzXGmWjZAACZDAZQIMIOaTIdoDSHsAcr5HfgBtfWFgow/bCN+TCPnfEha2+74vO1TJblVyYGDibXTlacgoAJ/4zgKp4jv/Q17PGhBgh+ymJbto3QFgsG/bXjkJXUJKeQC7krGOAcR8Tl9W2L59+xWvkClKU8qQAL0xBOjw5aH488RHT0BOQ/+smTwgdr40n9Mc+0/ux7JWy5xvzKMthOKPR4cQtd2iN962VssfBhBzn6M9gPwEoFAymIr6XrOSICKHCcrrUukAyIvMUwEMAXAhiWtlYYU8HZHrfwUgi9PlK3HJCkC2YJKnI7I35RoAXQD4A1BS3WIAMZ/TlxXi4uKuWh+jKE8pAwL0xgCeC5eG4s/D/34YuTPnxowGl96Rdrq8sugVLN6zGNvab3O6Kc/qh+KPZwcRpR2jN942VssfBhBzn6M9gJgTcleBAUSRtyy+K1Qoufyp2BClQiZAb0JG5uoFofhz3/j7cHvO2zH+ifGu9LH/1/0x5NshONot8DxYV5r2TCOh+OOZTsdIR+iNt43W8ocBxNxnBhBzhpoKDCCaNKlFAiTgOIHS/yqN+wvcj9GPj3a8LWlg/IbxeHb+s/irx1/IkE6W8LGQAAmQgLsEGEDMeTOAmDPUVGAA0aRJLRIgAccJ3Db6NtS6pRaGPCpvrTpf/IcR/tzpZxTOVtj5BtkCCZAACSQiwABiPiUYQMwZaiowgGjSpBYJkIDjBIoNL4ampZqiX7V+jrclDWw/uh0Sepa1XIaqRaq60iYbIQESIIFAAgwg5vOBAcScoaYCA4gizQEDBlxxwKKiNKUMCdAbQ4AOXx6KP/mG5EPbcm3Rs2pPh3t1Sf7c+XPI2C8jPqzzIZ4t86wrbXqtkVD88Vrfo70/9MbbDmv5wwBi7jMDiDlDTQUGEEWacsp77969FRUppUWA3miRdEYnFH9yDMiB1yq/hm6VujnTmSRU7x9/v3UWiFtb/7o2MJsNheKPTUlWUyJAb5RAOiSj5Q8DiLlBDCDmDDUVGEA0aVKLBEjAcQKZ+mXCu9XfxUsVXnK8LX8D/Vb0w+BvB+P3br8jTRr+GXMNPBsiARKwCDCAmE8E/uY2Z6ipwACiSZNaJEACjhJISEhA+r7pMabWGLxQ7gVH2woUX7BrAR6f/jh+6vQTimQr4lq7bIgESIAEGEB05gADiA5HLRUGEC2S1CEBEnCcwN8X/sY1b1+DSU9MQst7Wjrenr+Bncd2osSoEvhPy//gwSIPutYuGyIBEiABBhCdOcAAosNRS4UBRIskgKNHjyJnzpyKipTSIkBvtEg6o2PXn1N/nkKWd7PgowYfoXGpxs50JgnV//31P9zQ/wZMrTcVze9q7lq7XmnIrj9e6W8s9YPeeNttLX/4Cpa5zwwg5gw1FRhAFGnGxcUhPj5eUZFSWgTojRZJZ3Ts+nPk9BHcNPgmzG08F3VL1nWmM8moZn03K3o80ANdK3V1tV0vNGbXHy/0Ndb6QG+87biWPwwg5j4zgJgz1FRgAFGkKb8gypQRpCxeI0BvvObIlf2x68/a/Wtx77h7sbD5Qjx2y2OuDur20bejxs01MOyxYa6264XG7Prjhb7GWh/ojbcd1/KHAcTcZwYQc4aaCgwgmjSpRQIk4CiBnANz4tjZY/iixReoVqyao20lFq80oRJuvfFWTHxioqvtsjESIAESYAAxnwMMIOYMNRUYQDRpUosESMBRAnkG58Gh04dSZTH4I1Mesc4CmdlwpqNjpDgJkAAJJCbAAGI+JxhAzBlqKjCAaNKkFgmQgKMEWsxtgXnb5+HkayddP4/jiY+ewMWEi5jfdL6jY6Q4CZAACTCA6M8BBhB9piaKDCAm9BJdO378eLRp00ZRkVJaBOiNFklndOz6U39mfZw7fw4Lmi9wpiMpqDb9pCkOnz6ML5/+0vW2U7tBu/6kdj9jsX16423XtfzhExBznxlAzBlqKjCAKNJs3749Ro8erahIKS0C9EaLpDM6dv2pMaUGsl2XDbOenOVMR1JQbfNpG2w7ug3ftvnW9bZTu0G7/qR2P2OxfXrjbde1/GEAMfeZAcScoaYCA4gmTWqRAAk4SuD+8fejRM4SqbIQvMOCDli5dyU2td3k6BgpTgIkQAKJCTCAmM8JBhBzhpoKDCCaNKlFAiTgKIG7P7gbVQpVwchaIx1tJynxbku7WetPdnbc6XrbbJAESCC2CTCAmPvPAGLOUFOBAUSTJrVIgAQcJXDziJvR6PZG6F+9v6PtJCX+1rK3MG7DOOx7dZ/rbbNBEiCB2CbAAGLuPwOIOUNNBQYQTZrUIgEScJRA7sG50fHejuhRpYej7SQlPvCbgXh35bv4vfvvrrfNBkmABGKbAAOIuf8MIOYMNRUYQBRpxsXFIT4+XlGRUloE6I0WSWd07Ppz/TvXo9/D/fByxZed6UgKqmPWjkGnRZ3wV4+/XN8C2PXBJmrQrj+p3c9YbJ/eeNt1LX8YQMx9ZgAxZ6ipwACiSHPJkiWoUaOGoiKltAjQGy2SzujY8Ue2383YLyMm152MFne3cKYjKah+9N+PIFvxnnr9FDJfk9n19lOzQTv+pGb/YrlteuNt97X8YQAx95kBxJyhpgIDiCZNapEACThGYP/J/SgwtAA+b/Y5ahWv5Vg7yQkv2bMEj059FD93+hmFsxV2vX02SAIkELsEGEDMvWcAMWeoqcAAokmTWiRAAo4R2HJoC2QXrNVtVqNCgQqOtZOc8LoD61D+w/LY8PwGlM5b2vX22SAJkEDsEmAAMfeeAcScoaYCA4gmTWqRAAk4RmDkdyPx0qKXsLvjbtyc42bH2klO+KfjP6HYiGJY2mIpqher7nr7bJAESCB2CTCAmHvPAGLOUFOBAUSR5rx581C3bl1FRUppEaA3WiSd0bHjT9VJVbHilxU4/cZpZMqQyZmOpKB64twJZBuQDePjxuOZ0s+43n5qNmjHn9TsXyy3TW+87b6WPwwg5j4zgJgz1FRgAFGk2bhxY8ycOVNRkVJaBOiNFklndOz4U2FcBdx5050YFzfOmU4EUU1ISECp90uhYJaCWPTUolTpQ2o1asef1OpbrLdLb7w9A7T8YQAx95kBxJyhpgIDiCZNapEACThGoNSYUqhWtBqG1xzuWBvBhDss6GA9hdnSbkuwqvycBEiABNQIMICYo2QAMWeoqcAAokmTWiRAAo4RKDq8KJqWaop3qr3jWBvBhHv9pxfGbRyH/a/uD1aVn5MACZCAGgEGEHOUDCDmDDUVGEA0aVKLBEjAMQI3DboJnSp0wptV3nSsjWDCI74bge5fdMfZN88Gq8rPSYAESECNAAOIOUoGEHOGmgoMIJo0qUUCJOAYATkF/e2H3sYr973iWBvBhKdumYoWc1uk2kL4YP3j5yRAAtFJgAHE3FcGEHOGmgoMIIo0W7dujYkTJyoqUkqLAL3RIumMTjB/LiZcRLo+6fCv2v/C82Wfd6YTNlQX7lqIWtNrYe/Le1Ewa0EbV0RHlWD+RMcoI3MU9Mbbvmn5wwBi7jMDiDlDTQUGEEWaM2bMQNOmTRUVKaVFgN5okXRGJ5g/p/86jcz9M2NqvalofldzZzphQ3XN/jWQ3bg2vrAR9+S5x8YV0VElmD/RMcrIHAW98bZvWv4wgJj7zABizlBTgQFEkya1SIAEHCFw5PQR3DT4JsxtPBd1S6beWTt7ft+DW0begi9afIFqxao5MlaKkgAJkEBiAgwg5nOCAcScoaYCA4gmTWqRAAk4QmDfyX0oOLQgFjRbgJrFazrShh3RP879gewDsmNmw5lodEcjO5ewDgmQAAkYE2AAMUYIBhBzhpoKDCCaNKlFAiTgCIGfjv+EYiOKpfqTBzmMMEPfDBhZcyTalW/nyFgpSgIkQAJ8AqI/BxhA9JmaKDKAmNBLdO3KlStRuXJlRUVKaRGgN1okndEJ5s+OoztQcnRJLG+1HFUKV3GmEzZVZTvglyq8hB5Veti8IvKrBfMn8kcYuSOgN972TssfPgEx95kBxJyhpgIDiCLNuLg4xMfHKypSSosAvdEi6YxOMH/+e/i/uPP9O7HqmVW4r+B9znTCpmrlCZWRO3NufNLoE5tXRH61YP5E/ggjdwT0xtveafnDAGLuMwOIOUNNBQYQRZpnzpxBpkyZFBUppUWA3miRdEYnmD8bftuAsmPLYt1z61A2X1lnOmFTtfey3hj23TAc7XoU6dKms3lVZFcL5k9kjy6ye09vvO2flj8MIOY+M4CYM9RUYADRpEktEiABRwh8t+87VBxfEZvbbsZdue9ypA27oqt+XYVKEyrhu2e/w73577V7GeuRAAmQQNgEGEDCRnf5QgYQc4aaCgwgmjSpRQIk4AiBlXtX4oGJD2Dbi9twW67bHGnDrujxs8eRY2AOzH5yNhrc3sDuZaxHAiRAAmETYAAJGx0DiDk6RxQYQBzBSlESIAFNAl/99BWqTa6G3R134+YcN2tKh6x1/uJ5ayesCXET0Lp065Cv5wUkQAIkECoBBpBQiV1dn09AzBlqKjCAKNLs2rUrBg0apKhIKS0C9EaLpDM6wfyZt30e6s2sh19e/gWFshZyphMhqGbqlwnvVn/X2g0rFkowf2KBgVfHSG+86sylfmn5wwBi7jMDiDlDTQUGEEWaI0eORMeOHRUVKaVFgN5okXRGJ5g/aXpf+tPxW+ffkCdzHmc6EYJq7sG50fHejjGzFW8wf0JAx6rKBOiNMlBlOS1/GEDMjWEAMWeoqcAAokmTWiRAAo4Q8AcQ2Xnqxkw3OtJGKKLFRxZH/ZL1MeCRAaFcxrokQAIkEBYBBpCwsF1xEQOIOUNNBQYQTZrUIgEScISAP4CceO0EslybxZE2QhEt868yqJC/At6v/X4ol7EuCZAACYRFgAEkLGwMIObYHFNgAHEMLYVJgAS0CPgDyNk3z+K69NdpyYat8+CkB1EgSwFMrT81bA1eSAIkQAJ2CTCA2CWVfD0+ATFnqKnAAKJIc/v27ShZsqSiIqW0CNAbLZLO6ATzxx9Azv/feU8c/vfER0/g4P8OYnWb1UiTJvr/rAXzx5lZQVU7BOiNHUqpV0fLHwYQcw+j/ze1OSM3FRhAFGnHxcUhPj5eUZFSWgTojRZJZ3SC+eMPIAm9EpzpQIiqkzdPRst5LbHnpT0olr1YiFdHXvVg/kTeiKKnx/TG215q+cMAYu4zA4g5Q00FBhBFmnv37kWhQqm/RajikKJGit5428qU/Llw8QLS901vDcArAWTr4a0o9X4prGy9EpUKVfI2XIXe8edHAaJDEvTGIbBKslr+MICYG8IAYs5QU4EBRJMmtUiABNQJnDt/Dhn7ZfRUADl65ihyDcqFTxp9gvq31VcfMwVJgARIIJAAA4j5fGAAMWeoqcAAokmTWiRAAuoETv55ElnfzYpSN5XC9+2+V9cPR/BiwkVc0/cajKw5Eu3KtwtHgteQAAmQgG0CDCC2USVbkQHEnKGmAgOIJk1qkQAHUS8UAAAgAElEQVQJqBPwP22Y23gu6pasq64frmDeIXnRrlw79KzaM1wJXkcCJEACtggwgNjClGIlBhBzhpoKDCCKNAcMGIDu3bsrKlJKiwC90SLpjE5K/hw4dQD538uPz5t9jlrFaznTgTBUS44qidq31sbgGoPDuDqyLuHPj3f9ojfe9UZ6puUPA4i5zwwg5gw1FRhAFGn26tULvXv3VlSklBYBeqNF0hmdlPz5+Y+fUXR4USxtsRTVi1V3pgNhqN774b24O/fd+DDuwzCujqxL+PPjXb/ojXe9kZ5p+cMAYu4zA4g5Q00FBhBNmtQiARJQJ7Dz2E6UGFUCy1stR5XCVdT1wxWsPrk6bsx0I2Y2nBmuBK8jARIgAVsEGEBsYUqxEgOIOUNNBQYQTZrUIgESUCfw38P/xZ3v34lv23yLigUqquuHK1h/Zn2cPX8WC5svDFeC15EACZCALQIMILYwMYCYY3JNgQHENdRsiARIIBwCG37bgLJjy2L98+tRJq/8yvJGaTWvFXb9vgvfPPONNzrEXpAACUQtAQYQc2v5BMScoaYCA4gizaNHjyJnzpyKipTSIkBvtEg6o5OSP6v3rcZ94++ztuCVrXi9Ujot7IQvf/oS/33xv17pkmP94M+PY2j/n73zgK6ieKP4TQgBEkjovffeQQSkCIK0UJQmoBTBP1VBiihIUVBQQQldKQpSpMdCF+m99957bwmQ9j93X154CQlJ3sx72YRvzuEAyc6d2d+3Ze60VRaW2CgjdKiArviIAVEPkxgQdYY6FcSAaKTp4+MDPz8/jYoipYuAxEYXScfovCw+q0+vRp3ZdXCm1xnkSZPHMRWwQ3Xwv4MxY98MXOpzyY7cCSuL3D/mjZfExryxYc10xUcMiHqcxYCoM9SpIAZEI00+IMqWNc8UEY2nluClJDbmDuHL4jP7wGy0W9IOjwY+gqe7p2lO5Nd9v6L9sva4N+AevJN7m6ZejqiI3D+OoKpHU2Kjh6OjVHTFRwyIeoTEgKgz1KkgBkQnTdESAkJAO4ExW8fgy3Vf4tHnj7RrqwgeuXkExSYWw7oP1qFG7hoqUpJXCAgBIfBSAmJA1C8QMSDqDHUqiAHRSVO0hIAQ0E7gszWfYcGRBTjd67R2bRXBgMAAeIz0wIzGM9C+dHsVKckrBISAEBAD4uBrQAyIgwHHUV4MSByByeFCQAg4l0DHZR3B0YZtH25zbsGxKC396PRoWrjpK/ExwljgkEOEgBBwEAEZAVEHKwZEnaFOBTEgGmlOmzYNnTp10qgoUroISGx0kXSMzsvi03xBczx4+gAr2650TOEKqi7DLK80/8/9kSJpCgUlc2eV+8e88ZHYmDc2rJmu+IgBUY+zGBB1hjoVxIBopNm9e3dMmDBBo6JI6SIgsdFF0jE6L4tPo7mN4OriimWtljmmcAXVMlPKYN+1fbjc5zKypsqqoGTurHL/mDc+EhvzxoY10xUfMSDqcRYDos5Qp4IYEJ00RUsICAHtBOrMqoM0KdJg/rvztWurCm6+sBlVZ1TFkW5HUCRDEVU5yS8EhIAQiJKAGBD1C0MMiDpDnQpiQHTSFC0hIAS0E6g2o5rx/Y9fm/yqXVtV8NCNQygxqQS2dtqKStkrqcpJfiEgBISAGBAHXQNiQBwE1k5ZMSB2gpNsQkAIOIdAxZ8ronTm0pjaaKpzCoxDKRfvX0TOH3NiRZsVqJu/bhxyyqFCQAgIgdgTkBGQ2LOK7kgxIOoMdSqIAdFJU7SEgBDQTqDkpJLGdzbG1RunXVtVkIvjvb/1NqaHtSjWQlVO8gsBISAEoiQgBkT9whADos5Qp4IYEI00fXx84Ofnp1FRpHQRkNjoIukYnZfFp6BvQTQp3ASj3xrtmMIVVENCQ+A23A1TGk5B53KdFZTMnVXuH/PGR2Jj3tiwZrriIwZEPc5iQNQZ6lQQA6KR5qpVq1CnTh2NiiKli4DERhdJx+i8LD45x+Y0PvQ3vOZwxxSuqJr629QYVG0Q+lbuq6hk3uxy/0hszEvA3DXTde+IAVGPsxgQdYY6FcSA6KQpWkJACGgnkPG7jPik0if4/I3PtWvrEMw2Jhu6lO2CITWG6JATDSEgBITACwTEgKhfFGJA1BnqVBADopOmaAkBIaCdgNc3XhhaYyj6vN5Hu7YOwQK+BdCscDOMemuUDjnREAJCQAiIAXHANSAGxAFQFSTFgCjAk6xCQAg4nkCyr5NhbN2x6Fahm+MLs6OEUpNLoVrOavCt72tHbskiBISAEIiZgIyAxMwopiPEgMREyLm/FwOikffSpUvRpEkTjYoipYuAxEYXScfoRBefZ8HPQAMy3Wc6OpTp4JjCFVVfn/Y6iqQvgumNpysqmTe73D8SG/MSMHfNdN07YkDU4ywGRJ2hTgUxIBpptmzZEvPnm+9rzRpPMcFKSWzMHbro4nPg+gFwhGFTh02okrOKKU+i9m+1kd4jPea9O8+U9dNRKbl/dFB0jIbExjFcdanqio8YEPWIiAFRZ6hTQQyITpqiJQSEgFYCsw/MRrsl7XBvwD14J/fWqq1LzGeujyHl11q24NbFVHSEgBCISEAMiPoVIQZEnaFOBTEgOmmKlhAQAloJjNk6BkP/G4oHAx9o1dUp1mphK9z0v4m176/VKStaQkAICIFwAmJA1C8GMSDqDHUqiAHRSVO0hIAQ0Epg5MaR+HHbj7jR74ZWXZ1inZZ1wpFbR7C101adsqIlBISAEBADovEaEAOiEaYGKTEgGiCKhBAQAo4h8OW6LzFz30xc6H3BMQVoUO21vBfWnVuHg10PalATCSEgBITAiwRkBET9qhADos5Qp4IYEI00O3TogBkzZmhUFCldBCQ2ukg6Rie6+PRf3R9Ljy3FiZ4nHFOwBtXh64dj0q5JuPrpVQ1q5pSQ+8eccWGtJDbmjY3O+IgBUY9zYjYgngD6A6gY9icNgPYAfosCW2EAPwLgti7PAPwNgF/ZuhXFsZ0AfAogD4CLAMYBGB/FcVyh+R0A7gPrAWBHWL69LwmbGBD1azpcYe7cuWjdurVGRZHSRUBio4ukY3Sii0/Pf3pi/fn1OND1gGMK1qA6eddk9PinB54NfgZXF1cNiuaTkPvHfDGx1khiY97YsGa64iMGRD3OidmA5AJwFsB5AGcA1GDnRBQGJBuAfQDuAvgJQCoA/cLy0bwE2WD+CMAkAAsArALwBoD3AQwIMxvWQ8l1E4ASAEYDuA2AX+3KCYAm43Q0oRMDon5Ni4IQEAIOItDZrzP2X9+PHZ3Zn2LOtOToEjT7oxlu9rtpbMcrSQgIASGgm4AYEHWiidmAJAXAUQ+uliwHYGc0IyATw0xEIQCXw5DWArAaQBcAv4T9LHnYiMcWAI1t0M8K+38OAPfDft4CADehfwfAkrCf8U3IeQv/AGgrBkT94hUFISAEnEuAW/BeuH8B69uvd27BcSht84XNqDqjKg51PYRiGYvFIaccKgSEgBCIHQExILHj9LKjErMBsT3vlxmQawD+A9AqEqhjALjSsk7Yz+sB+AtAfQArbY6tBICmhKZiTtjP+fU7jo5kjaQ5GUAbAGkBBEYRGBkBUb+mRUEICAEHEWi+oDkePH2AlW1tH4EOKsxO2VN3TqGAbwF0KN0hUX8N3U48kk0ICAENBMSAqEN81Q0IDcKlsLUi30fCybUiNB0Zwn7+OYCvAGSKtDaEIy0BAMaGTd3i4Rzp4J+GkTQ7AvgZQEkAh8WAqF/AL1PYtGkTqlat6thCRN0uAhIbu7A5LVNU8bn35B7SjEqDarmqmXoEhAbJ+1vLRxKffPEEydySOY2bswqS+8dZpONejsQm7sycmUNXfMSAqEftVTcg1pGRdgB+j4RzFIC+ADj1iqMVvgC4BsQ9CuzXAawJG93grx+GTcHqHOlY6yjK22FTvCJLyQiI+jUdruDj4wM/P/kaskak2qQkNtpQOkQoqvhw+90Oy7iMDggdEuqQcnWIhoaGwnW4ZfH57f63kTYFB5wTV5L7x7zxlNiYNzasma74iAFRj/OrbkDYPb4BANdsLIyEcxiAQWHrSPjZX64F4TStlFFg50L33QCahf2OC9c53apHpGNrAuDnebkzVlQtYzEg6td0uIK/vz88PLgBmSSzEZDYmC0iEesTVXx+3v0zuvzFZXHmNiCsn8swy6vtwicXkMOby/MSV5L7x7zxlNiYNzasma74iAFRj/OrbkBkBET9GhIFISAEXgECg/8djK83fo2van6FQdXYN2PeZDUgR7sfReH03GVdkhAQAkJAHwExIOosX3UDYso1IJkyZULFitwB+Hm6efMmBgwYgCZNOHhiSatWrcL48eNfmGbUvXt3lC1bFp068ZMllsSbZejQoZg+fTrSp3++NeWQIUOMUQJqW9OFCxfQo0cPjB49GoULP395+/r6gr/77jt+3sSS2JvQqlUr9O/fP8J6C+61zfpF/hBgy5YtjW9zyHlIPKzXkFxXz+9zM98fRWsWRdJqSXHyu5PhFTbrfb7z8k5U7FwR7XK1w2+Tnn/6SZ5X8v6Q96Dl9pXnbuyfu3zO8Q/TwYMH4e3tbfzZsIETaIxdVvfYNNfkn7Ek8KobEGLi+o110eyCxQ8NvhXGkrtfWXfBWmHDt3LYNz9s15H8AYDTuyLvgjUVAL+MJ7tgxfIClcOEgBAwBwGu/zh+6zi2dOKmf+ZOJ26fQKHxhfDfB/+heu7q5q6s1E4ICIEER0BGQNRDJgYEeNl3QLjonLtWMXExOnfM2hzFd0DYrcSJxvfCjuWaEtrl5gAWh/3M+h2Q5TaL1SNHUNaAqF/T4Qr9+vWLMFqjUVqkFAlIbBQBOjh7VPFptbAVbvnfwpr3ud+GudPlB5eRfWx2/P3e36hfgH1HiSvJ/WPeeEpszBsb1kxXfMSAqMc5sRuQ7gBSA+DXzv8XZgb2hmEbF7ZbVfaw4TN+RND6JXTufsVvgHAelO33OroCGA9gUdi3QKqFff+DW/Ry1yxr4hYs/BI6v4LF7X1vhX0JnSalAoDncxgixlAMiPo1Ha7AIeaePXtqVBQpXQQkNrpIOkYnqvj4zPVBKELxZ+s/HVOoRlXrlsF/vPsHmhdjP1DiSnL/mDeeEhvzxoY10xUfMSDqcU7sBuQsgJzRYMoTZjL46yIAxoRNm3oWNtWKJuRmFHm5sOJTAMzPKVrcnpd/IiduRM/FEhwdSQFgR9i2vlYDFFW1xICoX9OiIASEgAMIvDXrLaRJngZ/NOcMU3OnwOBAuH/tjhmNZ6B96fbmrqzUTggIgQRHQAyIesgSuwFRJ+RcBTEgzuUtpQkBIRBLAlWnV0W+tPnwa5NfY5kjfg9L9nUyjHhzBPpWZl+SJCEgBISAPgJiQNRZigFRZ6hTQQyITpqiJQSEgDYC5aaWQ8WsFTGp4SRtmo4UajS3Ec7dO4cD/zsAFxd51TmStWgLgVeNgBgQ9YjLU1mdoU4FMSAaaR47dizCNsIapUVKkYDERhGgg7NHFZ+iE4ri7fxvY0xdzlY1f1p1ehXqzq6L/f/bj5KZSpq/wnGoodw/cYDl5EMlNk4GHsfidMVHDEgcwUdxuBgQdYY6FcSAaKTp4+PzwjdSNMqLlAIBiY0CPCdkjSo+eX7Kg/eKv4cRtUY4oQbqRXDL4MITCmND+w14I9cb6oImUpD7x0TBiFQViY15Y8Oa6YqPGBD1OIsBUWeoU0EMiEaa/GhizpzR7UGgsSCRijMBiU2ckTk1Q1TxyfR9JvSs2NP0X0G3grpw/wJy/ZgLK9qsQN38dZ3Kz9GFyf3jaML260ts7GfnjJy64iMGRD1aYkDUGepUEAOik6ZoCQEhoI2A1zdeGFJ9CD6tzE0AzZ9uPr6JjN9nxJKWS9Ck8PMvgJu/5lJDISAEzE5ADIh6hMSAqDPUqSAGRCdN0RICQkALgdDQUGNb23Fvj0PXCvwckvnTo2ePkOqbVJjTbA5al2ht/gpLDYWAEEgwBMSAqIdKDIg6Q50KYkB00hQtISAEtBAICAyAx0gPzG46G21KttGi6WiR4JBguH3lhmk+09CxTEdHFyf6QkAIvEIExICoB1sMiDpDnQpiQDTSHDVqFAYMGKBRUaR0EZDY6CLpGJ3I8bnx+Aa4BmRZq2XwKeTjmEIdoMpvgYypMwbdK3Z3gHr8Scr9E3/sYypZYhMTofj9va74iAFRj6MYEHWGOhXEgGikOWTIEAwbNkyjokjpIiCx0UXSMTqR43PqzikU8C2AdR+sQ43cNRxTqANUU3+bGl+88QX6VennAPX4k5T7J/7Yx1SyxCYmQvH7e13xEQOiHkcxIOoMdSqIAdFJU7SEgBDQQmDP1T3ghwh3d9mNsln4mEoYKcsPWdC1fFd8Wf3LhFFhqaUQEAIJgoAYEPUwiQFRZ6hTQQyITpqiJQSEgBYC/537DzV/rYmTPU8if9r8WjSdIZL3p7xoWawlvqn9jTOKkzKEgBB4RQiIAVEPtBgQdYY6FcSA6KQpWkJACGgh4HfcD43nNcb1vteR0TOjFk1niJSYVAI1ctWAb31fZxQnZQgBIfCKEBADoh5oMSDqDHUqiAHRSPPWrVtInz69RkWR0kVAYqOLpGN0Isdnyq4p6P5Pd/h/4Q/3JO6OKdQBqnVn18Wq06uw/cPtqJitogNKiB9JuX/ih3tsSpXYxIZS/B2jKz5iQNRjKAZEnaFOBTEgGmn6+PjAz89Po6JI6SIgsdFF0jE6kePT458eWHduHQ53O+yYAh2kWumXSth+eTtKZy6NvR/tdVApzpeV+8f5zGNbosQmtqTi5zhd8REDoh4/MSDqDHUqiAHRSJMPiLJlE86CWY2nbnopiY25QxQ5Pm/++iYyeGbA/Hfnm7vikWq35eIWVJleBRWyVsCOzjsSVN1fVlm5f8wbSomNeWPDmumKjxgQ9TiLAVFnqFNBDIhOmqIlBISAFgKlJpfCGznfwPj647XoOVPk4+UfY+3ZtTjU7ZAzi5WyhIAQSMQExICoB1cMiDpDnQpiQHTSFC0hIAS0EMj9Y260KdEGI2qN0KLnTJEv1n6BOYfm4OzHZ51ZrJQlBIRAIiYgBkQ9uGJA1BnqVBADopOmaAkBIaCFQJpRaTCw6kD0r9Jfi54zRUZuHImx28biZr+bzixWyhICQiARExADoh5cMSDqDHUqiAHRSHPatGno1KmTRkWR0kVAYqOLpGN0bOMTGhoKt6/cMLH+RHxU/iPHFOhA1XHbx2HAmgEI+CLAgaU4V1ruH+fyjktpEpu40HL+sbriIwZEPXZiQNQZ6lQQA6KRZvfu3TFhwgSNiiKli4DERhdJx+jYxufh04fw+tYLc9+Zi1bFWzmmQAeqTtszDR/++SGCBgchiWsSB5bkPGm5f5zHOq4lSWziSsy5x+uKjxgQ9biJAVFnqFNBDIhOmqIlBISAMoFLDy4hx9gc+Oe9f1CvQD1lPWcLzD80H60WtcL9z+7DK5mXs4uX8oSAEEiEBMSAqAdVDIg6Q50KYkB00hQtISAElAkcvnEYxScVx+aOm1E5R2VlPWcL/HXiLzSa2wiX+1xG1lRZnV28lCcEhEAiJCAGRD2oYkDUGepUEAOik6ZoCQEhoEzA+i2NQ10PoVjGYsp6zhbYfmk7Kk2rZHyIkB8klCQEhIAQUCUgBkSVICAGRJ2hTgUxIDppipYQEALKBJafXI76c+rjYu+LyO6VXVnP2QLXH11H5h8yI3/a/DjZ86Szi5fyhIAQSIQExICoB1UMiDpDnQpiQDTS9PHxgZ+fn0ZFkdJFQGKji6RjdGzjM+/QPLRe1BoPPnuAVMlSOaZAB6pyFy/X4a5GCU8HPYV7EncHluYcabl/nMPZnlIkNvZQc14eXfERA6IeMzEg6gx1KogB0Uhz1apVqFOnjkZFkdJFQGKji6RjdGzjM2XXFHT7p5uxi5SLS8J8ZbgMs9T73MfnkCt1LsdAc6Kq3D9OhB3HoiQ2cQTm5MN1xUcMiHrgEubbRP28zaogBsSskZF6CYFXlMDozaPxzaZvcHfA3QRL4NCNQygxqUSCXUifYMFLxYVAIiUgBkQ9sGJA1BnqVBADopOmaAkBIaBM4IOlH2DD+Q04+/FZZa34ErgbcBdpR6fF/Hfno0WxFvFVDSlXCAiBREJADIh6IMWAqDPUqSAGRCdN0RICQkCZQObvM6NZkWaY2GCislZ8CXAdiOdIT4x4cwR6v947vqoh5QoBIZBICIgBUQ+kGBB1hjoVxIBopLl06VI0adJEo6JI6SIgsdFF0jE6tvHx+sYLQ2sMRZ/X+zimMCepFvAtgMaFGuP7Ot87qUTHFSP3j+PYqipLbFQJOja/rviIAVGPkxgQdYY6FcSAaKTZsmVLzJ8/X6OiSOkiILHRRdIxOrbxSfpVUox7exy6VujqmMKcpFrz15o4efskLvW55KQSHVeM3D+OY6uqLLFRJejY/LriIwZEPU5iQNQZ6lQQA6KTpmgJASGgRCAwOBDuX7tjRuMZaF+6vZJWfGfusKwDZu6baaxlyZ06d3xXR8oXAkIgARMQA6IePDEg6gx1KogB0UlTtISAEFAi8ODpA3h/641578xDy+ItlbTiOzNHPwqOL4h/3/8XNfPUjO/qSPlCQAgkYAJiQNSDJwZEnaFOBTEgOmmKlhAQAkoErF8RX9ZqGXwK+ShpxXfmp0FPkWJECvzi8ws6lukY39WR8oWAEEjABMSAqAdPDIg6Q50KYkB00hQtISAElAicu3cOeX7Kg1VtV+GtfG8paZkhc/Yx2Q3zMbzmcDNUR+ogBIRAAiUgBkQ9cGJA1BnqVBADopFmhw4dMGPGDI2KIqWLgMRGF0nH6Fjjc/TmURSdWBSbOmxClZxVHFOYE1WrTq+KPGnyYFbTWU4sVX9Rcv/oZ6pLUWKji6RjdHTFRwyIenzEgKgz1KkgBkQjzblz56J169YaFUVKFwGJjS6SjtGxxmfP1T0oN7UcdnfZjbJZ+HhK2Knt4rY4f/88NnbYmKBPRO4f84ZPYmPe2LBmuuIjBkQ9zmJA1BnqVBADopOmaAkBIaBEoMufXfDznp9xpNsRFMlQREnLDJm/XPclpu6eimt9r5mhOlIHISAEEigBMSDqgRMDos5Qp4IYEJ00RUsICAG7CVh3wKLAxd4Xkd0ru91aZsm44PACtFjYAoOrDcawGsPg4iKvQLPERuohBBISATEg6tGSp686Q50KYkB00hQtISAE7CZw7dE1ZPkhi5E/cHAg3Fzd7NYyS8YTt0+g0PhCRnWufnoVmVNmNkvVpB5CQAgkIAJiQNSDJQZEnaFOBTEgGmlu2rQJVatW1agoUroISGx0kXSMDuOTpWgW5PfNbxQQOiTUMQU5WTU4JBhuX1mM1Kmep5AvbT4n10BPcXL/6OHoCBWJjSOo6tPUFR8xIOoxEQOizlCnghgQjTR9fHzg5+enUVGkdBGQ2Ogi6RgdxmfEzyNQcnLJRGVAeDIuwyyvvb0f7UXpzKUdA9DBqnL/OBiwgrzERgGeE7Lqio8YEPVgiQFRZ6hTQQyIRpr+/v7w8PDQqChSughIbHSRdIwO43PgzgG8Pu11TPeZjg5lOjimoHhQXXtmLWrPqo2BVQdiZK2R8VAD9SLl/lFn6CgFiY2jyOrR1RUfMSDq8RADos5Qp4IYEJ00RUsICAG7Cfx79l/U+q0WTvc6jbxp8tqtY7aMlx9cRvaxlgX1iWVqmdkYS32EQGInIAZEPcJiQNQZ6lQQA6KTpmgJASFgN4E/j/8Jn3k+uPbpNWRKmcluHbNltN3dSwyI2aIj9RECCYOAGBD1OIkBUWeoU0EMiE6aoiUEhIDdBOYdmofWi1rj4cCHSOme0m4ds2UMCQ1BkuFJZATEbIGR+giBBERADIh6sMSAqDPUqSAGRCPNfv364bvvvtOoKFK6CEhsdJF0jA7jU+S9Iujk1wlBg4OQxNXSYE8syboQPaGOgMj9Y94rUWJj3tiwZrriIwZEPc5iQNQZ6lQQA6KRpq+vL3r27KlRUaR0EZDY6CLpGB3GBxWB/mv6I+CLAMcUEo+qVgOSUM2V3D/xePHEULTExryxYc10xUcMiHqcxYCoM9SpIAZEJ03REgJCwG4CozaNwugto3G7/227Ncyacf6h+Wi1qFWim15mVt5SLyGQ2AiIAVGPqBgQdYY6FcSA6KQpWkJACNhN4Mt1X2Lmvpm40PuC3RpmzZhYF9iblbfUSwgkNgJiQNQjKgZEnaFOBTEgOmmKlhAQAnYT6LuqL/468ReO9Thmt4ZZM1q/BXKm1xnkSZPHrNWUegkBIWBSAmJA1AMjBkSdoU4FMSAaaR47dgyFCxfWqChSughIbHSRdIwO4/PTqZ+w48oO7O6y2zGFxKPq1otbUXl6ZbQp0Qazm82Ox5rYV7TcP/Zxc0YuiY0zKNtfhq74iAGxPwbWnGJA1BnqVBADopGmj48P/Pz8NCqKlC4CEhtdJB2jw/ik7pAa5+6dw4YOGxxTSDyq7ru2D2WmlDFqsKH9BlTNWRUuLgnndSj3TzxePDEULbExb2xYM13xEQOiHueE88RVP9eEoCAGRGOULly4gJw5c2pUFCldBCQ2ukg6Rofx6bOtDx49e4QVbVc4ppB4VD1y8wiKTSwWXoP5785Hi2It4rFGcSta7p+48XLm0RIbZ9KOe1m64iMGJO7sI+cQA6LOUKeCGBCdNEVLCAgBuwnU+70ePJJ6YFGLRXZrmDljt7+7YdKuSUYVx9cbj+4Vu5u5ulI3ISAETERADIh6MMSAqDPUqSAGRCdN0RICQsBuAtVnVkdO75yY1XSW3Rpmzrjh/AbwHJl+bvQzPiz7oZmrK3UTAkLARATEgKgHQwyIOkOdCmJAdNIULSEgBOwmUH5qeZTPWh6TG062W8PMGQ/dOIQSk0oYVfytyW9oV6qdmasrdRMCQsBEBMSAqAdDDIg6Q50KYkA00hw1ahQGDMV7BXwAACAASURBVBigUVGkdBGQ2Ogi6RidEd+MwMjQkRhafSj6VennmELiWfXyg8vIPja7UYuZjWfig9IfxHONYl+83D+xZ+XsIyU2ziYet/J0xUcMSNy4R3W0GBB1hjoVxIBopDlkyBAMGzZMo6JI6SIgsdFF0jE6HT/piBlpZmBX510ol7WcYwqJZ1X/QH94jvQ0ajG5wWR8VP6jeK5R7IuX+yf2rJx9pMTG2cTjVp6u+IgBiRt3MSDqvBytIAbE0YRFXwgIgRgJTN87HR/6fYjHnz9GiqQpYjw+IR4QGhoK1+GuRtXH1h2LTyp9khBPQ+osBIRAPBAQA6IOXUZA1BnqVBADopOmaAkBIWAXgYFrBmLOoTk4/8l5u/InlEzLji1Dk/lNMPLNkRj4xsCEUm2ppxAQAvFMQAyIegDEgKgz1KkgBkQnTdESAkLALgJtF7fFhfsXEuVHCCMDyTE2BzqU7oDhNYfbxUoyCQEh8OoREAOiHnMxIOoMdSqIAdFI89atW0ifPr1GRZHSRUBio4ukY3RqTKyBDBkyYEHzBY4pwESqBX0LoknhJhj91mgT1erlVZH7x7yhktiYNzasma74iAFRj7MYEHWGOhXEgGik6ePjAz8/P42KIqWLgMRGF0nH6HiV9ML7376P8fXHO6YAE6lyK15uybv/f/tRMlNJE9Us+qrI/WPeMElszBsb1kxXfMSAqMdZDIg6Q50KYkA00uQDomxZIpVkNgISG7NFJGJ90vdOj15NeuHL6l+au6IaaldsYjEcuXkEdfLVwcq2KzUoOl5C7h/HM7a3BImNveSck09XfMSAqMdLDIg6Q50KYkB00hQtISAE4kwgJDQE7l+5Y0L9CQlqa9o4n2hYhtKTS2P/9f1oVLAR/FrLiKm9HCWfEHiVCIgBUY+2GBB1hjoVxIDopClaQkAIxJnALf9byPBdBixusRhNizSNc/6ElqHvqr74YesPaFq4KRa3XJzQqi/1FQJCIB4IiAFRhy4GRJ2hTgUxIDppipYQEAJxJnD4xmEUn1QcmztuRuUcleOcP6FlCAoJQo2ZNXDg+gFc7H0R3sm9E9opSH2FgBBwMgExIOrAxYCoM9SpIAZEI81p06ahU6dOGhVFShcBiY0ukvp11p1dhzc/eRMnZ5xE/rT59RdgQkUuQi85qSSmNJyCzuU6m7CGEask9495QySxMW9sWDNd8REDoh5nMSDqDHUqiAHRSLN79+6YMGGCRkWR0kVAYqOLpH6deYfmoXXH1ri/8T68knnpL8CkimWnlEWFrBUwpdEUk9bwebXk/jFviCQ25o0Na6YrPmJA1OMsBkSdoU4FMSA6aYqWEBACcSbwzcZvMHrLaNzpfwcuLq/OK6L+7/XhnsQdS1stjTMzySAEhMCrRUAMiHq8X523izorZyiIAXEGZSlDCAiBaAl0XNbR+C7Gjs47XilKHZZ1wLFbx7C109ZX6rzlZIWAEIg7ATEgcWcWOYcYEHWGOhXEgOikKVpCQAjEmUC1GdWQ3Ss75rwzJ855E3KGz9Z8hlGbR+GHOj+gz+t9EvKpSN2FgBBwMAExIOqAxYCoM9SpIAZEJ03REgJCIM4Eikwognr562FM3TFxzpuQM/hu90WvFb2MUwj5MuSVmn6WkOMmdRcC8UFADIg6dTEg6gx1KogB0UjTx8cHfn7yYTGNSLVJSWy0odQulPn7zEi9JDWObT6mXdvMgncC7hg7YV1+eBnr269HtVzVTFtduX9MGxpIbMwbG9ZMV3zEgKjHWQyIOkOdCmJANNJctWoV6tSpo1FRpHQRkNjoIqlXJzQ0FMlHJEcnr06Y2GuiXvEEoMavwBfwLYD6+evDt76vaWss949pQwOJjXljw5rpio8YEPU4iwFRZ6hTQQyITpqiJQSEQJwIBAQGwGOkB2Y1nYW2JdvGKW9iObjJvCZYcWoF7n92H8nckiWW05LzEAJCQCMBMSDqMMWAqDPUqSAGRCdN0RICQiBOBK48vIJsY7Lhz9Z/omHBhnHKm1gO7vlPT4zfOR59KvXBD3V/SCynJechBISARgJiQNRhigFRZ6hTQQyITpqiJQSEQJwI7L6yG+V/Lo/tH25HxWwV45Q3sRzMtSDcCSyJaxLs/9/+xHJach5CQAhoJCAGRB2mGBB1hjoVxIBopLl06VI0adJEo6JI6SIgsdFFUq/Ob/t/wwdLP8CconPQunlrveIJSG3M1jEYvG4wHg18ZMrdsOT+Me/FJLExb2xYM13xEQOiHmcxIOoMdSqIAdFIs2XLlpg/f75GRZHSRUBio4ukXp0v1n6B3w78hsrbKr/S986yY8vQZH4TXOlzBVlSZdELWYOa3D8aIDpIQmLjILCaZHXFRwyIekDEgKgz1KkgBkQnTdESAkIgTgS6/NkFe6/txc7OO+OUL7EdbJ2KtqvzLpTLWi6xnZ6cjxAQAooExIAoAgQgBgSoDmBdFChDAbwOYIfN7woD+BFAFQDPAPwNgJ/MvRVF/k4APgWQB8BFAOMAjI8hZGJA1K9pURACQsBOAk3nN8XToKf4p80/diokjmxXH15F1jFZUTVnVcx9Z67xZXhJQkAICAErATEg6teCGJDnBoTGYlckpCsA3An7WTYA+wDcBfATgFQA+gE4D4CrNYNs8n4EYBKABdx2GsAbAN4HMADAdy8JmxgQ9WtaFISAELCDwNm7Z5F3XF40K9IMi1osskMh8WQJDgmG21duxglxNzDuCiZJCAgBISAGRN81IAbkuQF5F8Dil6DlV7loIgoBuBx2XC0AqwF0AfBL2M+Sh414bAHQ2EZvVtj/cwC4H005YkD0XduiJASEQBwIDFg9AKO3jEbh9IVxtPvROORMnIfmG5cPZ+6ewdv538byNssT50nKWQkBIWAXARkBsQtbhExiQCIaEI5WBAAIjgLtNQD/AWgV6XfHAFwAYP3kdj0AfwGoD2ClzbGVANCU8Otec8SAqF+8MSl06NABM2bMiOkw+X08EJDYxAP0GIr8esPXxs5P7Uu3B5bilb93Hj17hE5+nXD+3nls+3CbqQIm94+pwhGhMhIb88aGNdMVHzEg6nEWA/LcgDwMm1ZF87ExbHrV7jDEWQFcAtAfwPeRsP8GgKYjQ9jPPwfwFYBMkdaGJA0zN2PDtKOKnoyAqF/T4Qpz585F69av7laiGlFql5LYaEeqLNjjnx6YdWAWrn16DUsXLpV7hw/qVf3gd8IPx3scV+arU0DuH5009WpJbPTy1K2mKz5iQNQjIwbEstC8NwCuuuRi8qIA+gLwBFAZAL9ExW1QuC1MOwC/R8I+Kux4Tr0KBOALgGtA3KMIz3UAawC0iSZ0YkDUr2lREAJCwA4Cjec1RmBw4Cu/AN0W3Tcbv8Hn/36OKQ2noFiGYqiSk/uPSBICQuBVJyAGRP0KEAMSNcN8AA4AWB82laoqgA0AWgBYGCnLMACDAKQB8CBsLQinaaWMQpoL1jmq0kwMiPrFKwpCQAjoI1B8YnHUyF0D4+vHtFmfvjLNrjRy40h88e8X4dUMHcLNESUJASHwqhMQA6J+BYgBiZ4h12k0BeABgCMTMgKifr2JghAQAiYkEBIaAs+Rnvi21rf4uNLHJqxh/FRpydElaPbH8/4iMSDxEwcpVQiYjYAYEPWIiAGJnqF1apU3AC9nrgHJlCkTKlbkzr7P082bNzFgwAA0adIk/IerVq3C+PHj4efnF+HY7t27o2zZsujUiZ8isSTeLEOHDsX06dORPn368J8PGTIEHh4ehrY1XbhwAT169MDo0aNRuDA/fWJJvr6+4O++++75TsL+/v5o1aoV+vfvj6pVOVBkSZxnyfpFXgTOr5ByXYYzzmPRokX49ddfE/x5JJZ42J7HrVu3wq+XhHZdJcZ4eGfzNr574dfKD+dWncOWLVuMe9iazHyfOzoeJ7KcwL403IEdCBochLVr1sb7c3fNmjUYN26cKZ+7jo6Hs94f9p4HrxPru9AM70F7z8Ns73Nd5zFr1iz880/E7xzF1C5hHK3Pw4MHD8Lb29v4s2EDJ8YYU/T3RGiEyX9iRUAMSPSYONWKi8u5FoSJ6zf4wcKodsHihwbfCjuOu19Zd8Hid0SsietJNkWzjsR6jKwBidVlG7uDfHx8XjBnscspRzmagMTG0YTjpr/36l6UnVrW+AJ6+azlIfF5zm/LxS3os7IPtl/eji5lu2BKoylxg+uAoyU+DoCqSVJiowmkg2R0xUdGQNQDJAYE4HBA5C+Zlwr7Ajq/dG4df3/Zd0C46PznsHBwMTp3zNocxXdAOHzB74DciyZ0YkDUr+lwBfbacnRHkvkISGzMFZPlJ5ej/pz6uNj7ovHVb4lPxPhYP9LIn4Z8GQIXl/h9dUp8zHX/2NZGYmPe2LBmuuIjBkQ9zvH7FFWvvw6FtWHb4/IbHTcAFAPQGcDTsF2wrPsvZg8bZuNHBK1fQuduWfwGCOdLcQcsa+oKgCs5+TlhfgukWtj3P7hFL6d2RZfEgOiIqGgIASEQJwLT9043vnnxdNBTuCeJagO/OMkluoNtv4zeunhr/N7s93g3IYkOspyQEEhABMSAqAdLDAjQI2xb3Pxhaz1uhm2VOxzAmUiIiwAYwymeAJ6FTbWiCWGeyIkLMD4FkCfsy+jcnpd/XpbEgKhf06IgBIRAHAgcunEI/Vb3w87LO3Grf+TB4DgIJfJDN5zfgOozqxtnebrXaeRNkzeRn7GcnhAQAtEREAOifm2IAVFnqFNBDIhOmqIlBIRAjARchlleA2WzlMXuLtZvr8aY7ZU84MD1Ayg1uRSKZyyOPV32IGkSfl9WkhAQAq8aATEg6hEXA6LOUKeCGBCNNPv16xdhxy6N0iKlSEBiowhQY3arAWlWpBkWteCsUUDiEz1gK6/V7Vajdt7aGiMReymJT+xZOftIiY2zicetPF3xEQMSN+5RHS0GRJ2hTgUxIBppcnvXnj17alQUKV0EJDa6SKrrWBvU3cp3w4QGEwxBiU/0XH/Z8ws6/9kZPzf6GR+W/VA9AHYoSHzsgOakLBIbJ4G2sxhd8REDYmcAbLKJAVFnqFNBDIhOmqIlBIRAjAQyfJcBt/xv4UbfG8jgmSHG4+UAIM9PeZDLOxfWn1+Pkz1PIn9aLiGUJASEwKtCQAyIeqTFgKgz1KkgBkQnTdESAkIgRgI5x+bE+6Xex9dvfh3jsXKAhUCdWXWw+sxq49++9XzRoyL3MpEkBITAq0JADIh6pMWAqDPUqSAGRCdN0RICQiBGAt7femPQG4PQr0q/GI+VAywEuv/dHRN38dNQQMOCDTHu7XHIk4YbHkoSAkLgVSAgBkQ9ymJA1BnqVBADopHmsWPHULhwYY2KIqWLgMRGF0k1Hf9Af3iO9MSMxjPQvnT7cDGJz8u5Tto5Cd3+6RbhoNAhoWrBiENuiU8cYDn5UImNk4HHsThd8REDEkfwURwuBkSdoU4FMSAaafr4+MDPz0+jokjpIiCx0UVSTeft2W9j5emV2Nl5J8pnLR8uJvF5OdegkCAcuXkE47aPw7S904yDnw165rRteSU+ate9I3NLbBxJV11bV3zEgKjHQgyIOkOdCmJANNK8cOECcubMqVFRpHQRkNjoImm/zuYLm1F1Br+pCjz+/DE8knqEi0l8Ysd16H9DMWz9MONgv1Z+KJiuIHKlzoXkbsljJ2DnURIfO8E5IZvExgmQFYrQFR8xIApBCMsqBkSdoU4FMSA6aYqWEBAC0RKwbr+7os0K1M1fV0jZQWDv1b0oO5WP7eepXJZy2NVllx1qkkUICIGEQkAMiHqkxICoM9SpIAZEJ03REgJCIEoCAYEB8BjpgSo5qmBTx01CSYHAs+Bn2H9tPyr+UjFchV+U90zqiULpCykoS1YhIATMSkAMiHpkxICoM9SpIAZEJ03REgJCIEoClx9cRvax2fH3e3+jfoH6QkkDgTaL22DOwTkRlDZ22IiqOS3T3CQJASGQeAiIAVGPpRgQdYY6FcSAaKQ5atQoDBgwQKOiSOkiILHRRdI+nYPXD6Lk5JLY2mkrKmWv9IKIxCfuXM/fO48Oyzpg3bl14Zm5FuRQ10PIlzYfQkND4eKi55Ur8Yl7fJyVQ2LjLNL2laMrPmJA7ONvm0vP01C9HqJgISAGROOVMGTIEAwbZlkgKslcBCQ28RuPMVvH4NNVn+J4j+PGwunISeJjf3zmHpyLbzd/i9v+t3H54WW8nf9t1M1XF71X9saZXme0fC9E4mN/fBydU2LjaMJq+rriIwZELQ7MLQZEnaFOBTEgOmmKlhAQAi8QCA4JhttXbsbP7/S/gzQp0gglBxDYdGET3pjxRvj2xruu7MJfrf9Cg4INHFCaSAoBIeBMAmJA1GmLAVFnqFNBDIhOmqIlBITACwQG/TsIIzaOQItiLTD/3flCyIEERmwYgUHrBoWXMKXhFHQp18WBJYq0EBACziAgBkSdshgQdYY6FcSA6KQpWkJACIQTuPn4JkJCQ1BiUgnc9L+JCfUnoFuFiF/zNiOuhw+BoCAgTQIcqPnj8B9oubBlONYvq32JGrlr4PeDv+MXn1/MiFvqJASEQCwIiAGJBaQYDhEDos5Qp4IYEI00b926hfTp02tUFCldBCQ2ukjGXif96PS4HXDbyJDLOxdO9jwZ7Ze7zRSf3LmB8+eB0NDYn6tZjuS0qwo/VzCq453MG2lTpMXZe2eN/0f++KNtnWkUj986jiIZikR5KmaKj1lYm6UeEhuzRCLqeuiKz+7du1G+fHkWUg7AHnOftTlrJwbEXHERA6IxHj4+PvDz89OoKFK6CEhsdJGMnc7aM2tRe1Zt42B+KG/0W6PxZp43o83szPgcOgR4ewOZMgGzZwMtWwJubpY/SZIA1o2jHj0CPD0tVaYZ2bMHKMdXv8kTvzhfOUdljN48Gp+t/SxCbZsVaYaqOaqiYraKSOaWDLMPzMa3tb/FuO3jMGDNAOz7aB9KZS71whk6Mz4mx2u66klsYIy09l/dHz0r9kSu1LmMGHHtWb/V/dC3cl9kTZU1xrhRY8beGcYufcUyFovy+CdBT4x7xqeQD9789U34tfZD3jR5XziW3+l59OwRquSsgujic+3RNaw7uw5Pg58anQVNizTFqtOrsO3SNvyv/P9w5u4ZfL/le3xV8yssOLIAc1bNwfGRx8WAxBjJ6A8QA6IAzwFZxYBohMoh0rJlI36lWKO8SCkQkNgowItlVr4s917bi8HVBqPIBEtP+qjao9C/Sv8YFXTHx98fyJULWLYMKF0acHUFJk0CfvgBuHz5xeokTQoEBgKvvw5s3fr892vXAnv3AqdPW/L/9x9QvTqwZQsQEgJUNfEnN+49uYdsY7LBP9D/pfznvTMPP27/0Wj4fF3za3xR7YsXjtcdnxgvCDkg1gQSamx4faZOnjrW53n4xmHj+GXHlxkNdF7XHPHjz1K6p0QB3wKG1t6P9qJ05tI4fec08vvmB033ohaLwsvhR1GZUiRNEaHsybsmo+vfXZEvTT6c6nUqynp9tuYzjNo8Kvx37xZ9F+8UeccwO22XtEX+tPlRPVd1TNs7zThmVtNZSHs3Le6kuYNf9vyCtiXbhpuKvqv74sL9C+FaGTwyGFNVmarlqmYYm5n7ZqJBgQb4++TfwBUAU41fywhIrK+aiAeKAbETnIOyiQFxEFiRFQKvCoFb/reQJnma8J2ubM97coPJ+Kj8R05FQQOxejUwZAhQoABw8iSQMSNw44aeasycCbRvb9FKCNO0AoMDkeqbVEZPa0zpwzIfYkiNITh375zRq8yGkG2iFr9ozxGWJS2XIIlLEngn9za+OcJRlNYlWiOjZ8bwLDsu70BO75zInDJz+M/YqGJPMhuRkhIWAdtvy/Dfp+6cQlBIkDF1b8/VPfBI6oEh/w2Bbz1fPHz6EEPXD0W38t0Mg9uuZDvw+uG0QJqIsdvG4tzH58DnB6+PbF7ZsPXiVmT3ym5cUzQKPZf3RJnMZYwNLGgmrOn9Uu/jt/2/hf+fDX/WxZr6V+6P47ePG+UwJUuSDAuaL8DdJ3fxwdIPwo9rVbwVXOCCohmK4tf9v4ZrsM7LTy03jMzBGwextOVSvPbLa3gc+DjOASuWoRgO3zwc53wvZBADosxQDIgyQq0CYkC04hQxIfBqEWAjNcnwJC+cNF/gE3dNxPh649G9YneHQfn3X4BTpXx8LEUsWAC0aPHy4jiNul074OOPgZEjgc8/j3j8J58AP/4YuyofPw4cPmwxPPv3AwULAiVKAH36xC6/s45iY5GmYt+1fUYPLnteF7ZYaDTw2HC0JpoF217ZSQ0m4ditYzh04xCaFm6KgWsH4uGzhxGqzekob+V9y9BiQ3JLxy1GHjYKC44viDr56qBD6Q5G4zRP6jzGBymZ1r6/NnxaHqeesCH4Vr63YJ2+d6LHCfgd90PNPDVx+cFlNCrUyFm4oiyHDeLWi1rjx7d/RO7UuaM8ZuLOicb3WAZXH6xc19h8SJKjAKM2jcJnVT8zevSZZ+mxpcYUoSSulvuScecHKlO5p4Kne9icwpfUbuGRhWi+oDmefPEE1x9fN2LqnsQd/537D538OqFNiTZ48PQBNl/cbIxAMHGzg+Ebhsf5nH96+yd8vOJjI1/ZLGUjXItxFtOQgaO3U3ZPwY3HmnorAHgm9YxgXH5t8qtRRoWsFQyD/84f7xj3yNDqQ43rqtTkUsZISK08tTCk+hC0WNgCnK4lIyDqARYDos5Qp4IYEJ00RUsIvEIE2NjJMTaH8fE7JjZQX8v2mtH44fzlhnMbwlEjINylKnNm4LZljTsaNQKaNQM6dHgxAF9+afnZH38AnTtbzAHzb9gA1KxpmZ7VvTvQqRPg7g4UK2aZdpU6NbByJVCjhsWwUJt5n8Y8kICzZwEuZrdNLJPrTMyU6v9e3+jpHV5jOAJDAvHVhq+cWr0N7TcY10r7ZZYhJV4vbJBGNVrDXuhMKTMZ8+S/eOMLhCIUbq4WoOyFd3VxNf5wqk6h9IXw5bov0b1Cd6Nn3Tax8Tzsv2EYVnOYMXUnclpydImxc5j1ezU8nvP9s6TKgr9O/GX05LMRyXrzi/O2yWWYpYnDr9HP2DfD6L2vV6CeMULIr9LT3G08vxFlspRBsYnF0LtSb6Nx+Xuz3w3+rNfITSPDJdko5dqpo7eOGnVts7gNfqjzg7GmoXzW8obGs+BnxvGcqsP1C4PXDcbMxjNRMlNJwzgUn1Tc+H3xjMXB6XZc3zBr/yyjETym7hjDKHJUYuWplZi8e7JhNjma0LhQY2MEgRtInL9/3qnXRWwK43qlFadWYP/1/cY0TxrEEplKoO3itsbGCweuH4hShqw5WkeGS44tiXDMslbL0LBgwyg7VXjg69lfx/I2y+GG5PBIlgy3/G/CK5kXNpzfYFybE3ZMAEdVyJiGjex4LT4NeorMP2TGkEpjMLRu7/Ay+Qz99+y/Rox5fTAFPHsK/8AApPNMjXv3AE4nXXhxHHyX+eLUN8Yoj0zBis0FEsUxYkDsBOegbGJANIKdNm0aOrEVI8l0BCQ2ekNy/dF11Pi1htHTbU2BgwPDG4QcGZm6eyo6luloNIJiSjHFhwvAlywBvvrKsv6iSpXoFT/4AAgOBnr0ALJkAXLmfHnpDx4AqVI9X3z+sqPHjbOMnEyZAvTsCTyztP1eSL17Wxa381j+m4vd//oLWLMGeO01ICDg+ZSwW7csZqpQoZgo6f89p7FwSsr9z+4bPbVzD80F58Kzd5vpvRLvGT2106dPx8FsByNU4N/3/zWmlmTyzGT00jozsWFHY7Cy7Ur8tP0nY5thphVtVuDt39825tpzsTDn6BdOVxgrT680poylSpYKQ/8bakz/YRr39jjjHNN5pDP+z4XDnK5WKlMpw4Tw4467r+6O9tS4XoCaND2crrPzys4oj+UIBKf52I422R5IozRh5wT7EHIAS3HpYbZU2cI7El5WiS5lu+BJ8BNj+lPr4q2NDQy41mLMtjHoXLazsWaBIyTZU+XCPf+HaLygHqrmrGow4sjMqrar0GdVH3Qs3dFYLzbrwCzDFH2/9fvw0RSWz2cJ2bdY0MJYVE7DSfM3scFEozw29h9cT4uUKYHoNp7831//M0zWtDLH8NM36fCo9WvGuorV7VYbp0jTSkMXEpAKeTNkxcLjc7C98zak90hvPNfmHViEKVtn45v6A+Htnhb18jXEgAGW+55TO/ksqF0bSJvWsqEFEzsnkiUD9u0Dihe3dDhYn215izzA2WOpEBLigs8+s0zfbNsWKGkZEAxP77wDbN9uGVllJwjTiRPA33/vQe/exi4YYkDsu1PkS+h2cnNUNjEgGsl2794dEybY+RLRWA+RepGAxEb9qph3aJ7RcGMjr9zUcuHbu1JZ9YvbjM+PP04wRg24xoKLwTliMHcu8O67FsPBtRw0Exeer9t84aQWLbKMhDgqcaH6nDmWERGOnEybBnh5Ac2bWwyFtSESXfnco4JmKqr05Iml8eLsxN5Z7ohlm7iTFnvcrTtiNXu/GR7UfoC/3vvLaKQzj+3IwvxD83H67mmj8UZzOqjaIPy852cUTl8Yi48uNhbqvpHrDQxfP9yYWsI1JBwh++fkP0ax7OnP4Z3D2AqYjUtea9E15qvkqBJukHSw4vSxk3dOGr3VHCWw2wjoqMxLNDi6wxEVGiJO1aGxP3H7BFz+cUFo/VCMq7oQfbe+Z4yqcASDPfAcxbFdG2GVL5iuoJGXiYu4OT3r4oOL4aVzShBHmpisIyH89+Ym11C5VCaj8c4pc9ZpXpGrzTVSv/4K9P8sCLVquuH1qk9x4dGpCLtLsZPi/qNnePo4udGxMHH2Rfw07ToKl7mDCmnrGM+AH8YG4dJFF/w+O4kxYmlNbKBXqmT534gRgIeHxdx36QLkyGExAj//EoKHj4KxYH5S47ilfoFIlswF16+64coVy9TLl6j4WgAAIABJREFUTz+1bEzBhj5HG/isWbgQ6NvX8h2gL17cjyG8Drz/uREFU4oUlg0v6tSxjJhys4oyZSxrxSZN6o6KFSfgt7AlK++9Z3mGWBNNzNSpwIwZll34hg6N7iLgg0MMiMptJiMgKvT05xUDop+pKAqBeCdw5eGVWG09GVNFqcNpDo+fPUavFb0iHN6yWEvMbjY7fNQjJq2ofs8RhO+/B3r1sjTg8+UDkicH2BiPKbHBMXq0peHx7bdA//6WKVnskYyQ2NV49SqQ1WYrTi7eYAuCXZkaE3fYYkOJjYy4Jm4NbN3m19fX0rNLPtmzW5Q4rYtcihSx/Pz+fSBDhriWYp7jORWp2kzLIveALwKMdQrWxOk0nAdPM8OF7JwWc//pfZTIWMLoGecWzxy5YI+7bcqSMovx36uPrhrmh/nrF6gPNxd3LD2+BPef3jN+z2k47P2OLlkXNbNxfv/JfWP0on3p9oZJ4foA9sp3eS8TSjdfgY8al0ROr9wo+3NpQ+6/tlux4uwy/Lz7F2P9xCevf4xOZTphz9mz+Pi/9w0DcbjbYezYlBL3Qi6hVumCWHxxImrlfdMYWUiXIh1u3HsMf5ebxvlxV6VqKbqjceUicL2XH4PnLsDn7zRGnwH+KFTlGLyeFcb4cUkA/wwIDgnB1Suuxsjf8K9CsGePC6r1noIHoVeMESFjc4EhIViwMAQtOp/H1wOyYd7v7kZPPhvyc49Nw+Grp9Gr2EgsWhyCG0GnsfrwLuzN+x6y7PPF1aU9ULiw5VZatw7gdcoRxIYNLT36330HXLpkaYBHTn//DcyfD3z4IfDGG8BHH1ka3pETd63jCELkxB3u+WfxYuDOHcdfx7wfeY/FZ+LzYHf4AJwYENVYiAFRJag3vxgQvTwTlBrnnzJx7ql1wSMXNXqO9ATnwnIuvyMSy+BLnXOqo0ts8LLBEXn/9vP3zhsv9cg9trY643eMN3pZuTMLd2L5dtO3xtaiXAQbVeL83ULpChk9r9bEbRXZo8uewqgSeXE+N+uXNImlh42J+Wx7BdmAKJK+CCpkq2D0GHLrSc5d57xh5s/hlcPYv56s2cjhXG9O/WDisdw1JoOnpZXJ6RtTdk1Bn9f7gItd2Yu8/vx6Yy44e5g5zYG9zWzAvPnbm+AUGc7nZtmcG87UZF4TY84xt5nkbkX8WrlRxwxFQG7TfKYZ9efiUu5IYzsf3ZYDG2hsRMVmepVtPuuuUZzuzH+zAfK/sM2QuHic6zRsE0c+6tcHrl4JxcDPXZAtbDo/R0HY00kNNnhyZAuxGAomthp27LC4EzoTLvTg5835UQ8WNmrU88UY3FOXhdABHTxomVPB7tN//gGaNrXr8medLl4EuLUvDQl7Prkj159/WtaR0FCwziyWU684avOy9MsvlillbLAxsaeV07l+/tnSkGPVZ80COPWsVSvL1BAez/Uu9Fmc4sEpHDRGefJYPBfNDXtt2YPL76JwMT97gNlA5IJ6GhtOH2GvLMugqeNUMea1rmPhcfxZ69aWejEm3bpZRq143mfOWGIXObHunNee87U9eH1mOeCJNy73vGdsdcwNAmgiraYrcl7Wl+aLGp45T6L9vE/wsU9NpE/lhbMbKiOza3EjxDP/uInr59NgtO89hDxOjZzZ3QwWm44dw77763Dj766YtXUlGjR9hPE33jXqgEn7Ubhnfxxz+wMHmj/B9SvJDHbcQY2XES8hst650zK1z/JNOEtPP9nDNRDwuAU8yoI2bYDff7cYSl525HTkiOV4rjdiLzlHzayJ0/I4nYiJfLn2iL3kbIwXLWr5OdcmcVpObBLvE9vtpjm9r2W7Rzh28hnSeaQ1tpSOKvGS5/nx+oyQvC4BD8KccGwqEMMxNDAchbAmjkRMnw7cvfvyjLajDi87ktOYXnZf8fnDEQ6OOLJvIrpkHc3g72m2aIx4fNeulnVnNFOcEsp1ZjRHjx9brt3IEyE4skHjlC4dMGYMMHEisGqVZdOKN9+03A+c3sWfMf6MAUdheL1Zp5C2arUH8+bJCIjK5ScGRIWe/rxiQPQzjVaRw9Ynb5+M9mvDthm5sJCNbU5LYM8gG6JM1sYu/8/GKhcaMvH/tg1h/sw6TM4FeewZtO6AcvXhVaMxO+fQHMw5aBkLZm/21EZTsfzkcrRa1AqNCjbC2LpjcSfgjrGokbussCeOw/LsmeQcazZeOZ+aqUHBBkaPY4dlHYyFpIPWDTJ6Kjm/lw1q6rRb0g4j3hxh/I5TL35r8hvypMljzBH23e6LSw8uGbuFcC766C2jDd39/9tvnD+nfASHBqPMlDLGz/lxOx7L6QHckpFlWz88xTnhxgujnq8xX5hbQDLt+HCHoTVs/TBjoSCnJrBHkPOEk7omxeU+lxEQFGA07jl9hHVmI59mhvOdyZtzvblwkfOXrYnTTvixKG4tSh40Tra7u8T1EtvZeacxn5zbPlrnjHMRK7eQtDdxhxmaLM7xt6ZPX/8UP2z94aWSnPaRwi2FwZo7Iq04tRLLji/F436hxrQHNgbZ68mGi7WhZMRtv6UNv2mT5YXLBhAb5mx0s0HHhh2nXUSV+vWzjITw9ycOB8JjyxpLS3bjRpy64I67m4+ggv96GG6ELXu+pSdPtkixtUzzEZuV4lEVbnVG/B1XorPFzVYPTQ0XbrDlySEatvDZYmYLIqrEk+V8La5qD0tsPLNxzQYppa3rWA4csEwv4/QPJjYyyYD8HJXY+OJuXWxQcVQlurUskcvPm9diLPiNFX4tnonnxMYep79ETmxc0dRQnyZo1y7LuRkp3QmgZyEgIDUwKuK1vXmzZWrM8uVArVoWs8nyeD2xx902saeahulU1J9uiAFhKFBxAnD+DeA6P8AYCnjcBvzTh+erV89Sj/hOZEBjyxSbbaXHjrXUm43ayIn3bv78lg9ybtwY8belSlnMEGNgm3jNkDHXNrARzjVWvAXZ6P76a8uRnP7IkRROb2KsaKJowHmd8brhsTS+vJVoVnksjTTXSvGW5W1D08tGN+8Rmtxt2yzaNHy8ljgCw1vLmrhjHZ8nvDZpMllHGgSWzWlQnNJJI8f7jiaA5pDXJRv6LI9mges6aPRpKGioucaLGnwG8fqmmWvcOCIPjtgyDi9LNK3UYSyiG63k9cy6MCZMZMPOBo4MU59caEg8PPagnGWIVNaA2HkzigGxE5yDshkGpGGfoVj23RCcuHPM+FgOG4RsXHYu1zm8WM7XZKPYdpg8tnXiNplwfwTPpClx/2EgknsEG41N9gLb7hkfnR4b12x8WsvmHGQ2Uq27RrC3lnVjY9E2sZed5dh+1ZQ9131X9TXOjY1WJm5NyTm1kT+KRAOw6OgiY6jfuo/9wDUDjeF97oTC8jhkzm0it1/YA9/VS9G1ViPMODDF+AAbF0ayh5vnyS0S2Zj03eGL/q8NxmfV+2DpoRU4+eAANl7YiE8rDkSGVN4Yt34WgpLew+Lj8426sXFbO29tY040E3ca4r7k1nm9XJzHxjwbxPmS1ET/uu3w7Zav8Vbe2pi6Z6rxhVU2iNmIZr2P3Azrhott8GyOa1K4ibGQkCkue5u7u6SAd3Iv3Ay4HmWp7P3ndptmShzZ4N7xNG9mSslcPPE09DGq5qiGTRdtJkVrqGTqoEK452Z8addIa1tvQ9EMRXD1nJfxImcPeccPg7BkWSAQlAINGnBhpOVYtss5J5s9mJUrW7a3jZwiTid4/tuBAy1b6aYNuoEzh/zx2ywXy5uXLb/16+0/M2s38DffWFonrNzSpZY5DRwKoFFhYmv6+nWLWeDP6Z6iS1zwwRXlgwYBdA5M7EalQWKrhi0nttQ4JMGWFReysIVv/aT6S86G01bY2OICVWviVBPyYWOM/GlUmDhw06QJcPTo82ks7FVmo5IjHfx9ZHRs1LBhxRS5h5xmhA1ce02PrW+jPht81g9BRnvKqS4Dn2aP0oAwDxtl1oEpnievETKIKjF00Zko9mKzwczGqW1iKK1mhlPmrCMMx469uE6HJojHcyMEpsjXMi8bNvbr1n1uzHgcR7iuXbNMUWIDl/+3TTQUzMvLhJcL7ykO3DF+1gE4Nuq5twnXF7AxykuJDWeOILC3nQaf57hihaVBP3685dbheiReT2zQc0MEGlteHxUrWnriX5ZY57fesqyH4HXJ+tM4vDC90UaEjXQ+B6wDkS8vIfa/5agozbp19JOjfDQi7APgyIF15Cj2itEfScNAvbANqXRIvlyDzwZ2aMSU5s3DHi8vlOMFIgYkJlrR/l4MiN3oHJLRMCBgz5XN9GhrSYt81qBEzlzGlI3//W0Z/08ZUASuqW6ia6l+OHXnOO6EnkVR1yYo7VUHSd2DMG7HOOTO4Y7FFyegiFs9nA7ciGcudCCAd0hu3Hc9F+FEGqQahO3Bk42PETEV8iqL4w/2IJdXHgSFPjN6odkrzcbgug/WGVNMuGMGe2/Za//dlu+w4MgCI2/PMv3xRr7yxtSZFX964FzKeTgfshWeSbyQJ20u44NoJ2+ew7hd3xsLLLd22oqjN4+G7+DieacSsmVIibfLlsTOc0ex9ebzbq+MyXIga2A17Aux7LYSZeJggh1zv+MSWRe4IhQhSOGSGgGh0byNYymYKkk6ZDrfHRey/4BniPoDS+4hXggKCUYqTzfDyEROyZIkR0iwKwLPVkSawJK463ISuMYutOtAmRkRDncNTYoQl+ddV2kutcHd7BF5vubaDbtCfkEwnqHI1a9wNEvE/fTTXnsHRW59Aa83J+HEniw4fSYIqBZFazes5HezfYLHJytg5ZQfEFKpGvD68w88uO7qgVyVt+HsM8te9ghJArgGG//Mu3Mx/Hc3xZN36+Fe+hWW37OXNCAtcKMYspc+gUteC4ElvwJPvYBWUUzXWfs1EJAO7rW+Rba/d+B8vsEIKTMV2NQf2TwK4NrFZAh+/Vsg4xFg7jJLr2uJ35Es4yU8zR1myNaMBCpMAi69BiydCQR6WqZ6pLoK9M4F7PsAqT09cO9MPuBAOyD7ViDFHWBfe7iWmoschW4i0/7ryFL6G7j8NwRLbw5CumSncTvjNeBOfsv5JruPNDey4L5LKoSEJgPyLwduFkUG91xGA4eNX6YCuQPhdW4/dsMy98SF1yEC4I8Xvy3AEQ9rg88b9/AIKZESj5AVV5C2SlEc3XwbDfEX3it/Am8Orop3+vSEH0cUokvsLuW8BWtiq42LIpjYAmNrjV2ubKWwJUaDwBYTu91th2Y4DMGWC+dHWUdJ+G+2ANmKZcuOjQJrdyQbB5zCxW5kTs/iCvKblq8VxyqxFc7j2cX6/vuWljDLY4uQdeGcLHal8pPqHTta5vlwvg67itnVzPrQNXDOVIUKCPBIh9PXUxq/MlJwMILHjkNI+45wS+cNl0cPse90KpQqGYonF25g+t+ZjFPhFCE2DOmd2Lhio5YNbTbaOX2E04VYxNa/bqNyo+etU45usdF/4IAPjhzxMwZ92LtNg8kGOxvFDAUbq+zhpUHiGhX2rDOxDJ4iG/BcgM/e5I41zyLkWRD+u5URddalhsuT1AgYetfAxPIYBo5+sF6RF+SyQc01P5yuwsYxy+fx9IBsfNNAcYoa0dJHNnjtVvg2SdYdiqyDWWxMMxScGsWBLP6biXmDHgbAxT0pzlxwMzYaYF3YMN3SZgLcs6ZH+e9aGr3wzMO6MnycRsW89KXUYyO57eMpWPK0Pt75JIexwJj3BI1DzlR3kfXJGaQokhvH11zE7RylUblMgOU6pCt68AA7HhYxzANZ09OGJzoxgi5TxriEmzf3gR/n/8SU+IVODkPw5rTOH2MeVpTXGx0LG7i85hh020LpXrjym9coE4PFgNPtsseBwSBQ3iMsh/ch70EOIXC+F4/nPDbeTwTAjgC6LF7I/DnL5XkxP+c0ESbvCw6Z0e3xwuFFlScPnm7YDv/pc5Fm5o+WutJp83x4/3MuIS8G3sNkyQ4BdgZw3hudFy8WujBeSAw8t6FiYHhjsHz+m/XncczDIHNIhYHjHFE+S8iK8xapTQfJm4KB59AJ7186Nl7szHvvHnx69YIfh13o+uiY6KzJgefD5xZXqnN+F+dOciiH9zuZ8m+O7PK8Bg/GnkqVUM4yHCQjIDFd69H8XgyIneAclM0wIEk+BLzTAneiniL/vGguGYgcwSh+luUBcNXLki3TQ+BOCiCQ30SK7+hHVf9IYFM9AV4764E1aQoAmSP1hNo0ULPsqYurZVcaubM+AJIFAWe31wU8KgKHmwG1voTr0xTInH0prqR5Zmk4ugQDK35EjgcheC9nNywqCtzwBJIfrYcy14OwOrghCh4ujYdIiY+yfISrGe4iyx1P1L52G5vdS2Fkuma4e6UOegXMRougv7A1RUGMyVccJY7mR3C6M3iSbT+qPj6BqdlK4e6+vsgRehGtStfHd9UDkPEx8P5+IPn9DBh7dCMmoiv+cH0HDe4fQlEcRsUkm9G5ZFVkOVUWGx++ixpec3DlYTn4hvbGLLRDD0zA7ylrYn7d7cj0CFh/cAoCH+XAkwcFkQoPURtrMACjsAlVsQDNUQZ7Mbn6NdQ9Ddy/Wxpwf4ylKarDrfanqL34fWx61BKf4gekdLmHR+mu4K1HB7HlSQNsQHXsLr8NAfBA/V25MSjpMAwPGow1xW+hyI0kuHu9BraiMrpjAq4gK24gA04jH5LnXo7QJ2mQ/FoR1PWYjeb+63EYRdEMS9AAfyMZ/OCJqsiV7ACyBd1C8eBTmIKPDK2K2IbmWIAVqAuP5FdxKXlKtLy3HYVxHMtRF2eRF24IxA1kRhrcxWq8hZ9cuuO1ZGuQ/clj1Mc/OFNhOQaf3IOm93ejQOgZtE3+I/yfZIcXHuIxUiAPzuMaMiIk8378eWMgAkJS422swDH3/HBLeg3JH6dGz/aPsH/tLay4WBTvYgGCUjzAmYByaJBxD7xC7mHGrYb43aUtpod2wHuYg2vunlgR1BjrQ97CnbJvIemls5h1ow6CXdxw7rMp2LrkGhpdnIgSj8PmMPBDfXgXzbEQCzN2xcEbmfAd+qGk21FsCyqPH70GY/iDT9AL41C2dw2s+jsQMy/VRpuG95F++Sw0ejgHlbANS9AER4o2xxdHLIt4f+x5Go0WtEPup8fxzD8IAUlSwtsrFEmuXcHDPCWQ6uxBHEpRHvmzPEbyM0cR2uUjBG7bBfcDz7c35SyROlE95PjSZsuSL3B2ffLfNBVsQbOblt3S3ENXd+IkeJbNxox14jn/ZqOIjQU2mGgouPCBa0pYF7Zs2djiaAgbQGwMMXEaFxt+ND4vS2wAciTGmjgxfu3aF1fkck4H68Z5L+wOZ4OIwyFsJLJhylYxG0dsGLGBR3ZsqbMhxfOqUMHScKNBYz3ZIKPBYkv64EGEpk6NwAJFkTR3Nrjwd6dPY1WtWijmlstocGarVRj+qzcjxbzpcGHXNOe10KWy5U33wbk7PFeeN+tk25VOc8j5dQCe1aqD2bdXwT0wKdqOWmIxZ+SXIQOC/9cNrhnSw+XGdYtRpEPisArPgefK+VhsjPG8ODeGDHhuPGeyZsOOseFiAA4hcV4LG388hq6GQz5s2XP+EY0s9fiHMSZDjmYxsWHNxiJdCBukbCAzceofz/ennyyNU84hYoOW+eg+eN6si3WhA90L608nSJfF87BuoUQ9NqKpYbv6miaVeVhnngfN7/Dhz4dt2OCfMgWr3N1Rh3zoNHm9cmSP8eBQCJ0fF5RwBND6tU7r9cXYcucG27lzbMizDmy8x5Ssc6msx7Fs1tm63VNM+fl7Xqu286mseSIvErH+/O23LR0M1sQhl5ct4ohNHXQdY91KK5JetM+2OJa7x80N5SxxEQMSR3bWw+O7CWpntRNtNssakLBtxOemqYBcbp5wuf0YR7Kmh2uOx0hz5jKeuLji8rUG+BQ/4rR7QWxDCfiXyIZ7Zy7ijUencCi0BPzTXEPapJdwK6ACPrn7O64lSY3tr9dD402WOec3k6XEvpAScAsNxe76JZD93AV43NmFWd5tke9BSRS+swBp3K7C634abPWqidtBSVEu9WZsv1cKwelPomzgcSws/QCFT+dC8aBTwP1cmFvIE6myr8YHO1Jho1cepHkWiFbXjmG9V17kDbiHxcUKo97ZvAh+tgb57rjgdrIk+K1gWmxPXhgfPFuIY6m8UOhyamwPqIePAmdj+dPm+P72NKO+x1AIa7N54lzK11Dzwm7kDrqGnbnb4/zZR8gRdAcdMBM78zbGg6tnUSvg+QePZqMN2uJ33EZapMPzrToOVuiAXEdXwOvRS1a8JdrLzHJiQa5J4RZiM3k3Duf7zMUd7qHRfHQhDjqRDw1MlwlJb0c9NSw62eCs2ZHkSuRVmgqVcEbW9u0ROns2XGLTsLCpT2jatHBxxJYz7GnkZ8s5PYoTnKtVs6zmZSOKPatOmwPhQPhssLJXlefFHlwaFXbLs3eVZoNcrXN6HFEN62p3R2gnFk2aMV5/8ZF4ndtOBVStA80ojZatsYmrJk1E5PVTNEE0MjTHHCmIKrHHntc2ny/U4LnRjHFeGRNX3NMk2i7i4QgIRzto+mzLpKnl6AANzstWknOUwTrlkSMm1KApoxmjSWHZNII0RTSX7KygmaPholngaAbLp9nhjg00d9SkOWRnAs+JoyZcV8aRHppNJj6buFCGBo714yITDh+yY4Cml+aULKjBrcKYuJiFo1Q0pexE4aIQPhvYycCyaZrZGcB9yDl/jkaci104+sPRpJo1sWfiRJTjThZiQOJ6VYcfLwbEbnQOyRjBgKiUEJI2HVzvhH2WWEEoxDUJXENi6ClU0Lcna6iHB1zYe2Zv4oOPD1/bHtBPPrE8uKyTmtmjyh4ua28ONyBv0ABB7TvBLXnYFBH2rPKhat0bkL1q7GVkbxcfhnxJWFcUsheP8wKsD0DWndNY2NPJ3lO++ObNM4Z2jd5QpnPnLA9mPrxPnUJIrjxwLV/W0lvIYWI+HMuUwaP3uiBlv66WPHw5ccoAH9KsP+fZ88HJOu7ciaCZs+EW/NQyQZrD03yQs5eUTFKkwL0eg5D6ZNi2KzyG58PheWsiJ9aXvaq2PV9hvw/OnNXoaTemC5AxXybs8eRLhMP+fIFwdyO+DK3bznCiNuvHnli+MNkLF/nFyniwR5I9bqwTGyq2x7BOXLHItQp8iTBxsjJfvuwhZ2xYF34wgnXhXBT2hjJGfGmxTowxe8k5xYcvSG4JxZ59vvjYm8qJ6RzWZ6Occ05YZx5D3tyChS8m9ljy89xkz9WUrC9fkGz8sieWm+nzhcZGL1/QrA+H+TmdgI0Vls9rhC9y69YtNAc8N0654IuR9eE1wpc748EJ4ZxewZ+TCxN7PXmPUJsNAE5K5/XO3mG+kNlLzpc/r0FOcSBT60czrNM57L2/EnI+9v5yHhSnmjBW1oXrNCwc6eF0GTbG+HP2uLNHnj32NG5swPCe5PXL+4oLJRhfY45PTsu1yQYW7102kBgfXhfscuK0G+uzh/cGG0+8dtlLznua9xBHRNhYYy8zt+ThPc5rndcF9dhw5Nwk1ot1t84vYmOLowa8h1g3lstrjdcpr3OWxfs1MBANf6qEv6z7InA6DJ9lnLbD82IPPq9bngOvK46A8fnIhhrL53XDhQc0EHzmsPHH8tirz9ERTmFhmWwM04yRKRuYvPZ4L9EAc+U/G8UcMeHUNyZeq+TAunC+F69jngvrw2cM7y8u1OGzjtNm+JzlM4XPLd4nXLDBetAIsGyOjrHe1oUeHMEhX5bL0TueDzly5IL3Oe8pxpj3IRv9vO/Y8OQ0PrLmzxkzls/RDV4TfI6zUcxzsM5/43ZkjDOvBd5z1mmJvKY4lYpMWW829JnXuu8znxN8PrOxzHK5EMe6sINl8ncsh9xZBhvuYaNaMd6K1OZoj3UVuDUDY8zGNvlGt9DE+pzgdctnos0GDxHK5f1EpqxnVInXImMYee0F30/8GWPHzgFyJGsmxpWxYLnR6cZ48nE4gBzInLEJS3v2yCL0OBCM8lAxIKoE9eZ/vguWteHARg1ffGz88KHAXhU+aNgw4nxm3rx8cHIYm5OB+VBljwUbrmz88gXFudq8gfng5YOOx1jntvLGYkOSKyL5omTjjC8P3micG8mHChtmHFqnLhvMbLCyXmyE8gFm3YWGjR42iJiXL1/Ox2QDjw0v9kBY57GywcapCHygsgHPlzlf1BxqZh7+jEPj7JHhTc/zZF6uvOV58G++XPjyYo8KG+o8L76I+UAiOzau2Ajki4uNTZ4vXyIcOmfiefOlyIYpe2usDzW+mKzTIvhQZD7Wz+bB80LIGQ/WxfpwjGkhG1+i5GFtKOu9hqJW40ubZbKe9iQ+8MmLK5tte8Ot58qXRVyn3rDBxnhFtUqSeiyH8YlO29pLx3PjH2v5/DkbWREmattz0gp5eF++7JqJjTTPg/c+DWdsE+8FvrCtK0SjymdPrGJbvhynlwCvAd4f1gURcVG33h/WrymyIcj7mP+P5hrg7nZJ/9/emUBLUtVn/DuKEnFlcY+oWRRUjOKKmRjUSJSQJ2IUQVSQKCpBE3GEeDCIhBgcA8iiJoq4oCNumfMUVDRuAcFdUWSioBFFQca4xIwat5wvuXVOTaXfm/fe/W53v+nfPYcD9Ov+qur3dVXXV/d/7/3OdbqBn4Fsbcn65ezLYu/1Ndfni8uS+s2BwdfeSawGmTo2dLZZAgSQemsJIPUMkwpMw2ua3ejESrIbNmzQ/n66RZs6AngzdZZssUP4gz/TTWB6945zZ3q98Z6l/CGA1PtMAKlnmFQggARpHnjggTrPXd60qSOAN1NnyRY7hD/4M90EpnfvOHem1xvvWcofAki9zwSQeoZJBQJIkiZaEIAABCAAAQhAIEyAAFIPlABSzzCpQABJ0kQLAhCAAAQgAAEIhAkQQOqBEkDqGSbTNi/tAAAbyUlEQVQVCCBJmmhBAAIQgAAEIACBMAECSD1QAkg9w6QCASRJEy0IQAACEIAABCAQJkAAqQdKAKlnmFQggARpHnbYYTrnnHOCikilCOBNimQbHfxpwzWlij8pknkdvMkzTSqm/CGA1LtCAKlnmFQggARprl+/Xgd54Tja1BHAm6mzZIsdwh/8mW4C07t3nDvT6433LOUPAaTeZwJIPcOkAgEkSRMtCEAAAhCAAAQgECZAAKkHSgCpZ5hUIIAkaaIFAQhAAAIQgAAEwgQIIPVACSD1DJMKBJAkTbQgAAEIQAACEIBAmAABpB4oAaSeYVKBABKkedFFF2nNmjVBRaRSBPAmRbKNDv604ZpSxZ8UybwO3uSZJhVT/hBA6l0hgNQzTCoQQII05+bmND8/H1REKkUAb1Ik2+jgTxuuKVX8SZHM6+BNnmlSMeUPAaTeFQJIPcOkAgEkSHPz5s3aYYcdgopIpQjgTYpkGx38acM1pYo/KZJ5HbzJM00qpvwhgNS7QgCpZ5hUIIAkaaIFAQhAAAIQgAAEwgQIIPVACSD1DJMKBJAkTbQgAAEIQAACEIBAmAABpB4oAaSeYVKBAJKkiRYEIAABCEAAAhAIEyCA1AMlgNQzTCoQQII0165dq3Xr1gUVkUoRwJsUyTY6+NOGa0oVf1Ik8zp4k2eaVEz5QwCpd4UAUs8wqUAACdI844wzdNRRRwUVkUoRwJsUyTY6+NOGa0oVf1Ik8zp4k2eaVEz5QwCpd4UAUs8wqUAASdJECwIQgAAEIAABCIQJEEDqgRJA6hkmFQggSZpoQQACEIAABCAAgTABAkg9UAJIPcOkAgEkSRMtCEAAAhCAAAQgECZAAKkHSgCpZ5hUIIAEaW7cuFG77bZbUBGpFAG8SZFso4M/bbimVPEnRTKvgzd5pknFlD8EkHpXCCD1DJMKBJAgzbm5Oc3PzwcVkUoRwJsUyTY6+NOGa0oVf1Ik8zp4k2eaVEz5QwCpd4UAUs8wqUAACdK8+uqrteuuuwYVkUoRwJsUyTY6+NOGa0oVf1Ik8zp4k2eaVEz5QwCpd4UAUs8wqUAASdJECwIQgAAEIAABCIQJEEDqgRJA6hkmFQggSZpoQQACEIAABCAAgTABAkg9UAJIPcOkAgEkSRMtCEAAAhCAAAQgECZAAKkHSgCpZ5hUIIAEaZ588sk65phjgopIpQjgTYpkGx38acM1pYo/KZJ5HbzJM00qpvwhgNS7QgCpZ5hUIIAEaR5//PE64YQTgopIpQjgTYpkGx38acM1pYo/KZJ5HbzJM00qpvwhgNS7QgCpZ5hUIIAkaaIFAQhAAAIQgAAEwgQIIPVACSD1DJMKBJAkTbQgAAEIQAACEIBAmAABpB4oAaSeYVKBAJKkiRYEIAABCEAAAhAIEyCA1AMlgNQzTCoQQII0N23apF122SWoiFSKAN6kSLbRwZ82XFOq+JMimdfBmzzTpGLKHwJIvSsEkHqGSQUCSJDm3Nyc5ufng4pIpQjgTYpkGx38acM1pYo/KZJ5HbzJM00qpvwhgNS7QgCpZ5hUIIAEafoCseeeRkqbNgJ4M22ObLk/+IM/001geveOc2d6vfGepfwhgNT7TACpZ5hUIIAkaaIFAQhAAAIQgAAEwgQIIPVACSD1DJMKBJAkTbQgAAEIQAACEIBAmAABpB4oAaSeYVKBAJKkiRYEIAABCEAAAhAIEyCA1AMlgNQzTCoQQII0zz77bB1++OFBRaRSBPAmRbKNDv604ZpSxZ8UybwO3uSZJhVT/hBA6l0hgNQzTCoQQII0jzzySJ111llBRaRSBPAmRbKNDv604ZpSxZ8UybwO3uSZJhVT/hBA6l0hgNQzTCoQQJI00YIABCAAAQhAAAJhAgSQeqAEkHqGSQUCSJImWhCAAAQgAAEIQCBMgABSD5QAUs8wqUAASdJECwIQgAAEIAABCIQJEEDqgRJA6hkmFQggSZpoQQACEIAABCAAgTABAkg9UAJIPcOkAgEkSHNubk7z8/NBRaRSBPAmRbKNDv604ZpSxZ8UybwO3uSZJhVT/hBA6l0hgNQzTCoQQII0L7zwQu2zzz5BRaRSBPAmRbKNDv604ZpSxZ8UybwO3uSZJhVT/hBA6l0hgNQzTCoQQJI00YIABCAAAQhAAAJhAgSQeqAEkHqGSQUCSJImWhCAAAQgAAEIQCBMgABSD5QAUs9wIYUbSzpR0iGSdpR0maTjJH1wkU0SQNr5gTIEIAABCEAAAhCoJkAAqUYoAkg9w4UU1ks6QNKpkq6UdKikB0raW9LHF/gQASTox4YNG7T//vsHFZFKEcCbFMk2OvjThmtKFX9SJPM6eJNnmlRM+UMAqXeFAFLPcJSCg8alko4uAcTv2V7SlyRdJ2kNAaQN+L7qXnvtpUsuuaT9htjCsgngzbKRjfUD+DNW3MveGP4sG9nYPoA3Y0O9og2l/CGArAj/Fh8igNQzHKXwMkl/KWknST/uveFYSSdJ2lXSNSM+SA9I0I/UdHvBXUKqEMCb6f4q4A/+TDeB6d07zp3p9cZ7lvKHAFLvMwGknuEohQsl3UHSvQZ/fLikD/gckHQ+AaQN/E41daFpu5ezqY430+07/uDPdBOY3r3j3Jlebwgg0+UNAaSNH1+UdK2kRw7kd5d0uaQjJL2GANIGPgGkLdeEOj/SCYrtNPCnHduEMv4kKLbRwJs2XFOqKX/oAal3hABSz3CUggedb5S03+CPd5V0VSnPOp0A0gY+AaQt14R66kcgsS9o/H8C+DPd3wr8mV5/8GZ6vaEHZLq8IYC08WOlPSAPkXTxueeeq913d2cJrYbAvvvuqwsuuKBGgs82IoA3jcCGZPEnBLKRDP40AhuQxZsAxIYSKX+uuOIKHXKIV1nQ7y8ys2nDI1n90gSQNh4uNgbE64D86QJjQA6W9OY2u4QqBCAAAQhAAAIQgECQwJMkvSWoNzNSBJA2Vi80C9YLy+KEC82CtbOkP5b075J+2mbXUIUABCAAAQhAAAIQqCDwG5LuIun9kr5XoTOzHyWAtLG+Wwfk+ZJOKZvwyuheB+T60mXXZsuoQgACEIAABCAAAQhAYIoJEEDamXOeJC/DfVpvJfT7S/JUvBe32yzKEIAABCAAAQhAAAIQmF4CBJB23rjH40RJHqW0o6TLJB0nyWNAaBCAAAQgAAEIQAACEJhJAgSQmbSdg4YABCAAAQhAAAIQgMBkCBBAJsOdrUIAAhCAAAQgAAEIQGAmCRBAZtL2qT1oj5E5VNLeZXYJzyxxaSld++pgr3cr42s8B/d/l2mNnydp04ijO1zS0ZK8EOQ3JXkRyDNHvO+WktaVsTs7SPpk+dznppbY+HZsKd74evJUSY+VdF9JO0n6uqS3Snq5pJ/hTTPDluLPcOPbldJQn0v9CTP67+PcyVi2HH98Hj1T0jMk3V3SZklfKAvYeo0p/Ml40qksx5snSPorST5nflkmlvGsl6MWnOLcyfh0D0kvlnQ/Sbcr58OXy2/1e7gvyECehAoBZBLU2eZCBN4uyYsx+t8eM+OLzVGSbibpQZJ80XG7o6TPS/q+pFdIurmktZK+IckzkP2it4EjJL2qaHp9lj+Q9BRJx5QLWPdWnwsXSdpDkn9QHH6eLclTJu9ZVrCfZeeW4s1NJf2npEsk+Yfhu5L2KqHyo5IeMQCIN7lv1FL8GW7Ngf0ESQ7bPn+6Gfu69+HPZPx5vaSDJL2xnEs+rxzovUbUv3Bty5lSlJZ67vi3yL837y4PvDwNqx+Y3UfSAZI24E3cGws+utwH+Hfl2+V69ThJDy0h/bXcFzTh3lyUANIcMRtYBoEHS/r0IED8jiQ/9fOPhIOD2yvLf/vp4DXlNd/cfmBwQfIPhHs8Pi7pMb39eFP5/ztJ+mF53U+2/KTeF7Z/Lq/tIukr5enW/y55OsNtKd7cqDylcq9Vv72oPMF6pKQPlT/gTfbLtBR/+lu8jaR/Kz1Tnixj2AOCP5Pxp7sOeQbF+UV2AX9y/iz13PH54odefn/X/PDLv0EOhu75dcObnDcLKfne9bOStpfkHhI37gvac49ugQASxYlYIwIOJb+W9ICif62kj0h64mB7GyVdLWmf8rqfnPhJ/L5lsaDu7f4BcShxqOhWMPW0ye4ducNA89WSvNKpy4l+3uj4VrPs0JtRx3Kv0qPlJ4hn4c1Y7V7In9eVMpKDJX1tRADh3BmPTUN//JTXzT2H/n2+SSk5Ge4N/rT3Z+jNdyR9StLcYNN+Ku/fI59LbnjT3htvwQHd5XPdbzb3BePhHtsKASSGEqGGBNyL4UUcfWH3xeZbkl5Qnt72N+uSBb/n1uXFbuX52w7GhvhJ/U8knVpKT/x293T4n/0Gx/E0Sa+RdG9Jlzc8xtUq3fdmoWNwz4dXi3VZiYOeG96Mx/FR/rhM0QHc5Y7XlXE6wx4Q/Bm/P36a/oMS0l3K2JWfehzVsaUXuNsr/Gnvz/DcWV96yF266DIs93Q8p4x78/peHjPIta2dLy4VdSD3WE1XNLhU2p64MoL7gnbcmykTQJqhRThEwL0UDhaHSXpDKfHxU6gnl5ro/mZOLk9y/cPg3oozJLmO3WuyDJtvvLwmi3s33PyD7xKspw/e2D3NelQp8Qod1jYhM/RmoYNyaZyfVN1Z0o/Km/Cm/VdgIX8+UcK2zyF74hvcYQDBn/H747EELivx+DNfvzzw1ufLc8vYNl+LPI7NDX/a+jPq3HFJrm94+2PZri89Ij6nuoY3bbzxWE7/nrv9StI7S8m1y6g9QJ37gjbcm6kSQJqhRThAwDONeDyBx4B4wJnLsNZI+pgk10q/Y7AND6j1Yo9e+NE/3B6c5jItD2IfNg9Y/0wZPOi/eeC6y63+YvDGh5X63q3VZAcOd1VJjPJm1AF0T2qfJemfem/Am7Z2L+SPg7xvkO5WBnQuFEDwZ/z+dNc2X+c86YZLgNw8CN0h0SWmvg664U87fxY6d+yDH3L5SbxLe91j5RmxPJ7K3rmUEW/a+eJr1m+W3g7//nv2S08U48lOuC9ox72ZMgGkGVqEKwm4bMplIjco9dCu73TjSUcl2MDHF/JmKH1gGWPjm6XuyVX3Hp4SBoxYQGIhf3zD5DJDP0l8SfksPSDtfFhIeWvXNt/IevKNfju79Nb65tdPfzl/2vi22LXtveWmtz+hiR92eYp49/K6xNQNb9p4M1R1Wa/LsTymk/uC8TCPboUAEsWJWIjALSR52lY/7fCTDc8+0jVqPUOQVyizmDd9SY/7cJ30+0ovk2+a+o0a9hUasJWPLeaPQ4efGPqc8hgoN88E5x7Fk8pTdQ+odfkP/ozfn9uXGZU8EN3rG/XbS8u4t1uVclH8yfuz2LnjNaSuKiW6DoP95ul3PVW7p2x3w5u8N6MUXS7tqgX3WP0XY0PHAz25FQJIkiZaCQKeVs9PkzzvvWttu4F9fW2P3/jwArNgeeCgb37dPPtVNwuWb4S75sG3XvOjP47kbeXGbDgLlsuG/GSLWbD+b8rDrXljxi4f8fgaL+BoL0YtQIg3ibNlS42t+XNOGbA5vO675Mev+d8+77wGD/6M3x9v0QHQpSV3GWze4+A8RbjLgLi2jd+bbuZELxDZLyX1npxfzpvut4NzJ+/PKEVPAOCJZLpyRe4LxsM9thUCSAwlQgECLrfyGhwe8O2pDt3FOqotNt+3S308a5WbB6N7xqyLR6wD4jEdfvrrWWfcXFPqAYaPl/Su8lq3Doi73rvB6oHDXJUSS/Vm9/JE3TdSrlfv1lkZHjTeZL8GS/HHg5y7p7Td1l2/7hsqhxM/yfV0op6QAX/G74+36Bsq31h5KvFu0UFfh64s51U3BSz+5PxZyrljD1wGPFxQ1b30XiDXvYjdDIp4k/PGSp7V0oP9+207SR7477XAfA3bvJV1QLgvyHoSUSOARDAiEiJwWvnx9fzeXnhw2LwSsJsv+p4txje33UronsXHa4B4itH+eh0e/HxmmTHDgcY3xZ7hxN3kHlDYNf8IuVfknmV6302lXMUhxeuPuM53lttSvPFgf/8Yu5TEfB1C+s0lDP1FCvEm941aij+jtrbQGBC/F3/G749vptxz6J4OhxFPpuGbJ1/z/BTe05F3DX8y/iz13HFQP7yEdD+kcsmWPbidJE9W4gddeJPxpK/SsXbI86KP5u0Hgg4fnhLZ9wDcF+S5N1ckgDRHzAaWQcBlVd0sL6M+dsPei37Sfkopm3LJgkutHEKGT0r8Ef9oHC3Jdbwu0fIgQf8zbB7Qtk6Se0c837jLv6zpG4JZb0vxxjez3Uwwo3h5GmWvq9JveJP5Zi3Fn1Fb6jxbW86n4XvwZ/z+uPzq5aUE1WsWeTIOrwPihy74k/Gjr7LUc8cPqVyC5XOimyTAvxEnlh4QvMl7Y0VXJ5j5HpJ2Lj20nsHy9FL+1t8q9wVtPGiiSgBpghVRCEAAAhCAAAQgAAEIQGAUAQII3wsIQAACEIAABCAAAQhAYGwECCBjQ82GIAABCEAAAhCAAAQgAAECCN8BCEAAAhCAAAQgAAEIQGBsBAggY0PNhiAAAQhAAAIQgAAEIAABAgjfAQhAAAIQgAAEIAABCEBgbAQIIGNDzYYgAAEIQAACEIAABCAAAQII3wEIQAACEIAABCAAAQhAYGwECCBjQ82GIAABCEAAAhCAAAQgAAECCN8BCEAAAhCAAAQgAAEIQGBsBAggY0PNhiAAAQhAYAwEnirpHEn3l/TZMWyPTUAAAhCAwDIJEECWCYy3QwACEIDAVBNwAHmdpAcQQKbaJ3YOAhCYYQIEkBk2n0OHAAQgsA0SIIBsg6ZySBCAwLZFgACybfnJ0UAAAhCYdQLjCiA7SNo867A5fghAAAIrIUAAWQk1PgMBCECgDYE9JH1B0pyk95RN7Cnp06WcyOMauvZeSbeStJekx0h6uqT7StpZ0rckvV7S30n6VfnAGZIOlXRrST8d7P56SX8o6Y6Sfl3+9mhJfy3J27fGxyS9QNKXe5/1Nh4n6e6SXinpEZJ+IukN5b2dlrU/LGnvotNJ3FnS18t+vbG82GneQ9Kryn79sByLt2FGp0l6kKRNZR+9/13rAoi3dUjZvxtJ2iDpuZJ+MDj25Rzn70k6U9IaSR+UdECbrwGqEIAABLZtAgSQbdtfjg4CEFhdBHxN/p6k15YbeO+9b5r/oQSDHSX9WJLf931Jr5Z0rKR3SfqZpE+Vvz9c0hMkrZN0TEHgm+aPltff2cNyE0nfLeMmvC23J5cA8z5J50vy0/5nlcDjkHN1eZ8He3s7X5N0adn+H5Wb/mdL+sfyPgeQD0l62BICSKfpYOL9/aKkJ0l6iKSnSTpJ0rllH54paTdJvyvpG2Vb3SB0f86M3l4CkvfnX8s+dIe/nON8Ygl21rik9H68eXV9vdhbCEAAAtNBgAAyHT6wFxCAAAQ6Au+WtEvp2fBr7yjhw70c+0m6sPR0fKbXU7J9CSB9iu49cA/ATpJ+Xv7wzXLz7NDQtcdLequkh0q6WNJNJfl955XQ0b3PPSdfKa/7xt/NYeEpkl5Ueii693rffinpgSsMINZ078vLyudvKenbknycDgJm4nY3SRslvVjSS8prXQBxGHNo8X64PV/SyaW3yL1LKznOl0o6jq8qBCAAAQjUESCA1PHj0xCAAATSBFzmdGLpbXA507XlZtxP8N0j4Zv950g6pQSVYUnRzcqN+qMkuazpPqUXwfvpzzxD0m164xd8M++gsGs5kP0luYfEvShf6h2cfy/c83DX0qPQDyDWc89N11wi5fDjIOW23B4QB5ChpqfU/W1JDiP99h+S5ksZl1/vAohL0s7uvdGBwz0i7l0yy8eWILOc43TJmMvbaBCAAAQgUEGAAFIBj49CAAIQaEDAYzrcE+FSJt/sXlFu+F0Cdb8yjuJtpfTo3mX7Hi/h0iSXON2it08eg+Gb/4vKax434fKhg0uvh2/KXX7l3hL3ELitLT0Fow7Nej+S5FIwt65cyjr9drykv5F0w/LicgOIe2iGmh5D4lByz8G2XKp1WenZ8J+6MSAOFi7h6jeXaV0uad8VHKeZuQeGBgEIQAAClQQIIJUA+TgEIACBMAEPmPaga5cfuRTqbyXdXpJ7Jt5SekZ8I+1xH0eWHoGryuBq9zx4PIYHmTus/P2IcRf+++fLAOqDSq+GQ88ny3F4zIgHr7sH47oRx/aL3jgOBxAPQu+HHn9kGEBc3uUAMRwD8luSrhwMQl9I05/3APsudHW75gDi8R4euL+cAJI4zrD1yEEAAhCYDQIEkNnwmaOEAARWF4GPlJmnPNjbA8DdI+Cbb/dW/HkpLXJ48DgNjw1xGOnGcHRH6hIkD1If3vQ7lLiEy70JLqnyrFIuberan0lyD8s+ZaanxcgtNYB0s3s5RLlcqmvupfBsUp6dq5sFKxFArOFSM5dbdW1YgpU4ztX1rWJvIQABCEwJAQLIlBjBbkAAAhDoEfAYkOdJur7MgOUpdN1cPuSyJs/6dKcyMNsD031T7zInz9DkdmNJnyi9BcMA4lmsPK2vZ7zyLFmnSnphb9s3Lz0vHnPhEOIej37zuA5Pf+u21ADiHhKPEXlFr9TLn/f4E4/FOKxBAPExehB6t/8uLXP4cmDzIPTEcfKlhQAEIACBFRAggKwAGh+BAAQg0JiAb/w94NxjLlxK5ZIpN4/VOKKsndH1WniWq6+WsRmnl/e5fMrXd69bMQwgfotns7qtJA9Y7+t3h+XeFfdIePyJZ8hyEPIg9T8p40ncg7KcAOL3unzMvQ7eR5eMOTh5Zi1vv0UA8bgQl7J142U8hsZjYbw+SOo4G38NkIcABCCwbRIggGybvnJUEIDA6ibgYOAZm7zmhwNGt6CfB0K/qYQD37R37cGlp8SBw5/ze7zuxvsXCCDuYXGvh4OL19EY1VzS5TVGrO3B19eUHhYvxPe5XgDxYnzDmak8BsSzdW3XE3YJmQOUF/7zmiUuH7OWZ9oaBpBRmh4DYhY+xn7zmBaPAXHPhls3CN09Ql4/xNMML7YQYc1xru5vGXsPAQhAYEIECCATAs9mIQABCEAAAhCAAAQgMIsECCCz6DrHDAEIQAACEIAABCAAgQkRIIBMCDybhQAEIAABCEAAAhCAwCwSIIDMouscMwQgAAEIQAACEIAABCZEgAAyIfBsFgIQgAAEIAABCEAAArNIgAAyi65zzBCAAAQgAAEIQAACEJgQAQLIhMCzWQhAAAIQgAAEIAABCMwiAQLILLrOMUMAAhCAAAQgAAEIQGBCBAggEwLPZiEAAQhAAAIQgAAEIDCLBAggs+g6xwwBCEAAAhCAAAQgAIEJESCATAg8m4UABCAAAQhAAAIQgMAsEiCAzKLrHDMEIAABCEAAAhCAAAQmRIAAMiHwbBYCEIAABCAAAQhAAAKzSIAAMouuc8wQgAAEIAABCEAAAhCYEAECyITAs1kIQAACEIAABCAAAQjMIgECyCy6zjFDAAIQgAAEIAABCEBgQgT+B9hYjpDQ8TacAAAAAElFTkSuQmCC\">"
      ],
      "text/plain": [
       "<IPython.core.display.HTML object>"
      ]
     },
     "metadata": {},
     "output_type": "display_data"
    }
   ],
   "source": [
    "%pylab notebook\n",
    "from inspector import *"
   ]
  },
  {
   "cell_type": "code",
   "execution_count": null,
   "metadata": {
    "collapsed": true
   },
   "outputs": [],
   "source": []
  }
 ],
 "metadata": {
  "anaconda-cloud": {},
  "extensions": {
   "jupyter_dashboards": {
    "activeView": "grid_default",
    "version": 1,
    "views": {
     "grid_default": {
      "cellMargin": 10,
      "defaultCellHeight": 20,
      "maxColumns": 12,
      "name": "grid",
      "type": "grid"
     },
     "report_default": {
      "name": "report",
      "type": "report"
     }
    }
   }
  },
  "kernelspec": {
   "display_name": "Python [default]",
   "language": "python",
   "name": "python3"
  },
  "language_info": {
   "codemirror_mode": {
    "name": "ipython",
    "version": 3
   },
   "file_extension": ".py",
   "mimetype": "text/x-python",
   "name": "python",
   "nbconvert_exporter": "python",
   "pygments_lexer": "ipython3",
   "version": "3.5.2"
  },
  "widgets": {
   "state": {
    "1dc1447d17be4908bd4174cc73690689": {
     "views": [
      {
       "cell_index": 0
      }
     ]
    },
    "2ae16a5a2a6d4550ade559ba7beb88b2": {
     "views": [
      {
       "cell_index": 0
      }
     ]
    },
    "2ce1699210b74cfcb09a4651f2b6a495": {
     "views": [
      {
       "cell_index": 0
      }
     ]
    },
    "2e605e7461b44fd9a426404cd7c4473e": {
     "views": [
      {
       "cell_index": 0
      }
     ]
    },
    "39ff556f23534f368451d6e1ce5a4e65": {
     "views": [
      {
       "cell_index": 0
      }
     ]
    },
    "4575152bf9c04cb782ffc1f766c032bf": {
     "views": [
      {
       "cell_index": 0
      }
     ]
    },
    "4a8b271d89ec42408ebbde6d58c9a470": {
     "views": [
      {
       "cell_index": 0
      }
     ]
    },
    "55b862c8eab14668a10ac7722015e956": {
     "views": [
      {
       "cell_index": 0
      }
     ]
    },
    "57397a955d0744e89cdaf70d853c1652": {
     "views": [
      {
       "cell_index": 0
      }
     ]
    },
    "64aa434734fa48878e45ceccbd830a36": {
     "views": [
      {
       "cell_index": 0
      }
     ]
    },
    "650d9900c44f41bc9f939d6eec16f74a": {
     "views": [
      {
       "cell_index": 0
      }
     ]
    },
    "69bd9a9edf154ca09cf4c36d005b8acf": {
     "views": [
      {
       "cell_index": 1
      }
     ]
    },
    "6d283d4dc38a4f24b7bd127c976b9e10": {
     "views": [
      {
       "cell_index": 0
      }
     ]
    },
    "71ceaafe285e4048af8d7cfe40813703": {
     "views": [
      {
       "cell_index": 0
      }
     ]
    },
    "79eb05d3ffff44eaa2e3332a24962201": {
     "views": [
      {
       "cell_index": 1
      }
     ]
    },
    "87071aab77e74bf2a704a5c2ff96c324": {
     "views": [
      {
       "cell_index": 0
      }
     ]
    },
    "8c7937de9bc845cf8f958e5f08d2b329": {
     "views": [
      {
       "cell_index": 0
      }
     ]
    },
    "a49f2a75b4274c1498337e4dcc4e3023": {
     "views": [
      {
       "cell_index": 0
      }
     ]
    },
    "b4550ddcb3fe4895a6c426273385e845": {
     "views": [
      {
       "cell_index": 1
      }
     ]
    },
    "cfe684c40acb4f6b8e452689b0580fb2": {
     "views": [
      {
       "cell_index": 0
      }
     ]
    },
    "d0a020aea57a499cbca92609c49cf130": {
     "views": [
      {
       "cell_index": 0
      }
     ]
    },
    "ddcd85b31ed0484d9c818b417da217e3": {
     "views": [
      {
       "cell_index": 0
      }
     ]
    },
    "e2f6d5494a70438ba7bd899bc1b63fbf": {
     "views": [
      {
       "cell_index": 0
      }
     ]
    },
    "e5d7e32c842c4f05876a5198eecfe152": {
     "views": [
      {
       "cell_index": 1
      }
     ]
    },
    "ee5a2fb1d78d4efaa05a7f22e5156364": {
     "views": [
      {
       "cell_index": 0
      }
     ]
    },
    "fdee2846f2bd4c17a9656f46057fbedd": {
     "views": [
      {
       "cell_index": 0
      }
     ]
    },
    "fe6dae662f4549c8a77d366af44bca01": {
     "views": [
      {
       "cell_index": 0
      }
     ]
    }
   },
   "version": "1.2.0"
  }
 },
 "nbformat": 4,
 "nbformat_minor": 1
}
