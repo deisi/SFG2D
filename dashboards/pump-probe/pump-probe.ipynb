{
 "cells": [
  {
   "cell_type": "code",
   "execution_count": null,
   "metadata": {
    "collapsed": false,
    "extensions": {
     "jupyter_dashboards": {
      "version": 1,
      "views": {
       "grid_default": {},
       "report_default": {
        "hidden": true
       }
      }
     }
    },
    "scrolled": true
   },
   "outputs": [],
   "source": [
    "%matplotlib inline\n",
    "#%matplotlib notebook\n",
    "import gui\n",
    "from IPython.display import display\n",
    "from ipywidgets import Text\n",
    "\n",
    "\n",
    "# Set plot layout\n",
    "#plt.style.use('seaborn-notebook')\n",
    "#sns.set_style(\"white\")\n",
    "#sns.set_style(\"ticks\")\n",
    "#sns.set_context(\"talk\", font_scale=1.5, rc={\"lines.linewidth\": 2.5})\n",
    "\n",
    "# TODO this should be moved into ppWidget\n",
    "#ffolder = '/home/malte/MeasurmentData/00001/00/'\n",
    "'/home/malte/MeasurmentData/2016/09/08/'\n",
    "'/home/malte/MeasurmentData/2016/09/07/'\n",
    "'/home/malte/MeasurmentData/sudipta/2016/08/29/'\n",
    "ftext = Text(\n",
    "    description='Folder',\n",
    "    value='D:/',\n",
    "    tooltip='Path to data folder',\n",
    ")\n",
    "\n",
    "def ftext_update(*args):\n",
    "    global ppWidget, observer\n",
    "    ppWidget, observer = gui.update_ffolder(ffolder=ftext.value, observer=observer, ppWidget=ppWidget)\n",
    "\n",
    "ftext.observe(ftext_update, \"value\")\n",
    "\n",
    "\n",
    "ppWidget, observer = gui.gen_PumpProbeWidget(ftext.value)"
   ]
  },
  {
   "cell_type": "markdown",
   "metadata": {
    "extensions": {
     "jupyter_dashboards": {
      "version": 1,
      "views": {
       "grid_default": {},
       "report_default": {
        "hidden": false
       }
      }
     }
    }
   },
   "source": [
    "# Define Root Folder\n",
    "\n",
    "Examples are `D:\\deiseroth\\2016\\08\\01` or `D:\\das\\2016\\09\\12`. Be awave of the `\\` default on windows is `/`"
   ]
  },
  {
   "cell_type": "code",
   "execution_count": null,
   "metadata": {
    "collapsed": true,
    "extensions": {
     "jupyter_dashboards": {
      "version": 1,
      "views": {
       "grid_default": {},
       "report_default": {
        "hidden": false
       }
      }
     }
    }
   },
   "outputs": [],
   "source": [
    "display(ftext)"
   ]
  },
  {
   "cell_type": "markdown",
   "metadata": {
    "extensions": {
     "jupyter_dashboards": {
      "version": 1,
      "views": {
       "grid_default": {
        "col": 5,
        "height": 4,
        "hidden": false,
        "row": 4,
        "width": 4
       },
       "report_default": {
        "hidden": false
       }
      }
     }
    }
   },
   "source": [
    "## IR Profile"
   ]
  },
  {
   "cell_type": "code",
   "execution_count": null,
   "metadata": {
    "collapsed": false,
    "extensions": {
     "jupyter_dashboards": {
      "version": 1,
      "views": {
       "grid_default": {},
       "report_default": {
        "hidden": false
       }
      }
     }
    },
    "scrolled": true
   },
   "outputs": [],
   "source": [
    "ppWidget.w_ir(title='IR Profile', y_label='Counts')"
   ]
  },
  {
   "cell_type": "code",
   "execution_count": null,
   "metadata": {
    "collapsed": false,
    "extensions": {
     "jupyter_dashboards": {
      "version": 1,
      "views": {
       "grid_default": {},
       "report_default": {
        "hidden": true
       }
      }
     }
    }
   },
   "outputs": [],
   "source": [
    "#ppWidget.save(ffolder)"
   ]
  },
  {
   "cell_type": "code",
   "execution_count": null,
   "metadata": {
    "collapsed": false,
    "extensions": {
     "jupyter_dashboards": {
      "version": 1,
      "views": {
       "grid_default": {},
       "report_default": {
        "hidden": true
       }
      }
     }
    }
   },
   "outputs": [],
   "source": [
    "#ppdData.ir = '/19_sp_d20_w675_gcm_e20m_ssp_pu1_pr0_vis1_gal1_chop1_purge1.dat'\n",
    "#ppdData.ir.df[\"spec_0\"].clip_upper(340).plot.hist(bins=np.arange(260, 300, 2))\n",
    "#ppdData.ir.df[\"spec_1\"].clip_upper(340).plot.hist(bins=np.arange(260, 300, 2), alpha=0.5)"
   ]
  },
  {
   "cell_type": "code",
   "execution_count": null,
   "metadata": {
    "collapsed": true
   },
   "outputs": [],
   "source": []
  },
  {
   "cell_type": "markdown",
   "metadata": {
    "extensions": {
     "jupyter_dashboards": {
      "version": 1,
      "views": {
       "grid_default": {
        "col": 5,
        "height": 4,
        "hidden": false,
        "row": 8,
        "width": 4
       },
       "report_default": {
        "hidden": false
       }
      }
     }
    }
   },
   "source": [
    "## Pump Profile"
   ]
  },
  {
   "cell_type": "code",
   "execution_count": null,
   "metadata": {
    "collapsed": false,
    "extensions": {
     "jupyter_dashboards": {
      "version": 1,
      "views": {
       "grid_default": {},
       "report_default": {
        "hidden": false
       }
      }
     }
    }
   },
   "outputs": [],
   "source": [
    "ppWidget.w_pump(title='Pump-Vis SFG', x_label=r'Wavenumbers in 1/cm', y_label='Counts')"
   ]
  },
  {
   "cell_type": "code",
   "execution_count": null,
   "metadata": {
    "collapsed": false,
    "extensions": {
     "jupyter_dashboards": {
      "version": 1,
      "views": {
       "grid_default": {},
       "report_default": {
        "hidden": true
       }
      }
     }
    }
   },
   "outputs": [],
   "source": [
    "#ppWidget.save(ffolder)"
   ]
  },
  {
   "cell_type": "markdown",
   "metadata": {
    "collapsed": false,
    "extensions": {
     "jupyter_dashboards": {
      "version": 1,
      "views": {
       "grid_default": {
        "col": 0,
        "height": 4,
        "hidden": false,
        "row": 26,
        "width": 4
       },
       "report_default": {
        "hidden": false
       }
      }
     }
    }
   },
   "source": [
    "# Pump-Probe Data"
   ]
  },
  {
   "cell_type": "code",
   "execution_count": null,
   "metadata": {
    "collapsed": false,
    "extensions": {
     "jupyter_dashboards": {
      "version": 1,
      "views": {
       "grid_default": {},
       "report_default": {
        "hidden": false
       }
      }
     }
    }
   },
   "outputs": [],
   "source": [
    "ppWidget.w_pump_probe(title='Pump Probe Data', y_label='Counts')"
   ]
  },
  {
   "cell_type": "code",
   "execution_count": null,
   "metadata": {
    "collapsed": true,
    "extensions": {
     "jupyter_dashboards": {
      "version": 1,
      "views": {
       "grid_default": {},
       "report_default": {
        "hidden": true
       }
      }
     }
    }
   },
   "outputs": [],
   "source": [
    "#ppWidget.save(ffolder)"
   ]
  },
  {
   "cell_type": "markdown",
   "metadata": {
    "extensions": {
     "jupyter_dashboards": {
      "version": 1,
      "views": {
       "grid_default": {},
       "report_default": {
        "hidden": false
       }
      }
     }
    }
   },
   "source": [
    "# FROM HERE ON NOT YET IMPLEMENTED"
   ]
  },
  {
   "cell_type": "markdown",
   "metadata": {
    "extensions": {
     "jupyter_dashboards": {
      "version": 1,
      "views": {
       "grid_default": {},
       "report_default": {
        "hidden": false
       }
      }
     }
    }
   },
   "source": [
    "## Normalize Spectra"
   ]
  },
  {
   "cell_type": "markdown",
   "metadata": {
    "extensions": {
     "jupyter_dashboards": {
      "version": 1,
      "views": {
       "grid_default": {
        "col": 4,
        "height": 4,
        "hidden": false,
        "row": 50,
        "width": 4
       },
       "report_default": {
        "hidden": false
       }
      }
     }
    }
   },
   "source": [
    "# Spectra Over Time"
   ]
  },
  {
   "cell_type": "raw",
   "metadata": {
    "collapsed": false,
    "extensions": {
     "jupyter_dashboards": {
      "version": 1,
      "views": {
       "grid_default": {},
       "report_default": {
        "hidden": false
       }
      }
     }
    }
   },
   "source": [
    "%%capture\n",
    "roi = slice(2200,2800)\n",
    "\n",
    "def plot_compare_update(pp_delay):\n",
    "    for i in range(ppdData.ts0.df['spec_0'].shape[1]):\n",
    "        data = ppdData.ts0.df.loc[ppWidget.ts0_ppdelay_childs[1].value, \"spec_0\"][roi].iloc[:,i]\n",
    "        ax_compare[0].lines[i].set_ydata(data)\n",
    "        data = ppdData.ts0.df.loc[ppWidget.ts0_ppdelay_childs[1].value, \"spec_1\"][roi].iloc[:,i]\n",
    "        ax_compare[1].lines[i].set_ydata(data)\n",
    "    \n",
    "    display(fig_compare)\n",
    "    \n",
    "\n",
    "fig_compare, ax_compare = plt.subplots(1, 2, sharey=True, figsize=(16,6))\n",
    "ppdData.ts0.df.loc[ppWidget.ts0_ppdelay_childs[1].value, \"spec_0\"][roi].plot(ax=ax_compare[0])        \n",
    "ppdData.ts0.df.loc[ppWidget.ts0_ppdelay_childs[1].value, \"spec_1\"][roi].plot(ax=ax_compare[1])\n",
    "for ax, title in zip(ax_compare, ('spec_0', 'spec_1')):\n",
    "    ax.set_title(title)\n",
    "    for i in range(len(ax.lines)):\n",
    "        ax.lines[i].set_label('run %i'%i)\n",
    "    ax.legend()\n",
    "#plt.ylim(-0.002, 0.017)"
   ]
  },
  {
   "cell_type": "code",
   "execution_count": null,
   "metadata": {
    "collapsed": false,
    "extensions": {
     "jupyter_dashboards": {
      "version": 1,
      "views": {
       "grid_default": {
        "col": 8,
        "height": 8,
        "hidden": false,
        "row": 50,
        "width": 4
       },
       "report_default": {
        "hidden": false
       }
      }
     }
    }
   },
   "outputs": [],
   "source": [
    "w_f0 = ipyw.interact(plot_compare_update, pp_delay=ppWidget.ts0_ppdelay_childs[1])\n",
    "#display(w_f0)"
   ]
  },
  {
   "cell_type": "markdown",
   "metadata": {
    "extensions": {
     "jupyter_dashboards": {
      "version": 1,
      "views": {
       "grid_default": {
        "col": 4,
        "height": 4,
        "hidden": false,
        "row": 54,
        "width": 4
       },
       "report_default": {
        "hidden": false
       }
      }
     }
    }
   },
   "source": [
    "## Smoothed"
   ]
  },
  {
   "cell_type": "raw",
   "metadata": {
    "collapsed": false,
    "extensions": {
     "jupyter_dashboards": {
      "version": 1,
      "views": {
       "grid_default": {
        "col": 0,
        "height": 12,
        "hidden": false,
        "row": 58,
        "width": 4
       },
       "report_default": {
        "hidden": false
       }
      }
     }
    }
   },
   "source": [
    "#pp_slider3 = ipyw.SelectionSlider(options=list(ppdData.ts0.pp_delays), value=0, continuous_update=False)\n",
    "roi = slice(2200,2800) # get this from the pump\n",
    "def p3(pp_delay):\n",
    "    ppdData.ts0.pumped.loc[pp_delay][roi].rolling(10).mean().plot(label=\"pumped\")\n",
    "    ppdData.ts0.probed.loc[pp_delay][roi].rolling(10).mean().plot(label=\"probed\")\n",
    "    #plt.ylim(0.001, 0.015)\n",
    "    plt.title(str(pp_delay) + \" fs\")\n",
    "    plt.legend()\n",
    "    #plt.grid()\n",
    "\n",
    "ppWidget.p3 = ipyw.interactive(p3, pp_delay=ppWidget.ts0_ppdelay_childs[2])\n",
    "display(ppWidget.p3)\n",
    "plt.show()"
   ]
  },
  {
   "cell_type": "markdown",
   "metadata": {
    "extensions": {
     "jupyter_dashboards": {
      "version": 1,
      "views": {
       "grid_default": {
        "col": 4,
        "height": 4,
        "hidden": false,
        "row": 58,
        "width": 4
       },
       "report_default": {
        "hidden": false
       }
      }
     }
    }
   },
   "source": [
    "# Bleach Trace"
   ]
  },
  {
   "cell_type": "raw",
   "metadata": {
    "collapsed": false,
    "extensions": {
     "jupyter_dashboards": {
      "version": 1,
      "views": {
       "grid_default": {
        "col": 8,
        "height": 11,
        "hidden": false,
        "row": 58,
        "width": 4
       },
       "report_default": {
        "hidden": false
       }
      }
     }
    }
   },
   "source": [
    "roi_slider_range = int(ppdData.ts0.df.index.levels[1].min()), int(ppdData.ts0.df.index.levels[1].max())\n",
    "#roi_slider_range = 0, 800\n",
    "roi_slider = ipyw.IntRangeSlider(\n",
    "    value = (2450, 2600),\n",
    "    min = roi_slider_range[0],\n",
    "    max = roi_slider_range[1],\n",
    "    continuous_update=False\n",
    ")\n",
    "\n",
    "#roi = slice(2450,2600)\n",
    "\n",
    "def plot_bleach_trace(roi):\n",
    "    tss = ppdData.ts0.bleach.unstack(0)\n",
    "    tss = tss[(tss.index > roi[0]) & (tss.index < roi[1])].sum()\n",
    "\n",
    "    tss.plot()\n",
    "    plt.scatter(tss.index, tss)\n",
    "    plt.title(r\"Bleach from (%i to %i)cm$^{-1}$\"%(roi[0], roi[1]))\n",
    "    \n",
    "ipyw.interact(plot_bleach_trace, roi=roi_slider)\n",
    "plt.show()"
   ]
  },
  {
   "cell_type": "code",
   "execution_count": null,
   "metadata": {
    "collapsed": false,
    "extensions": {
     "jupyter_dashboards": {
      "version": 1,
      "views": {
       "grid_default": {},
       "report_default": {
        "hidden": true
       }
      }
     }
    }
   },
   "outputs": [],
   "source": [
    "import datetime\n",
    "pp_delays = 25\n",
    "exp_time = 10# in minutes\n",
    "reps = 3 #number of repetitions\n",
    "datetime.datetime.now() + datetime.timedelta(minutes=pp_delays*exp_time*reps)"
   ]
  },
  {
   "cell_type": "code",
   "execution_count": null,
   "metadata": {
    "collapsed": true,
    "extensions": {
     "jupyter_dashboards": {
      "version": 1,
      "views": {
       "grid_default": {},
       "report_default": {
        "hidden": true
       }
      }
     }
    }
   },
   "outputs": [],
   "source": []
  }
 ],
 "metadata": {
  "extensions": {
   "jupyter_dashboards": {
    "activeView": "report_default",
    "version": 1,
    "views": {
     "grid_default": {
      "cellMargin": 10,
      "defaultCellHeight": 20,
      "maxColumns": 12,
      "name": "grid",
      "type": "grid"
     },
     "report_default": {
      "name": "report",
      "type": "report"
     }
    }
   }
  },
  "kernelspec": {
   "display_name": "Python 3",
   "language": "python",
   "name": "python3"
  },
  "language_info": {
   "codemirror_mode": {
    "name": "ipython",
    "version": 3
   },
   "file_extension": ".py",
   "mimetype": "text/x-python",
   "name": "python",
   "nbconvert_exporter": "python",
   "pygments_lexer": "ipython3",
   "version": "3.5.2"
  },
  "widgets": {
   "state": {
    "01cc6da836a64bdb87128ea4886b4de0": {
     "views": [
      {
       "cell_index": 7
      }
     ]
    },
    "029b8d03d8494de7a3fcadf1aea20ba8": {
     "views": [
      {
       "cell_index": 3
      }
     ]
    },
    "0457ce143d9342a3a7c9934763514cf8": {
     "views": [
      {
       "cell_index": 7
      }
     ]
    },
    "063ecc2a1556423a9998a30b35fc6652": {
     "views": [
      {
       "cell_index": 2
      }
     ]
    },
    "0830100e91c24c5ab50f561a86165acf": {
     "views": [
      {
       "cell_index": 4
      }
     ]
    },
    "083da08f590e47d683d2fe920e2cb538": {
     "views": [
      {
       "cell_index": 11
      }
     ]
    },
    "09e694f002164f8792d78ed5f978f3f6": {
     "views": [
      {
       "cell_index": 2
      }
     ]
    },
    "0bea3313d97647ee8c0f4e67026360f8": {
     "views": [
      {
       "cell_index": 11
      }
     ]
    },
    "0cf37e0dc6734f9c8982b857dc47e16c": {
     "views": [
      {
       "cell_index": 7
      }
     ]
    },
    "0e0687ce021343338138fbca5db0ea20": {
     "views": [
      {
       "cell_index": 8
      }
     ]
    },
    "0f728196b258420491ad095515aadeb7": {
     "views": [
      {
       "cell_index": 3
      }
     ]
    },
    "111ae83ecbdd4a5a9d96e6b301eb4096": {
     "views": [
      {
       "cell_index": 9
      }
     ]
    },
    "12c045edda3b49559d9118dfb3875d06": {
     "views": [
      {
       "cell_index": 11
      }
     ]
    },
    "14a66828a8974849adf534fae3479e29": {
     "views": [
      {
       "cell_index": 3
      }
     ]
    },
    "15e52c3c853d422c830acf7764f9bfce": {
     "views": [
      {
       "cell_index": 12
      }
     ]
    },
    "18e537ec4b1e417a90bfb0421f472b68": {
     "views": [
      {
       "cell_index": 8
      }
     ]
    },
    "1990736b08a8401e921478b38e8fa81e": {
     "views": [
      {
       "cell_index": 2
      }
     ]
    },
    "1ad7d9dd6329495cb98dcfc11df6238d": {
     "views": [
      {
       "cell_index": 9
      }
     ]
    },
    "1d4f8d118bbe41fd90bf5d82438e8e12": {
     "views": [
      {
       "cell_index": 2
      }
     ]
    },
    "1e67e1bb236c48aa9bc0c9dc62552c16": {
     "views": [
      {
       "cell_index": 9
      }
     ]
    },
    "2164ed6103384ce0b69b2b8994ed2ec6": {
     "views": [
      {
       "cell_index": 11
      }
     ]
    },
    "21e8aac1a80a42cc9eee3f93b67e49ab": {
     "views": [
      {
       "cell_index": 3
      }
     ]
    },
    "27ee81a37ab94129af3bcee1d7e9de56": {
     "views": [
      {
       "cell_index": 2
      }
     ]
    },
    "293e0466d34545a79792f0d0b31618b9": {
     "views": [
      {
       "cell_index": 2
      }
     ]
    },
    "29dd1b10485e461db0be2adb4e9fd48f": {
     "views": [
      {
       "cell_index": 11
      }
     ]
    },
    "2a51a4fd46b84d68b335dc497a9b0a88": {
     "views": [
      {
       "cell_index": 4
      }
     ]
    },
    "2af269280d774dbaa6d3ef34e5866003": {
     "views": [
      {
       "cell_index": 2
      }
     ]
    },
    "2d94e23d72b04383921a06fc4d0780aa": {
     "views": [
      {
       "cell_index": 7
      }
     ]
    },
    "2fe1e0a2f235493390f6283723a12540": {
     "views": [
      {
       "cell_index": 2
      }
     ]
    },
    "324e064234f54a8dab8d1c3c70ec4a59": {
     "views": [
      {
       "cell_index": 7
      }
     ]
    },
    "326231b8a7f34d45929ef2971990041d": {
     "views": [
      {
       "cell_index": 2
      }
     ]
    },
    "372767c7babd496c8c63afe5dca2799c": {
     "views": [
      {
       "cell_index": 2
      }
     ]
    },
    "37b008bd31c24834b683fb88b63afef1": {
     "views": [
      {
       "cell_index": 7
      }
     ]
    },
    "39e591ecfc3b4c24ab9cbc9ec783cca3": {
     "views": [
      {
       "cell_index": 2
      }
     ]
    },
    "3a0bb10d518942109065bf1bb8e3de83": {
     "views": [
      {
       "cell_index": 3
      }
     ]
    },
    "3cacf36422054b4588c02db9700b5529": {
     "views": [
      {
       "cell_index": 2
      }
     ]
    },
    "3db9aa7a45314961a1f4ea701ded94ab": {
     "views": [
      {
       "cell_index": 2
      }
     ]
    },
    "3f30fb995690416d9e2b3ab9e55c43fa": {
     "views": [
      {
       "cell_index": 9
      },
      {
       "cell_index": 9
      }
     ]
    },
    "40acb739d0644aae8eee28568bbc8f20": {
     "views": [
      {
       "cell_index": 3
      }
     ]
    },
    "4205ba9ce0fc4eaca05f4116d30b87c0": {
     "views": [
      {
       "cell_index": 4
      }
     ]
    },
    "42cc3890954c431db3e3b70ec2f3469a": {
     "views": [
      {
       "cell_index": 2
      }
     ]
    },
    "45b4b4f8132842be8043b724f54d6e8e": {
     "views": [
      {
       "cell_index": 2
      }
     ]
    },
    "45ecd35445eb4e17a26304d64dbb3570": {
     "views": [
      {
       "cell_index": 3
      }
     ]
    },
    "48593dacf0c8432cb4b80e8f9e170a6c": {
     "views": [
      {
       "cell_index": 2
      }
     ]
    },
    "4951a78ddb08443cb38faa11459d6641": {
     "views": [
      {
       "cell_index": 7
      }
     ]
    },
    "4a04efffa8b74dd9ae7b7d829dc17788": {
     "views": [
      {
       "cell_index": 11
      }
     ]
    },
    "4bfbace6611e4d4b86ffe14eb62bd0dd": {
     "views": [
      {
       "cell_index": 9
      }
     ]
    },
    "4d22c96096d84baf974e2fd6bd65af85": {
     "views": [
      {
       "cell_index": 12
      }
     ]
    },
    "4df163e761864459b1af33fff148aa38": {
     "views": [
      {
       "cell_index": 2
      }
     ]
    },
    "4fca14cf8d9f409999cbff0badba7834": {
     "views": [
      {
       "cell_index": 2
      }
     ]
    },
    "501b472fb37344d0996d98216f87757a": {
     "views": [
      {
       "cell_index": 4
      }
     ]
    },
    "528a9d6a63ff4a97a49b52e3562211c9": {
     "views": [
      {
       "cell_index": 11
      }
     ]
    },
    "535731c283e242fc889a571380eb3844": {
     "views": [
      {
       "cell_index": 2
      }
     ]
    },
    "54804460aff745e0a84c9061f425a192": {
     "views": [
      {
       "cell_index": 9
      }
     ]
    },
    "5491cfd71f204e21ae97b8c9990052d8": {
     "views": [
      {
       "cell_index": 2
      }
     ]
    },
    "569abb71dfa84e79ba09cf8dec05c83f": {
     "views": [
      {
       "cell_index": 6
      }
     ]
    },
    "576b762173f240c1a7e19ae3a0b6df78": {
     "views": [
      {
       "cell_index": 3
      }
     ]
    },
    "58141acf17914faea918c73f660e8f1b": {
     "views": [
      {
       "cell_index": 4
      }
     ]
    },
    "59e09e16de6443e986f5f028c904cbb4": {
     "views": [
      {
       "cell_index": 12
      }
     ]
    },
    "5c1b4e7ab39649a38aff93dc6e6fb7f1": {
     "views": [
      {
       "cell_index": 2
      }
     ]
    },
    "5dc7d04732944b399f9452bef4685f97": {
     "views": [
      {
       "cell_index": 11
      }
     ]
    },
    "5efc6d6e9e004beb93a7e6ba557b4cfa": {
     "views": [
      {
       "cell_index": 2
      }
     ]
    },
    "601202e432e243d0865e548e15ff78c9": {
     "views": [
      {
       "cell_index": 6
      }
     ]
    },
    "60f3836a7ab7479e8030ab6023787b98": {
     "views": [
      {
       "cell_index": 6
      }
     ]
    },
    "61c62a54e3d04dc7ac9944e8c789c5ea": {
     "views": [
      {
       "cell_index": 2
      }
     ]
    },
    "628dc94057b74b63a3fc66f9b874e4b3": {
     "views": [
      {
       "cell_index": 2
      }
     ]
    },
    "639e25c172b5431fa6b3ff03e4fa3835": {
     "views": [
      {
       "cell_index": 2
      }
     ]
    },
    "6aa674aa670f4ce48d5c43e9956d4e39": {
     "views": [
      {
       "cell_index": 2
      }
     ]
    },
    "6b38ccdf14cc41b180f1e256ab830ce0": {
     "views": [
      {
       "cell_index": 2
      }
     ]
    },
    "6bc35c2fb47f43cd829df3e3b436f9cf": {
     "views": [
      {
       "cell_index": 3
      }
     ]
    },
    "7201668ce6434895bd192e723fa6340b": {
     "views": [
      {
       "cell_index": 12
      }
     ]
    },
    "72aa4478807544cf8ab6d52fc486da28": {
     "views": [
      {
       "cell_index": 2
      }
     ]
    },
    "75782f8d026c446f873e629724d91878": {
     "views": [
      {
       "cell_index": 3
      }
     ]
    },
    "77ac9f1f9f27411b9ce4225df64d5b79": {
     "views": [
      {
       "cell_index": 2
      }
     ]
    },
    "7a7dee9528b341ff9767804f6ce0290c": {
     "views": [
      {
       "cell_index": 10
      }
     ]
    },
    "7bb24b2008d040b4b9272d633bdf7cba": {
     "views": [
      {
       "cell_index": 9
      }
     ]
    },
    "7bbaff42777a47d0ab9e6e47bc16058b": {
     "views": [
      {
       "cell_index": 3
      }
     ]
    },
    "80df36ba681845e7ac6950f9121ec7b1": {
     "views": [
      {
       "cell_index": 4
      }
     ]
    },
    "8115b98bce744e1f8204bdbf9166c00f": {
     "views": [
      {
       "cell_index": 2
      }
     ]
    },
    "81d0a5961bd447c4ad9823d22e396172": {
     "views": [
      {
       "cell_index": 2
      }
     ]
    },
    "842fdff2af3b4e78926800a1ccb2b31a": {
     "views": [
      {
       "cell_index": 2
      }
     ]
    },
    "8663b1d2f5394e22acb91a38fd2e63ba": {
     "views": [
      {
       "cell_index": 4
      }
     ]
    },
    "8767948c1a98470a981d4f06433bf7f0": {
     "views": [
      {
       "cell_index": 2
      }
     ]
    },
    "899a3c793c11494bbbfaafec0b6677c1": {
     "views": [
      {
       "cell_index": 2
      }
     ]
    },
    "8c5d3d5342d542f987000053ad7ccfa1": {
     "views": [
      {
       "cell_index": 3
      }
     ]
    },
    "8c90f633ce9d42208f7154597f92fcca": {
     "views": [
      {
       "cell_index": 4
      }
     ]
    },
    "8d479d33885b4db1b759025b1bf96370": {
     "views": [
      {
       "cell_index": 2
      }
     ]
    },
    "924a2a22fd004e82869b318e10b754d5": {
     "views": [
      {
       "cell_index": 2
      }
     ]
    },
    "93f5ab77725d49539a2bba8230cb001e": {
     "views": [
      {
       "cell_index": 2
      }
     ]
    },
    "947da32d32eb45d881da1e97161e43fe": {
     "views": [
      {
       "cell_index": 2
      }
     ]
    },
    "9688efb98898443895aee69cc151558a": {
     "views": [
      {
       "cell_index": 2
      }
     ]
    },
    "97d64e9fd4584d62affe69a1b15e0a2f": {
     "views": [
      {
       "cell_index": 2
      }
     ]
    },
    "98395f39492142cc9726a6299de9f877": {
     "views": [
      {
       "cell_index": 2
      }
     ]
    },
    "9b1dd94549a5406fad8d2da672d24be4": {
     "views": [
      {
       "cell_index": 2
      }
     ]
    },
    "9b54c3d243004b11881e1608eb13467c": {
     "views": [
      {
       "cell_index": 12
      }
     ]
    },
    "9c3cdc7d6a70427b949b2e32d1d3cdf3": {
     "views": [
      {
       "cell_index": 2
      }
     ]
    },
    "9e968607cdf94906b6362efd50cd6caf": {
     "views": [
      {
       "cell_index": 3
      }
     ]
    },
    "9f44a42bb280409ab455fe6d8d2c13ff": {
     "views": [
      {
       "cell_index": 4
      }
     ]
    },
    "a22955838ebc40ba8b3f1715f7faee7f": {
     "views": [
      {
       "cell_index": 2
      }
     ]
    },
    "a9a7e35e507b42aa866cdc6d594b0bae": {
     "views": [
      {
       "cell_index": 2
      }
     ]
    },
    "ab8bda6f7c144726b3f26dfe0b382567": {
     "views": [
      {
       "cell_index": 2
      }
     ]
    },
    "ad60e5cd84744fb39b0df0eddf4e860e": {
     "views": [
      {
       "cell_index": 3
      }
     ]
    },
    "afc487b9a40a4f56b6f4715b9a673189": {
     "views": [
      {
       "cell_index": 2
      }
     ]
    },
    "b1fa3bab7f3f404ca9ee4b6d3661768d": {
     "views": [
      {
       "cell_index": 2
      }
     ]
    },
    "b4614b8813364f629fcdc842931098c3": {
     "views": [
      {
       "cell_index": 2
      }
     ]
    },
    "b49e88d978964b2e8be81cdf079f165f": {
     "views": [
      {
       "cell_index": 7
      }
     ]
    },
    "b5dfd1e1d1384359a2677e4ce6dcc37a": {
     "views": [
      {
       "cell_index": 2
      }
     ]
    },
    "b6ba219e2d1647c5a4db2f6fa13b9465": {
     "views": [
      {
       "cell_index": 9
      }
     ]
    },
    "b737b249c9194afda8a153b046d8b303": {
     "views": [
      {
       "cell_index": 4
      }
     ]
    },
    "b9820dbd157c4d7ebaeebf606c19e98c": {
     "views": [
      {
       "cell_index": 7
      }
     ]
    },
    "ba0e718e34ea4bbd906fae6f85e6b389": {
     "views": [
      {
       "cell_index": 7
      }
     ]
    },
    "ba7802245c5c437c9a517f46a817ad14": {
     "views": [
      {
       "cell_index": 3
      }
     ]
    },
    "bab0595b69c74df89bc9dd781fde799c": {
     "views": [
      {
       "cell_index": 10
      }
     ]
    },
    "bb0183a285d0415cb3086bbcb76b073f": {
     "views": [
      {
       "cell_index": 12
      }
     ]
    },
    "bbd3b4d5fcd64294ad4ee0f3dffb4af3": {
     "views": [
      {
       "cell_index": 2
      }
     ]
    },
    "bec75c4629d74901ae547a016c6d09d5": {
     "views": [
      {
       "cell_index": 2
      }
     ]
    },
    "bf20fddf5c574a2ea0d1e338f7a8fe89": {
     "views": [
      {
       "cell_index": 4
      }
     ]
    },
    "bf9b9bc50f734c4097aa89c6ce9c8974": {
     "views": [
      {
       "cell_index": 7
      }
     ]
    },
    "c232165940cf4c2b92f5dbaa740ea4ee": {
     "views": [
      {
       "cell_index": 4
      }
     ]
    },
    "c29a80f4424e42149badb2f47fbe2f09": {
     "views": [
      {
       "cell_index": 4
      }
     ]
    },
    "c3ca8132ea4849d99632153f4779395e": {
     "views": [
      {
       "cell_index": 2
      }
     ]
    },
    "c5546bf0ed754822a16f551d293275e4": {
     "views": [
      {
       "cell_index": 4
      }
     ]
    },
    "c7989acef6de4238b3136d56213a35f8": {
     "views": [
      {
       "cell_index": 4
      }
     ]
    },
    "c7c2e422bbb44d11a03fbb68c98124c0": {
     "views": [
      {
       "cell_index": 12
      }
     ]
    },
    "c9e2a3e087fc4ff8a29a3f003a47b894": {
     "views": [
      {
       "cell_index": 6
      }
     ]
    },
    "cbd705937a814a95925d1f0ac2b08f3c": {
     "views": [
      {
       "cell_index": 4
      }
     ]
    },
    "ced9c6e29a6a4e4a9c8ab434fdda7c14": {
     "views": [
      {
       "cell_index": 2
      }
     ]
    },
    "d0d415c7d7184f939b04e44d2db18ee6": {
     "views": [
      {
       "cell_index": 4
      }
     ]
    },
    "d388c4ab1a034b4ca6651d97151316a8": {
     "views": [
      {
       "cell_index": 2
      }
     ]
    },
    "d6c62f04bd7844df926e67164d0eb3d7": {
     "views": [
      {
       "cell_index": 2
      }
     ]
    },
    "d8570c30bdcf44d6b037cf058646205a": {
     "views": [
      {
       "cell_index": 3
      }
     ]
    },
    "dc1b07fc08024d6ca266dee6ea75e793": {
     "views": [
      {
       "cell_index": 2
      }
     ]
    },
    "dc60648a70864b34bab390092e6a9126": {
     "views": [
      {
       "cell_index": 2
      }
     ]
    },
    "dd59182d010e4c4d8e34645002fe0ac5": {
     "views": [
      {
       "cell_index": 3
      }
     ]
    },
    "e11996c091f84a4b99ae417aff08e0c1": {
     "views": [
      {
       "cell_index": 9
      }
     ]
    },
    "e503c8cdb71944f49f2d13818d2de1f9": {
     "views": [
      {
       "cell_index": 7
      }
     ]
    },
    "e6b2dfc0570941d3ab2b61e81edb5b99": {
     "views": [
      {
       "cell_index": 2
      }
     ]
    },
    "e7aaca6ec91d480abd21eff9c19f0e82": {
     "views": [
      {
       "cell_index": 6
      }
     ]
    },
    "e8e51e0de834445c806b21ab50e346dc": {
     "views": [
      {
       "cell_index": 2
      }
     ]
    },
    "ea8f4cdf91f142a58dbd33b6097af526": {
     "views": [
      {
       "cell_index": 3
      }
     ]
    },
    "ead2403eab6248f2bc34253ad0b12473": {
     "views": [
      {
       "cell_index": 6
      }
     ]
    },
    "ebd57028eefc4237863921f130246e91": {
     "views": [
      {
       "cell_index": 3
      }
     ]
    },
    "ee59f6a98ef941f68aee981d0c7e9e46": {
     "views": [
      {
       "cell_index": 2
      }
     ]
    },
    "eea0f2e6597746238c41606a98b87930": {
     "views": [
      {
       "cell_index": 3
      }
     ]
    },
    "efee275088644c00910fa03cfe615e05": {
     "views": [
      {
       "cell_index": 2
      }
     ]
    },
    "f22ab2cad6ae418591b1e5b068dc276b": {
     "views": [
      {
       "cell_index": 3
      }
     ]
    },
    "f61406475acc4873a768faf593857d7f": {
     "views": [
      {
       "cell_index": 2
      }
     ]
    },
    "f7aa6fc3c8b94ad998162b72b0ed90a7": {
     "views": [
      {
       "cell_index": 4
      }
     ]
    },
    "f8d412affe0b4f1ca313c62d3967b6ae": {
     "views": [
      {
       "cell_index": 2
      }
     ]
    },
    "f93ce601859b457791f3c7275bfd38e5": {
     "views": [
      {
       "cell_index": 3
      }
     ]
    },
    "ff3ca8eb2442464e8b78ed0bb915c9a8": {
     "views": [
      {
       "cell_index": 2
      }
     ]
    }
   },
   "version": "1.2.0"
  }
 },
 "nbformat": 4,
 "nbformat_minor": 0
}
