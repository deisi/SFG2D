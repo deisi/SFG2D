{
 "cells": [
  {
   "cell_type": "code",
   "execution_count": null,
   "metadata": {
    "collapsed": false
   },
   "outputs": [],
   "source": [
    "%matplotlib inline\n",
    "#%matplotlib notebook\n",
    "import matplotlib.pyplot as plt\n",
    "import numpy as np\n",
    "from bqplot import pyplot as bplt\n",
    "from bqplot import (\n",
    "    LogScale, LinearScale, OrdinalColorScale, ColorAxis,\n",
    "    Axis, Scatter, Lines, CATEGORY10, Label, Figure, Tooltip\n",
    ")\n",
    "\n",
    "import ipywidgets as ipyw\n",
    "import seaborn as sns\n",
    "import pandas as pd\n",
    "import SFG2D\n",
    "import gui\n",
    "\n",
    "from IPython.display import display\n",
    "from watchdog.observers import Observer\n",
    "\n",
    "# Set plot layout\n",
    "#plt.style.use('seaborn-notebook')\n",
    "#sns.set_style(\"white\")\n",
    "#sns.set_style(\"ticks\")\n",
    "#sns.set_context(\"talk\", font_scale=1.5, rc={\"lines.linewidth\": 2.5})\n",
    "\n",
    "# Setup Data and Widget class\n",
    "ppdData = gui.PumpProbeDashboardData('/home/malte/MeasurmentData/2016/09/07/')\n",
    "ppWidget = gui.PumpProbeWidget(ppdData)\n",
    "ppWidget.linkTraitlets()\n",
    "# load last gui config\n",
    "ppWidget.load(ppdData.ffolder)\n",
    "#ppWidget.setupObservers(ppdData)\n",
    "\n",
    "# Setup file observer\n",
    "ffolder_observer = Observer()\n",
    "event_handler = gui.MyHandler()\n",
    "event_handler.ppdData = ppdData\n",
    "event_handler.ppWidget = ppWidget\n",
    "ffolder_observer.schedule(event_handler, ppdData.ffolder, recursive=False)\n",
    "ffolder_observer.start()"
   ]
  },
  {
   "cell_type": "markdown",
   "metadata": {
    "extensions": {
     "jupyter_dashboards": {
      "version": 1,
      "views": {
       "grid_default": {
        "col": 5,
        "height": 4,
        "hidden": false,
        "row": 4,
        "width": 4
       },
       "report_default": {
        "hidden": false
       }
      }
     }
    }
   },
   "source": [
    "## IR Profile"
   ]
  },
  {
   "cell_type": "code",
   "execution_count": null,
   "metadata": {
    "collapsed": false
   },
   "outputs": [],
   "source": [
    "class w_ir():\n",
    "    \n",
    "    def get(fpath, fbase):\n",
    "        ppdData.ir = fpath\n",
    "        ppdData.ir.base = SFG2D.io.veronica.read_auto(ppdData.ffolder + fbase).med\n",
    "\n",
    "        # Because update_sub_baseline is only called on change\n",
    "        if ppWidget.ir_sub_base.value:\n",
    "            ppdData.ir.sub_base(inplace=True)\n",
    "\n",
    "    def update(new):\n",
    "        ppdData.ir = ppWidget.ir_fpath.value\n",
    "        ppdData.ir.base = SFG2D.io.veronica.read_auto(ppdData.ffolder + ppWidget.ir_fbase.value).med\n",
    "\n",
    "        if ppWidget.ir_sub_base.value:\n",
    "            ppdData.ir.sub_base(inplace=True)\n",
    "            \n",
    "        ppdData.ir.spec = ppWidget.ir_spec.value\n",
    "\n",
    "    def fig_init(param_dict={}):\n",
    "        D = ppdData.ir\n",
    "        bplt.plot(D.med.index, D.med.transpose(), **param_dict)\n",
    "\n",
    "    def fig_update(new):\n",
    "        ir_fig.marks[0].x = ppdData.ir.df.index\n",
    "        ir_fig.marks[0].y = ppdData.ir.spec.transpose()\n",
    "\n",
    "    def sub_baseline_update(new):\n",
    "        if ppWidget.ir_sub_base.value:\n",
    "            ppdData.ir.sub_base(inplace=True)\n",
    "        else: \n",
    "            ppdData.ir.add_base(inplace=True)\n",
    "    \n",
    "    def update_spec(new):\n",
    "        ppdData.ir.spec = ppWidget.ir_spec.value \n",
    "\n",
    "w_ir.get(ppWidget.ir_fpath.value, ppWidget.ir_fbase.value)\n",
    "\n",
    "ir_fig = bplt.figure()\n",
    "w_ir.fig_init()\n",
    "\n",
    "ppWidget.ir_fpath.observe(w_ir.update, 'value')\n",
    "ppWidget.ir_fpath.observe(w_ir.fig_update, 'value')\n",
    "\n",
    "ppWidget.ir_fbase.observe(w_ir.update, 'value')\n",
    "ppWidget.ir_fbase.observe(w_ir.fig_update, 'value')\n",
    "\n",
    "ppWidget.ir_sub_base.observe(w_ir.sub_baseline_update, 'value')\n",
    "ppWidget.ir_sub_base.observe(w_ir.fig_update, 'value')\n",
    "\n",
    "ppWidget.ir_spec.observe(w_ir.update_spec, 'value')\n",
    "ppWidget.ir_spec.observe(w_ir.fig_update, 'value')\n",
    "\n",
    "display(ppWidget.ir_fpath, ppWidget.ir_fbase, ppWidget.ir_sub_base, ppWidget.ir_spec)\n",
    "bplt.show()"
   ]
  },
  {
   "cell_type": "code",
   "execution_count": null,
   "metadata": {
    "collapsed": false
   },
   "outputs": [],
   "source": [
    "ppdData.ir = '/19_sp_d20_w675_gcm_e20m_ssp_pu1_pr0_vis1_gal1_chop1_purge1.dat'\n",
    "ppdData.ir.df[\"spec_0\"].clip_upper(340).plot.hist(bins=np.arange(260, 300, 2))\n",
    "ppdData.ir.df[\"spec_1\"].clip_upper(340).plot.hist(bins=np.arange(260, 300, 2), alpha=0.5)"
   ]
  },
  {
   "cell_type": "markdown",
   "metadata": {
    "extensions": {
     "jupyter_dashboards": {
      "version": 1,
      "views": {
       "grid_default": {
        "col": 5,
        "height": 4,
        "hidden": false,
        "row": 8,
        "width": 4
       },
       "report_default": {
        "hidden": false
       }
      }
     }
    }
   },
   "source": [
    "## Pump Profile"
   ]
  },
  {
   "cell_type": "code",
   "execution_count": null,
   "metadata": {
    "collapsed": false
   },
   "outputs": [],
   "source": [
    "class w_pump():\n",
    "    def get(fpath):\n",
    "        ppdData.pump = fpath\n",
    "        if isinstance(ppdData.pump.pp_delays, pd.indexes.numeric.Int64Index):\n",
    "            ppWidget.pump_ppdelay.options = list(ppdData.pump.pp_delays)\n",
    "        ppdData.pump.spec = ppWidget.pump_spec.value\n",
    "            \n",
    "    def update(new):\n",
    "        ppdData.pump = ppWidget.pump_fpath.value\n",
    "        if isinstance(ppdData.pump.pp_delays, pd.indexes.numeric.Int64Index):\n",
    "            ppWidget.pump_ppdelay.options = list(ppdData.pump.pp_delays)\n",
    "            # guarantee pump_delay slider has a valid value\n",
    "            if ppWidget.pump_ppdelay.value in ppdData.pump.pp_delays:\n",
    "                ppdData.pump.ppdelay_current = ppWidget.pump_ppdelay.value\n",
    "        else:\n",
    "            ppWidget.pump_ppdelay.options = [0]\n",
    "            ppWidget.pump_ppdelay.value = 0\n",
    "        #ppdData.pump.base = SFG2D.io.veronica.read_auto(ppdData.ffolder + ppWidget.pump_fbase.value).med\n",
    "\n",
    "        #if ppWidget.pu.value:\n",
    "        #    ppdData.pump.sub_base(inplace=True)\n",
    "            \n",
    "        ppdData.pump.spec = ppWidget.pump_spec.value\n",
    "     \n",
    "    def fig_init(param_dict={}):\n",
    "        D = ppdData.pump.current\n",
    "        bplt.plot(D.index, D.transpose(), **param_dict)\n",
    "\n",
    "    def fig_update(new):\n",
    "        pump_fig.marks[0].x = ppdData.pump.current.index\n",
    "        pump_fig.marks[0].y = ppdData.pump.current.transpose()\n",
    "\n",
    "    def sub_baseline_update(new):\n",
    "        raise NotImplementedError\n",
    "    \n",
    "    def update_spec(new):\n",
    "        ppdData.pump.spec = ppWidget.pump_spec.value\n",
    "        \n",
    "    def update_ppdelay(new):\n",
    "        ppdData.pump.ppdelay_current = ppWidget.pump_ppdelay.value\n",
    "        \n",
    "w_pump.get(ppWidget.pump_fpath.value)\n",
    "\n",
    "pump_fig = bplt.figure()\n",
    "w_pump.fig_init()\n",
    "\n",
    "ppWidget.pump_fpath.observe(w_pump.update, 'value')\n",
    "ppWidget.pump_fpath.observe(w_pump.fig_update, 'value')\n",
    "\n",
    "#ppWidget.pump_fbase.observe(w_pump.update, 'value')\n",
    "#ppWidget.pump_fbase.observe(w_pump.fig_update, 'value')\n",
    "\n",
    "#ppWidget.pump_sub_base.observe(w_pump.sub_baseline_update, 'value')\n",
    "#ppWidget.pump_sub_base.observe(w_pump.fig_update, 'value')\n",
    "ppWidget.pump_ppdelay.observe(w_pump.update_ppdelay, 'value')\n",
    "ppWidget.pump_ppdelay.observe(w_pump.fig_update, 'value')\n",
    "\n",
    "ppWidget.pump_spec.observe(w_pump.update_spec, 'value')\n",
    "ppWidget.pump_spec.observe(w_pump.fig_update, 'value')\n",
    "\n",
    "display(ppWidget.pump_fpath, ppWidget.pump_spec, ppWidget.pump_ppdelay)\n",
    "bplt.show()"
   ]
  },
  {
   "cell_type": "markdown",
   "metadata": {
    "collapsed": false,
    "extensions": {
     "jupyter_dashboards": {
      "version": 1,
      "views": {
       "grid_default": {
        "col": 0,
        "height": 4,
        "hidden": false,
        "row": 26,
        "width": 4
       },
       "report_default": {
        "hidden": false
       }
      }
     }
    }
   },
   "source": [
    "# Pump-Probe Data"
   ]
  },
  {
   "cell_type": "markdown",
   "metadata": {
    "extensions": {
     "jupyter_dashboards": {
      "version": 1,
      "views": {
       "grid_default": {},
       "report_default": {
        "hidden": false
       }
      }
     }
    }
   },
   "source": [
    "## Baseline for Pump-Probe Data"
   ]
  },
  {
   "cell_type": "code",
   "execution_count": null,
   "metadata": {
    "collapsed": false
   },
   "outputs": [],
   "source": [
    "class w_base():\n",
    "    def get(fbase):\n",
    "        ppdData.base = fbase\n",
    "    \n",
    "    def update(new):\n",
    "        ppdData.base = ppWidget.fbase.value\n",
    "        \n",
    "    def fig_init(param_dict={}):\n",
    "        D = ppdData.base.med\n",
    "        bplt.plot(D.index, D.transpose(), **param_dict)\n",
    "        \n",
    "    def fig_update(new):\n",
    "        base_fig.marks[0].x = ppdData.base.med.index\n",
    "        base_fig.marks[0].y = ppdData.base.med.transpose()\n",
    "\n",
    "def set_base(fbase):\n",
    "    ppdData.base.med.plot()\n",
    "    plt.title(\"Baseline\")\n",
    "    plt.draw()\n",
    "\n",
    "display(ppWidget.fbase)\n",
    "w_base.get(ppWidget.fbase.value)\n",
    "base_fig = bplt.figure()\n",
    "w_base.fig_init()\n",
    "ppWidget.fbase.observe(w_base.update, 'value')\n",
    "ppWidget.fbase.observe(w_base.fig_update, 'value')\n",
    "#w_base = ipyw.interactive(set_base, fbase = ppWidget.fbase)\n",
    "bplt.show()"
   ]
  },
  {
   "cell_type": "code",
   "execution_count": null,
   "metadata": {
    "collapsed": true
   },
   "outputs": [],
   "source": [
    "D = ppdData.ts0.df.sum(level=\"pp_delay\")\n",
    "\n",
    "dshape = D[ppWidget.ts0_probed.value].shape\n",
    "D"
   ]
  },
  {
   "cell_type": "code",
   "execution_count": null,
   "metadata": {
    "collapsed": false
   },
   "outputs": [],
   "source": [
    "class w_pump_probe():\n",
    "    def get(fpath):\n",
    "        ppdData.ts0 = SFG2D.io.veronica.read_auto(ppdData.ffolder + fpath)\n",
    "        if ppWidget.ts0_sub_base.value:\n",
    "            ppdData.ts0.base = ppdData.base.med\n",
    "            ppdData.ts0.sub_base(inplace=True)\n",
    "        if ppWidget.ir_spec.value is \"All\":\n",
    "            ppdData.ts0.norm = ppdData.ir.med\n",
    "        else:\n",
    "            ppdData.ts0.norm = ppdData.ir.med[ppWidget.ir_spec.value]\n",
    "        ppdData.ts0u = ppdData.ts0.__deepcopy__()\n",
    "        \n",
    "        if ppWidget.ts0_normalize.value:\n",
    "            ppdData.ts0.normalize(inplace=True)\n",
    "        ppWidget.ts0_ppdelay.options = list(ppdData.ts0.pp_delays)\n",
    "        \n",
    "        if ppWidget.ts0_ppdelay.value not in list(ppdData.ts0.pp_delays):\n",
    "            ppWidget.ts0_ppdelay.value = ppWidget.ts0_ppdelay.options[0]\n",
    "        \n",
    "    def update(new):\n",
    "        w_pump_probe.get(ppWidget.ts0_fpath.value)\n",
    "        \n",
    "    def pump_update(new):\n",
    "        ppdData.ts0.pumped = ppWidget.ts0_pumped.value\n",
    "        ppdData.ts0u.pumped = ppWidget.ts0_pumped.value\n",
    "    \n",
    "    def probe_update(new):\n",
    "        ppdData.ts0u.probed = ppWidget.ts0_probed.value\n",
    "        ppdData.ts0.probed = ppWidget.ts0_probed.value  \n",
    "        \n",
    "    def fig_init():\n",
    "        #bplt.figure(pump_probe_fig)\n",
    "        D = ppdData.ts0.med.ix[ppWidget.ts0_ppdelay.value]\n",
    "        bplt.plot(D.index, D.transpose())\n",
    "        \n",
    "    def fig_sum_init(): \n",
    "        #bplt.figure(pump_probe_sum_fig)\n",
    "        D = ppdData.ts0._df.sum(level='pp_delay')\n",
    "        \n",
    "        bplt.plot(D[ppWidget.ts0_probed.value].as_matrix().flatten('f'))\n",
    "        bplt.plot(D[ppWidget.ts0_pumped.value].as_matrix().flatten('f'))\n",
    "        \n",
    "        dshape = D[ppWidget.ts0_probed.value].shape\n",
    "        if len(dshape) > 1:\n",
    "            for i in range(dshape[1]):\n",
    "                bplt.vline(i * dshape[0])\n",
    "        \n",
    "    def fig_pump_probe_update(new):\n",
    "        #bplt.figure(pump_probe_fig)\n",
    "        pump_probe_fig.marks[0].x = ppdData.ts0.med.ix[ppWidget.ts0_ppdelay.value].index\n",
    "        pump_probe_fig.marks[0].y = ppdData.ts0.med.ix[ppWidget.ts0_ppdelay.value].transpose()\n",
    "        \n",
    "    def fig_pump_probe_sum_update(new):\n",
    "        #bplt.figure(pump_probe_sum_fig)\n",
    "        D = ppdData.ts0._df.sum(level='pp_delay')\n",
    "        mpr = D[ppWidget.ts0_probed.value].as_matrix().flatten('f')\n",
    "        mpu = D[ppWidget.ts0_pumped.value].as_matrix().flatten('f')\n",
    "        pump_probe_sum_fig.marks[0].x = range(mpr.shape[0])\n",
    "        pump_probe_sum_fig.marks[0].y = (mpr, mpu)\n",
    "        \n",
    "        # Delete old vlines and replace with new ones\n",
    "        pump_probe_sum_fig.marks = [pump_probe_sum_fig.marks[0]]\n",
    "        dshape = D[ppWidget.ts0_probed.value].shape\n",
    "        if len(dshape) > 1:\n",
    "            for i in range(dshape[1]):\n",
    "                bplt.vline(i * dshape[0])\n",
    "        \n",
    "display(ppWidget.ts0_fpath, ppWidget.ts0_probed, ppWidget.ts0_pumped, ppWidget.ts0_ppdelay)\n",
    "\n",
    "w_pump_probe.get(ppWidget.ts0_fpath.value)\n",
    "pump_probe_fig = bplt.figure()\n",
    "w_pump_probe.fig_init()\n",
    "\n",
    "pump_probe_sum_fig = bplt.figure()\n",
    "w_pump_probe.fig_sum_init()\n",
    "\n",
    "ppWidget.ts0_fpath.observe(w_pump_probe.update, 'value')\n",
    "ppWidget.ts0_fpath.observe(w_pump_probe.fig_pump_probe_update, 'value')\n",
    "ppWidget.ts0_fpath.observe(w_pump_probe.fig_pump_probe_sum_update, 'value')\n",
    "\n",
    "#ppWidget.ts0_probed.observe(w_pump_probe.probe_update, 'value')\n",
    "#ppWidget.ts0_probed.observe(w_pump_probe.fig_pump_probe_update, 'value')\n",
    "\n",
    "#ppWidget.ts0_pumped.observe(w_pump_probe.pump_update, 'value')\n",
    "#ppWidget.ts0_pumped.observe(w_pump_probe.fig_pump_probe_update)\n",
    "\n",
    "#ppWidget.ts0_ppdelay.observe(w_pump_probe.fig_pump_probe_update, 'value')\n",
    "\n",
    "\n",
    "\n",
    "bplt.show()"
   ]
  },
  {
   "cell_type": "code",
   "execution_count": null,
   "metadata": {
    "collapsed": false
   },
   "outputs": [],
   "source": [
    "ppdData.ts0"
   ]
  },
  {
   "cell_type": "code",
   "execution_count": null,
   "metadata": {
    "collapsed": false
   },
   "outputs": [],
   "source": [
    "w_pump_probe.get(ppWidget.ts0_fpath.value)\n",
    "D = ppdData.ts0._df.sum(level='pp_delay')['spec_0']\n",
    "len(D.shape)"
   ]
  },
  {
   "cell_type": "markdown",
   "metadata": {
    "collapsed": true
   },
   "source": [
    "#### pump_probe_fig = bplt.figure()\n",
    "w_pump_probe.fig_init()\n",
    "\n",
    "ppWidget.ts0_fpath.observe(w_pump_probe.update, 'value')\n",
    "#ppWidget.ts0_fpath.observe(w_pump_probe.fig_pump_probe_sum_update, 'value')\n",
    "ppWidget.ts0_fpath.observe(w_pump_probe.fig_pump_probe_update, \"value\")\n",
    "\n",
    "ppWidget.ts0_probed.observe(w_pump_probe.probe_update, 'value')\n",
    "ppWidget.ts0_probed.observe(w_pump_probe.fig_pump_probe_update, 'value')\n",
    "\n",
    "ppWidget.ts0_pumped.observe(w_pump_probe.pump_update, 'value')\n",
    "ppWidget.ts0_pumped.observe(w_pump_probe.fig_pump_probe_update)"
   ]
  },
  {
   "cell_type": "code",
   "execution_count": null,
   "metadata": {
    "collapsed": false
   },
   "outputs": [],
   "source": [
    "ppWidget.ts0_fpath"
   ]
  },
  {
   "cell_type": "code",
   "execution_count": null,
   "metadata": {
    "collapsed": true
   },
   "outputs": [],
   "source": [
    "def set_pump_probe(fpath, sub_base=False, normalize=False):\n",
    "    ppdData.ts0 = SFG2D.io.veronica.read_auto(ppdData.ffolder + fpath)\n",
    "    if sub_base:\n",
    "        ppdData.ts0.base = ppdData.base.med\n",
    "        ppdData.ts0.sub_base(inplace=True)\n",
    "    if ppWidget.ir_spec.value is \"All\":\n",
    "        ppdData.ts0.norm = ppdData.ir.med\n",
    "    else:\n",
    "        ppdData.ts0.norm = ppdData.ir.med[ppWidget.ir_spec.value]\n",
    "    ppdData.ts0u = ppdData.ts0.__deepcopy__()\n",
    "    if normalize:\n",
    "        ppdData.ts0.normalize(inplace=True)\n",
    "    ppWidget.ts0_ppdelay.options = list(ppdData.ts0.pp_delays)\n",
    "    ppWidget.ts0_ppdelay.value=0\n",
    "    \n",
    "def ts0_pump_update(*args):\n",
    "    #global ts0\n",
    "    ppdData.ts0.pumped = ppWidget.ts0_pumped.value\n",
    "    ppdData.ts0u.pumped = ppWidget.ts0_pumped.value\n",
    "    \n",
    "def ts0_probe_update(*args):\n",
    "    #global ts0\n",
    "    ppdData.ts0u.probed = ppWidget.ts0_probed.value\n",
    "    ppdData.ts0.probed = ppWidget.ts0_probed.value\n",
    "    \n",
    "def pump_probe_sum_plot(*args):\n",
    "    ax = axes_pump_probe_get[1]\n",
    "    if isinstance(ppdData.ts0u, SFG2D.core.scan.TimeScan):\n",
    "        [SFG2D.plotting.ts.sum_of_spectra(ppdData.ts0u, spec, ax) for spec in ('spec_0', 'spec_1', 'spec_2')]\n",
    "    ax.set_title(\"Sum of Spectra\")\n",
    "\n",
    "def pump_probe_plot(pp_delay):\n",
    "    ax = axes_pump_probe_get[0]\n",
    "    ax.clear()\n",
    "    \n",
    "    if isinstance(ppdData.ts0u, SFG2D.core.scan.TimeScan):\n",
    "        ppdData.ts0u.med.ix[pp_delay].plot(ax=ax)\n",
    "        ax.set_title(\"%i fs\"%pp_delay)\n",
    "        #plt.ylim(-0.002, 0.015) # get this from set_pump_probedata\n",
    "        #plt.xlim(2100, 2800) # get this from ir profile\n",
    "    fig_pump_probe_get.tight_layout()\n",
    "    display(fig_pump_probe_get)"
   ]
  },
  {
   "cell_type": "code",
   "execution_count": null,
   "metadata": {
    "collapsed": false
   },
   "outputs": [],
   "source": [
    "fig_pump_probe_get, axes_pump_probe_get = plt.subplots(1,2, figsize=(16,6))\n",
    "\n",
    "ppWidget.ts0 = ipyw.interactive(set_pump_probe, fpath=ppWidget.ts0_fpath, sub_base=ppWidget.ts0_sub_base, normalize=ppWidget.ts0_normalize)\n",
    "ppWidget.ts0_pumped.observe(ts0_pump_update, 'value')\n",
    "ppWidget.ts0_probed.observe(ts0_probe_update, 'value')\n",
    "pp\n",
    "\n",
    "\n",
    "ppWidget.ts0_plot = ipyw.interactive(pump_probe_plot, pp_delay=ppWidget.ts0_ppdelay)\n",
    "display(ppWidget.ts0, ppWidget.ts0_pumped, ppWidget.ts0_probed, ppWidget.ts0_plot)\n",
    "pump_probe_sum_plot()"
   ]
  },
  {
   "cell_type": "markdown",
   "metadata": {
    "extensions": {
     "jupyter_dashboards": {
      "version": 1,
      "views": {
       "grid_default": {},
       "report_default": {
        "hidden": false
       }
      }
     }
    }
   },
   "source": [
    "## Normalize Spectra"
   ]
  },
  {
   "cell_type": "code",
   "execution_count": null,
   "metadata": {
    "collapsed": false
   },
   "outputs": [],
   "source": [
    "%%capture\n",
    "fig_norm, ax_norm = plt.subplots(1,2, figsize=(12,6))\n",
    "ax_norm[0].set_title(\"Unnormalized\")\n",
    "ax_norm[1].set_title(\"Normalized\")\n",
    "#ax_norm[1].set_ylim(-0.002, 0.015)\n",
    "ppdData.ts0u.pumped.ix[ppWidget.ts0_ppdelay.value].plot(ax = ax_norm[0], label=\"pumped\")\n",
    "ppdData.ts0u.probed.ix[ppWidget.ts0_ppdelay.value].plot(ax = ax_norm[0], label=\"probed\")\n",
    "\n",
    "ppdData.ts0.pumped.ix[ppWidget.ts0_ppdelay.value].plot(ax = ax_norm[1], label = \"pumped\")\n",
    "ppdData.ts0.probed.ix[ppWidget.ts0_ppdelay.value].plot(ax = ax_norm[1], label = \"probed\")\n",
    "\n",
    "ax_norm[0].legend()\n",
    "fig_norm.tight_layout()\n",
    "\n",
    "\n",
    "def plot_norm_update(pp_delay):\n",
    "    ax_norm[0].lines[0].set_ydata(ppdData.ts0u.pumped.ix[pp_delay])\n",
    "    ax_norm[0].lines[1].set_ydata(ppdData.ts0u.probed.ix[pp_delay])\n",
    "\n",
    "    ax_norm[1].lines[0].set_ydata(ppdData.ts0.pumped.ix[pp_delay])\n",
    "    ax_norm[1].lines[1].set_ydata(ppdData.ts0.probed.ix[pp_delay])\n",
    "       \n",
    "    display(fig_norm)"
   ]
  },
  {
   "cell_type": "code",
   "execution_count": null,
   "metadata": {
    "collapsed": false
   },
   "outputs": [],
   "source": [
    "ipyw.interact(plot_norm_update, pp_delay=ppWidget.ts0_ppdelay_childs[0])"
   ]
  },
  {
   "cell_type": "markdown",
   "metadata": {
    "extensions": {
     "jupyter_dashboards": {
      "version": 1,
      "views": {
       "grid_default": {
        "col": 4,
        "height": 4,
        "hidden": false,
        "row": 50,
        "width": 4
       },
       "report_default": {
        "hidden": false
       }
      }
     }
    }
   },
   "source": [
    "# Spectra Over Time"
   ]
  },
  {
   "cell_type": "code",
   "execution_count": null,
   "metadata": {
    "collapsed": false,
    "extensions": {
     "jupyter_dashboards": {
      "version": 1,
      "views": {
       "grid_default": {},
       "report_default": {
        "hidden": false
       }
      }
     }
    }
   },
   "outputs": [],
   "source": [
    "%%capture\n",
    "roi = slice(2200,2800)\n",
    "\n",
    "def plot_compare_update(pp_delay):\n",
    "    for i in range(ppdData.ts0.df['spec_0'].shape[1]):\n",
    "        data = ppdData.ts0.df.loc[ppWidget.ts0_ppdelay_childs[1].value, \"spec_0\"][roi].iloc[:,i]\n",
    "        ax_compare[0].lines[i].set_ydata(data)\n",
    "        data = ppdData.ts0.df.loc[ppWidget.ts0_ppdelay_childs[1].value, \"spec_1\"][roi].iloc[:,i]\n",
    "        ax_compare[1].lines[i].set_ydata(data)\n",
    "    \n",
    "    display(fig_compare)\n",
    "    \n",
    "\n",
    "fig_compare, ax_compare = plt.subplots(1, 2, sharey=True, figsize=(16,6))\n",
    "ppdData.ts0.df.loc[ppWidget.ts0_ppdelay_childs[1].value, \"spec_0\"][roi].plot(ax=ax_compare[0])        \n",
    "ppdData.ts0.df.loc[ppWidget.ts0_ppdelay_childs[1].value, \"spec_1\"][roi].plot(ax=ax_compare[1])\n",
    "for ax, title in zip(ax_compare, ('spec_0', 'spec_1')):\n",
    "    ax.set_title(title)\n",
    "    for i in range(len(ax.lines)):\n",
    "        ax.lines[i].set_label('run %i'%i)\n",
    "    ax.legend()\n",
    "#plt.ylim(-0.002, 0.017)"
   ]
  },
  {
   "cell_type": "code",
   "execution_count": null,
   "metadata": {
    "collapsed": false,
    "extensions": {
     "jupyter_dashboards": {
      "version": 1,
      "views": {
       "grid_default": {
        "col": 8,
        "height": 8,
        "hidden": false,
        "row": 50,
        "width": 4
       },
       "report_default": {
        "hidden": false
       }
      }
     }
    }
   },
   "outputs": [],
   "source": [
    "w_f0 = ipyw.interact(plot_compare_update, pp_delay=ppWidget.ts0_ppdelay_childs[1])\n",
    "#display(w_f0)"
   ]
  },
  {
   "cell_type": "markdown",
   "metadata": {
    "extensions": {
     "jupyter_dashboards": {
      "version": 1,
      "views": {
       "grid_default": {
        "col": 4,
        "height": 4,
        "hidden": false,
        "row": 54,
        "width": 4
       },
       "report_default": {
        "hidden": false
       }
      }
     }
    }
   },
   "source": [
    "## Smoothed"
   ]
  },
  {
   "cell_type": "code",
   "execution_count": null,
   "metadata": {
    "collapsed": false,
    "extensions": {
     "jupyter_dashboards": {
      "version": 1,
      "views": {
       "grid_default": {
        "col": 0,
        "height": 12,
        "hidden": false,
        "row": 58,
        "width": 4
       },
       "report_default": {
        "hidden": false
       }
      }
     }
    }
   },
   "outputs": [],
   "source": [
    "#pp_slider3 = ipyw.SelectionSlider(options=list(ppdData.ts0.pp_delays), value=0, continuous_update=False)\n",
    "roi = slice(2200,2800) # get this from the pump\n",
    "def p3(pp_delay):\n",
    "    ppdData.ts0.pumped.loc[pp_delay][roi].rolling(10).mean().plot(label=\"pumped\")\n",
    "    ppdData.ts0.probed.loc[pp_delay][roi].rolling(10).mean().plot(label=\"probed\")\n",
    "    #plt.ylim(0.001, 0.015)\n",
    "    plt.title(str(pp_delay) + \" fs\")\n",
    "    plt.legend()\n",
    "    #plt.grid()\n",
    "\n",
    "ppWidget.p3 = ipyw.interactive(p3, pp_delay=ppWidget.ts0_ppdelay_childs[2])\n",
    "display(ppWidget.p3)\n",
    "plt.show()"
   ]
  },
  {
   "cell_type": "markdown",
   "metadata": {
    "extensions": {
     "jupyter_dashboards": {
      "version": 1,
      "views": {
       "grid_default": {
        "col": 4,
        "height": 4,
        "hidden": false,
        "row": 58,
        "width": 4
       },
       "report_default": {
        "hidden": false
       }
      }
     }
    }
   },
   "source": [
    "# Bleach Trace"
   ]
  },
  {
   "cell_type": "code",
   "execution_count": null,
   "metadata": {
    "collapsed": false,
    "extensions": {
     "jupyter_dashboards": {
      "version": 1,
      "views": {
       "grid_default": {
        "col": 8,
        "height": 11,
        "hidden": false,
        "row": 58,
        "width": 4
       },
       "report_default": {
        "hidden": false
       }
      }
     }
    }
   },
   "outputs": [],
   "source": [
    "roi_slider_range = int(ppdData.ts0.df.index.levels[1].min()), int(ppdData.ts0.df.index.levels[1].max())\n",
    "#roi_slider_range = 0, 800\n",
    "roi_slider = ipyw.IntRangeSlider(\n",
    "    value = (2450, 2600),\n",
    "    min = roi_slider_range[0],\n",
    "    max = roi_slider_range[1],\n",
    "    continuous_update=False\n",
    ")\n",
    "\n",
    "#roi = slice(2450,2600)\n",
    "\n",
    "def plot_bleach_trace(roi):\n",
    "    tss = ppdData.ts0.bleach.unstack(0)\n",
    "    tss = tss[(tss.index > roi[0]) & (tss.index < roi[1])].sum()\n",
    "\n",
    "    tss.plot()\n",
    "    plt.scatter(tss.index, tss)\n",
    "    plt.title(r\"Bleach from (%i to %i)cm$^{-1}$\"%(roi[0], roi[1]))\n",
    "    \n",
    "ipyw.interact(plot_bleach_trace, roi=roi_slider)\n",
    "plt.show()"
   ]
  },
  {
   "cell_type": "code",
   "execution_count": null,
   "metadata": {
    "collapsed": true
   },
   "outputs": [],
   "source": [
    "ppdData.ts0.pump"
   ]
  },
  {
   "cell_type": "code",
   "execution_count": null,
   "metadata": {
    "collapsed": false
   },
   "outputs": [],
   "source": [
    "ppdData.ts0.df.ix[0, \"spec_0\"].plot()"
   ]
  },
  {
   "cell_type": "code",
   "execution_count": null,
   "metadata": {
    "collapsed": false
   },
   "outputs": [],
   "source": [
    "import datetime\n",
    "pp_delays = 25\n",
    "exp_time = 10# in minutes\n",
    "reps = 3 #number of repetitions\n",
    "datetime.datetime.now() + datetime.timedelta(minutes=pp_delays*exp_time*reps)"
   ]
  },
  {
   "cell_type": "code",
   "execution_count": null,
   "metadata": {
    "collapsed": false
   },
   "outputs": [],
   "source": [
    "25*10/60"
   ]
  },
  {
   "cell_type": "code",
   "execution_count": null,
   "metadata": {
    "collapsed": true
   },
   "outputs": [],
   "source": []
  }
 ],
 "metadata": {
  "extensions": {
   "jupyter_dashboards": {
    "activeView": "report_default",
    "version": 1,
    "views": {
     "grid_default": {
      "cellMargin": 10,
      "defaultCellHeight": 20,
      "maxColumns": 12,
      "name": "grid",
      "type": "grid"
     },
     "report_default": {
      "name": "report",
      "type": "report"
     }
    }
   }
  },
  "kernelspec": {
   "display_name": "Python 3",
   "language": "python",
   "name": "python3"
  },
  "language_info": {
   "codemirror_mode": {
    "name": "ipython",
    "version": 3
   },
   "file_extension": ".py",
   "mimetype": "text/x-python",
   "name": "python",
   "nbconvert_exporter": "python",
   "pygments_lexer": "ipython3",
   "version": "3.5.2"
  },
  "widgets": {
   "state": {
    "0d687a763aea4b71afe57b72145b43ba": {
     "views": [
      {
       "cell_index": 5
      }
     ]
    },
    "198f39abe7ef487895b35cf55f12fa72": {
     "views": [
      {
       "cell_index": 4
      }
     ]
    },
    "211d1a4dec0248faa01e01d28f6ab50f": {
     "views": [
      {
       "cell_index": 5
      }
     ]
    },
    "33544bb2b52d40948cd6d24c01ce2e6b": {
     "views": [
      {
       "cell_index": 7
      }
     ]
    },
    "3525653a97d84d9f8639746fd1ef5a8f": {
     "views": [
      {
       "cell_index": 5
      }
     ]
    },
    "366552a0d3db4e78bfed2e963aacc4b0": {
     "views": [
      {
       "cell_index": 7
      }
     ]
    },
    "47452becc2984247b2b6f8a50039b5d3": {
     "views": [
      {
       "cell_index": 2
      }
     ]
    },
    "6fd00be2cb794745ba5ce7e666fb8be5": {
     "views": [
      {
       "cell_index": 2
      }
     ]
    },
    "7037d6b75d9248d6ba0c6c1bfffb0789": {
     "views": [
      {
       "cell_index": 2
      }
     ]
    },
    "797613c8eeb44a2c9ea991b0ffb033a2": {
     "views": [
      {
       "cell_index": 2
      }
     ]
    },
    "81967ec658c3466093319fdde09bf368": {
     "views": [
      {
       "cell_index": 2
      }
     ]
    },
    "87fe6fd1e75c438c95a250b8dd6f2157": {
     "views": [
      {
       "cell_index": 5
      }
     ]
    },
    "89cb7ac0c8b441438195ad2ebc8d8b73": {
     "views": [
      {
       "cell_index": 2
      }
     ]
    },
    "8e71a1828b504a0f84ef93eb286e7d20": {
     "views": [
      {
       "cell_index": 5
      }
     ]
    },
    "9d3c757a02894b62b3e88406ddb70564": {
     "views": [
      {
       "cell_index": 4
      }
     ]
    },
    "ada596e28adb49f1ab4ff9517d6a1672": {
     "views": [
      {
       "cell_index": 4
      }
     ]
    },
    "bb02191ec5204bd3a08f9f1eedc2b7ad": {
     "views": [
      {
       "cell_index": 5
      }
     ]
    },
    "bed07134672b47c588556ca3e9fa1190": {
     "views": [
      {
       "cell_index": 2
      },
      {
       "cell_index": 2
      }
     ]
    },
    "c5862a2d16614db2b862859e081fac22": {
     "views": [
      {
       "cell_index": 2
      }
     ]
    },
    "c9f1ffbe260b4daca4cbba1f9508b78e": {
     "views": [
      {
       "cell_index": 2
      }
     ]
    },
    "cb062248e0dd4db7b8ff9a6919db508b": {
     "views": [
      {
       "cell_index": 2
      },
      {
       "cell_index": 2
      }
     ]
    },
    "db98c81e3f75435c8e0b4e94001a7a96": {
     "views": [
      {
       "cell_index": 4
      }
     ]
    },
    "e3cd7e84c8fb451285113900680193dd": {
     "views": [
      {
       "cell_index": 2
      }
     ]
    },
    "e731dc0291274e919b71825263777a7b": {
     "views": [
      {
       "cell_index": 2
      }
     ]
    },
    "f64a72a858a54937ac266b3b9fb49e97": {
     "views": [
      {
       "cell_index": 2
      }
     ]
    }
   },
   "version": "1.2.0"
  }
 },
 "nbformat": 4,
 "nbformat_minor": 0
}
