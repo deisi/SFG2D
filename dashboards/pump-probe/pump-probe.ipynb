{
 "cells": [
  {
   "cell_type": "code",
   "execution_count": 1,
   "metadata": {
    "collapsed": false
   },
   "outputs": [],
   "source": [
    "%matplotlib inline\n",
    "#%matplotlib notebook\n",
    "import matplotlib.pyplot as plt\n",
    "import numpy as np\n",
    "from bqplot import pyplot as bplt\n",
    "from bqplot import (\n",
    "    LogScale, LinearScale, OrdinalColorScale, ColorAxis,\n",
    "    Axis, Scatter, Lines, CATEGORY10, Label, Figure, Tooltip\n",
    ")\n",
    "\n",
    "import ipywidgets as ipyw\n",
    "import seaborn as sns\n",
    "import pandas as pd\n",
    "import SFG2D\n",
    "import gui\n",
    "\n",
    "from IPython.display import display\n",
    "from watchdog.observers import Observer\n",
    "\n",
    "# Set plot layout\n",
    "#plt.style.use('seaborn-notebook')\n",
    "#sns.set_style(\"white\")\n",
    "#sns.set_style(\"ticks\")\n",
    "#sns.set_context(\"talk\", font_scale=1.5, rc={\"lines.linewidth\": 2.5})\n",
    "\n",
    "# Setup Data and Widget class\n",
    "ppdData = gui.PumpProbeDashboardData('/home/malte/MeasurmentData/2016/09/07/')\n",
    "ppWidget = gui.PumpProbeWidget(ppdData)\n",
    "ppWidget.linkTraitlets()\n",
    "# load last gui config\n",
    "ppWidget.load(ppdData.ffolder)\n",
    "#ppWidget.setupObservers(ppdData)\n",
    "\n",
    "# Setup file observer\n",
    "ffolder_observer = Observer()\n",
    "event_handler = gui.MyHandler()\n",
    "event_handler.ppdData = ppdData\n",
    "event_handler.ppWidget = ppWidget\n",
    "ffolder_observer.schedule(event_handler, ppdData.ffolder, recursive=False)\n",
    "ffolder_observer.start()"
   ]
  },
  {
   "cell_type": "markdown",
   "metadata": {
    "extensions": {
     "jupyter_dashboards": {
      "version": 1,
      "views": {
       "grid_default": {
        "col": 5,
        "height": 4,
        "hidden": false,
        "row": 4,
        "width": 4
       },
       "report_default": {
        "hidden": false
       }
      }
     }
    }
   },
   "source": [
    "## IR Profile"
   ]
  },
  {
   "cell_type": "code",
   "execution_count": 2,
   "metadata": {
    "collapsed": false
   },
   "outputs": [
    {
     "name": "stderr",
     "output_type": "stream",
     "text": [
      "/home/malte/Analysis/SFG2D/io/veronica.py:261: UserWarning: cant determine spectrum type of data by filename.Trying to determine datatype from content.This is much slower\n",
      "  warnings.warn('cant determine spectrum type of data by filename.'\n"
     ]
    }
   ],
   "source": [
    "class w_ir():\n",
    "    data =  None\n",
    "    \n",
    "    def get(fpath, fbase):\n",
    "        \"\"\"Get Data from HDD\"\"\"\n",
    "        ir = SFG2D.io.veronica.read_auto(ppdData.ffolder + fpath)\n",
    "        # Ir Profile should not be measured by a TimeScan\n",
    "        if not isinstance(ir, SFG2D.core.scan.Scan):\n",
    "            return -1\n",
    "        \n",
    "        # Data is handeled twice.\n",
    "        # Heavy lifting is done inside of ppdData,\n",
    "        # while w_ir.data is a container for the data presented by w_ir\n",
    "        ppdData._ir = ir\n",
    "        w_ir.data = ppdData.ir.med\n",
    "        \n",
    "        base = SFG2D.io.veronica.read_auto(ppdData.ffolder + fbase)\n",
    "        if not isinstance(base, SFG2D.core.scan.Scan):\n",
    "            return -1\n",
    "        ppdData.ir.base = base.med\n",
    "\n",
    "        # Because update_sub_baseline is only called on change\n",
    "        if ppWidget.ir_sub_base.value:\n",
    "            ppdData.ir.sub_base(inplace=True)\n",
    "            w_ir.data = ppdData.ir.med\n",
    "            \n",
    "        if ppWidget.ir_spec.value is not \"All\":\n",
    "            w_ir.data = ppdData.ir.med[ppWidget.ir_spec.value]\n",
    "\n",
    "    def update(new):\n",
    "        \"\"\"Update the data on value change\"\"\"\n",
    "        w_ir.get(ppWidget.ir_fpath.value, ppWidget.ir_fbase.value)\n",
    "        \n",
    "    def fig_init(param_dict={}):\n",
    "        \"\"\"Init an empty bqplot figure\"\"\"\n",
    "        x_sc = LinearScale()\n",
    "        y_sc = LinearScale()\n",
    "\n",
    "        line = Lines(scales={'x':x_sc, 'y':y_sc})\n",
    "\n",
    "        ax_x = Axis(scale=x_sc, \n",
    "                    label='Wavenumber')\n",
    "        ax_y = Axis(scale=y_sc, \n",
    "                    label='Counts', orientation='vertical')\n",
    "\n",
    "        fig = Figure(marks=[line], axes=[ax_x, ax_y], \n",
    "                     title='IR Profile')\n",
    "        return fig\n",
    "\n",
    "    def fig_update(new):\n",
    "        \"\"\"Update bqplot figure with new data\"\"\"\n",
    "        #ir_fig.marks[0].x = ppdData.ir.df.index\n",
    "        ir_fig.marks[0].x = w_ir.data.index\n",
    "        ir_fig.marks[0].y = w_ir.data.transpose()\n",
    "        \n",
    "        # Colum names are different for DataFrames and Series\n",
    "        if isinstance(w_ir.data, pd.core.frame.DataFrame):\n",
    "            ir_fig.marks[0].labels = w_ir.data.columns.values.tolist()\n",
    "        if isinstance(w_ir.data, pd.core.series.Series):\n",
    "            ir_fig.marks[0].labels = [w_ir.data.name]\n",
    "            \n",
    "        ir_fig.marks[0].labels_visibility='none'\n",
    "        ir_fig.marks[0].display_legend=True\n",
    "        ir_fig.legend_location = 'top-right'\n",
    "\n",
    "    def sub_baseline_update(new):\n",
    "        \"\"\"Substract baseline and update data\"\"\"\n",
    "        if ppWidget.ir_sub_base.value:\n",
    "            ppdData.ir.sub_base(inplace=True)\n",
    "        else: \n",
    "            ppdData.ir.add_base(inplace=True)\n",
    "        \n",
    "        if ppWidget.ir_spec.value is \"All\":\n",
    "            w_ir.data = ppdData.ir.med\n",
    "        else:\n",
    "            w_ir.data = ppdData.ir.med[ppWidget.ir_spec.value]\n",
    "    \n",
    "    def update_spec(new):\n",
    "        \"\"\"Update spectrum of interest\"\"\"\n",
    "        if ppWidget.ir_spec.value is not \"All\":\n",
    "            w_ir.data = ppdData.ir.med[ppWidget.ir_spec.value] \n",
    "        else:\n",
    "            w_ir.data = ppdData.ir.med\n",
    "\n",
    "g = w_ir.get(ppWidget.ir_fpath.value, ppWidget.ir_fbase.value)\n",
    "ir_fig = w_ir.fig_init()\n",
    "if g is not -1:\n",
    "    w_ir.fig_update(None)\n",
    "\n",
    "ppWidget.ir_fpath.observe(w_ir.update, 'value')\n",
    "ppWidget.ir_fpath.observe(w_ir.fig_update, 'value')\n",
    "\n",
    "ppWidget.ir_fbase.observe(w_ir.update, 'value')\n",
    "ppWidget.ir_fbase.observe(w_ir.fig_update, 'value')\n",
    "\n",
    "ppWidget.ir_sub_base.observe(w_ir.sub_baseline_update, 'value')\n",
    "ppWidget.ir_sub_base.observe(w_ir.fig_update, 'value')\n",
    "\n",
    "ppWidget.ir_spec.observe(w_ir.update_spec, 'value')\n",
    "ppWidget.ir_spec.observe(w_ir.fig_update, 'value')\n",
    "\n",
    "display(ppWidget.ir_fpath, ppWidget.ir_fbase, ppWidget.ir_sub_base, ppWidget.ir_spec, ir_fig)"
   ]
  },
  {
   "cell_type": "code",
   "execution_count": null,
   "metadata": {
    "collapsed": false
   },
   "outputs": [],
   "source": [
    "ppdData.ir = '/19_sp_d20_w675_gcm_e20m_ssp_pu1_pr0_vis1_gal1_chop1_purge1.dat'\n",
    "ppdData.ir.df[\"spec_0\"].clip_upper(340).plot.hist(bins=np.arange(260, 300, 2))\n",
    "ppdData.ir.df[\"spec_1\"].clip_upper(340).plot.hist(bins=np.arange(260, 300, 2), alpha=0.5)"
   ]
  },
  {
   "cell_type": "markdown",
   "metadata": {
    "extensions": {
     "jupyter_dashboards": {
      "version": 1,
      "views": {
       "grid_default": {
        "col": 5,
        "height": 4,
        "hidden": false,
        "row": 8,
        "width": 4
       },
       "report_default": {
        "hidden": false
       }
      }
     }
    }
   },
   "source": [
    "## Pump Profile"
   ]
  },
  {
   "cell_type": "code",
   "execution_count": 14,
   "metadata": {
    "collapsed": true
   },
   "outputs": [
    {
     "data": {
      "text/plain": [
       "wavenumber\n",
       "4268.2    303\n",
       "4269.2    302\n",
       "4270.1    302\n",
       "4271.1    299\n",
       "4272.0    301\n",
       "4272.9    300\n",
       "4273.9    301\n",
       "4274.8    301\n",
       "4275.8    306\n",
       "4276.7    305\n",
       "4277.7    305\n",
       "4278.6    302\n",
       "4279.6    298\n",
       "4280.5    303\n",
       "4281.5    304\n",
       "4282.4    304\n",
       "4283.4    302\n",
       "4284.3    297\n",
       "4285.3    304\n",
       "4286.2    298\n",
       "4287.2    302\n",
       "4288.1    299\n",
       "4289.1    304\n",
       "4290.0    296\n",
       "4291.0    303\n",
       "4291.9    303\n",
       "4292.8    300\n",
       "4293.8    298\n",
       "4294.7    299\n",
       "4295.7    300\n",
       "         ... \n",
       "5899.3    309\n",
       "5900.5    305\n",
       "5901.6    301\n",
       "5902.7    299\n",
       "5903.9    303\n",
       "5905.0    297\n",
       "5906.2    302\n",
       "5907.3    300\n",
       "5908.5    299\n",
       "5909.6    301\n",
       "5910.7    303\n",
       "5911.9    304\n",
       "5913.0    301\n",
       "5914.2    300\n",
       "5915.3    304\n",
       "5916.5    300\n",
       "5917.6    305\n",
       "5918.7    301\n",
       "5919.9    303\n",
       "5921.0    297\n",
       "5922.2    301\n",
       "5923.3    304\n",
       "5924.5    305\n",
       "5925.6    301\n",
       "5926.7    299\n",
       "5927.9    301\n",
       "5929.0    301\n",
       "5930.2    303\n",
       "5931.3    302\n",
       "5932.5    301\n",
       "Name: spec_0, dtype: int16"
      ]
     },
     "execution_count": 14,
     "metadata": {},
     "output_type": "execute_result"
    }
   ],
   "source": [
    "ppdData._pump = SFG2D.io.veronica.read_auto(ppdData.ffolder + \"/07_ts_gold_w575_g1_e1s_ssp_pu1_pr1_vis1_gal1_chop1_purge1.dat\")\n",
    "ppdData.pump.med.ix[0][\"spec_0\"]"
   ]
  },
  {
   "cell_type": "code",
   "execution_count": 2,
   "metadata": {
    "collapsed": false
   },
   "outputs": [
    {
     "name": "stderr",
     "output_type": "stream",
     "text": [
      "/home/malte/Analysis/SFG2D/io/veronica.py:261: UserWarning: cant determine spectrum type of data by filename.Trying to determine datatype from content.This is much slower\n",
      "  warnings.warn('cant determine spectrum type of data by filename.'\n"
     ]
    }
   ],
   "source": [
    "class w_pump():\n",
    "    data = None\n",
    "    \n",
    "    def get(fpath):\n",
    "        pump = SFG2D.io.veronica.read_auto(ppdData.ffolder + fpath)\n",
    "        ppdData._pump = pump\n",
    "        if isinstance(pump, SFG2D.core.scan.TimeScan):\n",
    "            ppWidget.pump_ppdelay.options = list(pump.pp_delays)\n",
    "            #if ppWidget.pump_ppdelay.value in ppdData.pump.pp_delays:\n",
    "            w_pump.data = ppdData.pump.med.ix[ppWidget.pump_ppdelay.value]\n",
    "    \n",
    "        else:\n",
    "            w_pump.data = ppdData.pump.med\n",
    "            ppWidget.pump_ppdelay.options = [0]\n",
    "            ppWidget.pump_ppdelay.value = 0\n",
    "            \n",
    "        # TODO implement pump is scan but base is TimeScan\n",
    "        base = SFG2D.io.veronica.read_auto(ppdData.ffolder + ppWidget.pump_fbase.value)\n",
    "        ppdData.pump.base =  base.med\n",
    "        \n",
    "        if ppWidget.pump_spec.value is not \"All\":\n",
    "            w_pump.data = w_pump.data[ppWidget.pump_spec.value]\n",
    "            ppdData.pump.base = base.med[ppWidget.pump_spec.value]\n",
    "        \n",
    "    def update(new):\n",
    "        w_pump.get(ppWidget.pump_fpath.value)\n",
    "     \n",
    "    def fig_init(param_dict={}):\n",
    "        \"\"\"Init an empty bqplot figure\"\"\"\n",
    "        x_sc = LinearScale()\n",
    "        y_sc = LinearScale()\n",
    "\n",
    "        line = Lines(scales={'x':x_sc, 'y':y_sc})\n",
    "\n",
    "        ax_x = Axis(scale=x_sc, \n",
    "                    label='Wavenumber')\n",
    "        ax_y = Axis(scale=y_sc, \n",
    "                    label='Counts', orientation='vertical')\n",
    "\n",
    "        fig = Figure(marks=[line], axes=[ax_x, ax_y], \n",
    "                     title='Pump Profile')\n",
    "        return fig\n",
    "\n",
    "    def fig_update(new):\n",
    "        pump_fig.marks[0].x = w_pump.data.index\n",
    "        pump_fig.marks[0].y = w_pump.data.transpose()\n",
    "\n",
    "    def sub_baseline_update(new):\n",
    "        raise NotImplementedError\n",
    "    \n",
    "    def update_spec(new):\n",
    "        if isinstance(ppdData.pump,  SFG2D.core.scan.TimeScan):\n",
    "            w_pump.data = ppdData.pump.med.ix[ppWidget.pump_ppdelay.value]\n",
    "        else:\n",
    "            w_pump.data = ppdData.pump.med\n",
    "            \n",
    "        if ppWidget.pump_spec.value is not \"All\":\n",
    "            w_pump.data = w_pump.data[ppWidget.pump_spec.value]\n",
    "        \n",
    "    def update_ppdelay(new):\n",
    "        if isinstance(ppdData.pump,  SFG2D.core.scan.TimeScan):\n",
    "            w_pump.data = ppdData.pump.med.ix[ppWidget.pump_ppdelay.value]\n",
    "        else:\n",
    "            w_pump.data = ppdData.pump.med\n",
    "            \n",
    "        if ppWidget.pump_spec.value is not \"All\":\n",
    "            w_pump.data = w_pump.data[ppWidget.pump_spec.value]\n",
    "        \n",
    "        \n",
    "w_pump.get(ppWidget.pump_fpath.value)\n",
    "\n",
    "pump_fig = w_pump.fig_init()\n",
    "w_pump.fig_update(None)\n",
    "\n",
    "ppWidget.pump_fpath.observe(w_pump.update, 'value')\n",
    "ppWidget.pump_fpath.observe(w_pump.fig_update, 'value')\n",
    "\n",
    "#ppWidget.pump_fbase.observe(w_pump.update, 'value')\n",
    "#ppWidget.pump_fbase.observe(w_pump.fig_update, 'value')\n",
    "\n",
    "#ppWidget.pump_sub_base.observe(w_pump.sub_baseline_update, 'value')\n",
    "#ppWidget.pump_sub_base.observe(w_pump.fig_update, 'value')\n",
    "ppWidget.pump_ppdelay.observe(w_pump.update_ppdelay, 'value')\n",
    "ppWidget.pump_ppdelay.observe(w_pump.fig_update, 'value')\n",
    "\n",
    "ppWidget.pump_spec.observe(w_pump.update_spec, 'value')\n",
    "ppWidget.pump_spec.observe(w_pump.fig_update, 'value')\n",
    "\n",
    "display(ppWidget.pump_fpath, ppWidget.pump_spec, ppWidget.pump_ppdelay, pump_fig)\n",
    "#bplt.show()"
   ]
  },
  {
   "cell_type": "markdown",
   "metadata": {
    "collapsed": false,
    "extensions": {
     "jupyter_dashboards": {
      "version": 1,
      "views": {
       "grid_default": {
        "col": 0,
        "height": 4,
        "hidden": false,
        "row": 26,
        "width": 4
       },
       "report_default": {
        "hidden": false
       }
      }
     }
    }
   },
   "source": [
    "# Pump-Probe Data"
   ]
  },
  {
   "cell_type": "markdown",
   "metadata": {
    "extensions": {
     "jupyter_dashboards": {
      "version": 1,
      "views": {
       "grid_default": {},
       "report_default": {
        "hidden": false
       }
      }
     }
    }
   },
   "source": [
    "## Baseline for Pump-Probe Data"
   ]
  },
  {
   "cell_type": "code",
   "execution_count": 2,
   "metadata": {
    "collapsed": false
   },
   "outputs": [
    {
     "name": "stderr",
     "output_type": "stream",
     "text": [
      "/home/malte/Analysis/SFG2D/io/veronica.py:261: UserWarning: cant determine spectrum type of data by filename.Trying to determine datatype from content.This is much slower\n",
      "  warnings.warn('cant determine spectrum type of data by filename.'\n"
     ]
    }
   ],
   "source": [
    "class w_base():\n",
    "    data = None\n",
    "    def get(fbase):\n",
    "        ppdData._base = SFG2D.io.veronica.read_auto(fbase)\n",
    "        w_base.data = ppdData.base.med\n",
    "    \n",
    "    def update(new):\n",
    "        w_base.get(ppdData.ffolder + ppWidget.fbase.value)\n",
    "        \n",
    "    def fig_init(param_dict={}):\n",
    "        \"\"\"Init an empty bqplot figure\"\"\"\n",
    "        x_sc = LinearScale()\n",
    "        y_sc = LinearScale()\n",
    "\n",
    "        line = Lines(scales={'x':x_sc, 'y':y_sc})\n",
    "\n",
    "        ax_x = Axis(scale=x_sc, \n",
    "                    label='Wavenumber')\n",
    "        ax_y = Axis(scale=y_sc, \n",
    "                    label='Counts', orientation='vertical')\n",
    "\n",
    "        fig = Figure(marks=[line], axes=[ax_x, ax_y], \n",
    "                     title='Pump Profile')\n",
    "        return fig\n",
    "        \n",
    "    def fig_update(new):\n",
    "        base_fig.marks[0].x = w_base.data.index\n",
    "        base_fig.marks[0].y = w_base.data.transpose()\n",
    "        \n",
    "w_base.get(ppdData.ffolder + ppWidget.fbase.value)      \n",
    "base_fig = w_base.fig_init()\n",
    "w_base.fig_update(None)\n",
    "\n",
    "ppWidget.fbase.observe(w_base.update, 'value')\n",
    "ppWidget.fbase.observe(w_base.fig_update, 'value')\n",
    "#w_base = ipyw.interactive(set_base, fbase = ppWidget.fbase)\n",
    "\n",
    "display(ppWidget.fbase, base_fig)"
   ]
  },
  {
   "cell_type": "code",
   "execution_count": 4,
   "metadata": {
    "collapsed": false
   },
   "outputs": [
    {
     "data": {
      "text/html": [
       "<div>\n",
       "<table border=\"1\" class=\"dataframe\">\n",
       "  <thead>\n",
       "    <tr style=\"text-align: right;\">\n",
       "      <th></th>\n",
       "      <th></th>\n",
       "      <th>spec_0</th>\n",
       "      <th>spec_1</th>\n",
       "      <th>spec_2</th>\n",
       "    </tr>\n",
       "    <tr>\n",
       "      <th>pp_delay</th>\n",
       "      <th>wavenumber</th>\n",
       "      <th></th>\n",
       "      <th></th>\n",
       "      <th></th>\n",
       "    </tr>\n",
       "  </thead>\n",
       "  <tbody>\n",
       "    <tr>\n",
       "      <th rowspan=\"30\" valign=\"top\">-1900</th>\n",
       "      <th>4268.2</th>\n",
       "      <td>298</td>\n",
       "      <td>299</td>\n",
       "      <td>297</td>\n",
       "    </tr>\n",
       "    <tr>\n",
       "      <th>4269.2</th>\n",
       "      <td>296</td>\n",
       "      <td>298</td>\n",
       "      <td>297</td>\n",
       "    </tr>\n",
       "    <tr>\n",
       "      <th>4270.1</th>\n",
       "      <td>298</td>\n",
       "      <td>301</td>\n",
       "      <td>298</td>\n",
       "    </tr>\n",
       "    <tr>\n",
       "      <th>4271.1</th>\n",
       "      <td>288</td>\n",
       "      <td>300</td>\n",
       "      <td>301</td>\n",
       "    </tr>\n",
       "    <tr>\n",
       "      <th>4272.0</th>\n",
       "      <td>303</td>\n",
       "      <td>299</td>\n",
       "      <td>304</td>\n",
       "    </tr>\n",
       "    <tr>\n",
       "      <th>4272.9</th>\n",
       "      <td>299</td>\n",
       "      <td>301</td>\n",
       "      <td>296</td>\n",
       "    </tr>\n",
       "    <tr>\n",
       "      <th>4273.9</th>\n",
       "      <td>303</td>\n",
       "      <td>303</td>\n",
       "      <td>298</td>\n",
       "    </tr>\n",
       "    <tr>\n",
       "      <th>4274.8</th>\n",
       "      <td>302</td>\n",
       "      <td>302</td>\n",
       "      <td>300</td>\n",
       "    </tr>\n",
       "    <tr>\n",
       "      <th>4275.8</th>\n",
       "      <td>297</td>\n",
       "      <td>301</td>\n",
       "      <td>302</td>\n",
       "    </tr>\n",
       "    <tr>\n",
       "      <th>4276.7</th>\n",
       "      <td>307</td>\n",
       "      <td>299</td>\n",
       "      <td>295</td>\n",
       "    </tr>\n",
       "    <tr>\n",
       "      <th>4277.7</th>\n",
       "      <td>301</td>\n",
       "      <td>299</td>\n",
       "      <td>299</td>\n",
       "    </tr>\n",
       "    <tr>\n",
       "      <th>4278.6</th>\n",
       "      <td>299</td>\n",
       "      <td>298</td>\n",
       "      <td>300</td>\n",
       "    </tr>\n",
       "    <tr>\n",
       "      <th>4279.6</th>\n",
       "      <td>305</td>\n",
       "      <td>299</td>\n",
       "      <td>295</td>\n",
       "    </tr>\n",
       "    <tr>\n",
       "      <th>4280.5</th>\n",
       "      <td>298</td>\n",
       "      <td>305</td>\n",
       "      <td>300</td>\n",
       "    </tr>\n",
       "    <tr>\n",
       "      <th>4281.5</th>\n",
       "      <td>300</td>\n",
       "      <td>301</td>\n",
       "      <td>297</td>\n",
       "    </tr>\n",
       "    <tr>\n",
       "      <th>4282.4</th>\n",
       "      <td>305</td>\n",
       "      <td>300</td>\n",
       "      <td>302</td>\n",
       "    </tr>\n",
       "    <tr>\n",
       "      <th>4283.4</th>\n",
       "      <td>301</td>\n",
       "      <td>305</td>\n",
       "      <td>298</td>\n",
       "    </tr>\n",
       "    <tr>\n",
       "      <th>4284.3</th>\n",
       "      <td>300</td>\n",
       "      <td>298</td>\n",
       "      <td>306</td>\n",
       "    </tr>\n",
       "    <tr>\n",
       "      <th>4285.3</th>\n",
       "      <td>301</td>\n",
       "      <td>295</td>\n",
       "      <td>298</td>\n",
       "    </tr>\n",
       "    <tr>\n",
       "      <th>4286.2</th>\n",
       "      <td>301</td>\n",
       "      <td>291</td>\n",
       "      <td>296</td>\n",
       "    </tr>\n",
       "    <tr>\n",
       "      <th>4287.2</th>\n",
       "      <td>299</td>\n",
       "      <td>304</td>\n",
       "      <td>300</td>\n",
       "    </tr>\n",
       "    <tr>\n",
       "      <th>4288.1</th>\n",
       "      <td>301</td>\n",
       "      <td>296</td>\n",
       "      <td>298</td>\n",
       "    </tr>\n",
       "    <tr>\n",
       "      <th>4289.1</th>\n",
       "      <td>298</td>\n",
       "      <td>303</td>\n",
       "      <td>304</td>\n",
       "    </tr>\n",
       "    <tr>\n",
       "      <th>4290.0</th>\n",
       "      <td>300</td>\n",
       "      <td>296</td>\n",
       "      <td>303</td>\n",
       "    </tr>\n",
       "    <tr>\n",
       "      <th>4291.0</th>\n",
       "      <td>299</td>\n",
       "      <td>299</td>\n",
       "      <td>301</td>\n",
       "    </tr>\n",
       "    <tr>\n",
       "      <th>4291.9</th>\n",
       "      <td>300</td>\n",
       "      <td>297</td>\n",
       "      <td>300</td>\n",
       "    </tr>\n",
       "    <tr>\n",
       "      <th>4292.8</th>\n",
       "      <td>293</td>\n",
       "      <td>307</td>\n",
       "      <td>300</td>\n",
       "    </tr>\n",
       "    <tr>\n",
       "      <th>4293.8</th>\n",
       "      <td>298</td>\n",
       "      <td>304</td>\n",
       "      <td>300</td>\n",
       "    </tr>\n",
       "    <tr>\n",
       "      <th>4294.7</th>\n",
       "      <td>301</td>\n",
       "      <td>300</td>\n",
       "      <td>299</td>\n",
       "    </tr>\n",
       "    <tr>\n",
       "      <th>4295.7</th>\n",
       "      <td>301</td>\n",
       "      <td>303</td>\n",
       "      <td>299</td>\n",
       "    </tr>\n",
       "    <tr>\n",
       "      <th>...</th>\n",
       "      <th>...</th>\n",
       "      <td>...</td>\n",
       "      <td>...</td>\n",
       "      <td>...</td>\n",
       "    </tr>\n",
       "    <tr>\n",
       "      <th rowspan=\"30\" valign=\"top\">1900</th>\n",
       "      <th>5899.3</th>\n",
       "      <td>299</td>\n",
       "      <td>299</td>\n",
       "      <td>304</td>\n",
       "    </tr>\n",
       "    <tr>\n",
       "      <th>5900.5</th>\n",
       "      <td>301</td>\n",
       "      <td>305</td>\n",
       "      <td>303</td>\n",
       "    </tr>\n",
       "    <tr>\n",
       "      <th>5901.6</th>\n",
       "      <td>305</td>\n",
       "      <td>301</td>\n",
       "      <td>297</td>\n",
       "    </tr>\n",
       "    <tr>\n",
       "      <th>5902.7</th>\n",
       "      <td>301</td>\n",
       "      <td>296</td>\n",
       "      <td>296</td>\n",
       "    </tr>\n",
       "    <tr>\n",
       "      <th>5903.9</th>\n",
       "      <td>307</td>\n",
       "      <td>296</td>\n",
       "      <td>305</td>\n",
       "    </tr>\n",
       "    <tr>\n",
       "      <th>5905.0</th>\n",
       "      <td>299</td>\n",
       "      <td>297</td>\n",
       "      <td>296</td>\n",
       "    </tr>\n",
       "    <tr>\n",
       "      <th>5906.2</th>\n",
       "      <td>295</td>\n",
       "      <td>300</td>\n",
       "      <td>301</td>\n",
       "    </tr>\n",
       "    <tr>\n",
       "      <th>5907.3</th>\n",
       "      <td>300</td>\n",
       "      <td>304</td>\n",
       "      <td>302</td>\n",
       "    </tr>\n",
       "    <tr>\n",
       "      <th>5908.5</th>\n",
       "      <td>299</td>\n",
       "      <td>306</td>\n",
       "      <td>302</td>\n",
       "    </tr>\n",
       "    <tr>\n",
       "      <th>5909.6</th>\n",
       "      <td>299</td>\n",
       "      <td>298</td>\n",
       "      <td>297</td>\n",
       "    </tr>\n",
       "    <tr>\n",
       "      <th>5910.7</th>\n",
       "      <td>305</td>\n",
       "      <td>301</td>\n",
       "      <td>302</td>\n",
       "    </tr>\n",
       "    <tr>\n",
       "      <th>5911.9</th>\n",
       "      <td>304</td>\n",
       "      <td>299</td>\n",
       "      <td>301</td>\n",
       "    </tr>\n",
       "    <tr>\n",
       "      <th>5913.0</th>\n",
       "      <td>298</td>\n",
       "      <td>303</td>\n",
       "      <td>303</td>\n",
       "    </tr>\n",
       "    <tr>\n",
       "      <th>5914.2</th>\n",
       "      <td>299</td>\n",
       "      <td>300</td>\n",
       "      <td>300</td>\n",
       "    </tr>\n",
       "    <tr>\n",
       "      <th>5915.3</th>\n",
       "      <td>298</td>\n",
       "      <td>299</td>\n",
       "      <td>302</td>\n",
       "    </tr>\n",
       "    <tr>\n",
       "      <th>5916.5</th>\n",
       "      <td>303</td>\n",
       "      <td>299</td>\n",
       "      <td>302</td>\n",
       "    </tr>\n",
       "    <tr>\n",
       "      <th>5917.6</th>\n",
       "      <td>298</td>\n",
       "      <td>308</td>\n",
       "      <td>302</td>\n",
       "    </tr>\n",
       "    <tr>\n",
       "      <th>5918.7</th>\n",
       "      <td>303</td>\n",
       "      <td>296</td>\n",
       "      <td>302</td>\n",
       "    </tr>\n",
       "    <tr>\n",
       "      <th>5919.9</th>\n",
       "      <td>300</td>\n",
       "      <td>300</td>\n",
       "      <td>300</td>\n",
       "    </tr>\n",
       "    <tr>\n",
       "      <th>5921.0</th>\n",
       "      <td>300</td>\n",
       "      <td>297</td>\n",
       "      <td>299</td>\n",
       "    </tr>\n",
       "    <tr>\n",
       "      <th>5922.2</th>\n",
       "      <td>298</td>\n",
       "      <td>300</td>\n",
       "      <td>298</td>\n",
       "    </tr>\n",
       "    <tr>\n",
       "      <th>5923.3</th>\n",
       "      <td>301</td>\n",
       "      <td>301</td>\n",
       "      <td>302</td>\n",
       "    </tr>\n",
       "    <tr>\n",
       "      <th>5924.5</th>\n",
       "      <td>299</td>\n",
       "      <td>301</td>\n",
       "      <td>298</td>\n",
       "    </tr>\n",
       "    <tr>\n",
       "      <th>5925.6</th>\n",
       "      <td>303</td>\n",
       "      <td>305</td>\n",
       "      <td>304</td>\n",
       "    </tr>\n",
       "    <tr>\n",
       "      <th>5926.7</th>\n",
       "      <td>301</td>\n",
       "      <td>299</td>\n",
       "      <td>297</td>\n",
       "    </tr>\n",
       "    <tr>\n",
       "      <th>5927.9</th>\n",
       "      <td>298</td>\n",
       "      <td>296</td>\n",
       "      <td>302</td>\n",
       "    </tr>\n",
       "    <tr>\n",
       "      <th>5929.0</th>\n",
       "      <td>302</td>\n",
       "      <td>300</td>\n",
       "      <td>298</td>\n",
       "    </tr>\n",
       "    <tr>\n",
       "      <th>5930.2</th>\n",
       "      <td>300</td>\n",
       "      <td>299</td>\n",
       "      <td>301</td>\n",
       "    </tr>\n",
       "    <tr>\n",
       "      <th>5931.3</th>\n",
       "      <td>301</td>\n",
       "      <td>303</td>\n",
       "      <td>298</td>\n",
       "    </tr>\n",
       "    <tr>\n",
       "      <th>5932.5</th>\n",
       "      <td>299</td>\n",
       "      <td>294</td>\n",
       "      <td>299</td>\n",
       "    </tr>\n",
       "  </tbody>\n",
       "</table>\n",
       "<p>49600 rows × 3 columns</p>\n",
       "</div>"
      ],
      "text/plain": [
       "                     spec_0  spec_1  spec_2\n",
       "pp_delay wavenumber                        \n",
       "-1900    4268.2         298     299     297\n",
       "         4269.2         296     298     297\n",
       "         4270.1         298     301     298\n",
       "         4271.1         288     300     301\n",
       "         4272.0         303     299     304\n",
       "         4272.9         299     301     296\n",
       "         4273.9         303     303     298\n",
       "         4274.8         302     302     300\n",
       "         4275.8         297     301     302\n",
       "         4276.7         307     299     295\n",
       "         4277.7         301     299     299\n",
       "         4278.6         299     298     300\n",
       "         4279.6         305     299     295\n",
       "         4280.5         298     305     300\n",
       "         4281.5         300     301     297\n",
       "         4282.4         305     300     302\n",
       "         4283.4         301     305     298\n",
       "         4284.3         300     298     306\n",
       "         4285.3         301     295     298\n",
       "         4286.2         301     291     296\n",
       "         4287.2         299     304     300\n",
       "         4288.1         301     296     298\n",
       "         4289.1         298     303     304\n",
       "         4290.0         300     296     303\n",
       "         4291.0         299     299     301\n",
       "         4291.9         300     297     300\n",
       "         4292.8         293     307     300\n",
       "         4293.8         298     304     300\n",
       "         4294.7         301     300     299\n",
       "         4295.7         301     303     299\n",
       "...                     ...     ...     ...\n",
       " 1900    5899.3         299     299     304\n",
       "         5900.5         301     305     303\n",
       "         5901.6         305     301     297\n",
       "         5902.7         301     296     296\n",
       "         5903.9         307     296     305\n",
       "         5905.0         299     297     296\n",
       "         5906.2         295     300     301\n",
       "         5907.3         300     304     302\n",
       "         5908.5         299     306     302\n",
       "         5909.6         299     298     297\n",
       "         5910.7         305     301     302\n",
       "         5911.9         304     299     301\n",
       "         5913.0         298     303     303\n",
       "         5914.2         299     300     300\n",
       "         5915.3         298     299     302\n",
       "         5916.5         303     299     302\n",
       "         5917.6         298     308     302\n",
       "         5918.7         303     296     302\n",
       "         5919.9         300     300     300\n",
       "         5921.0         300     297     299\n",
       "         5922.2         298     300     298\n",
       "         5923.3         301     301     302\n",
       "         5924.5         299     301     298\n",
       "         5925.6         303     305     304\n",
       "         5926.7         301     299     297\n",
       "         5927.9         298     296     302\n",
       "         5929.0         302     300     298\n",
       "         5930.2         300     299     301\n",
       "         5931.3         301     303     298\n",
       "         5932.5         299     294     299\n",
       "\n",
       "[49600 rows x 3 columns]"
      ]
     },
     "execution_count": 4,
     "metadata": {},
     "output_type": "execute_result"
    }
   ],
   "source": [
    "w_base.data"
   ]
  },
  {
   "cell_type": "code",
   "execution_count": null,
   "metadata": {
    "collapsed": true
   },
   "outputs": [],
   "source": [
    "D = ppdData.ts0.df.sum(level=\"pp_delay\")\n",
    "\n",
    "dshape = D[ppWidget.ts0_probed.value].shape\n",
    "D"
   ]
  },
  {
   "cell_type": "code",
   "execution_count": null,
   "metadata": {
    "collapsed": false
   },
   "outputs": [],
   "source": [
    "class w_pump_probe():\n",
    "    def get(fpath):\n",
    "        ppdData.ts0 = SFG2D.io.veronica.read_auto(ppdData.ffolder + fpath)\n",
    "        if ppWidget.ts0_sub_base.value:\n",
    "            ppdData.ts0.base = ppdData.base.med\n",
    "            ppdData.ts0.sub_base(inplace=True)\n",
    "        if ppWidget.ir_spec.value is \"All\":\n",
    "            ppdData.ts0.norm = ppdData.ir.med\n",
    "        else:\n",
    "            ppdData.ts0.norm = ppdData.ir.med[ppWidget.ir_spec.value]\n",
    "        ppdData.ts0u = ppdData.ts0.__deepcopy__()\n",
    "        \n",
    "        if ppWidget.ts0_normalize.value:\n",
    "            ppdData.ts0.normalize(inplace=True)\n",
    "        ppWidget.ts0_ppdelay.options = list(ppdData.ts0.pp_delays)\n",
    "        \n",
    "        if ppWidget.ts0_ppdelay.value not in list(ppdData.ts0.pp_delays):\n",
    "            ppWidget.ts0_ppdelay.value = ppWidget.ts0_ppdelay.options[0]\n",
    "        \n",
    "    def update(new):\n",
    "        w_pump_probe.get(ppWidget.ts0_fpath.value)\n",
    "        \n",
    "    def pump_update(new):\n",
    "        ppdData.ts0.pumped = ppWidget.ts0_pumped.value\n",
    "        ppdData.ts0u.pumped = ppWidget.ts0_pumped.value\n",
    "    \n",
    "    def probe_update(new):\n",
    "        ppdData.ts0u.probed = ppWidget.ts0_probed.value\n",
    "        ppdData.ts0.probed = ppWidget.ts0_probed.value  \n",
    "        \n",
    "    def fig_init():\n",
    "        #bplt.figure(pump_probe_fig)\n",
    "        D = ppdData.ts0.med.ix[ppWidget.ts0_ppdelay.value]\n",
    "        bplt.plot(D.index, D.transpose())\n",
    "        \n",
    "    def fig_sum_init(): \n",
    "        #bplt.figure(pump_probe_sum_fig)\n",
    "        D = ppdData.ts0._df.sum(level='pp_delay')\n",
    "        \n",
    "        bplt.plot(D[ppWidget.ts0_probed.value].as_matrix().flatten('f'))\n",
    "        bplt.plot(D[ppWidget.ts0_pumped.value].as_matrix().flatten('f'))\n",
    "        \n",
    "        dshape = D[ppWidget.ts0_probed.value].shape\n",
    "        if len(dshape) > 1:\n",
    "            for i in range(dshape[1]):\n",
    "                bplt.vline(i * dshape[0])\n",
    "        \n",
    "    def fig_pump_probe_update(new):\n",
    "        #bplt.figure(pump_probe_fig)\n",
    "        pump_probe_fig.marks[0].x = ppdData.ts0.med.ix[ppWidget.ts0_ppdelay.value].index\n",
    "        pump_probe_fig.marks[0].y = ppdData.ts0.med.ix[ppWidget.ts0_ppdelay.value].transpose()\n",
    "        \n",
    "    def fig_pump_probe_sum_update(new):\n",
    "        #bplt.figure(pump_probe_sum_fig)\n",
    "        D = ppdData.ts0._df.sum(level='pp_delay')\n",
    "        mpr = D[ppWidget.ts0_probed.value].as_matrix().flatten('f')\n",
    "        mpu = D[ppWidget.ts0_pumped.value].as_matrix().flatten('f')\n",
    "        pump_probe_sum_fig.marks[0].x = range(mpr.shape[0])\n",
    "        pump_probe_sum_fig.marks[0].y = (mpr, mpu)\n",
    "        \n",
    "        # Delete old vlines and replace with new ones\n",
    "        pump_probe_sum_fig.marks = [pump_probe_sum_fig.marks[0]]\n",
    "        dshape = D[ppWidget.ts0_probed.value].shape\n",
    "        if len(dshape) > 1:\n",
    "            for i in range(dshape[1]):\n",
    "                bplt.vline(i * dshape[0])\n",
    "        \n",
    "display(ppWidget.ts0_fpath, ppWidget.ts0_probed, ppWidget.ts0_pumped, ppWidget.ts0_ppdelay)\n",
    "\n",
    "w_pump_probe.get(ppWidget.ts0_fpath.value)\n",
    "pump_probe_fig = bplt.figure()\n",
    "w_pump_probe.fig_init()\n",
    "\n",
    "pump_probe_sum_fig = bplt.figure()\n",
    "w_pump_probe.fig_sum_init()\n",
    "\n",
    "ppWidget.ts0_fpath.observe(w_pump_probe.update, 'value')\n",
    "ppWidget.ts0_fpath.observe(w_pump_probe.fig_pump_probe_update, 'value')\n",
    "ppWidget.ts0_fpath.observe(w_pump_probe.fig_pump_probe_sum_update, 'value')\n",
    "\n",
    "#ppWidget.ts0_probed.observe(w_pump_probe.probe_update, 'value')\n",
    "#ppWidget.ts0_probed.observe(w_pump_probe.fig_pump_probe_update, 'value')\n",
    "\n",
    "#ppWidget.ts0_pumped.observe(w_pump_probe.pump_update, 'value')\n",
    "#ppWidget.ts0_pumped.observe(w_pump_probe.fig_pump_probe_update)\n",
    "\n",
    "#ppWidget.ts0_ppdelay.observe(w_pump_probe.fig_pump_probe_update, 'value')\n",
    "\n",
    "\n",
    "\n",
    "bplt.show()"
   ]
  },
  {
   "cell_type": "code",
   "execution_count": null,
   "metadata": {
    "collapsed": false
   },
   "outputs": [],
   "source": [
    "ppdData.ts0"
   ]
  },
  {
   "cell_type": "code",
   "execution_count": null,
   "metadata": {
    "collapsed": false
   },
   "outputs": [],
   "source": [
    "w_pump_probe.get(ppWidget.ts0_fpath.value)\n",
    "D = ppdData.ts0._df.sum(level='pp_delay')['spec_0']\n",
    "len(D.shape)"
   ]
  },
  {
   "cell_type": "markdown",
   "metadata": {
    "collapsed": true
   },
   "source": [
    "#### pump_probe_fig = bplt.figure()\n",
    "w_pump_probe.fig_init()\n",
    "\n",
    "ppWidget.ts0_fpath.observe(w_pump_probe.update, 'value')\n",
    "#ppWidget.ts0_fpath.observe(w_pump_probe.fig_pump_probe_sum_update, 'value')\n",
    "ppWidget.ts0_fpath.observe(w_pump_probe.fig_pump_probe_update, \"value\")\n",
    "\n",
    "ppWidget.ts0_probed.observe(w_pump_probe.probe_update, 'value')\n",
    "ppWidget.ts0_probed.observe(w_pump_probe.fig_pump_probe_update, 'value')\n",
    "\n",
    "ppWidget.ts0_pumped.observe(w_pump_probe.pump_update, 'value')\n",
    "ppWidget.ts0_pumped.observe(w_pump_probe.fig_pump_probe_update)"
   ]
  },
  {
   "cell_type": "code",
   "execution_count": null,
   "metadata": {
    "collapsed": false
   },
   "outputs": [],
   "source": [
    "ppWidget.ts0_fpath"
   ]
  },
  {
   "cell_type": "code",
   "execution_count": null,
   "metadata": {
    "collapsed": true
   },
   "outputs": [],
   "source": [
    "def set_pump_probe(fpath, sub_base=False, normalize=False):\n",
    "    ppdData.ts0 = SFG2D.io.veronica.read_auto(ppdData.ffolder + fpath)\n",
    "    if sub_base:\n",
    "        ppdData.ts0.base = ppdData.base.med\n",
    "        ppdData.ts0.sub_base(inplace=True)\n",
    "    if ppWidget.ir_spec.value is \"All\":\n",
    "        ppdData.ts0.norm = ppdData.ir.med\n",
    "    else:\n",
    "        ppdData.ts0.norm = ppdData.ir.med[ppWidget.ir_spec.value]\n",
    "    ppdData.ts0u = ppdData.ts0.__deepcopy__()\n",
    "    if normalize:\n",
    "        ppdData.ts0.normalize(inplace=True)\n",
    "    ppWidget.ts0_ppdelay.options = list(ppdData.ts0.pp_delays)\n",
    "    ppWidget.ts0_ppdelay.value=0\n",
    "    \n",
    "def ts0_pump_update(*args):\n",
    "    #global ts0\n",
    "    ppdData.ts0.pumped = ppWidget.ts0_pumped.value\n",
    "    ppdData.ts0u.pumped = ppWidget.ts0_pumped.value\n",
    "    \n",
    "def ts0_probe_update(*args):\n",
    "    #global ts0\n",
    "    ppdData.ts0u.probed = ppWidget.ts0_probed.value\n",
    "    ppdData.ts0.probed = ppWidget.ts0_probed.value\n",
    "    \n",
    "def pump_probe_sum_plot(*args):\n",
    "    ax = axes_pump_probe_get[1]\n",
    "    if isinstance(ppdData.ts0u, SFG2D.core.scan.TimeScan):\n",
    "        [SFG2D.plotting.ts.sum_of_spectra(ppdData.ts0u, spec, ax) for spec in ('spec_0', 'spec_1', 'spec_2')]\n",
    "    ax.set_title(\"Sum of Spectra\")\n",
    "\n",
    "def pump_probe_plot(pp_delay):\n",
    "    ax = axes_pump_probe_get[0]\n",
    "    ax.clear()\n",
    "    \n",
    "    if isinstance(ppdData.ts0u, SFG2D.core.scan.TimeScan):\n",
    "        ppdData.ts0u.med.ix[pp_delay].plot(ax=ax)\n",
    "        ax.set_title(\"%i fs\"%pp_delay)\n",
    "        #plt.ylim(-0.002, 0.015) # get this from set_pump_probedata\n",
    "        #plt.xlim(2100, 2800) # get this from ir profile\n",
    "    fig_pump_probe_get.tight_layout()\n",
    "    display(fig_pump_probe_get)"
   ]
  },
  {
   "cell_type": "code",
   "execution_count": null,
   "metadata": {
    "collapsed": false
   },
   "outputs": [],
   "source": [
    "fig_pump_probe_get, axes_pump_probe_get = plt.subplots(1,2, figsize=(16,6))\n",
    "\n",
    "ppWidget.ts0 = ipyw.interactive(set_pump_probe, fpath=ppWidget.ts0_fpath, sub_base=ppWidget.ts0_sub_base, normalize=ppWidget.ts0_normalize)\n",
    "ppWidget.ts0_pumped.observe(ts0_pump_update, 'value')\n",
    "ppWidget.ts0_probed.observe(ts0_probe_update, 'value')\n",
    "pp\n",
    "\n",
    "\n",
    "ppWidget.ts0_plot = ipyw.interactive(pump_probe_plot, pp_delay=ppWidget.ts0_ppdelay)\n",
    "display(ppWidget.ts0, ppWidget.ts0_pumped, ppWidget.ts0_probed, ppWidget.ts0_plot)\n",
    "pump_probe_sum_plot()"
   ]
  },
  {
   "cell_type": "markdown",
   "metadata": {
    "extensions": {
     "jupyter_dashboards": {
      "version": 1,
      "views": {
       "grid_default": {},
       "report_default": {
        "hidden": false
       }
      }
     }
    }
   },
   "source": [
    "## Normalize Spectra"
   ]
  },
  {
   "cell_type": "code",
   "execution_count": null,
   "metadata": {
    "collapsed": false
   },
   "outputs": [],
   "source": [
    "%%capture\n",
    "fig_norm, ax_norm = plt.subplots(1,2, figsize=(12,6))\n",
    "ax_norm[0].set_title(\"Unnormalized\")\n",
    "ax_norm[1].set_title(\"Normalized\")\n",
    "#ax_norm[1].set_ylim(-0.002, 0.015)\n",
    "ppdData.ts0u.pumped.ix[ppWidget.ts0_ppdelay.value].plot(ax = ax_norm[0], label=\"pumped\")\n",
    "ppdData.ts0u.probed.ix[ppWidget.ts0_ppdelay.value].plot(ax = ax_norm[0], label=\"probed\")\n",
    "\n",
    "ppdData.ts0.pumped.ix[ppWidget.ts0_ppdelay.value].plot(ax = ax_norm[1], label = \"pumped\")\n",
    "ppdData.ts0.probed.ix[ppWidget.ts0_ppdelay.value].plot(ax = ax_norm[1], label = \"probed\")\n",
    "\n",
    "ax_norm[0].legend()\n",
    "fig_norm.tight_layout()\n",
    "\n",
    "\n",
    "def plot_norm_update(pp_delay):\n",
    "    ax_norm[0].lines[0].set_ydata(ppdData.ts0u.pumped.ix[pp_delay])\n",
    "    ax_norm[0].lines[1].set_ydata(ppdData.ts0u.probed.ix[pp_delay])\n",
    "\n",
    "    ax_norm[1].lines[0].set_ydata(ppdData.ts0.pumped.ix[pp_delay])\n",
    "    ax_norm[1].lines[1].set_ydata(ppdData.ts0.probed.ix[pp_delay])\n",
    "       \n",
    "    display(fig_norm)"
   ]
  },
  {
   "cell_type": "code",
   "execution_count": null,
   "metadata": {
    "collapsed": false
   },
   "outputs": [],
   "source": [
    "ipyw.interact(plot_norm_update, pp_delay=ppWidget.ts0_ppdelay_childs[0])"
   ]
  },
  {
   "cell_type": "markdown",
   "metadata": {
    "extensions": {
     "jupyter_dashboards": {
      "version": 1,
      "views": {
       "grid_default": {
        "col": 4,
        "height": 4,
        "hidden": false,
        "row": 50,
        "width": 4
       },
       "report_default": {
        "hidden": false
       }
      }
     }
    }
   },
   "source": [
    "# Spectra Over Time"
   ]
  },
  {
   "cell_type": "code",
   "execution_count": null,
   "metadata": {
    "collapsed": false,
    "extensions": {
     "jupyter_dashboards": {
      "version": 1,
      "views": {
       "grid_default": {},
       "report_default": {
        "hidden": false
       }
      }
     }
    }
   },
   "outputs": [],
   "source": [
    "%%capture\n",
    "roi = slice(2200,2800)\n",
    "\n",
    "def plot_compare_update(pp_delay):\n",
    "    for i in range(ppdData.ts0.df['spec_0'].shape[1]):\n",
    "        data = ppdData.ts0.df.loc[ppWidget.ts0_ppdelay_childs[1].value, \"spec_0\"][roi].iloc[:,i]\n",
    "        ax_compare[0].lines[i].set_ydata(data)\n",
    "        data = ppdData.ts0.df.loc[ppWidget.ts0_ppdelay_childs[1].value, \"spec_1\"][roi].iloc[:,i]\n",
    "        ax_compare[1].lines[i].set_ydata(data)\n",
    "    \n",
    "    display(fig_compare)\n",
    "    \n",
    "\n",
    "fig_compare, ax_compare = plt.subplots(1, 2, sharey=True, figsize=(16,6))\n",
    "ppdData.ts0.df.loc[ppWidget.ts0_ppdelay_childs[1].value, \"spec_0\"][roi].plot(ax=ax_compare[0])        \n",
    "ppdData.ts0.df.loc[ppWidget.ts0_ppdelay_childs[1].value, \"spec_1\"][roi].plot(ax=ax_compare[1])\n",
    "for ax, title in zip(ax_compare, ('spec_0', 'spec_1')):\n",
    "    ax.set_title(title)\n",
    "    for i in range(len(ax.lines)):\n",
    "        ax.lines[i].set_label('run %i'%i)\n",
    "    ax.legend()\n",
    "#plt.ylim(-0.002, 0.017)"
   ]
  },
  {
   "cell_type": "code",
   "execution_count": null,
   "metadata": {
    "collapsed": false,
    "extensions": {
     "jupyter_dashboards": {
      "version": 1,
      "views": {
       "grid_default": {
        "col": 8,
        "height": 8,
        "hidden": false,
        "row": 50,
        "width": 4
       },
       "report_default": {
        "hidden": false
       }
      }
     }
    }
   },
   "outputs": [],
   "source": [
    "w_f0 = ipyw.interact(plot_compare_update, pp_delay=ppWidget.ts0_ppdelay_childs[1])\n",
    "#display(w_f0)"
   ]
  },
  {
   "cell_type": "markdown",
   "metadata": {
    "extensions": {
     "jupyter_dashboards": {
      "version": 1,
      "views": {
       "grid_default": {
        "col": 4,
        "height": 4,
        "hidden": false,
        "row": 54,
        "width": 4
       },
       "report_default": {
        "hidden": false
       }
      }
     }
    }
   },
   "source": [
    "## Smoothed"
   ]
  },
  {
   "cell_type": "code",
   "execution_count": null,
   "metadata": {
    "collapsed": false,
    "extensions": {
     "jupyter_dashboards": {
      "version": 1,
      "views": {
       "grid_default": {
        "col": 0,
        "height": 12,
        "hidden": false,
        "row": 58,
        "width": 4
       },
       "report_default": {
        "hidden": false
       }
      }
     }
    }
   },
   "outputs": [],
   "source": [
    "#pp_slider3 = ipyw.SelectionSlider(options=list(ppdData.ts0.pp_delays), value=0, continuous_update=False)\n",
    "roi = slice(2200,2800) # get this from the pump\n",
    "def p3(pp_delay):\n",
    "    ppdData.ts0.pumped.loc[pp_delay][roi].rolling(10).mean().plot(label=\"pumped\")\n",
    "    ppdData.ts0.probed.loc[pp_delay][roi].rolling(10).mean().plot(label=\"probed\")\n",
    "    #plt.ylim(0.001, 0.015)\n",
    "    plt.title(str(pp_delay) + \" fs\")\n",
    "    plt.legend()\n",
    "    #plt.grid()\n",
    "\n",
    "ppWidget.p3 = ipyw.interactive(p3, pp_delay=ppWidget.ts0_ppdelay_childs[2])\n",
    "display(ppWidget.p3)\n",
    "plt.show()"
   ]
  },
  {
   "cell_type": "markdown",
   "metadata": {
    "extensions": {
     "jupyter_dashboards": {
      "version": 1,
      "views": {
       "grid_default": {
        "col": 4,
        "height": 4,
        "hidden": false,
        "row": 58,
        "width": 4
       },
       "report_default": {
        "hidden": false
       }
      }
     }
    }
   },
   "source": [
    "# Bleach Trace"
   ]
  },
  {
   "cell_type": "code",
   "execution_count": null,
   "metadata": {
    "collapsed": false,
    "extensions": {
     "jupyter_dashboards": {
      "version": 1,
      "views": {
       "grid_default": {
        "col": 8,
        "height": 11,
        "hidden": false,
        "row": 58,
        "width": 4
       },
       "report_default": {
        "hidden": false
       }
      }
     }
    }
   },
   "outputs": [],
   "source": [
    "roi_slider_range = int(ppdData.ts0.df.index.levels[1].min()), int(ppdData.ts0.df.index.levels[1].max())\n",
    "#roi_slider_range = 0, 800\n",
    "roi_slider = ipyw.IntRangeSlider(\n",
    "    value = (2450, 2600),\n",
    "    min = roi_slider_range[0],\n",
    "    max = roi_slider_range[1],\n",
    "    continuous_update=False\n",
    ")\n",
    "\n",
    "#roi = slice(2450,2600)\n",
    "\n",
    "def plot_bleach_trace(roi):\n",
    "    tss = ppdData.ts0.bleach.unstack(0)\n",
    "    tss = tss[(tss.index > roi[0]) & (tss.index < roi[1])].sum()\n",
    "\n",
    "    tss.plot()\n",
    "    plt.scatter(tss.index, tss)\n",
    "    plt.title(r\"Bleach from (%i to %i)cm$^{-1}$\"%(roi[0], roi[1]))\n",
    "    \n",
    "ipyw.interact(plot_bleach_trace, roi=roi_slider)\n",
    "plt.show()"
   ]
  },
  {
   "cell_type": "code",
   "execution_count": null,
   "metadata": {
    "collapsed": true
   },
   "outputs": [],
   "source": [
    "ppdData.ts0.pump"
   ]
  },
  {
   "cell_type": "code",
   "execution_count": null,
   "metadata": {
    "collapsed": false
   },
   "outputs": [],
   "source": [
    "ppdData.ts0.df.ix[0, \"spec_0\"].plot()"
   ]
  },
  {
   "cell_type": "code",
   "execution_count": null,
   "metadata": {
    "collapsed": false
   },
   "outputs": [],
   "source": [
    "import datetime\n",
    "pp_delays = 25\n",
    "exp_time = 10# in minutes\n",
    "reps = 3 #number of repetitions\n",
    "datetime.datetime.now() + datetime.timedelta(minutes=pp_delays*exp_time*reps)"
   ]
  },
  {
   "cell_type": "code",
   "execution_count": null,
   "metadata": {
    "collapsed": false
   },
   "outputs": [],
   "source": [
    "25*10/60"
   ]
  },
  {
   "cell_type": "code",
   "execution_count": null,
   "metadata": {
    "collapsed": true
   },
   "outputs": [],
   "source": []
  }
 ],
 "metadata": {
  "extensions": {
   "jupyter_dashboards": {
    "activeView": "report_default",
    "version": 1,
    "views": {
     "grid_default": {
      "cellMargin": 10,
      "defaultCellHeight": 20,
      "maxColumns": 12,
      "name": "grid",
      "type": "grid"
     },
     "report_default": {
      "name": "report",
      "type": "report"
     }
    }
   }
  },
  "kernelspec": {
   "display_name": "Python 3",
   "language": "python",
   "name": "python3"
  },
  "language_info": {
   "codemirror_mode": {
    "name": "ipython",
    "version": 3
   },
   "file_extension": ".py",
   "mimetype": "text/x-python",
   "name": "python",
   "nbconvert_exporter": "python",
   "pygments_lexer": "ipython3",
   "version": "3.5.2"
  },
  "widgets": {
   "state": {
    "0ff6909cf14c4103bd4d31a94d81ee47": {
     "views": [
      {
       "cell_index": 2
      }
     ]
    },
    "14283e0488464152acd2bdd68ba3f753": {
     "views": [
      {
       "cell_index": 2
      }
     ]
    },
    "23774805ff6c41b9bc9d5a8bda3e1e93": {
     "views": [
      {
       "cell_index": 2
      }
     ]
    },
    "254d7fb2ec0d4887ac2b92e0b9f8069f": {
     "views": [
      {
       "cell_index": 6
      }
     ]
    },
    "2699ef71786e4cb5ae410ba85bceb905": {
     "views": [
      {
       "cell_index": 2
      }
     ]
    },
    "27b44f66a7734beab34ccf2b67985fce": {
     "views": [
      {
       "cell_index": 5
      }
     ]
    },
    "2c38be3af9824ffea63414fa58046908": {
     "views": [
      {
       "cell_index": 2
      }
     ]
    },
    "305b12135b0f4f2cb8b2a17df842e7d1": {
     "views": [
      {
       "cell_index": 6
      }
     ]
    },
    "321aba0a72c148a0aa349a180e8bf20e": {
     "views": [
      {
       "cell_index": 2
      }
     ]
    },
    "324f95e4de2342b796821e0da358c705": {
     "views": [
      {
       "cell_index": 6
      }
     ]
    },
    "34ba50a00d154c9ba3d461d52e9d8cc2": {
     "views": [
      {
       "cell_index": 2
      }
     ]
    },
    "3d10278599d44f12bc6ab7605419254f": {
     "views": [
      {
       "cell_index": 2
      }
     ]
    },
    "4899270baf9f41e39b2b6559983fdd8e": {
     "views": [
      {
       "cell_index": 9
      }
     ]
    },
    "490da87c99f349bb981c714085ac403a": {
     "views": [
      {
       "cell_index": 2
      }
     ]
    },
    "4cdc1988888645ca889ce04d5ab56d0d": {
     "views": [
      {
       "cell_index": 2
      }
     ]
    },
    "4e7140a79549476cbc0fa1dbba064b9e": {
     "views": [
      {
       "cell_index": 2
      }
     ]
    },
    "4ee30fb68290447892ec84c4921b1bec": {
     "views": [
      {
       "cell_index": 2
      }
     ]
    },
    "4f40e9f9dc9a423ca64464fcb1afc81e": {
     "views": [
      {
       "cell_index": 2
      }
     ]
    },
    "503630e41a8d40a6b71d0c2d7a7793b7": {
     "views": [
      {
       "cell_index": 2
      }
     ]
    },
    "572330fc2c1d4b3e9685df3c0a1c0253": {
     "views": [
      {
       "cell_index": 6
      }
     ]
    },
    "5860d7fbdb62476e90ebb4fd94dc491d": {
     "views": [
      {
       "cell_index": 2
      }
     ]
    },
    "58ba0bc925fe4b3aa8058880fcb3a837": {
     "views": [
      {
       "cell_index": 2
      }
     ]
    },
    "5c24d35db117448590300b820339d870": {
     "views": [
      {
       "cell_index": 2
      }
     ]
    },
    "630239028ada4906858db5c750b2016a": {
     "views": [
      {
       "cell_index": 6
      }
     ]
    },
    "648b512a17de465db3d9c768b2f839da": {
     "views": [
      {
       "cell_index": 2
      }
     ]
    },
    "6545ff7c3b0f418e883cb13e9e7e9832": {
     "views": [
      {
       "cell_index": 2
      }
     ]
    },
    "71add40bf636440db2056805f8d1ae31": {
     "views": [
      {
       "cell_index": 2
      }
     ]
    },
    "785ea81b94814e8abf4edb57d26eaa46": {
     "views": [
      {
       "cell_index": 2
      }
     ]
    },
    "791f4144dba3464da0c8b14e425d4d16": {
     "views": [
      {
       "cell_index": 9
      }
     ]
    },
    "79a32c3bfd7d4d1caf06ed87b1cfc5e6": {
     "views": [
      {
       "cell_index": 2
      }
     ]
    },
    "829fda849f7840ef9baff30a19a4e502": {
     "views": [
      {
       "cell_index": 2
      }
     ]
    },
    "835ee096479640e19323b4b272760752": {
     "views": [
      {
       "cell_index": 2
      }
     ]
    },
    "856a3f0344fc47afb2bc56f8622a7ec9": {
     "views": [
      {
       "cell_index": 2
      },
      {
       "cell_index": 2
      }
     ]
    },
    "8c39fc44bfbe4afdae3c4e48472f34a2": {
     "views": [
      {
       "cell_index": 3
      }
     ]
    },
    "8ef0889ae6e745f29df45c0f20cb2667": {
     "views": [
      {
       "cell_index": 2
      }
     ]
    },
    "974c3ecff09f41f795a233a5c0fa43fe": {
     "views": [
      {
       "cell_index": 2
      }
     ]
    },
    "9db6b51f0e234d15a09b94da66a26ee3": {
     "views": [
      {
       "cell_index": 2
      }
     ]
    },
    "9df0e68cdbbe43bd8aeecc9e64ed569c": {
     "views": [
      {
       "cell_index": 2
      }
     ]
    },
    "9ffb118525454b4c8c645ab28a006647": {
     "views": [
      {
       "cell_index": 9
      }
     ]
    },
    "ab7418ff9d854d67a85710f9044906fa": {
     "views": [
      {
       "cell_index": 2
      }
     ]
    },
    "ac222dcf475f4323b6768c94c1ad562e": {
     "views": [
      {
       "cell_index": 6
      }
     ]
    },
    "b17f5d3f48344be3a3a7dae4a123d134": {
     "views": [
      {
       "cell_index": 2
      }
     ]
    },
    "b350babc22ca43b3831541a629312868": {
     "views": [
      {
       "cell_index": 5
      }
     ]
    },
    "b3e6a17380e8487e9197d541dcdb81e1": {
     "views": [
      {
       "cell_index": 2
      }
     ]
    },
    "bc2718c1285b42e4ba0773a94b8d6051": {
     "views": [
      {
       "cell_index": 2
      }
     ]
    },
    "bc3cefe25af64307a7e712973fc30a4c": {
     "views": [
      {
       "cell_index": 2
      }
     ]
    },
    "bc625703f7c74f8fb3acae72cf4c1901": {
     "views": [
      {
       "cell_index": 2
      }
     ]
    },
    "c15a1b53c1d64373ae077558d199008a": {
     "views": [
      {
       "cell_index": 2
      }
     ]
    },
    "c1fad590497642e6ad419cd79b0769fa": {
     "views": [
      {
       "cell_index": 2
      }
     ]
    },
    "c3b03b52901d4afebb56b6899f870d4b": {
     "views": [
      {
       "cell_index": 9
      }
     ]
    },
    "c819a685b86d422a9719f12ae372fab7": {
     "views": [
      {
       "cell_index": 2
      },
      {
       "cell_index": 2
      }
     ]
    },
    "c8e108ac087246c897457f43c9b8b591": {
     "views": [
      {
       "cell_index": 2
      }
     ]
    },
    "ca39864e38ec4cbaa0b46f9f8c7208e0": {
     "views": [
      {
       "cell_index": 2
      }
     ]
    },
    "d025a964da484030927e90ad18e7fa72": {
     "views": [
      {
       "cell_index": 2
      }
     ]
    },
    "d1d4629bacdb479fb337d63ea9f4564d": {
     "views": [
      {
       "cell_index": 2
      }
     ]
    },
    "d3f6da751b2c473186a40698fcacbbee": {
     "views": [
      {
       "cell_index": 2
      }
     ]
    },
    "d55a02104a6740db98f65a4cd19076f7": {
     "views": [
      {
       "cell_index": 3
      }
     ]
    },
    "d6fc34cbc99444cba7999400604578c4": {
     "views": [
      {
       "cell_index": 6
      }
     ]
    },
    "d8298e5371a04d76878cd7d2daeddb10": {
     "views": [
      {
       "cell_index": 3
      }
     ]
    },
    "d9917a5dcd7a443e830b30c1524fd331": {
     "views": [
      {
       "cell_index": 6
      }
     ]
    },
    "de28d1ee5505401ab3a83e60fbb34c38": {
     "views": [
      {
       "cell_index": 3
      }
     ]
    },
    "ebd3c139248c43f8b1aa26ce293404dd": {
     "views": [
      {
       "cell_index": 6
      }
     ]
    },
    "ec29869b2b634da5b95e501e48bad717": {
     "views": [
      {
       "cell_index": 2
      }
     ]
    },
    "ef1da176bb664305aabb57bd2bcf5afb": {
     "views": [
      {
       "cell_index": 2
      }
     ]
    },
    "f0d7f9cbcf3249f1bbf7e815574b0f14": {
     "views": [
      {
       "cell_index": 6
      }
     ]
    },
    "f38d0a5f9b444febaae081c63fe40e4e": {
     "views": [
      {
       "cell_index": 2
      }
     ]
    },
    "f3a7a30839074d389c5ade643857f64c": {
     "views": [
      {
       "cell_index": 2
      }
     ]
    },
    "f6aa7268a086414cb24caf8bd30de420": {
     "views": [
      {
       "cell_index": 2
      }
     ]
    },
    "f797b2db45d14f4c853e3bef2aa47908": {
     "views": [
      {
       "cell_index": 2
      }
     ]
    },
    "f96a2512c74943c19f2612c3526a342e": {
     "views": [
      {
       "cell_index": 6
      }
     ]
    },
    "faa6c8555413491ab58c3eda5c07a02c": {
     "views": [
      {
       "cell_index": 6
      }
     ]
    }
   },
   "version": "1.2.0"
  }
 },
 "nbformat": 4,
 "nbformat_minor": 0
}
