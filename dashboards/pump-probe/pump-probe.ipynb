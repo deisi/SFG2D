{
 "cells": [
  {
   "cell_type": "code",
   "execution_count": 1,
   "metadata": {
    "collapsed": false
   },
   "outputs": [],
   "source": [
    "%matplotlib inline\n",
    "#%matplotlib notebook\n",
    "import matplotlib.pyplot as plt\n",
    "import numpy as np\n",
    "from bqplot import pyplot as bplt\n",
    "from bqplot import (\n",
    "    LogScale, LinearScale, OrdinalColorScale, ColorAxis,\n",
    "    Axis, Scatter, Lines, CATEGORY10, Label, Figure, Tooltip\n",
    ")\n",
    "\n",
    "import ipywidgets as ipyw\n",
    "import seaborn as sns\n",
    "import pandas as pd\n",
    "import SFG2D\n",
    "import gui\n",
    "\n",
    "from SFG2D.dashboards import MyWidgets\n",
    "from IPython.display import display\n",
    "from watchdog.observers import Observer\n",
    "\n",
    "# Set plot layout\n",
    "#plt.style.use('seaborn-notebook')\n",
    "#sns.set_style(\"white\")\n",
    "#sns.set_style(\"ticks\")\n",
    "#sns.set_context(\"talk\", font_scale=1.5, rc={\"lines.linewidth\": 2.5})\n",
    "\n",
    "# Setup Data and Widget class\n",
    "ppdData = gui.PumpProbeDashboardData('/home/malte/MeasurmentData/2016/09/07/')\n",
    "ppWidget = gui.PumpProbeWidget(ppdData)\n",
    "ppWidget.linkTraitlets()\n",
    "# load last gui config\n",
    "ppWidget.load(ppdData.ffolder)\n",
    "#ppWidget.setupObservers(ppdData)\n",
    "\n",
    "# Setup file observer\n",
    "ffolder_observer = Observer()\n",
    "event_handler = gui.MyHandler()\n",
    "event_handler.ppdData = ppdData\n",
    "event_handler.ppWidget = ppWidget\n",
    "ffolder_observer.schedule(event_handler, ppdData.ffolder, recursive=False)\n",
    "ffolder_observer.start()"
   ]
  },
  {
   "cell_type": "markdown",
   "metadata": {
    "extensions": {
     "jupyter_dashboards": {
      "version": 1,
      "views": {
       "grid_default": {
        "col": 5,
        "height": 4,
        "hidden": false,
        "row": 4,
        "width": 4
       },
       "report_default": {
        "hidden": false
       }
      }
     }
    }
   },
   "source": [
    "## IR Profile"
   ]
  },
  {
   "cell_type": "code",
   "execution_count": 2,
   "metadata": {
    "collapsed": false,
    "scrolled": true
   },
   "outputs": [
    {
     "name": "stderr",
     "output_type": "stream",
     "text": [
      "/home/malte/Analysis/SFG2D/io/veronica.py:261: UserWarning: cant determine spectrum type of data by filename.Trying to determine datatype from content.This is much slower\n",
      "  warnings.warn('cant determine spectrum type of data by filename.'\n"
     ]
    }
   ],
   "source": [
    "w_ir = MyWidgets.DataImporter(ppdData.ffolder, ppWidget.ir_fpath, \n",
    "                           ppWidget.fbase, ppWidget.ir_ppdelay, \n",
    "                           ppWidget.ir_spec, ppWidget.ir_sub_base)\n",
    "w_ir()"
   ]
  },
  {
   "cell_type": "code",
   "execution_count": 6,
   "metadata": {
    "collapsed": false
   },
   "outputs": [
    {
     "data": {
      "text/html": [
       "<div>\n",
       "<table border=\"1\" class=\"dataframe\">\n",
       "  <thead>\n",
       "    <tr style=\"text-align: right;\">\n",
       "      <th></th>\n",
       "      <th>spec_0</th>\n",
       "      <th>spec_1</th>\n",
       "      <th>spec_2</th>\n",
       "    </tr>\n",
       "    <tr>\n",
       "      <th>wavenumber</th>\n",
       "      <th></th>\n",
       "      <th></th>\n",
       "      <th></th>\n",
       "    </tr>\n",
       "  </thead>\n",
       "  <tbody>\n",
       "    <tr>\n",
       "      <th>1901.2</th>\n",
       "      <td>7956</td>\n",
       "      <td>7993</td>\n",
       "      <td>9989</td>\n",
       "    </tr>\n",
       "    <tr>\n",
       "      <th>1901.9</th>\n",
       "      <td>7991</td>\n",
       "      <td>7967</td>\n",
       "      <td>10023</td>\n",
       "    </tr>\n",
       "    <tr>\n",
       "      <th>1902.6</th>\n",
       "      <td>7915</td>\n",
       "      <td>7951</td>\n",
       "      <td>9924</td>\n",
       "    </tr>\n",
       "    <tr>\n",
       "      <th>1903.3</th>\n",
       "      <td>7934</td>\n",
       "      <td>7956</td>\n",
       "      <td>9935</td>\n",
       "    </tr>\n",
       "    <tr>\n",
       "      <th>1904.0</th>\n",
       "      <td>7968</td>\n",
       "      <td>7955</td>\n",
       "      <td>9946</td>\n",
       "    </tr>\n",
       "    <tr>\n",
       "      <th>1904.7</th>\n",
       "      <td>7940</td>\n",
       "      <td>7949</td>\n",
       "      <td>9952</td>\n",
       "    </tr>\n",
       "    <tr>\n",
       "      <th>1905.4</th>\n",
       "      <td>7925</td>\n",
       "      <td>7934</td>\n",
       "      <td>9965</td>\n",
       "    </tr>\n",
       "    <tr>\n",
       "      <th>1906.1</th>\n",
       "      <td>7962</td>\n",
       "      <td>7980</td>\n",
       "      <td>9964</td>\n",
       "    </tr>\n",
       "    <tr>\n",
       "      <th>1906.8</th>\n",
       "      <td>7910</td>\n",
       "      <td>7946</td>\n",
       "      <td>9943</td>\n",
       "    </tr>\n",
       "    <tr>\n",
       "      <th>1907.5</th>\n",
       "      <td>7939</td>\n",
       "      <td>7989</td>\n",
       "      <td>9996</td>\n",
       "    </tr>\n",
       "    <tr>\n",
       "      <th>1908.2</th>\n",
       "      <td>7963</td>\n",
       "      <td>7964</td>\n",
       "      <td>9953</td>\n",
       "    </tr>\n",
       "    <tr>\n",
       "      <th>1908.9</th>\n",
       "      <td>7948</td>\n",
       "      <td>7963</td>\n",
       "      <td>9988</td>\n",
       "    </tr>\n",
       "    <tr>\n",
       "      <th>1909.6</th>\n",
       "      <td>7954</td>\n",
       "      <td>7952</td>\n",
       "      <td>9936</td>\n",
       "    </tr>\n",
       "    <tr>\n",
       "      <th>1910.3</th>\n",
       "      <td>7962</td>\n",
       "      <td>7965</td>\n",
       "      <td>9943</td>\n",
       "    </tr>\n",
       "    <tr>\n",
       "      <th>1911.0</th>\n",
       "      <td>7965</td>\n",
       "      <td>7981</td>\n",
       "      <td>9991</td>\n",
       "    </tr>\n",
       "    <tr>\n",
       "      <th>1911.7</th>\n",
       "      <td>7970</td>\n",
       "      <td>8012</td>\n",
       "      <td>9982</td>\n",
       "    </tr>\n",
       "    <tr>\n",
       "      <th>1912.4</th>\n",
       "      <td>7956</td>\n",
       "      <td>7968</td>\n",
       "      <td>9980</td>\n",
       "    </tr>\n",
       "    <tr>\n",
       "      <th>1913.1</th>\n",
       "      <td>7961</td>\n",
       "      <td>7974</td>\n",
       "      <td>9990</td>\n",
       "    </tr>\n",
       "    <tr>\n",
       "      <th>1913.8</th>\n",
       "      <td>7958</td>\n",
       "      <td>7948</td>\n",
       "      <td>9925</td>\n",
       "    </tr>\n",
       "    <tr>\n",
       "      <th>1914.5</th>\n",
       "      <td>7983</td>\n",
       "      <td>7970</td>\n",
       "      <td>9975</td>\n",
       "    </tr>\n",
       "    <tr>\n",
       "      <th>1915.2</th>\n",
       "      <td>7958</td>\n",
       "      <td>7968</td>\n",
       "      <td>9955</td>\n",
       "    </tr>\n",
       "    <tr>\n",
       "      <th>1915.9</th>\n",
       "      <td>7993</td>\n",
       "      <td>7983</td>\n",
       "      <td>9969</td>\n",
       "    </tr>\n",
       "    <tr>\n",
       "      <th>1916.6</th>\n",
       "      <td>7949</td>\n",
       "      <td>7981</td>\n",
       "      <td>9941</td>\n",
       "    </tr>\n",
       "    <tr>\n",
       "      <th>1917.3</th>\n",
       "      <td>7954</td>\n",
       "      <td>7974</td>\n",
       "      <td>9968</td>\n",
       "    </tr>\n",
       "    <tr>\n",
       "      <th>1918.0</th>\n",
       "      <td>7976</td>\n",
       "      <td>7992</td>\n",
       "      <td>9947</td>\n",
       "    </tr>\n",
       "    <tr>\n",
       "      <th>1918.7</th>\n",
       "      <td>7960</td>\n",
       "      <td>7992</td>\n",
       "      <td>9972</td>\n",
       "    </tr>\n",
       "    <tr>\n",
       "      <th>1919.4</th>\n",
       "      <td>8001</td>\n",
       "      <td>7979</td>\n",
       "      <td>9970</td>\n",
       "    </tr>\n",
       "    <tr>\n",
       "      <th>1920.1</th>\n",
       "      <td>7986</td>\n",
       "      <td>7991</td>\n",
       "      <td>9941</td>\n",
       "    </tr>\n",
       "    <tr>\n",
       "      <th>1920.8</th>\n",
       "      <td>7961</td>\n",
       "      <td>7956</td>\n",
       "      <td>9960</td>\n",
       "    </tr>\n",
       "    <tr>\n",
       "      <th>1921.5</th>\n",
       "      <td>8002</td>\n",
       "      <td>8002</td>\n",
       "      <td>9979</td>\n",
       "    </tr>\n",
       "    <tr>\n",
       "      <th>...</th>\n",
       "      <td>...</td>\n",
       "      <td>...</td>\n",
       "      <td>...</td>\n",
       "    </tr>\n",
       "    <tr>\n",
       "      <th>3084.1</th>\n",
       "      <td>7973</td>\n",
       "      <td>7975</td>\n",
       "      <td>9972</td>\n",
       "    </tr>\n",
       "    <tr>\n",
       "      <th>3085.0</th>\n",
       "      <td>7946</td>\n",
       "      <td>7949</td>\n",
       "      <td>9966</td>\n",
       "    </tr>\n",
       "    <tr>\n",
       "      <th>3085.8</th>\n",
       "      <td>7934</td>\n",
       "      <td>7955</td>\n",
       "      <td>9915</td>\n",
       "    </tr>\n",
       "    <tr>\n",
       "      <th>3086.6</th>\n",
       "      <td>7952</td>\n",
       "      <td>7951</td>\n",
       "      <td>9974</td>\n",
       "    </tr>\n",
       "    <tr>\n",
       "      <th>3087.4</th>\n",
       "      <td>7961</td>\n",
       "      <td>7962</td>\n",
       "      <td>9978</td>\n",
       "    </tr>\n",
       "    <tr>\n",
       "      <th>3088.2</th>\n",
       "      <td>7990</td>\n",
       "      <td>7944</td>\n",
       "      <td>9978</td>\n",
       "    </tr>\n",
       "    <tr>\n",
       "      <th>3089.0</th>\n",
       "      <td>7940</td>\n",
       "      <td>7926</td>\n",
       "      <td>9975</td>\n",
       "    </tr>\n",
       "    <tr>\n",
       "      <th>3089.9</th>\n",
       "      <td>7961</td>\n",
       "      <td>7962</td>\n",
       "      <td>9986</td>\n",
       "    </tr>\n",
       "    <tr>\n",
       "      <th>3090.7</th>\n",
       "      <td>7951</td>\n",
       "      <td>7950</td>\n",
       "      <td>9983</td>\n",
       "    </tr>\n",
       "    <tr>\n",
       "      <th>3091.5</th>\n",
       "      <td>7960</td>\n",
       "      <td>7963</td>\n",
       "      <td>9983</td>\n",
       "    </tr>\n",
       "    <tr>\n",
       "      <th>3092.3</th>\n",
       "      <td>7954</td>\n",
       "      <td>7975</td>\n",
       "      <td>9961</td>\n",
       "    </tr>\n",
       "    <tr>\n",
       "      <th>3093.1</th>\n",
       "      <td>7957</td>\n",
       "      <td>7934</td>\n",
       "      <td>9995</td>\n",
       "    </tr>\n",
       "    <tr>\n",
       "      <th>3093.9</th>\n",
       "      <td>7961</td>\n",
       "      <td>7953</td>\n",
       "      <td>9960</td>\n",
       "    </tr>\n",
       "    <tr>\n",
       "      <th>3094.8</th>\n",
       "      <td>7957</td>\n",
       "      <td>7949</td>\n",
       "      <td>9974</td>\n",
       "    </tr>\n",
       "    <tr>\n",
       "      <th>3095.6</th>\n",
       "      <td>7946</td>\n",
       "      <td>7964</td>\n",
       "      <td>9985</td>\n",
       "    </tr>\n",
       "    <tr>\n",
       "      <th>3096.4</th>\n",
       "      <td>7960</td>\n",
       "      <td>7960</td>\n",
       "      <td>9957</td>\n",
       "    </tr>\n",
       "    <tr>\n",
       "      <th>3097.2</th>\n",
       "      <td>7948</td>\n",
       "      <td>7937</td>\n",
       "      <td>9944</td>\n",
       "    </tr>\n",
       "    <tr>\n",
       "      <th>3098.0</th>\n",
       "      <td>7951</td>\n",
       "      <td>7956</td>\n",
       "      <td>9982</td>\n",
       "    </tr>\n",
       "    <tr>\n",
       "      <th>3098.9</th>\n",
       "      <td>7960</td>\n",
       "      <td>7955</td>\n",
       "      <td>9960</td>\n",
       "    </tr>\n",
       "    <tr>\n",
       "      <th>3099.7</th>\n",
       "      <td>7969</td>\n",
       "      <td>7975</td>\n",
       "      <td>9987</td>\n",
       "    </tr>\n",
       "    <tr>\n",
       "      <th>3100.5</th>\n",
       "      <td>7946</td>\n",
       "      <td>7946</td>\n",
       "      <td>9953</td>\n",
       "    </tr>\n",
       "    <tr>\n",
       "      <th>3101.3</th>\n",
       "      <td>7962</td>\n",
       "      <td>7941</td>\n",
       "      <td>9966</td>\n",
       "    </tr>\n",
       "    <tr>\n",
       "      <th>3102.1</th>\n",
       "      <td>7940</td>\n",
       "      <td>7939</td>\n",
       "      <td>9946</td>\n",
       "    </tr>\n",
       "    <tr>\n",
       "      <th>3102.9</th>\n",
       "      <td>7966</td>\n",
       "      <td>7926</td>\n",
       "      <td>9981</td>\n",
       "    </tr>\n",
       "    <tr>\n",
       "      <th>3103.8</th>\n",
       "      <td>7948</td>\n",
       "      <td>7924</td>\n",
       "      <td>9974</td>\n",
       "    </tr>\n",
       "    <tr>\n",
       "      <th>3104.6</th>\n",
       "      <td>7939</td>\n",
       "      <td>7957</td>\n",
       "      <td>9955</td>\n",
       "    </tr>\n",
       "    <tr>\n",
       "      <th>3105.4</th>\n",
       "      <td>7957</td>\n",
       "      <td>7921</td>\n",
       "      <td>9966</td>\n",
       "    </tr>\n",
       "    <tr>\n",
       "      <th>3106.2</th>\n",
       "      <td>7955</td>\n",
       "      <td>7948</td>\n",
       "      <td>9967</td>\n",
       "    </tr>\n",
       "    <tr>\n",
       "      <th>3107.0</th>\n",
       "      <td>7931</td>\n",
       "      <td>7921</td>\n",
       "      <td>9977</td>\n",
       "    </tr>\n",
       "    <tr>\n",
       "      <th>3107.8</th>\n",
       "      <td>7939</td>\n",
       "      <td>7950</td>\n",
       "      <td>9978</td>\n",
       "    </tr>\n",
       "  </tbody>\n",
       "</table>\n",
       "<p>1600 rows × 3 columns</p>\n",
       "</div>"
      ],
      "text/plain": [
       "            spec_0  spec_1  spec_2\n",
       "wavenumber                        \n",
       "1901.2        7956    7993    9989\n",
       "1901.9        7991    7967   10023\n",
       "1902.6        7915    7951    9924\n",
       "1903.3        7934    7956    9935\n",
       "1904.0        7968    7955    9946\n",
       "1904.7        7940    7949    9952\n",
       "1905.4        7925    7934    9965\n",
       "1906.1        7962    7980    9964\n",
       "1906.8        7910    7946    9943\n",
       "1907.5        7939    7989    9996\n",
       "1908.2        7963    7964    9953\n",
       "1908.9        7948    7963    9988\n",
       "1909.6        7954    7952    9936\n",
       "1910.3        7962    7965    9943\n",
       "1911.0        7965    7981    9991\n",
       "1911.7        7970    8012    9982\n",
       "1912.4        7956    7968    9980\n",
       "1913.1        7961    7974    9990\n",
       "1913.8        7958    7948    9925\n",
       "1914.5        7983    7970    9975\n",
       "1915.2        7958    7968    9955\n",
       "1915.9        7993    7983    9969\n",
       "1916.6        7949    7981    9941\n",
       "1917.3        7954    7974    9968\n",
       "1918.0        7976    7992    9947\n",
       "1918.7        7960    7992    9972\n",
       "1919.4        8001    7979    9970\n",
       "1920.1        7986    7991    9941\n",
       "1920.8        7961    7956    9960\n",
       "1921.5        8002    8002    9979\n",
       "...            ...     ...     ...\n",
       "3084.1        7973    7975    9972\n",
       "3085.0        7946    7949    9966\n",
       "3085.8        7934    7955    9915\n",
       "3086.6        7952    7951    9974\n",
       "3087.4        7961    7962    9978\n",
       "3088.2        7990    7944    9978\n",
       "3089.0        7940    7926    9975\n",
       "3089.9        7961    7962    9986\n",
       "3090.7        7951    7950    9983\n",
       "3091.5        7960    7963    9983\n",
       "3092.3        7954    7975    9961\n",
       "3093.1        7957    7934    9995\n",
       "3093.9        7961    7953    9960\n",
       "3094.8        7957    7949    9974\n",
       "3095.6        7946    7964    9985\n",
       "3096.4        7960    7960    9957\n",
       "3097.2        7948    7937    9944\n",
       "3098.0        7951    7956    9982\n",
       "3098.9        7960    7955    9960\n",
       "3099.7        7969    7975    9987\n",
       "3100.5        7946    7946    9953\n",
       "3101.3        7962    7941    9966\n",
       "3102.1        7940    7939    9946\n",
       "3102.9        7966    7926    9981\n",
       "3103.8        7948    7924    9974\n",
       "3104.6        7939    7957    9955\n",
       "3105.4        7957    7921    9966\n",
       "3106.2        7955    7948    9967\n",
       "3107.0        7931    7921    9977\n",
       "3107.8        7939    7950    9978\n",
       "\n",
       "[1600 rows x 3 columns]"
      ]
     },
     "execution_count": 6,
     "metadata": {},
     "output_type": "execute_result"
    }
   ],
   "source": [
    "w_ir.base"
   ]
  },
  {
   "cell_type": "code",
   "execution_count": 28,
   "metadata": {
    "collapsed": false
   },
   "outputs": [
    {
     "ename": "TypeError",
     "evalue": "'bool' object is not iterable",
     "output_type": "error",
     "traceback": [
      "\u001b[0;31m---------------------------------------------------------------------------\u001b[0m",
      "\u001b[0;31mTypeError\u001b[0m                                 Traceback (most recent call last)",
      "\u001b[0;32m<ipython-input-28-3ee1bb5c6173>\u001b[0m in \u001b[0;36m<module>\u001b[0;34m()\u001b[0m\n\u001b[1;32m      3\u001b[0m \u001b[0;31m#w_ir.scan.df.subtract(w_ir.scan.df, level=1)\u001b[0m\u001b[0;34m\u001b[0m\u001b[0;34m\u001b[0m\u001b[0m\n\u001b[1;32m      4\u001b[0m \u001b[0;31m#w_ir.scan.df.plot()\u001b[0m\u001b[0;34m\u001b[0m\u001b[0;34m\u001b[0m\u001b[0m\n\u001b[0;32m----> 5\u001b[0;31m \u001b[0many\u001b[0m\u001b[0;34m(\u001b[0m\u001b[0mw_ir\u001b[0m\u001b[0;34m.\u001b[0m\u001b[0mscan\u001b[0m\u001b[0;34m.\u001b[0m\u001b[0mdf\u001b[0m\u001b[0;34m.\u001b[0m\u001b[0mindex\u001b[0m\u001b[0;34m.\u001b[0m\u001b[0mlevels\u001b[0m\u001b[0;34m[\u001b[0m\u001b[0;36m1\u001b[0m\u001b[0;34m]\u001b[0m \u001b[0;32mis\u001b[0m \u001b[0;32mnot\u001b[0m \u001b[0mw_ir\u001b[0m\u001b[0;34m.\u001b[0m\u001b[0mscan\u001b[0m\u001b[0;34m.\u001b[0m\u001b[0mbase\u001b[0m\u001b[0;34m.\u001b[0m\u001b[0mindex\u001b[0m\u001b[0;34m.\u001b[0m\u001b[0mlevels\u001b[0m\u001b[0;34m[\u001b[0m\u001b[0;36m1\u001b[0m\u001b[0;34m]\u001b[0m\u001b[0;34m)\u001b[0m\u001b[0;34m\u001b[0m\u001b[0m\n\u001b[0m",
      "\u001b[0;31mTypeError\u001b[0m: 'bool' object is not iterable"
     ]
    }
   ],
   "source": [
    "#w_ir.scan.base.plot()\n",
    "#w_ir.scan.sub_base()\n",
    "#w_ir.scan.df.subtract(w_ir.scan.df, level=1)\n",
    "#w_ir.scan.df.plot()\n",
    "any(w_ir.scan.df.index.levels[1] is not w_ir.scan.base.index.levels[1])"
   ]
  },
  {
   "cell_type": "code",
   "execution_count": 5,
   "metadata": {
    "collapsed": false,
    "scrolled": true
   },
   "outputs": [
    {
     "data": {
      "text/plain": [
       "wavenumber\n",
       "1901.2   -7530\n",
       "1901.9   -7496\n",
       "1902.6   -7485\n",
       "1903.3   -7480\n",
       "1904.0   -7484\n",
       "1904.7   -7468\n",
       "1905.4   -7451\n",
       "1906.1   -7506\n",
       "1906.8   -7478\n",
       "1907.5   -7516\n",
       "1908.2   -7487\n",
       "1908.9   -7487\n",
       "1909.6   -7471\n",
       "1910.3   -7479\n",
       "1911.0   -7502\n",
       "1911.7   -7521\n",
       "1912.4   -7486\n",
       "1913.1   -7478\n",
       "1913.8   -7458\n",
       "1914.5   -7470\n",
       "1915.2   -7480\n",
       "1915.9   -7487\n",
       "1916.6   -7481\n",
       "1917.3   -7467\n",
       "1918.0   -7489\n",
       "1918.7   -7491\n",
       "1919.4   -7474\n",
       "1920.1   -7486\n",
       "1920.8   -7460\n",
       "1921.5   -7498\n",
       "          ... \n",
       "3084.1   -7569\n",
       "3085.0   -7540\n",
       "3085.8   -7552\n",
       "3086.6   -7542\n",
       "3087.4   -7558\n",
       "3088.2   -7539\n",
       "3089.0   -7522\n",
       "3089.9   -7558\n",
       "3090.7   -7551\n",
       "3091.5   -7562\n",
       "3092.3   -7566\n",
       "3093.1   -7533\n",
       "3093.9   -7557\n",
       "3094.8   -7555\n",
       "3095.6   -7558\n",
       "3096.4   -7568\n",
       "3097.2   -7535\n",
       "3098.0   -7552\n",
       "3098.9   -7565\n",
       "3099.7   -7574\n",
       "3100.5   -7549\n",
       "3101.3   -7553\n",
       "3102.1   -7539\n",
       "3102.9   -7525\n",
       "3103.8   -7523\n",
       "3104.6   -7565\n",
       "3105.4   -7531\n",
       "3106.2   -7552\n",
       "3107.0   -7533\n",
       "3107.8   -7564\n",
       "Name: spec_1, dtype: int16"
      ]
     },
     "execution_count": 5,
     "metadata": {},
     "output_type": "execute_result"
    }
   ],
   "source": [
    "w_ir.data - w_ir.scan.base[w_ir.spec_selector.value]"
   ]
  },
  {
   "cell_type": "code",
   "execution_count": null,
   "metadata": {
    "collapsed": false
   },
   "outputs": [],
   "source": [
    "class w_ir():\n",
    "    data =  None\n",
    "    \n",
    "    def get(fpath, fbase):\n",
    "        \"\"\"Get Data from HDD\"\"\"\n",
    "        ir = SFG2D.io.veronica.read_auto(ppdData.ffolder + fpath)\n",
    "        # Ir Profile should not be measured by a TimeScan\n",
    "        if not isinstance(ir, SFG2D.core.scan.Scan):\n",
    "            return -1\n",
    "        \n",
    "        # Data is handeled twice.\n",
    "        # Heavy lifting is done inside of ppdData,\n",
    "        # while w_ir.data is a container for the data presented by w_ir\n",
    "        ppdData._ir = ir\n",
    "        w_ir.data = ppdData.ir.med\n",
    "        \n",
    "        base = SFG2D.io.veronica.read_auto(ppdData.ffolder + fbase)\n",
    "        if not isinstance(base, SFG2D.core.scan.Scan):\n",
    "            return -1\n",
    "        ppdData.ir.base = base.med\n",
    "\n",
    "        # Because update_sub_baseline is only called on change\n",
    "        if ppWidget.ir_sub_base.value:\n",
    "            ppdData.ir.sub_base(inplace=True)\n",
    "            w_ir.data = ppdData.ir.med\n",
    "            \n",
    "        if ppWidget.ir_spec.value is not \"All\":\n",
    "            w_ir.data = ppdData.ir.med[ppWidget.ir_spec.value]\n",
    "\n",
    "    def update(new):\n",
    "        \"\"\"Update the data on value change\"\"\"\n",
    "        w_ir.get(ppWidget.ir_fpath.value, ppWidget.ir_fbase.value)\n",
    "        \n",
    "    def fig_init(param_dict={}):\n",
    "        \"\"\"Init an empty bqplot figure\"\"\"\n",
    "        x_sc = LinearScale()\n",
    "        y_sc = LinearScale()\n",
    "\n",
    "        line = Lines(scales={'x':x_sc, 'y':y_sc})\n",
    "\n",
    "        ax_x = Axis(scale=x_sc, \n",
    "                    label='Wavenumber')\n",
    "        ax_y = Axis(scale=y_sc, \n",
    "                    label='Counts', orientation='vertical')\n",
    "\n",
    "        fig = Figure(marks=[line], axes=[ax_x, ax_y], \n",
    "                     title='IR Profile')\n",
    "        return fig\n",
    "\n",
    "    def fig_update(new):\n",
    "        \"\"\"Update bqplot figure with new data\"\"\"\n",
    "        #ir_fig.marks[0].x = ppdData.ir.df.index\n",
    "        ir_fig.marks[0].x = w_ir.data.index\n",
    "        ir_fig.marks[0].y = w_ir.data.transpose()\n",
    "        \n",
    "        # Colum names are different for DataFrames and Series\n",
    "        if isinstance(w_ir.data, pd.core.frame.DataFrame):\n",
    "            ir_fig.marks[0].labels = w_ir.data.columns.values.tolist()\n",
    "        if isinstance(w_ir.data, pd.core.series.Series):\n",
    "            ir_fig.marks[0].labels = [w_ir.data.name]\n",
    "            \n",
    "        ir_fig.marks[0].labels_visibility='none'\n",
    "        ir_fig.marks[0].display_legend=True\n",
    "        ir_fig.legend_location = 'top-right'\n",
    "\n",
    "    def sub_baseline_update(new):\n",
    "        \"\"\"Substract baseline and update data\"\"\"\n",
    "        if ppWidget.ir_sub_base.value:\n",
    "            ppdData.ir.sub_base(inplace=True)\n",
    "        else: \n",
    "            ppdData.ir.add_base(inplace=True)\n",
    "        \n",
    "        if ppWidget.ir_spec.value is \"All\":\n",
    "            w_ir.data = ppdData.ir.med\n",
    "        else:\n",
    "            w_ir.data = ppdData.ir.med[ppWidget.ir_spec.value]\n",
    "    \n",
    "    def update_spec(new):\n",
    "        \"\"\"Update spectrum of interest\"\"\"\n",
    "        if ppWidget.ir_spec.value is not \"All\":\n",
    "            w_ir.data = ppdData.ir.med[ppWidget.ir_spec.value] \n",
    "        else:\n",
    "            w_ir.data = ppdData.ir.med\n",
    "\n",
    "g = w_ir.get(ppWidget.ir_fpath.value, ppWidget.ir_fbase.value)\n",
    "ir_fig = w_ir.fig_init()\n",
    "if g is not -1:\n",
    "    w_ir.fig_update(None)\n",
    "\n",
    "ppWidget.ir_fpath.observe(w_ir.update, 'value')\n",
    "ppWidget.ir_fpath.observe(w_ir.fig_update, 'value')\n",
    "\n",
    "ppWidget.ir_fbase.observe(w_ir.update, 'value')\n",
    "ppWidget.ir_fbase.observe(w_ir.fig_update, 'value')\n",
    "\n",
    "ppWidget.ir_sub_base.observe(w_ir.sub_baseline_update, 'value')\n",
    "ppWidget.ir_sub_base.observe(w_ir.fig_update, 'value')\n",
    "\n",
    "ppWidget.ir_spec.observe(w_ir.update_spec, 'value')\n",
    "ppWidget.ir_spec.observe(w_ir.fig_update, 'value')\n",
    "\n",
    "display(ppWidget.ir_fpath, ppWidget.ir_fbase, ppWidget.ir_sub_base, ppWidget.ir_spec, ir_fig)"
   ]
  },
  {
   "cell_type": "code",
   "execution_count": 4,
   "metadata": {
    "collapsed": false
   },
   "outputs": [
    {
     "data": {
      "text/plain": [
       "'/home/malte/MeasurmentData/2016/09/07/'"
      ]
     },
     "execution_count": 4,
     "metadata": {},
     "output_type": "execute_result"
    }
   ],
   "source": [
    "ppdData.ffolder"
   ]
  },
  {
   "cell_type": "code",
   "execution_count": null,
   "metadata": {
    "collapsed": false
   },
   "outputs": [],
   "source": [
    "ppdData.ir = '/19_sp_d20_w675_gcm_e20m_ssp_pu1_pr0_vis1_gal1_chop1_purge1.dat'\n",
    "ppdData.ir.df[\"spec_0\"].clip_upper(340).plot.hist(bins=np.arange(260, 300, 2))\n",
    "ppdData.ir.df[\"spec_1\"].clip_upper(340).plot.hist(bins=np.arange(260, 300, 2), alpha=0.5)"
   ]
  },
  {
   "cell_type": "markdown",
   "metadata": {
    "extensions": {
     "jupyter_dashboards": {
      "version": 1,
      "views": {
       "grid_default": {
        "col": 5,
        "height": 4,
        "hidden": false,
        "row": 8,
        "width": 4
       },
       "report_default": {
        "hidden": false
       }
      }
     }
    }
   },
   "source": [
    "## Pump Profile"
   ]
  },
  {
   "cell_type": "code",
   "execution_count": 14,
   "metadata": {
    "collapsed": true
   },
   "outputs": [
    {
     "data": {
      "text/plain": [
       "wavenumber\n",
       "4268.2    303\n",
       "4269.2    302\n",
       "4270.1    302\n",
       "4271.1    299\n",
       "4272.0    301\n",
       "4272.9    300\n",
       "4273.9    301\n",
       "4274.8    301\n",
       "4275.8    306\n",
       "4276.7    305\n",
       "4277.7    305\n",
       "4278.6    302\n",
       "4279.6    298\n",
       "4280.5    303\n",
       "4281.5    304\n",
       "4282.4    304\n",
       "4283.4    302\n",
       "4284.3    297\n",
       "4285.3    304\n",
       "4286.2    298\n",
       "4287.2    302\n",
       "4288.1    299\n",
       "4289.1    304\n",
       "4290.0    296\n",
       "4291.0    303\n",
       "4291.9    303\n",
       "4292.8    300\n",
       "4293.8    298\n",
       "4294.7    299\n",
       "4295.7    300\n",
       "         ... \n",
       "5899.3    309\n",
       "5900.5    305\n",
       "5901.6    301\n",
       "5902.7    299\n",
       "5903.9    303\n",
       "5905.0    297\n",
       "5906.2    302\n",
       "5907.3    300\n",
       "5908.5    299\n",
       "5909.6    301\n",
       "5910.7    303\n",
       "5911.9    304\n",
       "5913.0    301\n",
       "5914.2    300\n",
       "5915.3    304\n",
       "5916.5    300\n",
       "5917.6    305\n",
       "5918.7    301\n",
       "5919.9    303\n",
       "5921.0    297\n",
       "5922.2    301\n",
       "5923.3    304\n",
       "5924.5    305\n",
       "5925.6    301\n",
       "5926.7    299\n",
       "5927.9    301\n",
       "5929.0    301\n",
       "5930.2    303\n",
       "5931.3    302\n",
       "5932.5    301\n",
       "Name: spec_0, dtype: int16"
      ]
     },
     "execution_count": 14,
     "metadata": {},
     "output_type": "execute_result"
    }
   ],
   "source": [
    "ppdData._pump = SFG2D.io.veronica.read_auto(ppdData.ffolder + \"/07_ts_gold_w575_g1_e1s_ssp_pu1_pr1_vis1_gal1_chop1_purge1.dat\")\n",
    "ppdData.pump.med.ix[0][\"spec_0\"]"
   ]
  },
  {
   "cell_type": "code",
   "execution_count": 4,
   "metadata": {
    "collapsed": false
   },
   "outputs": [
    {
     "data": {
      "text/plain": [
       "gui.PumpProbeWidget"
      ]
     },
     "execution_count": 4,
     "metadata": {},
     "output_type": "execute_result"
    }
   ],
   "source": [
    "type(ppWidget.)"
   ]
  },
  {
   "cell_type": "code",
   "execution_count": 2,
   "metadata": {
    "collapsed": false
   },
   "outputs": [
    {
     "name": "stderr",
     "output_type": "stream",
     "text": [
      "/home/malte/Analysis/SFG2D/io/veronica.py:261: UserWarning: cant determine spectrum type of data by filename.Trying to determine datatype from content.This is much slower\n",
      "  warnings.warn('cant determine spectrum type of data by filename.'\n"
     ]
    }
   ],
   "source": [
    "class w_pump():\n",
    "    data = None\n",
    "    \n",
    "    def get(fpath):\n",
    "        pump = SFG2D.io.veronica.read_auto(ppdData.ffolder + fpath)\n",
    "        ppdData._pump = pump\n",
    "        if isinstance(pump, SFG2D.core.scan.TimeScan):\n",
    "            ppWidget.pump_ppdelay.options = list(pump.pp_delays)\n",
    "            #if ppWidget.pump_ppdelay.value in ppdData.pump.pp_delays:\n",
    "            w_pump.data = ppdData.pump.med.ix[ppWidget.pump_ppdelay.value]\n",
    "    \n",
    "        else:\n",
    "            w_pump.data = ppdData.pump.med\n",
    "            ppWidget.pump_ppdelay.options = [0]\n",
    "            ppWidget.pump_ppdelay.value = 0\n",
    "            \n",
    "        # TODO implement pump is scan but base is TimeScan\n",
    "        base = SFG2D.io.veronica.read_auto(ppdData.ffolder + ppWidget.pump_fbase.value)\n",
    "        ppdData.pump.base =  base.med\n",
    "        \n",
    "        if ppWidget.pump_spec.value is not \"All\":\n",
    "            w_pump.data = w_pump.data[ppWidget.pump_spec.value]\n",
    "            ppdData.pump.base = base.med[ppWidget.pump_spec.value]\n",
    "        \n",
    "    def update(new):\n",
    "        w_pump.get(ppWidget.pump_fpath.value)\n",
    "     \n",
    "    def fig_init(param_dict={}):\n",
    "        \"\"\"Init an empty bqplot figure\"\"\"\n",
    "        x_sc = LinearScale()\n",
    "        y_sc = LinearScale()\n",
    "\n",
    "        line = Lines(scales={'x':x_sc, 'y':y_sc})\n",
    "\n",
    "        ax_x = Axis(scale=x_sc, \n",
    "                    label='Wavenumber')\n",
    "        ax_y = Axis(scale=y_sc, \n",
    "                    label='Counts', orientation='vertical')\n",
    "\n",
    "        fig = Figure(marks=[line], axes=[ax_x, ax_y], \n",
    "                     title='Pump Profile')\n",
    "        return fig\n",
    "\n",
    "    def fig_update(new):\n",
    "        pump_fig.marks[0].x = w_pump.data.index\n",
    "        pump_fig.marks[0].y = w_pump.data.transpose()\n",
    "\n",
    "    def sub_baseline_update(new):\n",
    "        raise NotImplementedError\n",
    "    \n",
    "    def update_spec(new):\n",
    "        if isinstance(ppdData.pump,  SFG2D.core.scan.TimeScan):\n",
    "            w_pump.data = ppdData.pump.med.ix[ppWidget.pump_ppdelay.value]\n",
    "        else:\n",
    "            w_pump.data = ppdData.pump.med\n",
    "            \n",
    "        if ppWidget.pump_spec.value is not \"All\":\n",
    "            w_pump.data = w_pump.data[ppWidget.pump_spec.value]\n",
    "        \n",
    "    def update_ppdelay(new):\n",
    "        if isinstance(ppdData.pump,  SFG2D.core.scan.TimeScan):\n",
    "            w_pump.data = ppdData.pump.med.ix[ppWidget.pump_ppdelay.value]\n",
    "        else:\n",
    "            w_pump.data = ppdData.pump.med\n",
    "            \n",
    "        if ppWidget.pump_spec.value is not \"All\":\n",
    "            w_pump.data = w_pump.data[ppWidget.pump_spec.value]\n",
    "        \n",
    "        \n",
    "w_pump.get(ppWidget.pump_fpath.value)\n",
    "\n",
    "pump_fig = w_pump.fig_init()\n",
    "w_pump.fig_update(None)\n",
    "\n",
    "ppWidget.pump_fpath.observe(w_pump.update, 'value')\n",
    "ppWidget.pump_fpath.observe(w_pump.fig_update, 'value')\n",
    "\n",
    "#ppWidget.pump_fbase.observe(w_pump.update, 'value')\n",
    "#ppWidget.pump_fbase.observe(w_pump.fig_update, 'value')\n",
    "\n",
    "#ppWidget.pump_sub_base.observe(w_pump.sub_baseline_update, 'value')\n",
    "#ppWidget.pump_sub_base.observe(w_pump.fig_update, 'value')\n",
    "ppWidget.pump_ppdelay.observe(w_pump.update_ppdelay, 'value')\n",
    "ppWidget.pump_ppdelay.observe(w_pump.fig_update, 'value')\n",
    "\n",
    "ppWidget.pump_spec.observe(w_pump.update_spec, 'value')\n",
    "ppWidget.pump_spec.observe(w_pump.fig_update, 'value')\n",
    "\n",
    "display(ppWidget.pump_fpath, ppWidget.pump_spec, ppWidget.pump_ppdelay, pump_fig)\n",
    "#bplt.show()"
   ]
  },
  {
   "cell_type": "markdown",
   "metadata": {
    "collapsed": false,
    "extensions": {
     "jupyter_dashboards": {
      "version": 1,
      "views": {
       "grid_default": {
        "col": 0,
        "height": 4,
        "hidden": false,
        "row": 26,
        "width": 4
       },
       "report_default": {
        "hidden": false
       }
      }
     }
    }
   },
   "source": [
    "# Pump-Probe Data"
   ]
  },
  {
   "cell_type": "markdown",
   "metadata": {
    "extensions": {
     "jupyter_dashboards": {
      "version": 1,
      "views": {
       "grid_default": {},
       "report_default": {
        "hidden": false
       }
      }
     }
    }
   },
   "source": [
    "## Baseline for Pump-Probe Data"
   ]
  },
  {
   "cell_type": "code",
   "execution_count": 2,
   "metadata": {
    "collapsed": false
   },
   "outputs": [
    {
     "name": "stderr",
     "output_type": "stream",
     "text": [
      "/home/malte/Analysis/SFG2D/io/veronica.py:261: UserWarning: cant determine spectrum type of data by filename.Trying to determine datatype from content.This is much slower\n",
      "  warnings.warn('cant determine spectrum type of data by filename.'\n"
     ]
    }
   ],
   "source": [
    "class w_base():\n",
    "    data = None\n",
    "    def get(fbase):\n",
    "        ppdData._base = SFG2D.io.veronica.read_auto(fbase)\n",
    "        w_base.data = ppdData.base.med\n",
    "    \n",
    "    def update(new):\n",
    "        w_base.get(ppdData.ffolder + ppWidget.fbase.value)\n",
    "        \n",
    "    def fig_init(param_dict={}):\n",
    "        \"\"\"Init an empty bqplot figure\"\"\"\n",
    "        x_sc = LinearScale()\n",
    "        y_sc = LinearScale()\n",
    "\n",
    "        line = Lines(scales={'x':x_sc, 'y':y_sc})\n",
    "\n",
    "        ax_x = Axis(scale=x_sc, \n",
    "                    label='Wavenumber')\n",
    "        ax_y = Axis(scale=y_sc, \n",
    "                    label='Counts', orientation='vertical')\n",
    "\n",
    "        fig = Figure(marks=[line], axes=[ax_x, ax_y], \n",
    "                     title='Pump Profile')\n",
    "        return fig\n",
    "        \n",
    "    def fig_update(new):\n",
    "        base_fig.marks[0].x = w_base.data.index\n",
    "        base_fig.marks[0].y = w_base.data.transpose()\n",
    "        \n",
    "w_base.get(ppdData.ffolder + ppWidget.fbase.value)      \n",
    "base_fig = w_base.fig_init()\n",
    "w_base.fig_update(None)\n",
    "\n",
    "ppWidget.fbase.observe(w_base.update, 'value')\n",
    "ppWidget.fbase.observe(w_base.fig_update, 'value')\n",
    "#w_base = ipyw.interactive(set_base, fbase = ppWidget.fbase)\n",
    "\n",
    "display(ppWidget.fbase, base_fig)"
   ]
  },
  {
   "cell_type": "code",
   "execution_count": 4,
   "metadata": {
    "collapsed": false
   },
   "outputs": [
    {
     "data": {
      "text/html": [
       "<div>\n",
       "<table border=\"1\" class=\"dataframe\">\n",
       "  <thead>\n",
       "    <tr style=\"text-align: right;\">\n",
       "      <th></th>\n",
       "      <th></th>\n",
       "      <th>spec_0</th>\n",
       "      <th>spec_1</th>\n",
       "      <th>spec_2</th>\n",
       "    </tr>\n",
       "    <tr>\n",
       "      <th>pp_delay</th>\n",
       "      <th>wavenumber</th>\n",
       "      <th></th>\n",
       "      <th></th>\n",
       "      <th></th>\n",
       "    </tr>\n",
       "  </thead>\n",
       "  <tbody>\n",
       "    <tr>\n",
       "      <th rowspan=\"30\" valign=\"top\">-1900</th>\n",
       "      <th>4268.2</th>\n",
       "      <td>298</td>\n",
       "      <td>299</td>\n",
       "      <td>297</td>\n",
       "    </tr>\n",
       "    <tr>\n",
       "      <th>4269.2</th>\n",
       "      <td>296</td>\n",
       "      <td>298</td>\n",
       "      <td>297</td>\n",
       "    </tr>\n",
       "    <tr>\n",
       "      <th>4270.1</th>\n",
       "      <td>298</td>\n",
       "      <td>301</td>\n",
       "      <td>298</td>\n",
       "    </tr>\n",
       "    <tr>\n",
       "      <th>4271.1</th>\n",
       "      <td>288</td>\n",
       "      <td>300</td>\n",
       "      <td>301</td>\n",
       "    </tr>\n",
       "    <tr>\n",
       "      <th>4272.0</th>\n",
       "      <td>303</td>\n",
       "      <td>299</td>\n",
       "      <td>304</td>\n",
       "    </tr>\n",
       "    <tr>\n",
       "      <th>4272.9</th>\n",
       "      <td>299</td>\n",
       "      <td>301</td>\n",
       "      <td>296</td>\n",
       "    </tr>\n",
       "    <tr>\n",
       "      <th>4273.9</th>\n",
       "      <td>303</td>\n",
       "      <td>303</td>\n",
       "      <td>298</td>\n",
       "    </tr>\n",
       "    <tr>\n",
       "      <th>4274.8</th>\n",
       "      <td>302</td>\n",
       "      <td>302</td>\n",
       "      <td>300</td>\n",
       "    </tr>\n",
       "    <tr>\n",
       "      <th>4275.8</th>\n",
       "      <td>297</td>\n",
       "      <td>301</td>\n",
       "      <td>302</td>\n",
       "    </tr>\n",
       "    <tr>\n",
       "      <th>4276.7</th>\n",
       "      <td>307</td>\n",
       "      <td>299</td>\n",
       "      <td>295</td>\n",
       "    </tr>\n",
       "    <tr>\n",
       "      <th>4277.7</th>\n",
       "      <td>301</td>\n",
       "      <td>299</td>\n",
       "      <td>299</td>\n",
       "    </tr>\n",
       "    <tr>\n",
       "      <th>4278.6</th>\n",
       "      <td>299</td>\n",
       "      <td>298</td>\n",
       "      <td>300</td>\n",
       "    </tr>\n",
       "    <tr>\n",
       "      <th>4279.6</th>\n",
       "      <td>305</td>\n",
       "      <td>299</td>\n",
       "      <td>295</td>\n",
       "    </tr>\n",
       "    <tr>\n",
       "      <th>4280.5</th>\n",
       "      <td>298</td>\n",
       "      <td>305</td>\n",
       "      <td>300</td>\n",
       "    </tr>\n",
       "    <tr>\n",
       "      <th>4281.5</th>\n",
       "      <td>300</td>\n",
       "      <td>301</td>\n",
       "      <td>297</td>\n",
       "    </tr>\n",
       "    <tr>\n",
       "      <th>4282.4</th>\n",
       "      <td>305</td>\n",
       "      <td>300</td>\n",
       "      <td>302</td>\n",
       "    </tr>\n",
       "    <tr>\n",
       "      <th>4283.4</th>\n",
       "      <td>301</td>\n",
       "      <td>305</td>\n",
       "      <td>298</td>\n",
       "    </tr>\n",
       "    <tr>\n",
       "      <th>4284.3</th>\n",
       "      <td>300</td>\n",
       "      <td>298</td>\n",
       "      <td>306</td>\n",
       "    </tr>\n",
       "    <tr>\n",
       "      <th>4285.3</th>\n",
       "      <td>301</td>\n",
       "      <td>295</td>\n",
       "      <td>298</td>\n",
       "    </tr>\n",
       "    <tr>\n",
       "      <th>4286.2</th>\n",
       "      <td>301</td>\n",
       "      <td>291</td>\n",
       "      <td>296</td>\n",
       "    </tr>\n",
       "    <tr>\n",
       "      <th>4287.2</th>\n",
       "      <td>299</td>\n",
       "      <td>304</td>\n",
       "      <td>300</td>\n",
       "    </tr>\n",
       "    <tr>\n",
       "      <th>4288.1</th>\n",
       "      <td>301</td>\n",
       "      <td>296</td>\n",
       "      <td>298</td>\n",
       "    </tr>\n",
       "    <tr>\n",
       "      <th>4289.1</th>\n",
       "      <td>298</td>\n",
       "      <td>303</td>\n",
       "      <td>304</td>\n",
       "    </tr>\n",
       "    <tr>\n",
       "      <th>4290.0</th>\n",
       "      <td>300</td>\n",
       "      <td>296</td>\n",
       "      <td>303</td>\n",
       "    </tr>\n",
       "    <tr>\n",
       "      <th>4291.0</th>\n",
       "      <td>299</td>\n",
       "      <td>299</td>\n",
       "      <td>301</td>\n",
       "    </tr>\n",
       "    <tr>\n",
       "      <th>4291.9</th>\n",
       "      <td>300</td>\n",
       "      <td>297</td>\n",
       "      <td>300</td>\n",
       "    </tr>\n",
       "    <tr>\n",
       "      <th>4292.8</th>\n",
       "      <td>293</td>\n",
       "      <td>307</td>\n",
       "      <td>300</td>\n",
       "    </tr>\n",
       "    <tr>\n",
       "      <th>4293.8</th>\n",
       "      <td>298</td>\n",
       "      <td>304</td>\n",
       "      <td>300</td>\n",
       "    </tr>\n",
       "    <tr>\n",
       "      <th>4294.7</th>\n",
       "      <td>301</td>\n",
       "      <td>300</td>\n",
       "      <td>299</td>\n",
       "    </tr>\n",
       "    <tr>\n",
       "      <th>4295.7</th>\n",
       "      <td>301</td>\n",
       "      <td>303</td>\n",
       "      <td>299</td>\n",
       "    </tr>\n",
       "    <tr>\n",
       "      <th>...</th>\n",
       "      <th>...</th>\n",
       "      <td>...</td>\n",
       "      <td>...</td>\n",
       "      <td>...</td>\n",
       "    </tr>\n",
       "    <tr>\n",
       "      <th rowspan=\"30\" valign=\"top\">1900</th>\n",
       "      <th>5899.3</th>\n",
       "      <td>299</td>\n",
       "      <td>299</td>\n",
       "      <td>304</td>\n",
       "    </tr>\n",
       "    <tr>\n",
       "      <th>5900.5</th>\n",
       "      <td>301</td>\n",
       "      <td>305</td>\n",
       "      <td>303</td>\n",
       "    </tr>\n",
       "    <tr>\n",
       "      <th>5901.6</th>\n",
       "      <td>305</td>\n",
       "      <td>301</td>\n",
       "      <td>297</td>\n",
       "    </tr>\n",
       "    <tr>\n",
       "      <th>5902.7</th>\n",
       "      <td>301</td>\n",
       "      <td>296</td>\n",
       "      <td>296</td>\n",
       "    </tr>\n",
       "    <tr>\n",
       "      <th>5903.9</th>\n",
       "      <td>307</td>\n",
       "      <td>296</td>\n",
       "      <td>305</td>\n",
       "    </tr>\n",
       "    <tr>\n",
       "      <th>5905.0</th>\n",
       "      <td>299</td>\n",
       "      <td>297</td>\n",
       "      <td>296</td>\n",
       "    </tr>\n",
       "    <tr>\n",
       "      <th>5906.2</th>\n",
       "      <td>295</td>\n",
       "      <td>300</td>\n",
       "      <td>301</td>\n",
       "    </tr>\n",
       "    <tr>\n",
       "      <th>5907.3</th>\n",
       "      <td>300</td>\n",
       "      <td>304</td>\n",
       "      <td>302</td>\n",
       "    </tr>\n",
       "    <tr>\n",
       "      <th>5908.5</th>\n",
       "      <td>299</td>\n",
       "      <td>306</td>\n",
       "      <td>302</td>\n",
       "    </tr>\n",
       "    <tr>\n",
       "      <th>5909.6</th>\n",
       "      <td>299</td>\n",
       "      <td>298</td>\n",
       "      <td>297</td>\n",
       "    </tr>\n",
       "    <tr>\n",
       "      <th>5910.7</th>\n",
       "      <td>305</td>\n",
       "      <td>301</td>\n",
       "      <td>302</td>\n",
       "    </tr>\n",
       "    <tr>\n",
       "      <th>5911.9</th>\n",
       "      <td>304</td>\n",
       "      <td>299</td>\n",
       "      <td>301</td>\n",
       "    </tr>\n",
       "    <tr>\n",
       "      <th>5913.0</th>\n",
       "      <td>298</td>\n",
       "      <td>303</td>\n",
       "      <td>303</td>\n",
       "    </tr>\n",
       "    <tr>\n",
       "      <th>5914.2</th>\n",
       "      <td>299</td>\n",
       "      <td>300</td>\n",
       "      <td>300</td>\n",
       "    </tr>\n",
       "    <tr>\n",
       "      <th>5915.3</th>\n",
       "      <td>298</td>\n",
       "      <td>299</td>\n",
       "      <td>302</td>\n",
       "    </tr>\n",
       "    <tr>\n",
       "      <th>5916.5</th>\n",
       "      <td>303</td>\n",
       "      <td>299</td>\n",
       "      <td>302</td>\n",
       "    </tr>\n",
       "    <tr>\n",
       "      <th>5917.6</th>\n",
       "      <td>298</td>\n",
       "      <td>308</td>\n",
       "      <td>302</td>\n",
       "    </tr>\n",
       "    <tr>\n",
       "      <th>5918.7</th>\n",
       "      <td>303</td>\n",
       "      <td>296</td>\n",
       "      <td>302</td>\n",
       "    </tr>\n",
       "    <tr>\n",
       "      <th>5919.9</th>\n",
       "      <td>300</td>\n",
       "      <td>300</td>\n",
       "      <td>300</td>\n",
       "    </tr>\n",
       "    <tr>\n",
       "      <th>5921.0</th>\n",
       "      <td>300</td>\n",
       "      <td>297</td>\n",
       "      <td>299</td>\n",
       "    </tr>\n",
       "    <tr>\n",
       "      <th>5922.2</th>\n",
       "      <td>298</td>\n",
       "      <td>300</td>\n",
       "      <td>298</td>\n",
       "    </tr>\n",
       "    <tr>\n",
       "      <th>5923.3</th>\n",
       "      <td>301</td>\n",
       "      <td>301</td>\n",
       "      <td>302</td>\n",
       "    </tr>\n",
       "    <tr>\n",
       "      <th>5924.5</th>\n",
       "      <td>299</td>\n",
       "      <td>301</td>\n",
       "      <td>298</td>\n",
       "    </tr>\n",
       "    <tr>\n",
       "      <th>5925.6</th>\n",
       "      <td>303</td>\n",
       "      <td>305</td>\n",
       "      <td>304</td>\n",
       "    </tr>\n",
       "    <tr>\n",
       "      <th>5926.7</th>\n",
       "      <td>301</td>\n",
       "      <td>299</td>\n",
       "      <td>297</td>\n",
       "    </tr>\n",
       "    <tr>\n",
       "      <th>5927.9</th>\n",
       "      <td>298</td>\n",
       "      <td>296</td>\n",
       "      <td>302</td>\n",
       "    </tr>\n",
       "    <tr>\n",
       "      <th>5929.0</th>\n",
       "      <td>302</td>\n",
       "      <td>300</td>\n",
       "      <td>298</td>\n",
       "    </tr>\n",
       "    <tr>\n",
       "      <th>5930.2</th>\n",
       "      <td>300</td>\n",
       "      <td>299</td>\n",
       "      <td>301</td>\n",
       "    </tr>\n",
       "    <tr>\n",
       "      <th>5931.3</th>\n",
       "      <td>301</td>\n",
       "      <td>303</td>\n",
       "      <td>298</td>\n",
       "    </tr>\n",
       "    <tr>\n",
       "      <th>5932.5</th>\n",
       "      <td>299</td>\n",
       "      <td>294</td>\n",
       "      <td>299</td>\n",
       "    </tr>\n",
       "  </tbody>\n",
       "</table>\n",
       "<p>49600 rows × 3 columns</p>\n",
       "</div>"
      ],
      "text/plain": [
       "                     spec_0  spec_1  spec_2\n",
       "pp_delay wavenumber                        \n",
       "-1900    4268.2         298     299     297\n",
       "         4269.2         296     298     297\n",
       "         4270.1         298     301     298\n",
       "         4271.1         288     300     301\n",
       "         4272.0         303     299     304\n",
       "         4272.9         299     301     296\n",
       "         4273.9         303     303     298\n",
       "         4274.8         302     302     300\n",
       "         4275.8         297     301     302\n",
       "         4276.7         307     299     295\n",
       "         4277.7         301     299     299\n",
       "         4278.6         299     298     300\n",
       "         4279.6         305     299     295\n",
       "         4280.5         298     305     300\n",
       "         4281.5         300     301     297\n",
       "         4282.4         305     300     302\n",
       "         4283.4         301     305     298\n",
       "         4284.3         300     298     306\n",
       "         4285.3         301     295     298\n",
       "         4286.2         301     291     296\n",
       "         4287.2         299     304     300\n",
       "         4288.1         301     296     298\n",
       "         4289.1         298     303     304\n",
       "         4290.0         300     296     303\n",
       "         4291.0         299     299     301\n",
       "         4291.9         300     297     300\n",
       "         4292.8         293     307     300\n",
       "         4293.8         298     304     300\n",
       "         4294.7         301     300     299\n",
       "         4295.7         301     303     299\n",
       "...                     ...     ...     ...\n",
       " 1900    5899.3         299     299     304\n",
       "         5900.5         301     305     303\n",
       "         5901.6         305     301     297\n",
       "         5902.7         301     296     296\n",
       "         5903.9         307     296     305\n",
       "         5905.0         299     297     296\n",
       "         5906.2         295     300     301\n",
       "         5907.3         300     304     302\n",
       "         5908.5         299     306     302\n",
       "         5909.6         299     298     297\n",
       "         5910.7         305     301     302\n",
       "         5911.9         304     299     301\n",
       "         5913.0         298     303     303\n",
       "         5914.2         299     300     300\n",
       "         5915.3         298     299     302\n",
       "         5916.5         303     299     302\n",
       "         5917.6         298     308     302\n",
       "         5918.7         303     296     302\n",
       "         5919.9         300     300     300\n",
       "         5921.0         300     297     299\n",
       "         5922.2         298     300     298\n",
       "         5923.3         301     301     302\n",
       "         5924.5         299     301     298\n",
       "         5925.6         303     305     304\n",
       "         5926.7         301     299     297\n",
       "         5927.9         298     296     302\n",
       "         5929.0         302     300     298\n",
       "         5930.2         300     299     301\n",
       "         5931.3         301     303     298\n",
       "         5932.5         299     294     299\n",
       "\n",
       "[49600 rows x 3 columns]"
      ]
     },
     "execution_count": 4,
     "metadata": {},
     "output_type": "execute_result"
    }
   ],
   "source": [
    "w_base.data"
   ]
  },
  {
   "cell_type": "code",
   "execution_count": null,
   "metadata": {
    "collapsed": true
   },
   "outputs": [],
   "source": [
    "D = ppdData.ts0.df.sum(level=\"pp_delay\")\n",
    "\n",
    "dshape = D[ppWidget.ts0_probed.value].shape\n",
    "D"
   ]
  },
  {
   "cell_type": "code",
   "execution_count": null,
   "metadata": {
    "collapsed": false
   },
   "outputs": [],
   "source": [
    "class w_pump_probe():\n",
    "    def get(fpath):\n",
    "        ppdData.ts0 = SFG2D.io.veronica.read_auto(ppdData.ffolder + fpath)\n",
    "        if ppWidget.ts0_sub_base.value:\n",
    "            ppdData.ts0.base = ppdData.base.med\n",
    "            ppdData.ts0.sub_base(inplace=True)\n",
    "        if ppWidget.ir_spec.value is \"All\":\n",
    "            ppdData.ts0.norm = ppdData.ir.med\n",
    "        else:\n",
    "            ppdData.ts0.norm = ppdData.ir.med[ppWidget.ir_spec.value]\n",
    "        ppdData.ts0u = ppdData.ts0.__deepcopy__()\n",
    "        \n",
    "        if ppWidget.ts0_normalize.value:\n",
    "            ppdData.ts0.normalize(inplace=True)\n",
    "        ppWidget.ts0_ppdelay.options = list(ppdData.ts0.pp_delays)\n",
    "        \n",
    "        if ppWidget.ts0_ppdelay.value not in list(ppdData.ts0.pp_delays):\n",
    "            ppWidget.ts0_ppdelay.value = ppWidget.ts0_ppdelay.options[0]\n",
    "        \n",
    "    def update(new):\n",
    "        w_pump_probe.get(ppWidget.ts0_fpath.value)\n",
    "        \n",
    "    def pump_update(new):\n",
    "        ppdData.ts0.pumped = ppWidget.ts0_pumped.value\n",
    "        ppdData.ts0u.pumped = ppWidget.ts0_pumped.value\n",
    "    \n",
    "    def probe_update(new):\n",
    "        ppdData.ts0u.probed = ppWidget.ts0_probed.value\n",
    "        ppdData.ts0.probed = ppWidget.ts0_probed.value  \n",
    "        \n",
    "    def fig_init():\n",
    "        #bplt.figure(pump_probe_fig)\n",
    "        D = ppdData.ts0.med.ix[ppWidget.ts0_ppdelay.value]\n",
    "        bplt.plot(D.index, D.transpose())\n",
    "        \n",
    "    def fig_sum_init(): \n",
    "        #bplt.figure(pump_probe_sum_fig)\n",
    "        D = ppdData.ts0._df.sum(level='pp_delay')\n",
    "        \n",
    "        bplt.plot(D[ppWidget.ts0_probed.value].as_matrix().flatten('f'))\n",
    "        bplt.plot(D[ppWidget.ts0_pumped.value].as_matrix().flatten('f'))\n",
    "        \n",
    "        dshape = D[ppWidget.ts0_probed.value].shape\n",
    "        if len(dshape) > 1:\n",
    "            for i in range(dshape[1]):\n",
    "                bplt.vline(i * dshape[0])\n",
    "        \n",
    "    def fig_pump_probe_update(new):\n",
    "        #bplt.figure(pump_probe_fig)\n",
    "        pump_probe_fig.marks[0].x = ppdData.ts0.med.ix[ppWidget.ts0_ppdelay.value].index\n",
    "        pump_probe_fig.marks[0].y = ppdData.ts0.med.ix[ppWidget.ts0_ppdelay.value].transpose()\n",
    "        \n",
    "    def fig_pump_probe_sum_update(new):\n",
    "        #bplt.figure(pump_probe_sum_fig)\n",
    "        D = ppdData.ts0._df.sum(level='pp_delay')\n",
    "        mpr = D[ppWidget.ts0_probed.value].as_matrix().flatten('f')\n",
    "        mpu = D[ppWidget.ts0_pumped.value].as_matrix().flatten('f')\n",
    "        pump_probe_sum_fig.marks[0].x = range(mpr.shape[0])\n",
    "        pump_probe_sum_fig.marks[0].y = (mpr, mpu)\n",
    "        \n",
    "        # Delete old vlines and replace with new ones\n",
    "        pump_probe_sum_fig.marks = [pump_probe_sum_fig.marks[0]]\n",
    "        dshape = D[ppWidget.ts0_probed.value].shape\n",
    "        if len(dshape) > 1:\n",
    "            for i in range(dshape[1]):\n",
    "                bplt.vline(i * dshape[0])\n",
    "        \n",
    "display(ppWidget.ts0_fpath, ppWidget.ts0_probed, ppWidget.ts0_pumped, ppWidget.ts0_ppdelay)\n",
    "\n",
    "w_pump_probe.get(ppWidget.ts0_fpath.value)\n",
    "pump_probe_fig = bplt.figure()\n",
    "w_pump_probe.fig_init()\n",
    "\n",
    "pump_probe_sum_fig = bplt.figure()\n",
    "w_pump_probe.fig_sum_init()\n",
    "\n",
    "ppWidget.ts0_fpath.observe(w_pump_probe.update, 'value')\n",
    "ppWidget.ts0_fpath.observe(w_pump_probe.fig_pump_probe_update, 'value')\n",
    "ppWidget.ts0_fpath.observe(w_pump_probe.fig_pump_probe_sum_update, 'value')\n",
    "\n",
    "#ppWidget.ts0_probed.observe(w_pump_probe.probe_update, 'value')\n",
    "#ppWidget.ts0_probed.observe(w_pump_probe.fig_pump_probe_update, 'value')\n",
    "\n",
    "#ppWidget.ts0_pumped.observe(w_pump_probe.pump_update, 'value')\n",
    "#ppWidget.ts0_pumped.observe(w_pump_probe.fig_pump_probe_update)\n",
    "\n",
    "#ppWidget.ts0_ppdelay.observe(w_pump_probe.fig_pump_probe_update, 'value')\n",
    "\n",
    "\n",
    "\n",
    "bplt.show()"
   ]
  },
  {
   "cell_type": "code",
   "execution_count": null,
   "metadata": {
    "collapsed": false
   },
   "outputs": [],
   "source": [
    "ppdData.ts0"
   ]
  },
  {
   "cell_type": "code",
   "execution_count": null,
   "metadata": {
    "collapsed": false
   },
   "outputs": [],
   "source": [
    "w_pump_probe.get(ppWidget.ts0_fpath.value)\n",
    "D = ppdData.ts0._df.sum(level='pp_delay')['spec_0']\n",
    "len(D.shape)"
   ]
  },
  {
   "cell_type": "markdown",
   "metadata": {
    "collapsed": true
   },
   "source": [
    "#### pump_probe_fig = bplt.figure()\n",
    "w_pump_probe.fig_init()\n",
    "\n",
    "ppWidget.ts0_fpath.observe(w_pump_probe.update, 'value')\n",
    "#ppWidget.ts0_fpath.observe(w_pump_probe.fig_pump_probe_sum_update, 'value')\n",
    "ppWidget.ts0_fpath.observe(w_pump_probe.fig_pump_probe_update, \"value\")\n",
    "\n",
    "ppWidget.ts0_probed.observe(w_pump_probe.probe_update, 'value')\n",
    "ppWidget.ts0_probed.observe(w_pump_probe.fig_pump_probe_update, 'value')\n",
    "\n",
    "ppWidget.ts0_pumped.observe(w_pump_probe.pump_update, 'value')\n",
    "ppWidget.ts0_pumped.observe(w_pump_probe.fig_pump_probe_update)"
   ]
  },
  {
   "cell_type": "code",
   "execution_count": null,
   "metadata": {
    "collapsed": false
   },
   "outputs": [],
   "source": [
    "ppWidget.ts0_fpath"
   ]
  },
  {
   "cell_type": "code",
   "execution_count": null,
   "metadata": {
    "collapsed": true
   },
   "outputs": [],
   "source": [
    "def set_pump_probe(fpath, sub_base=False, normalize=False):\n",
    "    ppdData.ts0 = SFG2D.io.veronica.read_auto(ppdData.ffolder + fpath)\n",
    "    if sub_base:\n",
    "        ppdData.ts0.base = ppdData.base.med\n",
    "        ppdData.ts0.sub_base(inplace=True)\n",
    "    if ppWidget.ir_spec.value is \"All\":\n",
    "        ppdData.ts0.norm = ppdData.ir.med\n",
    "    else:\n",
    "        ppdData.ts0.norm = ppdData.ir.med[ppWidget.ir_spec.value]\n",
    "    ppdData.ts0u = ppdData.ts0.__deepcopy__()\n",
    "    if normalize:\n",
    "        ppdData.ts0.normalize(inplace=True)\n",
    "    ppWidget.ts0_ppdelay.options = list(ppdData.ts0.pp_delays)\n",
    "    ppWidget.ts0_ppdelay.value=0\n",
    "    \n",
    "def ts0_pump_update(*args):\n",
    "    #global ts0\n",
    "    ppdData.ts0.pumped = ppWidget.ts0_pumped.value\n",
    "    ppdData.ts0u.pumped = ppWidget.ts0_pumped.value\n",
    "    \n",
    "def ts0_probe_update(*args):\n",
    "    #global ts0\n",
    "    ppdData.ts0u.probed = ppWidget.ts0_probed.value\n",
    "    ppdData.ts0.probed = ppWidget.ts0_probed.value\n",
    "    \n",
    "def pump_probe_sum_plot(*args):\n",
    "    ax = axes_pump_probe_get[1]\n",
    "    if isinstance(ppdData.ts0u, SFG2D.core.scan.TimeScan):\n",
    "        [SFG2D.plotting.ts.sum_of_spectra(ppdData.ts0u, spec, ax) for spec in ('spec_0', 'spec_1', 'spec_2')]\n",
    "    ax.set_title(\"Sum of Spectra\")\n",
    "\n",
    "def pump_probe_plot(pp_delay):\n",
    "    ax = axes_pump_probe_get[0]\n",
    "    ax.clear()\n",
    "    \n",
    "    if isinstance(ppdData.ts0u, SFG2D.core.scan.TimeScan):\n",
    "        ppdData.ts0u.med.ix[pp_delay].plot(ax=ax)\n",
    "        ax.set_title(\"%i fs\"%pp_delay)\n",
    "        #plt.ylim(-0.002, 0.015) # get this from set_pump_probedata\n",
    "        #plt.xlim(2100, 2800) # get this from ir profile\n",
    "    fig_pump_probe_get.tight_layout()\n",
    "    display(fig_pump_probe_get)"
   ]
  },
  {
   "cell_type": "code",
   "execution_count": null,
   "metadata": {
    "collapsed": false
   },
   "outputs": [],
   "source": [
    "fig_pump_probe_get, axes_pump_probe_get = plt.subplots(1,2, figsize=(16,6))\n",
    "\n",
    "ppWidget.ts0 = ipyw.interactive(set_pump_probe, fpath=ppWidget.ts0_fpath, sub_base=ppWidget.ts0_sub_base, normalize=ppWidget.ts0_normalize)\n",
    "ppWidget.ts0_pumped.observe(ts0_pump_update, 'value')\n",
    "ppWidget.ts0_probed.observe(ts0_probe_update, 'value')\n",
    "pp\n",
    "\n",
    "\n",
    "ppWidget.ts0_plot = ipyw.interactive(pump_probe_plot, pp_delay=ppWidget.ts0_ppdelay)\n",
    "display(ppWidget.ts0, ppWidget.ts0_pumped, ppWidget.ts0_probed, ppWidget.ts0_plot)\n",
    "pump_probe_sum_plot()"
   ]
  },
  {
   "cell_type": "markdown",
   "metadata": {
    "extensions": {
     "jupyter_dashboards": {
      "version": 1,
      "views": {
       "grid_default": {},
       "report_default": {
        "hidden": false
       }
      }
     }
    }
   },
   "source": [
    "## Normalize Spectra"
   ]
  },
  {
   "cell_type": "code",
   "execution_count": null,
   "metadata": {
    "collapsed": false
   },
   "outputs": [],
   "source": [
    "%%capture\n",
    "fig_norm, ax_norm = plt.subplots(1,2, figsize=(12,6))\n",
    "ax_norm[0].set_title(\"Unnormalized\")\n",
    "ax_norm[1].set_title(\"Normalized\")\n",
    "#ax_norm[1].set_ylim(-0.002, 0.015)\n",
    "ppdData.ts0u.pumped.ix[ppWidget.ts0_ppdelay.value].plot(ax = ax_norm[0], label=\"pumped\")\n",
    "ppdData.ts0u.probed.ix[ppWidget.ts0_ppdelay.value].plot(ax = ax_norm[0], label=\"probed\")\n",
    "\n",
    "ppdData.ts0.pumped.ix[ppWidget.ts0_ppdelay.value].plot(ax = ax_norm[1], label = \"pumped\")\n",
    "ppdData.ts0.probed.ix[ppWidget.ts0_ppdelay.value].plot(ax = ax_norm[1], label = \"probed\")\n",
    "\n",
    "ax_norm[0].legend()\n",
    "fig_norm.tight_layout()\n",
    "\n",
    "\n",
    "def plot_norm_update(pp_delay):\n",
    "    ax_norm[0].lines[0].set_ydata(ppdData.ts0u.pumped.ix[pp_delay])\n",
    "    ax_norm[0].lines[1].set_ydata(ppdData.ts0u.probed.ix[pp_delay])\n",
    "\n",
    "    ax_norm[1].lines[0].set_ydata(ppdData.ts0.pumped.ix[pp_delay])\n",
    "    ax_norm[1].lines[1].set_ydata(ppdData.ts0.probed.ix[pp_delay])\n",
    "       \n",
    "    display(fig_norm)"
   ]
  },
  {
   "cell_type": "code",
   "execution_count": null,
   "metadata": {
    "collapsed": false
   },
   "outputs": [],
   "source": [
    "ipyw.interact(plot_norm_update, pp_delay=ppWidget.ts0_ppdelay_childs[0])"
   ]
  },
  {
   "cell_type": "markdown",
   "metadata": {
    "extensions": {
     "jupyter_dashboards": {
      "version": 1,
      "views": {
       "grid_default": {
        "col": 4,
        "height": 4,
        "hidden": false,
        "row": 50,
        "width": 4
       },
       "report_default": {
        "hidden": false
       }
      }
     }
    }
   },
   "source": [
    "# Spectra Over Time"
   ]
  },
  {
   "cell_type": "code",
   "execution_count": null,
   "metadata": {
    "collapsed": false,
    "extensions": {
     "jupyter_dashboards": {
      "version": 1,
      "views": {
       "grid_default": {},
       "report_default": {
        "hidden": false
       }
      }
     }
    }
   },
   "outputs": [],
   "source": [
    "%%capture\n",
    "roi = slice(2200,2800)\n",
    "\n",
    "def plot_compare_update(pp_delay):\n",
    "    for i in range(ppdData.ts0.df['spec_0'].shape[1]):\n",
    "        data = ppdData.ts0.df.loc[ppWidget.ts0_ppdelay_childs[1].value, \"spec_0\"][roi].iloc[:,i]\n",
    "        ax_compare[0].lines[i].set_ydata(data)\n",
    "        data = ppdData.ts0.df.loc[ppWidget.ts0_ppdelay_childs[1].value, \"spec_1\"][roi].iloc[:,i]\n",
    "        ax_compare[1].lines[i].set_ydata(data)\n",
    "    \n",
    "    display(fig_compare)\n",
    "    \n",
    "\n",
    "fig_compare, ax_compare = plt.subplots(1, 2, sharey=True, figsize=(16,6))\n",
    "ppdData.ts0.df.loc[ppWidget.ts0_ppdelay_childs[1].value, \"spec_0\"][roi].plot(ax=ax_compare[0])        \n",
    "ppdData.ts0.df.loc[ppWidget.ts0_ppdelay_childs[1].value, \"spec_1\"][roi].plot(ax=ax_compare[1])\n",
    "for ax, title in zip(ax_compare, ('spec_0', 'spec_1')):\n",
    "    ax.set_title(title)\n",
    "    for i in range(len(ax.lines)):\n",
    "        ax.lines[i].set_label('run %i'%i)\n",
    "    ax.legend()\n",
    "#plt.ylim(-0.002, 0.017)"
   ]
  },
  {
   "cell_type": "code",
   "execution_count": null,
   "metadata": {
    "collapsed": false,
    "extensions": {
     "jupyter_dashboards": {
      "version": 1,
      "views": {
       "grid_default": {
        "col": 8,
        "height": 8,
        "hidden": false,
        "row": 50,
        "width": 4
       },
       "report_default": {
        "hidden": false
       }
      }
     }
    }
   },
   "outputs": [],
   "source": [
    "w_f0 = ipyw.interact(plot_compare_update, pp_delay=ppWidget.ts0_ppdelay_childs[1])\n",
    "#display(w_f0)"
   ]
  },
  {
   "cell_type": "markdown",
   "metadata": {
    "extensions": {
     "jupyter_dashboards": {
      "version": 1,
      "views": {
       "grid_default": {
        "col": 4,
        "height": 4,
        "hidden": false,
        "row": 54,
        "width": 4
       },
       "report_default": {
        "hidden": false
       }
      }
     }
    }
   },
   "source": [
    "## Smoothed"
   ]
  },
  {
   "cell_type": "code",
   "execution_count": null,
   "metadata": {
    "collapsed": false,
    "extensions": {
     "jupyter_dashboards": {
      "version": 1,
      "views": {
       "grid_default": {
        "col": 0,
        "height": 12,
        "hidden": false,
        "row": 58,
        "width": 4
       },
       "report_default": {
        "hidden": false
       }
      }
     }
    }
   },
   "outputs": [],
   "source": [
    "#pp_slider3 = ipyw.SelectionSlider(options=list(ppdData.ts0.pp_delays), value=0, continuous_update=False)\n",
    "roi = slice(2200,2800) # get this from the pump\n",
    "def p3(pp_delay):\n",
    "    ppdData.ts0.pumped.loc[pp_delay][roi].rolling(10).mean().plot(label=\"pumped\")\n",
    "    ppdData.ts0.probed.loc[pp_delay][roi].rolling(10).mean().plot(label=\"probed\")\n",
    "    #plt.ylim(0.001, 0.015)\n",
    "    plt.title(str(pp_delay) + \" fs\")\n",
    "    plt.legend()\n",
    "    #plt.grid()\n",
    "\n",
    "ppWidget.p3 = ipyw.interactive(p3, pp_delay=ppWidget.ts0_ppdelay_childs[2])\n",
    "display(ppWidget.p3)\n",
    "plt.show()"
   ]
  },
  {
   "cell_type": "markdown",
   "metadata": {
    "extensions": {
     "jupyter_dashboards": {
      "version": 1,
      "views": {
       "grid_default": {
        "col": 4,
        "height": 4,
        "hidden": false,
        "row": 58,
        "width": 4
       },
       "report_default": {
        "hidden": false
       }
      }
     }
    }
   },
   "source": [
    "# Bleach Trace"
   ]
  },
  {
   "cell_type": "code",
   "execution_count": null,
   "metadata": {
    "collapsed": false,
    "extensions": {
     "jupyter_dashboards": {
      "version": 1,
      "views": {
       "grid_default": {
        "col": 8,
        "height": 11,
        "hidden": false,
        "row": 58,
        "width": 4
       },
       "report_default": {
        "hidden": false
       }
      }
     }
    }
   },
   "outputs": [],
   "source": [
    "roi_slider_range = int(ppdData.ts0.df.index.levels[1].min()), int(ppdData.ts0.df.index.levels[1].max())\n",
    "#roi_slider_range = 0, 800\n",
    "roi_slider = ipyw.IntRangeSlider(\n",
    "    value = (2450, 2600),\n",
    "    min = roi_slider_range[0],\n",
    "    max = roi_slider_range[1],\n",
    "    continuous_update=False\n",
    ")\n",
    "\n",
    "#roi = slice(2450,2600)\n",
    "\n",
    "def plot_bleach_trace(roi):\n",
    "    tss = ppdData.ts0.bleach.unstack(0)\n",
    "    tss = tss[(tss.index > roi[0]) & (tss.index < roi[1])].sum()\n",
    "\n",
    "    tss.plot()\n",
    "    plt.scatter(tss.index, tss)\n",
    "    plt.title(r\"Bleach from (%i to %i)cm$^{-1}$\"%(roi[0], roi[1]))\n",
    "    \n",
    "ipyw.interact(plot_bleach_trace, roi=roi_slider)\n",
    "plt.show()"
   ]
  },
  {
   "cell_type": "code",
   "execution_count": null,
   "metadata": {
    "collapsed": true
   },
   "outputs": [],
   "source": [
    "ppdData.ts0.pump"
   ]
  },
  {
   "cell_type": "code",
   "execution_count": null,
   "metadata": {
    "collapsed": false
   },
   "outputs": [],
   "source": [
    "ppdData.ts0.df.ix[0, \"spec_0\"].plot()"
   ]
  },
  {
   "cell_type": "code",
   "execution_count": null,
   "metadata": {
    "collapsed": false
   },
   "outputs": [],
   "source": [
    "import datetime\n",
    "pp_delays = 25\n",
    "exp_time = 10# in minutes\n",
    "reps = 3 #number of repetitions\n",
    "datetime.datetime.now() + datetime.timedelta(minutes=pp_delays*exp_time*reps)"
   ]
  },
  {
   "cell_type": "code",
   "execution_count": null,
   "metadata": {
    "collapsed": false
   },
   "outputs": [],
   "source": [
    "25*10/60"
   ]
  },
  {
   "cell_type": "code",
   "execution_count": null,
   "metadata": {
    "collapsed": true
   },
   "outputs": [],
   "source": []
  }
 ],
 "metadata": {
  "extensions": {
   "jupyter_dashboards": {
    "activeView": "report_default",
    "version": 1,
    "views": {
     "grid_default": {
      "cellMargin": 10,
      "defaultCellHeight": 20,
      "maxColumns": 12,
      "name": "grid",
      "type": "grid"
     },
     "report_default": {
      "name": "report",
      "type": "report"
     }
    }
   }
  },
  "kernelspec": {
   "display_name": "Python 3",
   "language": "python",
   "name": "python3"
  },
  "language_info": {
   "codemirror_mode": {
    "name": "ipython",
    "version": 3
   },
   "file_extension": ".py",
   "mimetype": "text/x-python",
   "name": "python",
   "nbconvert_exporter": "python",
   "pygments_lexer": "ipython3",
   "version": "3.5.2"
  },
  "widgets": {
   "state": {
    "09abe5ce4c4747a9adc0355acf628f7c": {
     "views": [
      {
       "cell_index": 3
      }
     ]
    },
    "09b20aae75a546488bd5581c73ccdfd6": {
     "views": [
      {
       "cell_index": 3
      }
     ]
    },
    "1057969b266044398dba1176f62539fc": {
     "views": [
      {
       "cell_index": 3
      }
     ]
    },
    "11c955483ae747ddb9fc2af56d6ca33e": {
     "views": [
      {
       "cell_index": 2
      }
     ]
    },
    "12324d0724364cf2a6de9c467187da3d": {
     "views": [
      {
       "cell_index": 3
      }
     ]
    },
    "147ef045bb8e4ac1aa64a7148353172f": {
     "views": [
      {
       "cell_index": 2
      }
     ]
    },
    "170d61cd37934e75bead35be8d9b613a": {
     "views": [
      {
       "cell_index": 2
      }
     ]
    },
    "1963ff72c0a6466ea3cba06401d856ac": {
     "views": [
      {
       "cell_index": 3
      }
     ]
    },
    "2172ddf126a24786a7ff86567b827177": {
     "views": [
      {
       "cell_index": 2
      }
     ]
    },
    "2511b15113d4419d8005bb969d6725b3": {
     "views": [
      {
       "cell_index": 3
      }
     ]
    },
    "33da5cc085ae4d998367d5b4c5fb2256": {
     "views": [
      {
       "cell_index": 2
      }
     ]
    },
    "33dbe6058dd146409f039252d6977866": {
     "views": [
      {
       "cell_index": 2
      }
     ]
    },
    "38312536eb4b45f3b1029c8bb25200f0": {
     "views": [
      {
       "cell_index": 2
      }
     ]
    },
    "3e1440405e37456f9b1cf9c6e56196ed": {
     "views": [
      {
       "cell_index": 2
      }
     ]
    },
    "43b65a859dd34e2fad52e3968bdb5672": {
     "views": [
      {
       "cell_index": 3
      }
     ]
    },
    "43f7576c0ec64e07b702f4f7bc307560": {
     "views": [
      {
       "cell_index": 2
      }
     ]
    },
    "4683de4da3e949ca9d6c1906c361b4ec": {
     "views": [
      {
       "cell_index": 2
      }
     ]
    },
    "46ab373c1f324395922da0e403f79d7e": {
     "views": [
      {
       "cell_index": 3
      }
     ]
    },
    "530feb3b29464657af9ef997c38b5f9d": {
     "views": [
      {
       "cell_index": 2
      }
     ]
    },
    "539a5d6f907841d0ace6da7e7c5b8324": {
     "views": [
      {
       "cell_index": 3
      }
     ]
    },
    "56350e90862a4cbe8326b4773288087b": {
     "views": [
      {
       "cell_index": 3
      }
     ]
    },
    "56aa79441a44451cb45b53cf6b5c959f": {
     "views": [
      {
       "cell_index": 2
      }
     ]
    },
    "60c053878066487a8ede9e8f719f2531": {
     "views": [
      {
       "cell_index": 2
      }
     ]
    },
    "6d21d6459bd3415fa41f0d14a03286a9": {
     "views": [
      {
       "cell_index": 2
      }
     ]
    },
    "6daca7df1ce746eda852d5615a3f6a0e": {
     "views": [
      {
       "cell_index": 2
      }
     ]
    },
    "6f349c6005a04213b936a28c42c2a4d5": {
     "views": [
      {
       "cell_index": 2
      }
     ]
    },
    "6fb2df0b960744ecb7367baf15f91482": {
     "views": [
      {
       "cell_index": 2
      }
     ]
    },
    "6ff766d04b6649ac9bc87b9c53645c8c": {
     "views": [
      {
       "cell_index": 2
      }
     ]
    },
    "70945dc84997436391da9716c4ad9e34": {
     "views": [
      {
       "cell_index": 2
      }
     ]
    },
    "73f10454ba1e474e908ad74de79d5818": {
     "views": [
      {
       "cell_index": 3
      }
     ]
    },
    "740ba5e7bb3c446c8ba29b1cf9544856": {
     "views": [
      {
       "cell_index": 3
      }
     ]
    },
    "74c64aa38c7341b98fdc018a30dc83a1": {
     "views": [
      {
       "cell_index": 2
      }
     ]
    },
    "74de3462e63044688996b425959d0285": {
     "views": [
      {
       "cell_index": 2
      }
     ]
    },
    "75a870e517a848f791f6063089067c0b": {
     "views": [
      {
       "cell_index": 2
      }
     ]
    },
    "7f139324bee149fc989112b88894c348": {
     "views": [
      {
       "cell_index": 2
      }
     ]
    },
    "7f565257639c4136b2e3374a10542174": {
     "views": [
      {
       "cell_index": 2
      }
     ]
    },
    "852ff71bd73146d6b85c1d4bcabcad3a": {
     "views": [
      {
       "cell_index": 2
      }
     ]
    },
    "877e1af50c3245ffa80cec82db86fb5a": {
     "views": [
      {
       "cell_index": 3
      }
     ]
    },
    "87a05b3e02604d978aa5982f0a0a9b2c": {
     "views": [
      {
       "cell_index": 2
      }
     ]
    },
    "888ead3507d1419eafe01b6da0ecee5c": {
     "views": [
      {
       "cell_index": 3
      }
     ]
    },
    "89d0118ed5374a76b46e3ee546388194": {
     "views": [
      {
       "cell_index": 2
      }
     ]
    },
    "8a6c606ff43a4d20a775e6e9ca467cc1": {
     "views": [
      {
       "cell_index": 2
      }
     ]
    },
    "8adf85d63bae46dfab3668e2e6563a73": {
     "views": [
      {
       "cell_index": 2
      }
     ]
    },
    "927e4e0c8ca649f2a30e0b9b0813edf7": {
     "views": [
      {
       "cell_index": 3
      }
     ]
    },
    "946a94ce47ac449ca5fee590583e2671": {
     "views": [
      {
       "cell_index": 3
      }
     ]
    },
    "9849f64835894ea69469f21a71886bca": {
     "views": [
      {
       "cell_index": 2
      }
     ]
    },
    "9bf4b469ea2648789029eb05f00c0b3d": {
     "views": [
      {
       "cell_index": 2
      }
     ]
    },
    "a562abcdb39545d4924bcefabdac3481": {
     "views": [
      {
       "cell_index": 3
      }
     ]
    },
    "a675850e077a4337ae3ca7540241a120": {
     "views": [
      {
       "cell_index": 2
      }
     ]
    },
    "afce53cf328e4497bd4e99ffb72fb75a": {
     "views": [
      {
       "cell_index": 2
      }
     ]
    },
    "b23a1c290ed2427fb25b991e1694db14": {
     "views": [
      {
       "cell_index": 3
      }
     ]
    },
    "b50adb1ce7f541998c606117e5e468f3": {
     "views": [
      {
       "cell_index": 2
      }
     ]
    },
    "bb2cb076f6df44c9baaf6af7efde33e9": {
     "views": [
      {
       "cell_index": 2
      }
     ]
    },
    "be45cdbbd58346bc9348b0b2effb6ccf": {
     "views": [
      {
       "cell_index": 3
      }
     ]
    },
    "c07375a1d7794287a5528e36d012ddb2": {
     "views": [
      {
       "cell_index": 2
      }
     ]
    },
    "c50562a95ce4495a9d54d8a17f5cea13": {
     "views": [
      {
       "cell_index": 3
      }
     ]
    },
    "c54b8fff5b5a41d4a55879c6e6854505": {
     "views": [
      {
       "cell_index": 3
      }
     ]
    },
    "c567ac8980b44c3f8a6b99792ddbd325": {
     "views": [
      {
       "cell_index": 2
      }
     ]
    },
    "cdcf31fc7f05458cb57d50287bc5cf43": {
     "views": [
      {
       "cell_index": 2
      }
     ]
    },
    "d457a7317c534f54a7ff031b529dc668": {
     "views": [
      {
       "cell_index": 3
      }
     ]
    },
    "d73173afaadd473f9d0ad0c4879c3f5b": {
     "views": [
      {
       "cell_index": 3
      }
     ]
    },
    "da0998985bbb4e94ba9bc39d88eb5a77": {
     "views": [
      {
       "cell_index": 2
      }
     ]
    },
    "da20e182d7b74570a35af2018abe8fc9": {
     "views": [
      {
       "cell_index": 3
      }
     ]
    },
    "da696273bd5048708b6a1abac7b7d5bf": {
     "views": [
      {
       "cell_index": 3
      }
     ]
    },
    "df3110e1ef8748a490515a2e87fdcb77": {
     "views": [
      {
       "cell_index": 3
      }
     ]
    },
    "e0fe33ba2844403c908ebdc160d3fe73": {
     "views": [
      {
       "cell_index": 3
      }
     ]
    },
    "e2ee5e2d38094a8ba32bc31c159ab887": {
     "views": [
      {
       "cell_index": 2
      }
     ]
    },
    "e56ed4aa4b1845a189cc8bdb8bc05f70": {
     "views": [
      {
       "cell_index": 2
      }
     ]
    },
    "e73013ef97d9418a9731c861a8ef98f5": {
     "views": [
      {
       "cell_index": 2
      }
     ]
    },
    "e8d33308b201416a983d8478fe04aef4": {
     "views": [
      {
       "cell_index": 3
      }
     ]
    },
    "eabd8ed8bcf845d98a4ab92353c77833": {
     "views": [
      {
       "cell_index": 3
      }
     ]
    },
    "ec4062b7c1b741de8715ef05dfb01cd0": {
     "views": [
      {
       "cell_index": 3
      }
     ]
    },
    "f5ace951801144e78abd538b7adbbb69": {
     "views": [
      {
       "cell_index": 2
      }
     ]
    },
    "f95ea38df80642168b7149ecc6bd73a8": {
     "views": [
      {
       "cell_index": 2
      }
     ]
    },
    "fabb2a3d416b47caa9aeb167d1d7c097": {
     "views": [
      {
       "cell_index": 2
      }
     ]
    }
   },
   "version": "1.2.0"
  }
 },
 "nbformat": 4,
 "nbformat_minor": 0
}
