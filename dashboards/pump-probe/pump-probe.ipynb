{
 "cells": [
  {
   "cell_type": "code",
   "execution_count": 1,
   "metadata": {
    "collapsed": false,
    "extensions": {
     "jupyter_dashboards": {
      "version": 1,
      "views": {
       "grid_default": {},
       "report_default": {
        "hidden": true
       }
      }
     }
    },
    "scrolled": true
   },
   "outputs": [
    {
     "name": "stderr",
     "output_type": "stream",
     "text": [
      "C:\\Users\\deiseroth\\Analysis\\SFG2D\\dashboards\\pump-probe\\gui.py:165: UserWarning: No ppWidget.json file in C:\\Users\\deiseroth\\MeasurmentData\\2016\\09\\06\n",
      "  warnings.warn('No ppWidget.json file in %s' % ffolder)\n"
     ]
    }
   ],
   "source": [
    "%matplotlib inline\n",
    "#%matplotlib notebook\n",
    "import gui\n",
    "from IPython.display import display\n",
    "from ipywidgets import Text\n",
    "\n",
    "\n",
    "# Set plot layout\n",
    "#plt.style.use('seaborn-notebook')\n",
    "#sns.set_style(\"white\")\n",
    "#sns.set_style(\"ticks\")\n",
    "#sns.set_context(\"talk\", font_scale=1.5, rc={\"lines.linewidth\": 2.5})\n",
    "\n",
    "# TODO this should be moved into ppWidget\n",
    "#ffolder = '/home/malte/MeasurmentData/00001/00/'\n",
    "'/home/malte/MeasurmentData/2016/09/08/'\n",
    "'/home/malte/MeasurmentData/2016/09/07/'\n",
    "'/home/malte/MeasurmentData/2016/09/06/'\n",
    "'/home/malte/MeasurmentData/sudipta/2016/08/29/'\n",
    "ftext = Text(\n",
    "    description='Folder',\n",
    "    value='C:/Users/deiseroth/MeasurmentData/2016/09/06/',\n",
    "    tooltip='Path to data folder',\n",
    ")\n",
    "\n",
    "def ftext_update(*args):\n",
    "    global ppWidget, observer\n",
    "    ppWidget, observer, event_handler= gui.update_ffolder(ffolder=ftext.value, observer=observer, ppWidget=ppWidget)\n",
    "\n",
    "ftext.observe(ftext_update, \"value\")\n",
    "\n",
    "\n",
    "ppWidget, observer, event_handler = gui.gen_PumpProbeWidget(ftext.value)"
   ]
  },
  {
   "cell_type": "code",
   "execution_count": 9,
   "metadata": {
    "collapsed": false
   },
   "outputs": [
    {
     "data": {
      "text/plain": [
       "'C:\\\\Users\\\\deiseroth\\\\MeasurmentData\\\\2016\\\\09\\\\06'"
      ]
     },
     "execution_count": 9,
     "metadata": {},
     "output_type": "execute_result"
    }
   ],
   "source": [
    "from os import path\n",
    "path.normpath(path.abspath(ftext.value))"
   ]
  },
  {
   "cell_type": "code",
   "execution_count": 6,
   "metadata": {
    "collapsed": false
   },
   "outputs": [
    {
     "data": {
      "text/plain": [
       "['00_sp_quartz_w678_gcm_e10s_ssp_pu1_pr0_vis1_gal0_chop0_purge0.dat',\n",
       " '01_sc_quartz_w678_gcm_e10s_ssp_pu1_pr0_vis1_gal0_chop0_purge1.dat',\n",
       " '02_sp_quartz_w678_gcm_e10s_ssp_pu0_pr0_vis1_gal0_chop0_purge1.dat',\n",
       " '03_sc_quartz_w678_gcm_e10s_ssp_pu0_pr1_vis1_gal0_chop0_purge1.dat',\n",
       " '04_sp_quartz_w678_gcm_e10s_ssp_pu0_pr0_vis1_gal0_chop0_purge1.dat',\n",
       " '05_ts_gold_w578_gcm_e1s_ssp_pu1_pr1_vis1_gal0_chop0_purge1.dat',\n",
       " '06_ts_gold_w578_gcm_e1s_ssp_pu1_pr1_vis1_gal0_chop0_purge1.dat',\n",
       " '07_ts_gold_w678_gcm_e1s_ssp_pu1_pr1_vis1_gal1_chop1_purge1.dat',\n",
       " '08_ts_gold_w578_gcm_e1s_ssp_pu1_pr0_vis1_gal1_chop1_purge1.dat']"
      ]
     },
     "execution_count": 6,
     "metadata": {},
     "output_type": "execute_result"
    }
   ],
   "source": [
    "event_handler.fnames"
   ]
  },
  {
   "cell_type": "markdown",
   "metadata": {
    "extensions": {
     "jupyter_dashboards": {
      "version": 1,
      "views": {
       "grid_default": {},
       "report_default": {
        "hidden": false
       }
      }
     }
    }
   },
   "source": [
    "# Define Root Folder\n",
    "\n",
    "Examples are `D:\\deiseroth\\2016\\08\\01\\` or `D:\\das\\2016\\09\\12\\`. Note the `\\` at the end."
   ]
  },
  {
   "cell_type": "code",
   "execution_count": 2,
   "metadata": {
    "collapsed": true,
    "extensions": {
     "jupyter_dashboards": {
      "version": 1,
      "views": {
       "grid_default": {},
       "report_default": {
        "hidden": true
       }
      }
     }
    }
   },
   "outputs": [],
   "source": [
    "display(ftext)"
   ]
  },
  {
   "cell_type": "markdown",
   "metadata": {
    "extensions": {
     "jupyter_dashboards": {
      "version": 1,
      "views": {
       "grid_default": {
        "col": 5,
        "height": 4,
        "hidden": false,
        "row": 4,
        "width": 4
       },
       "report_default": {
        "hidden": false
       }
      }
     }
    }
   },
   "source": [
    "## IR Profile"
   ]
  },
  {
   "cell_type": "code",
   "execution_count": 3,
   "metadata": {
    "collapsed": false,
    "extensions": {
     "jupyter_dashboards": {
      "version": 1,
      "views": {
       "grid_default": {},
       "report_default": {
        "hidden": false
       }
      }
     }
    },
    "scrolled": true
   },
   "outputs": [],
   "source": [
    "ppWidget.w_ir(title='IR Profile', y_label='Counts')"
   ]
  },
  {
   "cell_type": "code",
   "execution_count": null,
   "metadata": {
    "collapsed": false,
    "extensions": {
     "jupyter_dashboards": {
      "version": 1,
      "views": {
       "grid_default": {},
       "report_default": {
        "hidden": true
       }
      }
     }
    }
   },
   "outputs": [],
   "source": [
    "#ppWidget.save(ffolder)"
   ]
  },
  {
   "cell_type": "code",
   "execution_count": null,
   "metadata": {
    "collapsed": false,
    "extensions": {
     "jupyter_dashboards": {
      "version": 1,
      "views": {
       "grid_default": {},
       "report_default": {
        "hidden": true
       }
      }
     }
    }
   },
   "outputs": [],
   "source": [
    "#ppdData.ir = '/19_sp_d20_w675_gcm_e20m_ssp_pu1_pr0_vis1_gal1_chop1_purge1.dat'\n",
    "#ppdData.ir.df[\"spec_0\"].clip_upper(340).plot.hist(bins=np.arange(260, 300, 2))\n",
    "#ppdData.ir.df[\"spec_1\"].clip_upper(340).plot.hist(bins=np.arange(260, 300, 2), alpha=0.5)"
   ]
  },
  {
   "cell_type": "markdown",
   "metadata": {
    "extensions": {
     "jupyter_dashboards": {
      "version": 1,
      "views": {
       "grid_default": {
        "col": 5,
        "height": 4,
        "hidden": false,
        "row": 8,
        "width": 4
       },
       "report_default": {
        "hidden": false
       }
      }
     }
    }
   },
   "source": [
    "## Pump Profile"
   ]
  },
  {
   "cell_type": "code",
   "execution_count": null,
   "metadata": {
    "collapsed": false,
    "extensions": {
     "jupyter_dashboards": {
      "version": 1,
      "views": {
       "grid_default": {},
       "report_default": {
        "hidden": false
       }
      }
     }
    }
   },
   "outputs": [],
   "source": [
    "ppWidget.w_pump(title='Pump-Vis SFG', x_label=r'Wavenumbers in 1/cm', y_label='Counts')"
   ]
  },
  {
   "cell_type": "code",
   "execution_count": null,
   "metadata": {
    "collapsed": false,
    "extensions": {
     "jupyter_dashboards": {
      "version": 1,
      "views": {
       "grid_default": {},
       "report_default": {
        "hidden": true
       }
      }
     }
    }
   },
   "outputs": [],
   "source": [
    "#ppWidget.save(ffolder)"
   ]
  },
  {
   "cell_type": "markdown",
   "metadata": {
    "collapsed": false,
    "extensions": {
     "jupyter_dashboards": {
      "version": 1,
      "views": {
       "grid_default": {
        "col": 0,
        "height": 4,
        "hidden": false,
        "row": 26,
        "width": 4
       },
       "report_default": {
        "hidden": false
       }
      }
     }
    }
   },
   "source": [
    "# Pump-Probe Data"
   ]
  },
  {
   "cell_type": "code",
   "execution_count": null,
   "metadata": {
    "collapsed": false,
    "extensions": {
     "jupyter_dashboards": {
      "version": 1,
      "views": {
       "grid_default": {},
       "report_default": {
        "hidden": false
       }
      }
     }
    }
   },
   "outputs": [],
   "source": [
    "ppWidget.w_pump_probe(title='Pump Probe Data', y_label='Counts')"
   ]
  },
  {
   "cell_type": "code",
   "execution_count": null,
   "metadata": {
    "collapsed": true,
    "extensions": {
     "jupyter_dashboards": {
      "version": 1,
      "views": {
       "grid_default": {},
       "report_default": {
        "hidden": true
       }
      }
     }
    }
   },
   "outputs": [],
   "source": [
    "#ppWidget.save(ffolder)"
   ]
  },
  {
   "cell_type": "markdown",
   "metadata": {
    "extensions": {
     "jupyter_dashboards": {
      "version": 1,
      "views": {
       "grid_default": {},
       "report_default": {
        "hidden": false
       }
      }
     }
    }
   },
   "source": [
    "# FROM HERE ON NOT YET IMPLEMENTED"
   ]
  },
  {
   "cell_type": "markdown",
   "metadata": {
    "extensions": {
     "jupyter_dashboards": {
      "version": 1,
      "views": {
       "grid_default": {},
       "report_default": {
        "hidden": false
       }
      }
     }
    }
   },
   "source": [
    "## Normalize Spectra"
   ]
  },
  {
   "cell_type": "markdown",
   "metadata": {
    "extensions": {
     "jupyter_dashboards": {
      "version": 1,
      "views": {
       "grid_default": {
        "col": 4,
        "height": 4,
        "hidden": false,
        "row": 50,
        "width": 4
       },
       "report_default": {
        "hidden": false
       }
      }
     }
    }
   },
   "source": [
    "# Spectra Over Time"
   ]
  },
  {
   "cell_type": "raw",
   "metadata": {
    "collapsed": false,
    "extensions": {
     "jupyter_dashboards": {
      "version": 1,
      "views": {
       "grid_default": {},
       "report_default": {
        "hidden": false
       }
      }
     }
    }
   },
   "source": [
    "%%capture\n",
    "roi = slice(2200,2800)\n",
    "\n",
    "def plot_compare_update(pp_delay):\n",
    "    for i in range(ppdData.ts0.df['spec_0'].shape[1]):\n",
    "        data = ppdData.ts0.df.loc[ppWidget.ts0_ppdelay_childs[1].value, \"spec_0\"][roi].iloc[:,i]\n",
    "        ax_compare[0].lines[i].set_ydata(data)\n",
    "        data = ppdData.ts0.df.loc[ppWidget.ts0_ppdelay_childs[1].value, \"spec_1\"][roi].iloc[:,i]\n",
    "        ax_compare[1].lines[i].set_ydata(data)\n",
    "    \n",
    "    display(fig_compare)\n",
    "    \n",
    "\n",
    "fig_compare, ax_compare = plt.subplots(1, 2, sharey=True, figsize=(16,6))\n",
    "ppdData.ts0.df.loc[ppWidget.ts0_ppdelay_childs[1].value, \"spec_0\"][roi].plot(ax=ax_compare[0])        \n",
    "ppdData.ts0.df.loc[ppWidget.ts0_ppdelay_childs[1].value, \"spec_1\"][roi].plot(ax=ax_compare[1])\n",
    "for ax, title in zip(ax_compare, ('spec_0', 'spec_1')):\n",
    "    ax.set_title(title)\n",
    "    for i in range(len(ax.lines)):\n",
    "        ax.lines[i].set_label('run %i'%i)\n",
    "    ax.legend()\n",
    "#plt.ylim(-0.002, 0.017)"
   ]
  },
  {
   "cell_type": "code",
   "execution_count": null,
   "metadata": {
    "collapsed": false,
    "extensions": {
     "jupyter_dashboards": {
      "version": 1,
      "views": {
       "grid_default": {
        "col": 8,
        "height": 8,
        "hidden": false,
        "row": 50,
        "width": 4
       },
       "report_default": {
        "hidden": false
       }
      }
     }
    }
   },
   "outputs": [],
   "source": [
    "w_f0 = ipyw.interact(plot_compare_update, pp_delay=ppWidget.ts0_ppdelay_childs[1])\n",
    "#display(w_f0)"
   ]
  },
  {
   "cell_type": "markdown",
   "metadata": {
    "extensions": {
     "jupyter_dashboards": {
      "version": 1,
      "views": {
       "grid_default": {
        "col": 4,
        "height": 4,
        "hidden": false,
        "row": 54,
        "width": 4
       },
       "report_default": {
        "hidden": false
       }
      }
     }
    }
   },
   "source": [
    "## Smoothed"
   ]
  },
  {
   "cell_type": "raw",
   "metadata": {
    "collapsed": false,
    "extensions": {
     "jupyter_dashboards": {
      "version": 1,
      "views": {
       "grid_default": {
        "col": 0,
        "height": 12,
        "hidden": false,
        "row": 58,
        "width": 4
       },
       "report_default": {
        "hidden": false
       }
      }
     }
    }
   },
   "source": [
    "#pp_slider3 = ipyw.SelectionSlider(options=list(ppdData.ts0.pp_delays), value=0, continuous_update=False)\n",
    "roi = slice(2200,2800) # get this from the pump\n",
    "def p3(pp_delay):\n",
    "    ppdData.ts0.pumped.loc[pp_delay][roi].rolling(10).mean().plot(label=\"pumped\")\n",
    "    ppdData.ts0.probed.loc[pp_delay][roi].rolling(10).mean().plot(label=\"probed\")\n",
    "    #plt.ylim(0.001, 0.015)\n",
    "    plt.title(str(pp_delay) + \" fs\")\n",
    "    plt.legend()\n",
    "    #plt.grid()\n",
    "\n",
    "ppWidget.p3 = ipyw.interactive(p3, pp_delay=ppWidget.ts0_ppdelay_childs[2])\n",
    "display(ppWidget.p3)\n",
    "plt.show()"
   ]
  },
  {
   "cell_type": "markdown",
   "metadata": {
    "extensions": {
     "jupyter_dashboards": {
      "version": 1,
      "views": {
       "grid_default": {
        "col": 4,
        "height": 4,
        "hidden": false,
        "row": 58,
        "width": 4
       },
       "report_default": {
        "hidden": false
       }
      }
     }
    }
   },
   "source": [
    "# Bleach Trace"
   ]
  },
  {
   "cell_type": "raw",
   "metadata": {
    "collapsed": false,
    "extensions": {
     "jupyter_dashboards": {
      "version": 1,
      "views": {
       "grid_default": {
        "col": 8,
        "height": 11,
        "hidden": false,
        "row": 58,
        "width": 4
       },
       "report_default": {
        "hidden": false
       }
      }
     }
    }
   },
   "source": [
    "roi_slider_range = int(ppdData.ts0.df.index.levels[1].min()), int(ppdData.ts0.df.index.levels[1].max())\n",
    "#roi_slider_range = 0, 800\n",
    "roi_slider = ipyw.IntRangeSlider(\n",
    "    value = (2450, 2600),\n",
    "    min = roi_slider_range[0],\n",
    "    max = roi_slider_range[1],\n",
    "    continuous_update=False\n",
    ")\n",
    "\n",
    "#roi = slice(2450,2600)\n",
    "\n",
    "def plot_bleach_trace(roi):\n",
    "    tss = ppdData.ts0.bleach.unstack(0)\n",
    "    tss = tss[(tss.index > roi[0]) & (tss.index < roi[1])].sum()\n",
    "\n",
    "    tss.plot()\n",
    "    plt.scatter(tss.index, tss)\n",
    "    plt.title(r\"Bleach from (%i to %i)cm$^{-1}$\"%(roi[0], roi[1]))\n",
    "    \n",
    "ipyw.interact(plot_bleach_trace, roi=roi_slider)\n",
    "plt.show()"
   ]
  },
  {
   "cell_type": "code",
   "execution_count": null,
   "metadata": {
    "collapsed": false,
    "extensions": {
     "jupyter_dashboards": {
      "version": 1,
      "views": {
       "grid_default": {},
       "report_default": {
        "hidden": true
       }
      }
     }
    }
   },
   "outputs": [],
   "source": [
    "import datetime\n",
    "pp_delays = 25\n",
    "exp_time = 10# in minutes\n",
    "reps = 3 #number of repetitions\n",
    "datetime.datetime.now() + datetime.timedelta(minutes=pp_delays*exp_time*reps)"
   ]
  },
  {
   "cell_type": "code",
   "execution_count": null,
   "metadata": {
    "collapsed": true,
    "extensions": {
     "jupyter_dashboards": {
      "version": 1,
      "views": {
       "grid_default": {},
       "report_default": {
        "hidden": true
       }
      }
     }
    }
   },
   "outputs": [],
   "source": []
  }
 ],
 "metadata": {
  "extensions": {
   "jupyter_dashboards": {
    "activeView": "report_default",
    "version": 1,
    "views": {
     "grid_default": {
      "cellMargin": 10,
      "defaultCellHeight": 20,
      "maxColumns": 12,
      "name": "grid",
      "type": "grid"
     },
     "report_default": {
      "name": "report",
      "type": "report"
     }
    }
   }
  },
  "kernelspec": {
   "display_name": "Python 3",
   "language": "python",
   "name": "python3"
  },
  "language_info": {
   "codemirror_mode": {
    "name": "ipython",
    "version": 3
   },
   "file_extension": ".py",
   "mimetype": "text/x-python",
   "name": "python",
   "nbconvert_exporter": "python",
   "pygments_lexer": "ipython3",
   "version": "3.5.1"
  },
  "widgets": {
   "state": {
    "08219bbd80774c79a1d4dfcdf4d78936": {
     "views": [
      {
       "cell_index": 6
      }
     ]
    },
    "08fb94389afd49f085c10b4c2277fc01": {
     "views": [
      {
       "cell_index": 5
      }
     ]
    },
    "2ffb970d731d4e61aaea506cb4d4cf55": {
     "views": [
      {
       "cell_index": 5
      }
     ]
    },
    "30d1efe8284541909b0626e642b276a0": {
     "views": [
      {
       "cell_index": 5
      }
     ]
    },
    "32bf14fbf56840c3af4f218a4db2d80d": {
     "views": [
      {
       "cell_index": 6
      }
     ]
    },
    "4b0c12e0aa9949f2a02d4b2e9fe6ffcf": {
     "views": [
      {
       "cell_index": 5
      }
     ]
    },
    "6208b764bf5648d99ce7fb2a10e29dab": {
     "views": [
      {
       "cell_index": 5
      }
     ]
    },
    "7dd589c9957843ba82ab708492e3c707": {
     "views": [
      {
       "cell_index": 5
      }
     ]
    },
    "7f7972c0acfe4deb8afb841973e54e34": {
     "views": [
      {
       "cell_index": 6
      }
     ]
    },
    "84c3d2ebdd5749d2b672ec61d1bbbfb8": {
     "views": [
      {
       "cell_index": 6
      }
     ]
    },
    "85e76c2ac5eb49ddaf371d89d4e3385d": {
     "views": [
      {
       "cell_index": 6
      }
     ]
    },
    "99267695705c4c978bb459b6247c5278": {
     "views": [
      {
       "cell_index": 5
      }
     ]
    },
    "a1430c75c8c54bd497305d13228373c6": {
     "views": [
      {
       "cell_index": 5
      }
     ]
    },
    "a9e30df4811743d9a048b17fb4e5c55f": {
     "views": [
      {
       "cell_index": 6
      }
     ]
    },
    "b94f46e37ba640ca8096f2c8118461df": {
     "views": [
      {
       "cell_index": 5
      }
     ]
    },
    "c0128aff722d416eaafe94d452639144": {
     "views": [
      {
       "cell_index": 5
      }
     ]
    },
    "cc602f6772a84917bd57850e232dc7e3": {
     "views": [
      {
       "cell_index": 6
      }
     ]
    },
    "e605e0fbbe1e40b4919c89a2c8c64145": {
     "views": [
      {
       "cell_index": 6
      }
     ]
    },
    "fe374f0bed9c4c4ca9dbcf2602c0ed3d": {
     "views": [
      {
       "cell_index": 4
      }
     ]
    }
   },
   "version": "1.2.0"
  }
 },
 "nbformat": 4,
 "nbformat_minor": 0
}
