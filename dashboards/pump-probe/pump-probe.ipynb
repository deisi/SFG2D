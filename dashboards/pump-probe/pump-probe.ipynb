{
 "cells": [
  {
   "cell_type": "code",
   "execution_count": 1,
   "metadata": {
    "collapsed": false,
    "extensions": {
     "jupyter_dashboards": {
      "version": 1,
      "views": {
       "grid_default": {},
       "report_default": {
        "hidden": true
       }
      }
     }
    },
    "scrolled": true
   },
   "outputs": [
    {
     "name": "stderr",
     "output_type": "stream",
     "text": [
      "/media/sf_deiseroth/Analysis/SFG2D/dashboards/pump-probe/gui.py:153: UserWarning: No ppWidget.json file in D:\n",
      "  warnings.warn('No ppWidget.json file in %s' % ffolder)\n"
     ]
    }
   ],
   "source": [
    "%matplotlib inline\n",
    "#%matplotlib notebook\n",
    "import gui\n",
    "from IPython.display import display\n",
    "from ipywidgets import Text\n",
    "\n",
    "\n",
    "# Set plot layout\n",
    "#plt.style.use('seaborn-notebook')\n",
    "#sns.set_style(\"white\")\n",
    "#sns.set_style(\"ticks\")\n",
    "#sns.set_context(\"talk\", font_scale=1.5, rc={\"lines.linewidth\": 2.5})\n",
    "\n",
    "# TODO this should be moved into ppWidget\n",
    "#ffolder = '/home/malte/MeasurmentData/00001/00/'\n",
    "'/home/malte/MeasurmentData/2016/09/08/'\n",
    "'/home/malte/MeasurmentData/2016/09/07/'\n",
    "'/home/malte/MeasurmentData/2016/09/06/'\n",
    "'/home/malte/MeasurmentData/sudipta/2016/08/29/'\n",
    "ftext = Text(\n",
    "    description='Folder',\n",
    "    value='D:/',\n",
    "    tooltip='Path to data folder',\n",
    ")\n",
    "\n",
    "def ftext_update(*args):\n",
    "    global ppWidget, observer\n",
    "    ppWidget, observer = gui.update_ffolder(ffolder=ftext.value, observer=observer, ppWidget=ppWidget)\n",
    "\n",
    "ftext.observe(ftext_update, \"value\")\n",
    "\n",
    "\n",
    "ppWidget, observer = gui.gen_PumpProbeWidget(ftext.value)"
   ]
  },
  {
   "cell_type": "markdown",
   "metadata": {
    "extensions": {
     "jupyter_dashboards": {
      "version": 1,
      "views": {
       "grid_default": {},
       "report_default": {
        "hidden": false
       }
      }
     }
    }
   },
   "source": [
    "# Define Root Folder\n",
    "\n",
    "Examples are `D:\\deiseroth\\2016\\08\\01\\` or `D:\\das\\2016\\09\\12\\`. Note the `\\` at the end."
   ]
  },
  {
   "cell_type": "code",
   "execution_count": 2,
   "metadata": {
    "collapsed": true,
    "extensions": {
     "jupyter_dashboards": {
      "version": 1,
      "views": {
       "grid_default": {},
       "report_default": {
        "hidden": true
       }
      }
     }
    }
   },
   "outputs": [],
   "source": [
    "display(ftext)"
   ]
  },
  {
   "cell_type": "markdown",
   "metadata": {
    "extensions": {
     "jupyter_dashboards": {
      "version": 1,
      "views": {
       "grid_default": {
        "col": 5,
        "height": 4,
        "hidden": false,
        "row": 4,
        "width": 4
       },
       "report_default": {
        "hidden": false
       }
      }
     }
    }
   },
   "source": [
    "## IR Profile"
   ]
  },
  {
   "cell_type": "code",
   "execution_count": 3,
   "metadata": {
    "collapsed": false,
    "extensions": {
     "jupyter_dashboards": {
      "version": 1,
      "views": {
       "grid_default": {},
       "report_default": {
        "hidden": false
       }
      }
     }
    },
    "scrolled": true
   },
   "outputs": [
    {
     "name": "stderr",
     "output_type": "stream",
     "text": [
      "/home/malte/Analysis/SFG2D/dashboards/MyWidgets.py:126: UserWarning: File does not exist. Skipping update\n",
      "/home/malte/MeasurmentData/2016/09/06\n",
      "/home/malte/MeasurmentData/2016/09/06\n",
      "  % (fpath, fbase))\n",
      "/home/malte/Analysis/SFG2D/dashboards/MyWidgets.py:219: UserWarning: File does not exist. Skipping update\n",
      "/home/malte/MeasurmentData/2016/09/06\n",
      "/home/malte/MeasurmentData/2016/09/06\n",
      "  % (fpath, fbase))\n",
      "/home/malte/Analysis/SFG2D/dashboards/MyWidgets.py:252: UserWarning: No data to update in <SFG2D.dashboards.MyWidgets.DataImporter object at 0xaed12fec>\n",
      "  warnings.warn('No data to update in %s' % self)\n",
      "/home/malte/Analysis/SFG2D/dashboards/MyWidgets.py:61: UserWarning: No data to update figure with in <SFG2D.dashboards.MyWidgets.DataImporter object at 0xaed12fec>\n",
      "  warnings.warn(\"No data to update figure with in %s\" % self)\n",
      "/home/malte/Analysis/SFG2D/dashboards/MyWidgets.py:407: UserWarning: No data to plot in <SFG2D.dashboards.MyWidgets.PumpProbeDataImporter object at 0xaed154cc>\n",
      "  warnings.warn('No data to plot in %s' % self)\n",
      "/home/malte/Analysis/SFG2D/dashboards/MyWidgets.py:61: UserWarning: No data to update figure with in <SFG2D.dashboards.MyWidgets.PumpProbeDataImporter object at 0xaed154cc>\n",
      "  warnings.warn(\"No data to update figure with in %s\" % self)\n",
      "/home/malte/Analysis/SFG2D/io/veronica.py:299: UserWarning: Wrong metadata for /home/malte/MeasurmentData/2016/09/06/01_sc_quartz_w678_gcm_e10s_ssp_pu1_pr0_vis1_gal0_chop0_purge1.dat. Type sc was given\n",
      "  warnings.warn(\"Wrong metadata for %s. Type %s was given\" % (fpath, metadata['sp_type']))\n",
      "/home/malte/Analysis/SFG2D/io/veronica.py:253: UserWarning: cant determine spectrum type of data by filename.Trying to determine datatype from content.This is much slower.\n",
      "  warnings.warn('cant determine spectrum type of data by filename.'\n"
     ]
    }
   ],
   "source": [
    "ppWidget.w_ir(title='IR Profile', y_label='Counts')"
   ]
  },
  {
   "cell_type": "code",
   "execution_count": 15,
   "metadata": {
    "collapsed": false
   },
   "outputs": [
    {
     "data": {
      "text/plain": [
       "(46457, 24)"
      ]
     },
     "execution_count": 15,
     "metadata": {},
     "output_type": "execute_result"
    }
   ],
   "source": [
    "import SFG2D\n",
    "import pandas as pd\n",
    "fname = '/home/malte/MeasurmentData/2016/09/06/01_sc_quartz_w678_gcm_e10s_ssp_pu1_pr0_vis1_gal0_chop0_purge1.dat'\n",
    "#d = SFG2D.io.veronica.read_auto('/home/malte/MeasurmentData/2016/09/06/01_sc_quartz_w678_gcm_e10s_ssp_pu1_pr0_vis1_gal0_chop0_purge1.dat')\n",
    "dd = pd.read_csv(fname, sep='\\t')\n",
    "dd.shape"
   ]
  },
  {
   "cell_type": "code",
   "execution_count": null,
   "metadata": {
    "collapsed": false,
    "extensions": {
     "jupyter_dashboards": {
      "version": 1,
      "views": {
       "grid_default": {},
       "report_default": {
        "hidden": true
       }
      }
     }
    }
   },
   "outputs": [],
   "source": [
    "#ppWidget.save(ffolder)"
   ]
  },
  {
   "cell_type": "code",
   "execution_count": null,
   "metadata": {
    "collapsed": false,
    "extensions": {
     "jupyter_dashboards": {
      "version": 1,
      "views": {
       "grid_default": {},
       "report_default": {
        "hidden": true
       }
      }
     }
    }
   },
   "outputs": [],
   "source": [
    "#ppdData.ir = '/19_sp_d20_w675_gcm_e20m_ssp_pu1_pr0_vis1_gal1_chop1_purge1.dat'\n",
    "#ppdData.ir.df[\"spec_0\"].clip_upper(340).plot.hist(bins=np.arange(260, 300, 2))\n",
    "#ppdData.ir.df[\"spec_1\"].clip_upper(340).plot.hist(bins=np.arange(260, 300, 2), alpha=0.5)"
   ]
  },
  {
   "cell_type": "code",
   "execution_count": null,
   "metadata": {
    "collapsed": true,
    "extensions": {
     "jupyter_dashboards": {
      "version": 1,
      "views": {
       "grid_default": {},
       "report_default": {
        "hidden": true
       }
      }
     }
    }
   },
   "outputs": [],
   "source": []
  },
  {
   "cell_type": "markdown",
   "metadata": {
    "extensions": {
     "jupyter_dashboards": {
      "version": 1,
      "views": {
       "grid_default": {
        "col": 5,
        "height": 4,
        "hidden": false,
        "row": 8,
        "width": 4
       },
       "report_default": {
        "hidden": false
       }
      }
     }
    }
   },
   "source": [
    "## Pump Profile"
   ]
  },
  {
   "cell_type": "code",
   "execution_count": null,
   "metadata": {
    "collapsed": false,
    "extensions": {
     "jupyter_dashboards": {
      "version": 1,
      "views": {
       "grid_default": {},
       "report_default": {
        "hidden": false
       }
      }
     }
    }
   },
   "outputs": [],
   "source": [
    "ppWidget.w_pump(title='Pump-Vis SFG', x_label=r'Wavenumbers in 1/cm', y_label='Counts')"
   ]
  },
  {
   "cell_type": "code",
   "execution_count": null,
   "metadata": {
    "collapsed": false,
    "extensions": {
     "jupyter_dashboards": {
      "version": 1,
      "views": {
       "grid_default": {},
       "report_default": {
        "hidden": true
       }
      }
     }
    }
   },
   "outputs": [],
   "source": [
    "#ppWidget.save(ffolder)"
   ]
  },
  {
   "cell_type": "markdown",
   "metadata": {
    "collapsed": false,
    "extensions": {
     "jupyter_dashboards": {
      "version": 1,
      "views": {
       "grid_default": {
        "col": 0,
        "height": 4,
        "hidden": false,
        "row": 26,
        "width": 4
       },
       "report_default": {
        "hidden": false
       }
      }
     }
    }
   },
   "source": [
    "# Pump-Probe Data"
   ]
  },
  {
   "cell_type": "code",
   "execution_count": null,
   "metadata": {
    "collapsed": false,
    "extensions": {
     "jupyter_dashboards": {
      "version": 1,
      "views": {
       "grid_default": {},
       "report_default": {
        "hidden": false
       }
      }
     }
    }
   },
   "outputs": [],
   "source": [
    "ppWidget.w_pump_probe(title='Pump Probe Data', y_label='Counts')"
   ]
  },
  {
   "cell_type": "code",
   "execution_count": null,
   "metadata": {
    "collapsed": true,
    "extensions": {
     "jupyter_dashboards": {
      "version": 1,
      "views": {
       "grid_default": {},
       "report_default": {
        "hidden": true
       }
      }
     }
    }
   },
   "outputs": [],
   "source": [
    "#ppWidget.save(ffolder)"
   ]
  },
  {
   "cell_type": "markdown",
   "metadata": {
    "extensions": {
     "jupyter_dashboards": {
      "version": 1,
      "views": {
       "grid_default": {},
       "report_default": {
        "hidden": false
       }
      }
     }
    }
   },
   "source": [
    "# FROM HERE ON NOT YET IMPLEMENTED"
   ]
  },
  {
   "cell_type": "markdown",
   "metadata": {
    "extensions": {
     "jupyter_dashboards": {
      "version": 1,
      "views": {
       "grid_default": {},
       "report_default": {
        "hidden": false
       }
      }
     }
    }
   },
   "source": [
    "## Normalize Spectra"
   ]
  },
  {
   "cell_type": "markdown",
   "metadata": {
    "extensions": {
     "jupyter_dashboards": {
      "version": 1,
      "views": {
       "grid_default": {
        "col": 4,
        "height": 4,
        "hidden": false,
        "row": 50,
        "width": 4
       },
       "report_default": {
        "hidden": false
       }
      }
     }
    }
   },
   "source": [
    "# Spectra Over Time"
   ]
  },
  {
   "cell_type": "raw",
   "metadata": {
    "collapsed": false,
    "extensions": {
     "jupyter_dashboards": {
      "version": 1,
      "views": {
       "grid_default": {},
       "report_default": {
        "hidden": false
       }
      }
     }
    }
   },
   "source": [
    "%%capture\n",
    "roi = slice(2200,2800)\n",
    "\n",
    "def plot_compare_update(pp_delay):\n",
    "    for i in range(ppdData.ts0.df['spec_0'].shape[1]):\n",
    "        data = ppdData.ts0.df.loc[ppWidget.ts0_ppdelay_childs[1].value, \"spec_0\"][roi].iloc[:,i]\n",
    "        ax_compare[0].lines[i].set_ydata(data)\n",
    "        data = ppdData.ts0.df.loc[ppWidget.ts0_ppdelay_childs[1].value, \"spec_1\"][roi].iloc[:,i]\n",
    "        ax_compare[1].lines[i].set_ydata(data)\n",
    "    \n",
    "    display(fig_compare)\n",
    "    \n",
    "\n",
    "fig_compare, ax_compare = plt.subplots(1, 2, sharey=True, figsize=(16,6))\n",
    "ppdData.ts0.df.loc[ppWidget.ts0_ppdelay_childs[1].value, \"spec_0\"][roi].plot(ax=ax_compare[0])        \n",
    "ppdData.ts0.df.loc[ppWidget.ts0_ppdelay_childs[1].value, \"spec_1\"][roi].plot(ax=ax_compare[1])\n",
    "for ax, title in zip(ax_compare, ('spec_0', 'spec_1')):\n",
    "    ax.set_title(title)\n",
    "    for i in range(len(ax.lines)):\n",
    "        ax.lines[i].set_label('run %i'%i)\n",
    "    ax.legend()\n",
    "#plt.ylim(-0.002, 0.017)"
   ]
  },
  {
   "cell_type": "code",
   "execution_count": null,
   "metadata": {
    "collapsed": false,
    "extensions": {
     "jupyter_dashboards": {
      "version": 1,
      "views": {
       "grid_default": {
        "col": 8,
        "height": 8,
        "hidden": false,
        "row": 50,
        "width": 4
       },
       "report_default": {
        "hidden": false
       }
      }
     }
    }
   },
   "outputs": [],
   "source": [
    "w_f0 = ipyw.interact(plot_compare_update, pp_delay=ppWidget.ts0_ppdelay_childs[1])\n",
    "#display(w_f0)"
   ]
  },
  {
   "cell_type": "markdown",
   "metadata": {
    "extensions": {
     "jupyter_dashboards": {
      "version": 1,
      "views": {
       "grid_default": {
        "col": 4,
        "height": 4,
        "hidden": false,
        "row": 54,
        "width": 4
       },
       "report_default": {
        "hidden": false
       }
      }
     }
    }
   },
   "source": [
    "## Smoothed"
   ]
  },
  {
   "cell_type": "raw",
   "metadata": {
    "collapsed": false,
    "extensions": {
     "jupyter_dashboards": {
      "version": 1,
      "views": {
       "grid_default": {
        "col": 0,
        "height": 12,
        "hidden": false,
        "row": 58,
        "width": 4
       },
       "report_default": {
        "hidden": false
       }
      }
     }
    }
   },
   "source": [
    "#pp_slider3 = ipyw.SelectionSlider(options=list(ppdData.ts0.pp_delays), value=0, continuous_update=False)\n",
    "roi = slice(2200,2800) # get this from the pump\n",
    "def p3(pp_delay):\n",
    "    ppdData.ts0.pumped.loc[pp_delay][roi].rolling(10).mean().plot(label=\"pumped\")\n",
    "    ppdData.ts0.probed.loc[pp_delay][roi].rolling(10).mean().plot(label=\"probed\")\n",
    "    #plt.ylim(0.001, 0.015)\n",
    "    plt.title(str(pp_delay) + \" fs\")\n",
    "    plt.legend()\n",
    "    #plt.grid()\n",
    "\n",
    "ppWidget.p3 = ipyw.interactive(p3, pp_delay=ppWidget.ts0_ppdelay_childs[2])\n",
    "display(ppWidget.p3)\n",
    "plt.show()"
   ]
  },
  {
   "cell_type": "markdown",
   "metadata": {
    "extensions": {
     "jupyter_dashboards": {
      "version": 1,
      "views": {
       "grid_default": {
        "col": 4,
        "height": 4,
        "hidden": false,
        "row": 58,
        "width": 4
       },
       "report_default": {
        "hidden": false
       }
      }
     }
    }
   },
   "source": [
    "# Bleach Trace"
   ]
  },
  {
   "cell_type": "raw",
   "metadata": {
    "collapsed": false,
    "extensions": {
     "jupyter_dashboards": {
      "version": 1,
      "views": {
       "grid_default": {
        "col": 8,
        "height": 11,
        "hidden": false,
        "row": 58,
        "width": 4
       },
       "report_default": {
        "hidden": false
       }
      }
     }
    }
   },
   "source": [
    "roi_slider_range = int(ppdData.ts0.df.index.levels[1].min()), int(ppdData.ts0.df.index.levels[1].max())\n",
    "#roi_slider_range = 0, 800\n",
    "roi_slider = ipyw.IntRangeSlider(\n",
    "    value = (2450, 2600),\n",
    "    min = roi_slider_range[0],\n",
    "    max = roi_slider_range[1],\n",
    "    continuous_update=False\n",
    ")\n",
    "\n",
    "#roi = slice(2450,2600)\n",
    "\n",
    "def plot_bleach_trace(roi):\n",
    "    tss = ppdData.ts0.bleach.unstack(0)\n",
    "    tss = tss[(tss.index > roi[0]) & (tss.index < roi[1])].sum()\n",
    "\n",
    "    tss.plot()\n",
    "    plt.scatter(tss.index, tss)\n",
    "    plt.title(r\"Bleach from (%i to %i)cm$^{-1}$\"%(roi[0], roi[1]))\n",
    "    \n",
    "ipyw.interact(plot_bleach_trace, roi=roi_slider)\n",
    "plt.show()"
   ]
  },
  {
   "cell_type": "code",
   "execution_count": null,
   "metadata": {
    "collapsed": false,
    "extensions": {
     "jupyter_dashboards": {
      "version": 1,
      "views": {
       "grid_default": {},
       "report_default": {
        "hidden": true
       }
      }
     }
    }
   },
   "outputs": [],
   "source": [
    "import datetime\n",
    "pp_delays = 25\n",
    "exp_time = 10# in minutes\n",
    "reps = 3 #number of repetitions\n",
    "datetime.datetime.now() + datetime.timedelta(minutes=pp_delays*exp_time*reps)"
   ]
  },
  {
   "cell_type": "code",
   "execution_count": null,
   "metadata": {
    "collapsed": true,
    "extensions": {
     "jupyter_dashboards": {
      "version": 1,
      "views": {
       "grid_default": {},
       "report_default": {
        "hidden": true
       }
      }
     }
    }
   },
   "outputs": [],
   "source": []
  }
 ],
 "metadata": {
  "extensions": {
   "jupyter_dashboards": {
    "activeView": "report_default",
    "version": 1,
    "views": {
     "grid_default": {
      "cellMargin": 10,
      "defaultCellHeight": 20,
      "maxColumns": 12,
      "name": "grid",
      "type": "grid"
     },
     "report_default": {
      "name": "report",
      "type": "report"
     }
    }
   }
  },
  "kernelspec": {
   "display_name": "Python 3",
   "language": "python",
   "name": "python3"
  },
  "language_info": {
   "codemirror_mode": {
    "name": "ipython",
    "version": 3
   },
   "file_extension": ".py",
   "mimetype": "text/x-python",
   "name": "python",
   "nbconvert_exporter": "python",
   "pygments_lexer": "ipython3",
   "version": "3.5.2"
  },
  "widgets": {
   "state": {
    "1111bfe15188407aadf51e3151d731fb": {
     "views": [
      {
       "cell_index": 4
      }
     ]
    },
    "18939a3818b141c88d295d594c9ecae6": {
     "views": [
      {
       "cell_index": 4
      }
     ]
    },
    "38fee0b91e634a7cb013d30d2f7d0ca4": {
     "views": [
      {
       "cell_index": 2
      }
     ]
    },
    "3adfd75b18f64f369b9aa52b96dc2c83": {
     "views": [
      {
       "cell_index": 4
      }
     ]
    },
    "659f4871f4364f55bd19b1e2c4dcc9b8": {
     "views": [
      {
       "cell_index": 4
      }
     ]
    },
    "723f3a1ea3534cf5b5ec66bbb0aaf01a": {
     "views": [
      {
       "cell_index": 4
      }
     ]
    },
    "74fc645f6d044c1a88e3227c9f820265": {
     "views": [
      {
       "cell_index": 4
      }
     ]
    },
    "7561a03e051745c38b372f5f7f57aaf5": {
     "views": [
      {
       "cell_index": 4
      }
     ]
    },
    "b359540f6160448caa5146696f0f1362": {
     "views": [
      {
       "cell_index": 4
      }
     ]
    },
    "b71a797e1e524b3cb2a57c3e8359a5e5": {
     "views": [
      {
       "cell_index": 4
      }
     ]
    },
    "bf942590c4c34615b955b030d815ae9d": {
     "views": [
      {
       "cell_index": 4
      }
     ]
    }
   },
   "version": "1.2.0"
  }
 },
 "nbformat": 4,
 "nbformat_minor": 0
}
