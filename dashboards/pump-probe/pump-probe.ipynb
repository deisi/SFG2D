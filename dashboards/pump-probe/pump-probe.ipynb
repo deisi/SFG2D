{
 "cells": [
  {
   "cell_type": "code",
   "execution_count": 1,
   "metadata": {
    "collapsed": false
   },
   "outputs": [
    {
     "name": "stderr",
     "output_type": "stream",
     "text": [
      "/media/sf_deiseroth/Analysis/SFG2D/dashboards/pump-probe/gui.py:143: UserWarning: No ppWidget.json file in /home/malte/MeasurmentData/2016/09/08/\n",
      "  warnings.warn('No ppWidget.json file in %s' % ffolder)\n"
     ]
    }
   ],
   "source": [
    "%matplotlib inline\n",
    "#%matplotlib notebook\n",
    "import gui\n",
    "from SFG2D.dashboards import MyWidgets\n",
    "from watchdog.observers import Observer\n",
    "\n",
    "# Set plot layout\n",
    "#plt.style.use('seaborn-notebook')\n",
    "#sns.set_style(\"white\")\n",
    "#sns.set_style(\"ticks\")\n",
    "#sns.set_context(\"talk\", font_scale=1.5, rc={\"lines.linewidth\": 2.5})\n",
    "\n",
    "ffolder = '/home/malte/MeasurmentData/2016/09/08/'\n",
    "\n",
    "# Observer to monitor changes in ffolder\n",
    "ffolder_observer = Observer()\n",
    "event_handler = gui.MyHandler(ffolder)\n",
    "\n",
    "# Widget for the PumpProbe Dashboard\n",
    "ppWidget = gui.PumpProbeWidget(event_handler.fnames)\n",
    "\n",
    "# link eventhandler and widget, so widget is informed\n",
    "# by event_handler in case of file changes\n",
    "event_handler.ppWidget = ppWidget\n",
    "\n",
    "# Start file observer so monitor\n",
    "ffolder_observer.schedule(event_handler, ffolder, recursive=False)\n",
    "ffolder_observer.start()\n",
    "\n",
    "# Link Traitlets to have the same files in all widgets\n",
    "ppWidget.linkTraitlets()\n",
    "\n",
    "# Stup individual widgets\n",
    "ppWidget.w_ir = MyWidgets.DataImporter(ffolder, ppWidget.ir_fpath, \n",
    "                           ppWidget.fbase, ppWidget.ir_ppdelay, \n",
    "                           ppWidget.ir_spec, ppWidget.ir_sub_base)\n",
    "ppWidget.w_pump = MyWidgets.DataImporter(ffolder, ppWidget.pump_fpath, \n",
    "                           ppWidget.pump_fbase, ppWidget.pump_ppdelay, \n",
    "                           ppWidget.pump_spec, ppWidget.pump_sub_base)\n",
    "ppWidget.w_pump_probe = MyWidgets.PumpProbeDataImporter(\n",
    "    ffolder, ppWidget.ts0_fpath, \n",
    "    ppWidget.fbase, ppWidget.ts0_ppdelay, \n",
    "    ppWidget.ts0_pumped, ppWidget.ts0_probed, ppWidget.pump_sub_base,\n",
    "    ppWidget.ts0_normalize, norm_scan = ppWidget.w_ir.data\n",
    ")\n",
    "ppWidget.load(ffolder)"
   ]
  },
  {
   "cell_type": "markdown",
   "metadata": {
    "extensions": {
     "jupyter_dashboards": {
      "version": 1,
      "views": {
       "grid_default": {
        "col": 5,
        "height": 4,
        "hidden": false,
        "row": 4,
        "width": 4
       },
       "report_default": {
        "hidden": false
       }
      }
     }
    }
   },
   "source": [
    "## IR Profile"
   ]
  },
  {
   "cell_type": "code",
   "execution_count": 2,
   "metadata": {
    "collapsed": false,
    "scrolled": true
   },
   "outputs": [
    {
     "name": "stderr",
     "output_type": "stream",
     "text": [
      "/home/malte/Analysis/SFG2D/io/veronica.py:251: UserWarning: cant determine spectrum type of data by filename.Trying to determine datatype from content.This is much slower\n",
      "  warnings.warn('cant determine spectrum type of data by filename.'\n"
     ]
    },
    {
     "ename": "TraitError",
     "evalue": "The \"_panzoom\" trait is read-only.",
     "output_type": "error",
     "traceback": [
      "\u001b[0;31m---------------------------------------------------------------------------\u001b[0m",
      "\u001b[0;31mTraitError\u001b[0m                                Traceback (most recent call last)",
      "\u001b[0;32m<ipython-input-2-5e66cc0e327c>\u001b[0m in \u001b[0;36m<module>\u001b[0;34m()\u001b[0m\n\u001b[0;32m----> 1\u001b[0;31m \u001b[0mppWidget\u001b[0m\u001b[0;34m.\u001b[0m\u001b[0mw_ir\u001b[0m\u001b[0;34m(\u001b[0m\u001b[0mtitle\u001b[0m\u001b[0;34m=\u001b[0m\u001b[0;34m'IR Profile'\u001b[0m\u001b[0;34m,\u001b[0m \u001b[0mx_label\u001b[0m\u001b[0;34m=\u001b[0m\u001b[0;34mr'Wavenumbers in 1/cm'\u001b[0m\u001b[0;34m,\u001b[0m \u001b[0my_label\u001b[0m\u001b[0;34m=\u001b[0m\u001b[0;34m'Counts'\u001b[0m\u001b[0;34m)\u001b[0m\u001b[0;34m\u001b[0m\u001b[0m\n\u001b[0m",
      "\u001b[0;32m/home/malte/Analysis/SFG2D/dashboards/MyWidgets.py\u001b[0m in \u001b[0;36m__call__\u001b[0;34m(self, title, x_label, y_label)\u001b[0m\n\u001b[1;32m     85\u001b[0m                  self.ffolder + self.fbase_selector.value)\n\u001b[1;32m     86\u001b[0m         \u001b[0mself\u001b[0m\u001b[0;34m.\u001b[0m\u001b[0mupdate_data\u001b[0m\u001b[0;34m(\u001b[0m\u001b[0;34m)\u001b[0m\u001b[0;34m\u001b[0m\u001b[0m\n\u001b[0;32m---> 87\u001b[0;31m         \u001b[0mself\u001b[0m\u001b[0;34m.\u001b[0m\u001b[0mfig\u001b[0m \u001b[0;34m=\u001b[0m \u001b[0mself\u001b[0m\u001b[0;34m.\u001b[0m\u001b[0mfig_init\u001b[0m\u001b[0;34m(\u001b[0m\u001b[0mtitle\u001b[0m\u001b[0;34m,\u001b[0m\u001b[0mx_label\u001b[0m\u001b[0;34m,\u001b[0m \u001b[0my_label\u001b[0m\u001b[0;34m)\u001b[0m\u001b[0;34m\u001b[0m\u001b[0m\n\u001b[0m\u001b[1;32m     88\u001b[0m         \u001b[0mself\u001b[0m\u001b[0;34m.\u001b[0m\u001b[0mfig_update\u001b[0m\u001b[0;34m(\u001b[0m\u001b[0;34m)\u001b[0m\u001b[0;34m\u001b[0m\u001b[0m\n\u001b[1;32m     89\u001b[0m \u001b[0;34m\u001b[0m\u001b[0m\n",
      "\u001b[0;32m/home/malte/Analysis/SFG2D/dashboards/MyWidgets.py\u001b[0m in \u001b[0;36mfig_init\u001b[0;34m(self, title, x_label, y_label)\u001b[0m\n\u001b[1;32m     29\u001b[0m \u001b[0;34m\u001b[0m\u001b[0m\n\u001b[1;32m     30\u001b[0m         \u001b[0mtb\u001b[0m \u001b[0;34m=\u001b[0m \u001b[0mToolbar\u001b[0m\u001b[0;34m(\u001b[0m\u001b[0mfigure\u001b[0m\u001b[0;34m=\u001b[0m\u001b[0mfig\u001b[0m\u001b[0;34m)\u001b[0m\u001b[0;34m\u001b[0m\u001b[0m\n\u001b[0;32m---> 31\u001b[0;31m         \u001b[0mtb\u001b[0m\u001b[0;34m.\u001b[0m\u001b[0m_panzoom\u001b[0m \u001b[0;34m=\u001b[0m \u001b[0mpz\u001b[0m\u001b[0;34m\u001b[0m\u001b[0m\n\u001b[0m\u001b[1;32m     32\u001b[0m \u001b[0;34m\u001b[0m\u001b[0m\n\u001b[1;32m     33\u001b[0m         \u001b[0mfig\u001b[0m\u001b[0;34m.\u001b[0m\u001b[0mpyplot\u001b[0m \u001b[0;34m=\u001b[0m \u001b[0mtb\u001b[0m\u001b[0;34m\u001b[0m\u001b[0m\n",
      "\u001b[0;32m/usr/lib/python3.5/site-packages/traitlets/traitlets.py\u001b[0m in \u001b[0;36m__set__\u001b[0;34m(self, obj, value)\u001b[0m\n\u001b[1;32m    554\u001b[0m         \"\"\"\n\u001b[1;32m    555\u001b[0m         \u001b[0;32mif\u001b[0m \u001b[0mself\u001b[0m\u001b[0;34m.\u001b[0m\u001b[0mread_only\u001b[0m\u001b[0;34m:\u001b[0m\u001b[0;34m\u001b[0m\u001b[0m\n\u001b[0;32m--> 556\u001b[0;31m             \u001b[0;32mraise\u001b[0m \u001b[0mTraitError\u001b[0m\u001b[0;34m(\u001b[0m\u001b[0;34m'The \"%s\" trait is read-only.'\u001b[0m \u001b[0;34m%\u001b[0m \u001b[0mself\u001b[0m\u001b[0;34m.\u001b[0m\u001b[0mname\u001b[0m\u001b[0;34m)\u001b[0m\u001b[0;34m\u001b[0m\u001b[0m\n\u001b[0m\u001b[1;32m    557\u001b[0m         \u001b[0;32melse\u001b[0m\u001b[0;34m:\u001b[0m\u001b[0;34m\u001b[0m\u001b[0m\n\u001b[1;32m    558\u001b[0m             \u001b[0mself\u001b[0m\u001b[0;34m.\u001b[0m\u001b[0mset\u001b[0m\u001b[0;34m(\u001b[0m\u001b[0mobj\u001b[0m\u001b[0;34m,\u001b[0m \u001b[0mvalue\u001b[0m\u001b[0;34m)\u001b[0m\u001b[0;34m\u001b[0m\u001b[0m\n",
      "\u001b[0;31mTraitError\u001b[0m: The \"_panzoom\" trait is read-only."
     ]
    }
   ],
   "source": [
    "ppWidget.w_ir(title='IR Profile', x_label=r'Wavenumbers in 1/cm', y_label='Counts')"
   ]
  },
  {
   "cell_type": "code",
   "execution_count": 28,
   "metadata": {
    "collapsed": false
   },
   "outputs": [],
   "source": [
    "from IPython.display import display\n",
    "from bqplot import LinearScale, Axis, Lines, Figure, Toolbar, PanZoom, DateScale\n",
    "import bqplot.pyplot as plt\n",
    "from ipywidgets import interaction, interact\n",
    "import numpy as np\n",
    "\n",
    "np.random.seed(0)\n",
    "n = 200\n",
    "x = np.linspace(0.0, 10.0, n)\n",
    "y = np.cumsum(np.random.randn(n))\n",
    "\n",
    "xs_pz = LinearScale()\n",
    "ys_pz = LinearScale()\n",
    "line_pz = Lines(x=x, y=y, scales={'x': xs_pz, 'y': ys_pz})\n",
    "\n",
    "panzoom = PanZoom(scales={'y': [ys_pz]})\n",
    "xax = Axis(scale=xs_pz, label='Date', grids='off')\n",
    "yax = Axis(scale=ys_pz, label='Price', orientation='vertical', grids='off')\n",
    "\n",
    "fig = Figure(marks=[line_pz], axes=[xax, yax], interaction=panzoom)\n",
    "\n",
    "\n",
    "\n",
    "\n",
    "#tb = Toolbar(figure=fig)\n",
    "#pz = PanZoom(scales={'x': [fig.scale_x]})\n",
    "#fig.pyplot = tb\n",
    "#fig.interaction = pz\n",
    "\n",
    "#tb.widgets\n",
    "#\n",
    "#PanZoom(scales={'x': [my_x_scale]})\n",
    "display(fig)"
   ]
  },
  {
   "cell_type": "code",
   "execution_count": 24,
   "metadata": {
    "collapsed": false
   },
   "outputs": [
    {
     "data": {
      "text/plain": [
       "0"
      ]
     },
     "execution_count": 24,
     "metadata": {},
     "output_type": "execute_result"
    }
   ],
   "source": [
    "x_data[0]"
   ]
  },
  {
   "cell_type": "code",
   "execution_count": 11,
   "metadata": {
    "collapsed": false
   },
   "outputs": [
    {
     "ename": "IndexError",
     "evalue": "list index out of range",
     "output_type": "error",
     "traceback": [
      "\u001b[0;31m---------------------------------------------------------------------------\u001b[0m",
      "\u001b[0;31mIndexError\u001b[0m                                Traceback (most recent call last)",
      "\u001b[0;32m<ipython-input-11-36de609808ec>\u001b[0m in \u001b[0;36m<module>\u001b[0;34m()\u001b[0m\n\u001b[0;32m----> 1\u001b[0;31m \u001b[0maa\u001b[0m \u001b[0;34m=\u001b[0m \u001b[0mfig\u001b[0m\u001b[0;34m.\u001b[0m\u001b[0maxes\u001b[0m\u001b[0;34m[\u001b[0m\u001b[0;36m0\u001b[0m\u001b[0;34m]\u001b[0m\u001b[0;34m\u001b[0m\u001b[0m\n\u001b[0m",
      "\u001b[0;31mIndexError\u001b[0m: list index out of range"
     ]
    }
   ],
   "source": [
    "aa = fig.axes[0]\n"
   ]
  },
  {
   "cell_type": "code",
   "execution_count": 11,
   "metadata": {
    "collapsed": false
   },
   "outputs": [],
   "source": [
    "tb._panzoom"
   ]
  },
  {
   "cell_type": "code",
   "execution_count": 5,
   "metadata": {
    "collapsed": false
   },
   "outputs": [
    {
     "name": "stderr",
     "output_type": "stream",
     "text": [
      "/usr/lib/python3.5/site-packages/ipykernel/__main__.py:2: UserWarning: test 1\n",
      "  from ipykernel import kernelapp as app\n"
     ]
    }
   ],
   "source": [
    "import warnings\n",
    "warnings.warn(\"test %s\" % 1)"
   ]
  },
  {
   "cell_type": "code",
   "execution_count": 6,
   "metadata": {
    "collapsed": false
   },
   "outputs": [
    {
     "name": "stderr",
     "output_type": "stream",
     "text": [
      "/home/malte/Analysis/SFG2D/io/veronica.py:251: UserWarning: cant determine spectrum type of data by filename.Trying to determine datatype from content.This is much slower\n",
      "  warnings.warn('cant determine spectrum type of data by filename.'\n"
     ]
    },
    {
     "data": {
      "image/png": "[encoded data removed]",
      "text/plain": [
       "<matplotlib.figure.Figure at 0xaebe638c>"
      ]
     },
     "metadata": {},
     "output_type": "display_data"
    }
   ],
   "source": [
    "import SFG2D\n",
    "import pandas as pd\n",
    "import matplotlib.pyplot as plt\n",
    "\n",
    "ret = SFG2D.io.veronica.read_auto(\"/home/malte/MeasurmentData/2016/09/08/10min_4.6-640nm.dat\")\n",
    "\n",
    "ret.df.plot()\n",
    "plt.show()"
   ]
  },
  {
   "cell_type": "code",
   "execution_count": null,
   "metadata": {
    "collapsed": false
   },
   "outputs": [],
   "source": [
    "ppdData.ir = '/19_sp_d20_w675_gcm_e20m_ssp_pu1_pr0_vis1_gal1_chop1_purge1.dat'\n",
    "ppdData.ir.df[\"spec_0\"].clip_upper(340).plot.hist(bins=np.arange(260, 300, 2))\n",
    "ppdData.ir.df[\"spec_1\"].clip_upper(340).plot.hist(bins=np.arange(260, 300, 2), alpha=0.5)"
   ]
  },
  {
   "cell_type": "markdown",
   "metadata": {
    "extensions": {
     "jupyter_dashboards": {
      "version": 1,
      "views": {
       "grid_default": {
        "col": 5,
        "height": 4,
        "hidden": false,
        "row": 8,
        "width": 4
       },
       "report_default": {
        "hidden": false
       }
      }
     }
    }
   },
   "source": [
    "## Pump Profile"
   ]
  },
  {
   "cell_type": "code",
   "execution_count": 5,
   "metadata": {
    "collapsed": false
   },
   "outputs": [
    {
     "name": "stderr",
     "output_type": "stream",
     "text": [
      "/home/malte/Analysis/SFG2D/io/veronica.py:261: UserWarning: cant determine spectrum type of data by filename.Trying to determine datatype from content.This is much slower\n",
      "  warnings.warn('cant determine spectrum type of data by filename.'\n"
     ]
    }
   ],
   "source": [
    "ppWidget.w_pump(title='Pump-Vis SFG', x_label=r'Wavenumbers in 1/cm', y_label='Counts')"
   ]
  },
  {
   "cell_type": "code",
   "execution_count": 4,
   "metadata": {
    "collapsed": false
   },
   "outputs": [],
   "source": [
    "ppWidget.save(ppdData.ffolder)"
   ]
  },
  {
   "cell_type": "markdown",
   "metadata": {
    "collapsed": false,
    "extensions": {
     "jupyter_dashboards": {
      "version": 1,
      "views": {
       "grid_default": {
        "col": 0,
        "height": 4,
        "hidden": false,
        "row": 26,
        "width": 4
       },
       "report_default": {
        "hidden": false
       }
      }
     }
    }
   },
   "source": [
    "# Pump-Probe Data"
   ]
  },
  {
   "cell_type": "code",
   "execution_count": 7,
   "metadata": {
    "collapsed": false
   },
   "outputs": [
    {
     "name": "stderr",
     "output_type": "stream",
     "text": [
      "/home/malte/Analysis/SFG2D/io/veronica.py:261: UserWarning: cant determine spectrum type of data by filename.Trying to determine datatype from content.This is much slower\n",
      "  warnings.warn('cant determine spectrum type of data by filename.'\n"
     ]
    }
   ],
   "source": [
    "ppWidget.w_pump_probe = MyWidgets.PumpProbeDataImporter(\n",
    "    ffolder, ppWidget.ts0_fpath, \n",
    "    ppWidget.fbase, ppWidget.ts0_ppdelay, \n",
    "    ppWidget.ts0_pumped, ppWidget.ts0_probed, ppWidget.pump_sub_base,\n",
    "    ppWidget.ts0_normalize, norm_scan = ppWidget.w_ir.data\n",
    ")\n",
    "ppWidget.w_pump_probe(title='Pump Probe Data', x_label='Wavenumbers in 1/cm', y_label='Counts')"
   ]
  },
  {
   "cell_type": "markdown",
   "metadata": {
    "extensions": {
     "jupyter_dashboards": {
      "version": 1,
      "views": {
       "grid_default": {},
       "report_default": {
        "hidden": false
       }
      }
     }
    }
   },
   "source": [
    "## Normalize Spectra"
   ]
  },
  {
   "cell_type": "code",
   "execution_count": null,
   "metadata": {
    "collapsed": true
   },
   "outputs": [],
   "source": []
  },
  {
   "cell_type": "code",
   "execution_count": null,
   "metadata": {
    "collapsed": false
   },
   "outputs": [],
   "source": [
    "%%capture\n",
    "fig_norm, ax_norm = plt.subplots(1,2, figsize=(12,6))\n",
    "ax_norm[0].set_title(\"Unnormalized\")\n",
    "ax_norm[1].set_title(\"Normalized\")\n",
    "#ax_norm[1].set_ylim(-0.002, 0.015)\n",
    "ppdData.ts0u.pumped.ix[ppWidget.ts0_ppdelay.value].plot(ax = ax_norm[0], label=\"pumped\")\n",
    "ppdData.ts0u.probed.ix[ppWidget.ts0_ppdelay.value].plot(ax = ax_norm[0], label=\"probed\")\n",
    "\n",
    "ppdData.ts0.pumped.ix[ppWidget.ts0_ppdelay.value].plot(ax = ax_norm[1], label = \"pumped\")\n",
    "ppdData.ts0.probed.ix[ppWidget.ts0_ppdelay.value].plot(ax = ax_norm[1], label = \"probed\")\n",
    "\n",
    "ax_norm[0].legend()\n",
    "fig_norm.tight_layout()\n",
    "\n",
    "\n",
    "def plot_norm_update(pp_delay):\n",
    "    ax_norm[0].lines[0].set_ydata(ppdData.ts0u.pumped.ix[pp_delay])\n",
    "    ax_norm[0].lines[1].set_ydata(ppdData.ts0u.probed.ix[pp_delay])\n",
    "\n",
    "    ax_norm[1].lines[0].set_ydata(ppdData.ts0.pumped.ix[pp_delay])\n",
    "    ax_norm[1].lines[1].set_ydata(ppdData.ts0.probed.ix[pp_delay])\n",
    "       \n",
    "    display(fig_norm)"
   ]
  },
  {
   "cell_type": "code",
   "execution_count": null,
   "metadata": {
    "collapsed": false
   },
   "outputs": [],
   "source": [
    "ipyw.interact(plot_norm_update, pp_delay=ppWidget.ts0_ppdelay_childs[0])"
   ]
  },
  {
   "cell_type": "markdown",
   "metadata": {
    "extensions": {
     "jupyter_dashboards": {
      "version": 1,
      "views": {
       "grid_default": {
        "col": 4,
        "height": 4,
        "hidden": false,
        "row": 50,
        "width": 4
       },
       "report_default": {
        "hidden": false
       }
      }
     }
    }
   },
   "source": [
    "# Spectra Over Time"
   ]
  },
  {
   "cell_type": "code",
   "execution_count": null,
   "metadata": {
    "collapsed": false,
    "extensions": {
     "jupyter_dashboards": {
      "version": 1,
      "views": {
       "grid_default": {},
       "report_default": {
        "hidden": false
       }
      }
     }
    }
   },
   "outputs": [],
   "source": [
    "%%capture\n",
    "roi = slice(2200,2800)\n",
    "\n",
    "def plot_compare_update(pp_delay):\n",
    "    for i in range(ppdData.ts0.df['spec_0'].shape[1]):\n",
    "        data = ppdData.ts0.df.loc[ppWidget.ts0_ppdelay_childs[1].value, \"spec_0\"][roi].iloc[:,i]\n",
    "        ax_compare[0].lines[i].set_ydata(data)\n",
    "        data = ppdData.ts0.df.loc[ppWidget.ts0_ppdelay_childs[1].value, \"spec_1\"][roi].iloc[:,i]\n",
    "        ax_compare[1].lines[i].set_ydata(data)\n",
    "    \n",
    "    display(fig_compare)\n",
    "    \n",
    "\n",
    "fig_compare, ax_compare = plt.subplots(1, 2, sharey=True, figsize=(16,6))\n",
    "ppdData.ts0.df.loc[ppWidget.ts0_ppdelay_childs[1].value, \"spec_0\"][roi].plot(ax=ax_compare[0])        \n",
    "ppdData.ts0.df.loc[ppWidget.ts0_ppdelay_childs[1].value, \"spec_1\"][roi].plot(ax=ax_compare[1])\n",
    "for ax, title in zip(ax_compare, ('spec_0', 'spec_1')):\n",
    "    ax.set_title(title)\n",
    "    for i in range(len(ax.lines)):\n",
    "        ax.lines[i].set_label('run %i'%i)\n",
    "    ax.legend()\n",
    "#plt.ylim(-0.002, 0.017)"
   ]
  },
  {
   "cell_type": "code",
   "execution_count": null,
   "metadata": {
    "collapsed": false,
    "extensions": {
     "jupyter_dashboards": {
      "version": 1,
      "views": {
       "grid_default": {
        "col": 8,
        "height": 8,
        "hidden": false,
        "row": 50,
        "width": 4
       },
       "report_default": {
        "hidden": false
       }
      }
     }
    }
   },
   "outputs": [],
   "source": [
    "w_f0 = ipyw.interact(plot_compare_update, pp_delay=ppWidget.ts0_ppdelay_childs[1])\n",
    "#display(w_f0)"
   ]
  },
  {
   "cell_type": "markdown",
   "metadata": {
    "extensions": {
     "jupyter_dashboards": {
      "version": 1,
      "views": {
       "grid_default": {
        "col": 4,
        "height": 4,
        "hidden": false,
        "row": 54,
        "width": 4
       },
       "report_default": {
        "hidden": false
       }
      }
     }
    }
   },
   "source": [
    "## Smoothed"
   ]
  },
  {
   "cell_type": "code",
   "execution_count": null,
   "metadata": {
    "collapsed": false,
    "extensions": {
     "jupyter_dashboards": {
      "version": 1,
      "views": {
       "grid_default": {
        "col": 0,
        "height": 12,
        "hidden": false,
        "row": 58,
        "width": 4
       },
       "report_default": {
        "hidden": false
       }
      }
     }
    }
   },
   "outputs": [],
   "source": [
    "#pp_slider3 = ipyw.SelectionSlider(options=list(ppdData.ts0.pp_delays), value=0, continuous_update=False)\n",
    "roi = slice(2200,2800) # get this from the pump\n",
    "def p3(pp_delay):\n",
    "    ppdData.ts0.pumped.loc[pp_delay][roi].rolling(10).mean().plot(label=\"pumped\")\n",
    "    ppdData.ts0.probed.loc[pp_delay][roi].rolling(10).mean().plot(label=\"probed\")\n",
    "    #plt.ylim(0.001, 0.015)\n",
    "    plt.title(str(pp_delay) + \" fs\")\n",
    "    plt.legend()\n",
    "    #plt.grid()\n",
    "\n",
    "ppWidget.p3 = ipyw.interactive(p3, pp_delay=ppWidget.ts0_ppdelay_childs[2])\n",
    "display(ppWidget.p3)\n",
    "plt.show()"
   ]
  },
  {
   "cell_type": "markdown",
   "metadata": {
    "extensions": {
     "jupyter_dashboards": {
      "version": 1,
      "views": {
       "grid_default": {
        "col": 4,
        "height": 4,
        "hidden": false,
        "row": 58,
        "width": 4
       },
       "report_default": {
        "hidden": false
       }
      }
     }
    }
   },
   "source": [
    "# Bleach Trace"
   ]
  },
  {
   "cell_type": "code",
   "execution_count": null,
   "metadata": {
    "collapsed": false,
    "extensions": {
     "jupyter_dashboards": {
      "version": 1,
      "views": {
       "grid_default": {
        "col": 8,
        "height": 11,
        "hidden": false,
        "row": 58,
        "width": 4
       },
       "report_default": {
        "hidden": false
       }
      }
     }
    }
   },
   "outputs": [],
   "source": [
    "roi_slider_range = int(ppdData.ts0.df.index.levels[1].min()), int(ppdData.ts0.df.index.levels[1].max())\n",
    "#roi_slider_range = 0, 800\n",
    "roi_slider = ipyw.IntRangeSlider(\n",
    "    value = (2450, 2600),\n",
    "    min = roi_slider_range[0],\n",
    "    max = roi_slider_range[1],\n",
    "    continuous_update=False\n",
    ")\n",
    "\n",
    "#roi = slice(2450,2600)\n",
    "\n",
    "def plot_bleach_trace(roi):\n",
    "    tss = ppdData.ts0.bleach.unstack(0)\n",
    "    tss = tss[(tss.index > roi[0]) & (tss.index < roi[1])].sum()\n",
    "\n",
    "    tss.plot()\n",
    "    plt.scatter(tss.index, tss)\n",
    "    plt.title(r\"Bleach from (%i to %i)cm$^{-1}$\"%(roi[0], roi[1]))\n",
    "    \n",
    "ipyw.interact(plot_bleach_trace, roi=roi_slider)\n",
    "plt.show()"
   ]
  },
  {
   "cell_type": "code",
   "execution_count": null,
   "metadata": {
    "collapsed": true
   },
   "outputs": [],
   "source": [
    "ppdData.ts0.pump"
   ]
  },
  {
   "cell_type": "code",
   "execution_count": null,
   "metadata": {
    "collapsed": false
   },
   "outputs": [],
   "source": [
    "ppdData.ts0.df.ix[0, \"spec_0\"].plot()"
   ]
  },
  {
   "cell_type": "code",
   "execution_count": null,
   "metadata": {
    "collapsed": false
   },
   "outputs": [],
   "source": [
    "import datetime\n",
    "pp_delays = 25\n",
    "exp_time = 10# in minutes\n",
    "reps = 3 #number of repetitions\n",
    "datetime.datetime.now() + datetime.timedelta(minutes=pp_delays*exp_time*reps)"
   ]
  },
  {
   "cell_type": "code",
   "execution_count": null,
   "metadata": {
    "collapsed": false
   },
   "outputs": [],
   "source": [
    "25*10/60"
   ]
  },
  {
   "cell_type": "code",
   "execution_count": null,
   "metadata": {
    "collapsed": true
   },
   "outputs": [],
   "source": []
  }
 ],
 "metadata": {
  "extensions": {
   "jupyter_dashboards": {
    "activeView": "report_default",
    "version": 1,
    "views": {
     "grid_default": {
      "cellMargin": 10,
      "defaultCellHeight": 20,
      "maxColumns": 12,
      "name": "grid",
      "type": "grid"
     },
     "report_default": {
      "name": "report",
      "type": "report"
     }
    }
   }
  },
  "kernelspec": {
   "display_name": "Python 3",
   "language": "python",
   "name": "python3"
  },
  "language_info": {
   "codemirror_mode": {
    "name": "ipython",
    "version": 3
   },
   "file_extension": ".py",
   "mimetype": "text/x-python",
   "name": "python",
   "nbconvert_exporter": "python",
   "pygments_lexer": "ipython3",
   "version": "3.5.2"
  },
  "widgets": {
   "state": {
    "0b1cd23eb9554d80aaec317f4a51cd9a": {
     "views": [
      {
       "cell_index": 2
      }
     ]
    },
    "1186c7539379494f921573f14af6f025": {
     "views": [
      {
       "cell_index": 2
      }
     ]
    },
    "192fcc748095468c99ba57f5aec60918": {
     "views": [
      {
       "cell_index": 3
      }
     ]
    },
    "1fb2e38f831a4cc2b5a657bbebbf8d9f": {
     "views": [
      {
       "cell_index": 3
      },
      {
       "cell_index": 3
      },
      {
       "cell_index": 3
      }
     ]
    },
    "209334d6b0e74df89a10df16098f487e": {
     "views": [
      {
       "cell_index": 3
      }
     ]
    },
    "53be6f1a110d44efbb104c555d4f3c87": {
     "views": [
      {
       "cell_index": 2
      }
     ]
    },
    "59ae6dedcf00466db8ff5629c540374c": {
     "views": [
      {
       "cell_index": 2
      }
     ]
    },
    "658f85811e6246b3a96b67abe280cb0a": {
     "views": [
      {
       "cell_index": 3
      }
     ]
    },
    "8305144effd8450696d21ea40c5ecde2": {
     "views": [
      {
       "cell_index": 3
      }
     ]
    },
    "93234a4380ed4e6fa6e67be902c9beb9": {
     "views": [
      {
       "cell_index": 3
      }
     ]
    },
    "94e87c5634b34e3c88c3c631bfc568be": {
     "views": [
      {
       "cell_index": 3
      }
     ]
    },
    "a4939d27dedc458ca7b89576918de0fa": {
     "views": [
      {
       "cell_index": 2
      }
     ]
    },
    "af8d3b47701d44a8a37629496c6a3e86": {
     "views": [
      {
       "cell_index": 3
      }
     ]
    },
    "ca88bf8d380542b6b1eda30eb514646f": {
     "views": [
      {
       "cell_index": 3
      }
     ]
    },
    "d849433e0b3a4c0baa5277f559607af9": {
     "views": [
      {
       "cell_index": 2
      }
     ]
    },
    "d92b6619c2b94399a593188fb6e1223b": {
     "views": [
      {
       "cell_index": 2
      }
     ]
    },
    "eb5ece522f5c4b38bf37b58e080fffbd": {
     "views": [
      {
       "cell_index": 2
      }
     ]
    }
   },
   "version": "1.2.0"
  }
 },
 "nbformat": 4,
 "nbformat_minor": 0
}
