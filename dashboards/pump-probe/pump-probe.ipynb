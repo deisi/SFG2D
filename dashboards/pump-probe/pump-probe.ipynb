{
 "cells": [
  {
   "cell_type": "code",
   "execution_count": null,
   "metadata": {
    "collapsed": false
   },
   "outputs": [],
   "source": [
    "%matplotlib inline\n",
    "#%matplotlib notebook\n",
    "import gui\n",
    "from SFG2D.dashboards import MyWidgets\n",
    "from watchdog.observers import Observer\n",
    "\n",
    "# Set plot layout\n",
    "#plt.style.use('seaborn-notebook')\n",
    "#sns.set_style(\"white\")\n",
    "#sns.set_style(\"ticks\")\n",
    "#sns.set_context(\"talk\", font_scale=1.5, rc={\"lines.linewidth\": 2.5})\n",
    "\n",
    "# Setup Data and Widget class\n",
    "ppdData = gui.PumpProbeDashboardData('/home/malte/MeasurmentData/2016/09/07/')\n",
    "#ffolder = '/home/malte/MeasurmentData/2016/09/07/'\n",
    "ppWidget = gui.PumpProbeWidget(ppdData)\n",
    "ppWidget.linkTraitlets()\n",
    "# load last gui config\n",
    "ppWidget.load(ppdData.ffolder)\n",
    "#ppWidget.setupObservers(ppdData)\n",
    "\n",
    "# Setup file observer\n",
    "ffolder_observer = Observer()\n",
    "event_handler = gui.MyHandler()\n",
    "event_handler.ppdData = ppdData\n",
    "event_handler.ppWidget = ppWidget\n",
    "ffolder_observer.schedule(event_handler, ppdData.ffolder, recursive=False)\n",
    "ffolder_observer.start()"
   ]
  },
  {
   "cell_type": "markdown",
   "metadata": {
    "extensions": {
     "jupyter_dashboards": {
      "version": 1,
      "views": {
       "grid_default": {
        "col": 5,
        "height": 4,
        "hidden": false,
        "row": 4,
        "width": 4
       },
       "report_default": {
        "hidden": false
       }
      }
     }
    }
   },
   "source": [
    "## IR Profile"
   ]
  },
  {
   "cell_type": "code",
   "execution_count": 2,
   "metadata": {
    "collapsed": false,
    "scrolled": true
   },
   "outputs": [
    {
     "name": "stderr",
     "output_type": "stream",
     "text": [
      "/home/malte/Analysis/SFG2D/io/veronica.py:261: UserWarning: cant determine spectrum type of data by filename.Trying to determine datatype from content.This is much slower\n",
      "  warnings.warn('cant determine spectrum type of data by filename.'\n"
     ]
    }
   ],
   "source": [
    "w_ir = MyWidgets.DataImporter(ppdData.ffolder, ppWidget.ir_fpath, \n",
    "                           ppWidget.fbase, ppWidget.ir_ppdelay, \n",
    "                           ppWidget.ir_spec, ppWidget.ir_sub_base)\n",
    "w_ir(title='IR Profile', x_label=r'Wavenumbers in 1/cm', y_label='Counts')"
   ]
  },
  {
   "cell_type": "code",
   "execution_count": 3,
   "metadata": {
    "collapsed": false
   },
   "outputs": [
    {
     "ename": "TypeError",
     "evalue": "'method' object is not iterable",
     "output_type": "error",
     "traceback": [
      "\u001b[0;31m---------------------------------------------------------------------------\u001b[0m",
      "\u001b[0;31mTypeError\u001b[0m                                 Traceback (most recent call last)",
      "\u001b[0;32m<ipython-input-3-c65d605167a5>\u001b[0m in \u001b[0;36m<module>\u001b[0;34m()\u001b[0m\n\u001b[0;32m----> 1\u001b[0;31m \u001b[0mw_ir\u001b[0m\u001b[0;34m.\u001b[0m\u001b[0msave\u001b[0m\u001b[0;34m(\u001b[0m\u001b[0;34m)\u001b[0m\u001b[0;34m\u001b[0m\u001b[0m\n\u001b[0m",
      "\u001b[0;32m/home/malte/Analysis/SFG2D/dashboards/MyWidgets.py\u001b[0m in \u001b[0;36msave\u001b[0;34m(self)\u001b[0m\n\u001b[1;32m    162\u001b[0m         \u001b[0;31m# Status of widget elements\u001b[0m\u001b[0;34m\u001b[0m\u001b[0;34m\u001b[0m\u001b[0m\n\u001b[1;32m    163\u001b[0m         \u001b[0mwidget_dict\u001b[0m \u001b[0;34m=\u001b[0m \u001b[0;34m{\u001b[0m\u001b[0;34m}\u001b[0m\u001b[0;34m\u001b[0m\u001b[0m\n\u001b[0;32m--> 164\u001b[0;31m         \u001b[0;32mfor\u001b[0m \u001b[0mwidget\u001b[0m \u001b[0;32min\u001b[0m \u001b[0mself\u001b[0m\u001b[0;34m.\u001b[0m\u001b[0m_widgets\u001b[0m\u001b[0;34m:\u001b[0m\u001b[0;34m\u001b[0m\u001b[0m\n\u001b[0m\u001b[1;32m    165\u001b[0m             \u001b[0mwidget_dict\u001b[0m\u001b[0;34m[\u001b[0m\u001b[0mattribute\u001b[0m\u001b[0;34m]\u001b[0m \u001b[0;34m=\u001b[0m \u001b[0mgetattr_value_from_widget\u001b[0m\u001b[0;34m(\u001b[0m\u001b[0mwidget\u001b[0m\u001b[0;34m)\u001b[0m\u001b[0;34m\u001b[0m\u001b[0m\n\u001b[1;32m    166\u001b[0m         \u001b[0;31m#return data\u001b[0m\u001b[0;34m\u001b[0m\u001b[0;34m\u001b[0m\u001b[0m\n",
      "\u001b[0;31mTypeError\u001b[0m: 'method' object is not iterable"
     ]
    }
   ],
   "source": [
    "w_ir.save()"
   ]
  },
  {
   "cell_type": "code",
   "execution_count": null,
   "metadata": {
    "collapsed": false
   },
   "outputs": [],
   "source": [
    "ppdData.ir = '/19_sp_d20_w675_gcm_e20m_ssp_pu1_pr0_vis1_gal1_chop1_purge1.dat'\n",
    "ppdData.ir.df[\"spec_0\"].clip_upper(340).plot.hist(bins=np.arange(260, 300, 2))\n",
    "ppdData.ir.df[\"spec_1\"].clip_upper(340).plot.hist(bins=np.arange(260, 300, 2), alpha=0.5)"
   ]
  },
  {
   "cell_type": "markdown",
   "metadata": {
    "extensions": {
     "jupyter_dashboards": {
      "version": 1,
      "views": {
       "grid_default": {
        "col": 5,
        "height": 4,
        "hidden": false,
        "row": 8,
        "width": 4
       },
       "report_default": {
        "hidden": false
       }
      }
     }
    }
   },
   "source": [
    "## Pump Profile"
   ]
  },
  {
   "cell_type": "code",
   "execution_count": 14,
   "metadata": {
    "collapsed": true
   },
   "outputs": [
    {
     "data": {
      "text/plain": [
       "wavenumber\n",
       "4268.2    303\n",
       "4269.2    302\n",
       "4270.1    302\n",
       "4271.1    299\n",
       "4272.0    301\n",
       "4272.9    300\n",
       "4273.9    301\n",
       "4274.8    301\n",
       "4275.8    306\n",
       "4276.7    305\n",
       "4277.7    305\n",
       "4278.6    302\n",
       "4279.6    298\n",
       "4280.5    303\n",
       "4281.5    304\n",
       "4282.4    304\n",
       "4283.4    302\n",
       "4284.3    297\n",
       "4285.3    304\n",
       "4286.2    298\n",
       "4287.2    302\n",
       "4288.1    299\n",
       "4289.1    304\n",
       "4290.0    296\n",
       "4291.0    303\n",
       "4291.9    303\n",
       "4292.8    300\n",
       "4293.8    298\n",
       "4294.7    299\n",
       "4295.7    300\n",
       "         ... \n",
       "5899.3    309\n",
       "5900.5    305\n",
       "5901.6    301\n",
       "5902.7    299\n",
       "5903.9    303\n",
       "5905.0    297\n",
       "5906.2    302\n",
       "5907.3    300\n",
       "5908.5    299\n",
       "5909.6    301\n",
       "5910.7    303\n",
       "5911.9    304\n",
       "5913.0    301\n",
       "5914.2    300\n",
       "5915.3    304\n",
       "5916.5    300\n",
       "5917.6    305\n",
       "5918.7    301\n",
       "5919.9    303\n",
       "5921.0    297\n",
       "5922.2    301\n",
       "5923.3    304\n",
       "5924.5    305\n",
       "5925.6    301\n",
       "5926.7    299\n",
       "5927.9    301\n",
       "5929.0    301\n",
       "5930.2    303\n",
       "5931.3    302\n",
       "5932.5    301\n",
       "Name: spec_0, dtype: int16"
      ]
     },
     "execution_count": 14,
     "metadata": {},
     "output_type": "execute_result"
    }
   ],
   "source": [
    "ppdData._pump = SFG2D.io.veronica.read_auto(ppdData.ffolder + \"/07_ts_gold_w575_g1_e1s_ssp_pu1_pr1_vis1_gal1_chop1_purge1.dat\")\n",
    "ppdData.pump.med.ix[0][\"spec_0\"]"
   ]
  },
  {
   "cell_type": "code",
   "execution_count": 3,
   "metadata": {
    "collapsed": false
   },
   "outputs": [
    {
     "name": "stderr",
     "output_type": "stream",
     "text": [
      "/home/malte/Analysis/SFG2D/io/veronica.py:261: UserWarning: cant determine spectrum type of data by filename.Trying to determine datatype from content.This is much slower\n",
      "  warnings.warn('cant determine spectrum type of data by filename.'\n"
     ]
    }
   ],
   "source": [
    "w_pump = MyWidgets.DataImporter(ppdData.ffolder, ppWidget.pump_fpath, \n",
    "                           ppWidget.pump_fbase, ppWidget.pump_ppdelay, \n",
    "                           ppWidget.pump_spec, ppWidget.pump_sub_base)\n",
    "\n",
    "w_pump(title='Pump-Vis SFG', x_label=r'Wavenumbers in 1/cm', y_label='Counts')"
   ]
  },
  {
   "cell_type": "markdown",
   "metadata": {
    "collapsed": false,
    "extensions": {
     "jupyter_dashboards": {
      "version": 1,
      "views": {
       "grid_default": {
        "col": 0,
        "height": 4,
        "hidden": false,
        "row": 26,
        "width": 4
       },
       "report_default": {
        "hidden": false
       }
      }
     }
    }
   },
   "source": [
    "# Pump-Probe Data"
   ]
  },
  {
   "cell_type": "code",
   "execution_count": 4,
   "metadata": {
    "collapsed": false
   },
   "outputs": [
    {
     "name": "stderr",
     "output_type": "stream",
     "text": [
      "/home/malte/Analysis/SFG2D/io/veronica.py:261: UserWarning: cant determine spectrum type of data by filename.Trying to determine datatype from content.This is much slower\n",
      "  warnings.warn('cant determine spectrum type of data by filename.'\n"
     ]
    }
   ],
   "source": [
    "%matplotlib inline\n",
    "from SFG2D.dashboards import MyWidgets\n",
    "import gui\n",
    "\n",
    "ppdData = gui.PumpProbeDashboardData('/home/malte/MeasurmentData/2016/09/07/')\n",
    "ppWidget = gui.PumpProbeWidget(ppdData)\n",
    "ppWidget.linkTraitlets()\n",
    "# load last gui config\n",
    "ppWidget.load(ppdData.ffolder)\n",
    "w_pump_probe = MyWidgets.PumpProbeDataImporter(\n",
    "    ppdData.ffolder, ppWidget.ts0_fpath, \n",
    "    ppWidget.fbase, ppWidget.ts0_ppdelay, \n",
    "    ppWidget.ts0_pumped, ppWidget.ts0_probed, ppWidget.pump_sub_base,\n",
    "    ppWidget.ts0_normalize, norm_scan = w_ir.data\n",
    ")\n",
    "\n",
    "w_pump_probe(title='Pump Probe Data', x_label='Wavenumbers in 1/cm', y_label='Counts')"
   ]
  },
  {
   "cell_type": "code",
   "execution_count": 7,
   "metadata": {
    "collapsed": false
   },
   "outputs": [
    {
     "data": {
      "text/plain": [
       "<matplotlib.axes._subplots.AxesSubplot at 0x7efe656716d8>"
      ]
     },
     "execution_count": 7,
     "metadata": {},
     "output_type": "execute_result"
    },
    {
     "data": {
      "image/png": "[encoded data removed]",
      "text/plain": [
       "<matplotlib.figure.Figure at 0x7efe65567eb8>"
      ]
     },
     "metadata": {},
     "output_type": "display_data"
    }
   ],
   "source": [
    "w_pump_probe.scan.norm.plot()\n"
   ]
  },
  {
   "cell_type": "code",
   "execution_count": 7,
   "metadata": {
    "collapsed": true
   },
   "outputs": [],
   "source": [
    "def see(*args):\n",
    "    if args[0]['owner'] is w_pump_probe.normalise_toggle:\n",
    "        print('jep')"
   ]
  },
  {
   "cell_type": "code",
   "execution_count": 8,
   "metadata": {
    "collapsed": false
   },
   "outputs": [],
   "source": [
    "w_pump_probe.normalise_toggle.observe(see, 'value')"
   ]
  },
  {
   "cell_type": "code",
   "execution_count": 4,
   "metadata": {
    "collapsed": false
   },
   "outputs": [
    {
     "name": "stdout",
     "output_type": "stream",
     "text": [
      "{'name': 'value', 'new': True, 'owner': <ipywidgets.widgets.widget_bool.ToggleButton object at 0x7f8e6cac25f8>, 'type': 'change', 'old': False}\n",
      "{'name': 'value', 'new': False, 'owner': <ipywidgets.widgets.widget_bool.ToggleButton object at 0x7f8e6cac25f8>, 'type': 'change', 'old': True}\n",
      "jep\n",
      "{'name': 'value', 'new': True, 'owner': <ipywidgets.widgets.widget_bool.ToggleButton object at 0x7f8e6cac25f8>, 'type': 'change', 'old': False}\n",
      "jep\n"
     ]
    }
   ],
   "source": [
    "w_pump_probe.normalise_toggle"
   ]
  },
  {
   "cell_type": "code",
   "execution_count": 5,
   "metadata": {
    "collapsed": false
   },
   "outputs": [
    {
     "data": {
      "text/plain": [
       "'Normalize'"
      ]
     },
     "execution_count": 5,
     "metadata": {},
     "output_type": "execute_result"
    }
   ],
   "source": [
    "w_pump_probe.normalise_toggle.description"
   ]
  },
  {
   "cell_type": "code",
   "execution_count": 32,
   "metadata": {
    "collapsed": false
   },
   "outputs": [
    {
     "data": {
      "text/plain": [
       "{}"
      ]
     },
     "execution_count": 32,
     "metadata": {},
     "output_type": "execute_result"
    }
   ],
   "source": [
    "a = w_pump_probe.fig.axes[0]\n",
    "m = w_pump_probe.fig.marks[0]\n",
    "sx = m.scales['y']\n",
    "sx."
   ]
  },
  {
   "cell_type": "code",
   "execution_count": 42,
   "metadata": {
    "collapsed": false
   },
   "outputs": [],
   "source": [
    "w_pump_probe.fig.scale_x.min\n",
    "w_pump_probe.fig"
   ]
  },
  {
   "cell_type": "markdown",
   "metadata": {
    "extensions": {
     "jupyter_dashboards": {
      "version": 1,
      "views": {
       "grid_default": {},
       "report_default": {
        "hidden": false
       }
      }
     }
    }
   },
   "source": [
    "## Baseline for Pump-Probe Data"
   ]
  },
  {
   "cell_type": "code",
   "execution_count": 2,
   "metadata": {
    "collapsed": false
   },
   "outputs": [
    {
     "name": "stderr",
     "output_type": "stream",
     "text": [
      "/home/malte/Analysis/SFG2D/io/veronica.py:261: UserWarning: cant determine spectrum type of data by filename.Trying to determine datatype from content.This is much slower\n",
      "  warnings.warn('cant determine spectrum type of data by filename.'\n"
     ]
    }
   ],
   "source": [
    "class w_base():\n",
    "    data = None\n",
    "    def get(fbase):\n",
    "        ppdData._base = SFG2D.io.veronica.read_auto(fbase)\n",
    "        w_base.data = ppdData.base.med\n",
    "    \n",
    "    def update(new):\n",
    "        w_base.get(ppdData.ffolder + ppWidget.fbase.value)\n",
    "        \n",
    "    def fig_init(param_dict={}):\n",
    "        \"\"\"Init an empty bqplot figure\"\"\"\n",
    "        x_sc = LinearScale()\n",
    "        y_sc = LinearScale()\n",
    "\n",
    "        line = Lines(scales={'x':x_sc, 'y':y_sc})\n",
    "\n",
    "        ax_x = Axis(scale=x_sc, \n",
    "                    label='Wavenumber')\n",
    "        ax_y = Axis(scale=y_sc, \n",
    "                    label='Counts', orientation='vertical')\n",
    "\n",
    "        fig = Figure(marks=[line], axes=[ax_x, ax_y], \n",
    "                     title='Pump Profile')\n",
    "        return fig\n",
    "        \n",
    "    def fig_update(new):\n",
    "        base_fig.marks[0].x = w_base.data.index\n",
    "        base_fig.marks[0].y = w_base.data.transpose()\n",
    "        \n",
    "w_base.get(ppdData.ffolder + ppWidget.fbase.value)      \n",
    "base_fig = w_base.fig_init()\n",
    "w_base.fig_update(None)\n",
    "\n",
    "ppWidget.fbase.observe(w_base.update, 'value')\n",
    "ppWidget.fbase.observe(w_base.fig_update, 'value')\n",
    "#w_base = ipyw.interactive(set_base, fbase = ppWidget.fbase)\n",
    "\n",
    "display(ppWidget.fbase, base_fig)"
   ]
  },
  {
   "cell_type": "code",
   "execution_count": null,
   "metadata": {
    "collapsed": true
   },
   "outputs": [],
   "source": [
    "D = ppdData.ts0.df.sum(level=\"pp_delay\")\n",
    "\n",
    "dshape = D[ppWidget.ts0_probed.value].shape\n",
    "D"
   ]
  },
  {
   "cell_type": "code",
   "execution_count": null,
   "metadata": {
    "collapsed": false
   },
   "outputs": [],
   "source": [
    "class w_pump_probe():\n",
    "    def get(fpath):\n",
    "        ppdData.ts0 = SFG2D.io.veronica.read_auto(ppdData.ffolder + fpath)\n",
    "        if ppWidget.ts0_sub_base.value:\n",
    "            ppdData.ts0.base = ppdData.base.med\n",
    "            ppdData.ts0.sub_base(inplace=True)\n",
    "        if ppWidget.ir_spec.value is \"All\":\n",
    "            ppdData.ts0.norm = ppdData.ir.med\n",
    "        else:\n",
    "            ppdData.ts0.norm = ppdData.ir.med[ppWidget.ir_spec.value]\n",
    "        ppdData.ts0u = ppdData.ts0.__deepcopy__()\n",
    "        \n",
    "        if ppWidget.ts0_normalize.value:\n",
    "            ppdData.ts0.normalize(inplace=True)\n",
    "        ppWidget.ts0_ppdelay.options = list(ppdData.ts0.pp_delays)\n",
    "        \n",
    "        if ppWidget.ts0_ppdelay.value not in list(ppdData.ts0.pp_delays):\n",
    "            ppWidget.ts0_ppdelay.value = ppWidget.ts0_ppdelay.options[0]\n",
    "        \n",
    "    def update(new):\n",
    "        w_pump_probe.get(ppWidget.ts0_fpath.value)\n",
    "        \n",
    "    def pump_update(new):\n",
    "        ppdData.ts0.pumped = ppWidget.ts0_pumped.value\n",
    "        ppdData.ts0u.pumped = ppWidget.ts0_pumped.value\n",
    "    \n",
    "    def probe_update(new):\n",
    "        ppdData.ts0u.probed = ppWidget.ts0_probed.value\n",
    "        ppdData.ts0.probed = ppWidget.ts0_probed.value  \n",
    "        \n",
    "    def fig_init():\n",
    "        #bplt.figure(pump_probe_fig)\n",
    "        D = ppdData.ts0.med.ix[ppWidget.ts0_ppdelay.value]\n",
    "        bplt.plot(D.index, D.transpose())\n",
    "        \n",
    "    def fig_sum_init(): \n",
    "        #bplt.figure(pump_probe_sum_fig)\n",
    "        D = ppdData.ts0._df.sum(level='pp_delay')\n",
    "        \n",
    "        bplt.plot(D[ppWidget.ts0_probed.value].as_matrix().flatten('f'))\n",
    "        bplt.plot(D[ppWidget.ts0_pumped.value].as_matrix().flatten('f'))\n",
    "        \n",
    "        dshape = D[ppWidget.ts0_probed.value].shape\n",
    "        if len(dshape) > 1:\n",
    "            for i in range(dshape[1]):\n",
    "                bplt.vline(i * dshape[0])\n",
    "        \n",
    "    def fig_pump_probe_update(new):\n",
    "        #bplt.figure(pump_probe_fig)\n",
    "        pump_probe_fig.marks[0].x = ppdData.ts0.med.ix[ppWidget.ts0_ppdelay.value].index\n",
    "        pump_probe_fig.marks[0].y = ppdData.ts0.med.ix[ppWidget.ts0_ppdelay.value].transpose()\n",
    "        \n",
    "    def fig_pump_probe_sum_update(new):\n",
    "        #bplt.figure(pump_probe_sum_fig)\n",
    "        D = ppdData.ts0._df.sum(level='pp_delay')\n",
    "        mpr = D[ppWidget.ts0_probed.value].as_matrix().flatten('f')\n",
    "        mpu = D[ppWidget.ts0_pumped.value].as_matrix().flatten('f')\n",
    "        pump_probe_sum_fig.marks[0].x = range(mpr.shape[0])\n",
    "        pump_probe_sum_fig.marks[0].y = (mpr, mpu)\n",
    "        \n",
    "        # Delete old vlines and replace with new ones\n",
    "        pump_probe_sum_fig.marks = [pump_probe_sum_fig.marks[0]]\n",
    "        dshape = D[ppWidget.ts0_probed.value].shape\n",
    "        if len(dshape) > 1:\n",
    "            for i in range(dshape[1]):\n",
    "                bplt.vline(i * dshape[0])\n",
    "        \n",
    "display(ppWidget.ts0_fpath, ppWidget.ts0_probed, ppWidget.ts0_pumped, ppWidget.ts0_ppdelay)\n",
    "\n",
    "w_pump_probe.get(ppWidget.ts0_fpath.value)\n",
    "pump_probe_fig = bplt.figure()\n",
    "w_pump_probe.fig_init()\n",
    "\n",
    "pump_probe_sum_fig = bplt.figure()\n",
    "w_pump_probe.fig_sum_init()\n",
    "\n",
    "ppWidget.ts0_fpath.observe(w_pump_probe.update, 'value')\n",
    "ppWidget.ts0_fpath.observe(w_pump_probe.fig_pump_probe_update, 'value')\n",
    "ppWidget.ts0_fpath.observe(w_pump_probe.fig_pump_probe_sum_update, 'value')\n",
    "\n",
    "#ppWidget.ts0_probed.observe(w_pump_probe.probe_update, 'value')\n",
    "#ppWidget.ts0_probed.observe(w_pump_probe.fig_pump_probe_update, 'value')\n",
    "\n",
    "#ppWidget.ts0_pumped.observe(w_pump_probe.pump_update, 'value')\n",
    "#ppWidget.ts0_pumped.observe(w_pump_probe.fig_pump_probe_update)\n",
    "\n",
    "#ppWidget.ts0_ppdelay.observe(w_pump_probe.fig_pump_probe_update, 'value')\n",
    "\n",
    "\n",
    "\n",
    "bplt.show()"
   ]
  },
  {
   "cell_type": "code",
   "execution_count": null,
   "metadata": {
    "collapsed": false
   },
   "outputs": [],
   "source": [
    "ppdData.ts0"
   ]
  },
  {
   "cell_type": "code",
   "execution_count": null,
   "metadata": {
    "collapsed": false
   },
   "outputs": [],
   "source": [
    "w_pump_probe.get(ppWidget.ts0_fpath.value)\n",
    "D = ppdData.ts0._df.sum(level='pp_delay')['spec_0']\n",
    "len(D.shape)"
   ]
  },
  {
   "cell_type": "markdown",
   "metadata": {
    "collapsed": true
   },
   "source": [
    "#### pump_probe_fig = bplt.figure()\n",
    "w_pump_probe.fig_init()\n",
    "\n",
    "ppWidget.ts0_fpath.observe(w_pump_probe.update, 'value')\n",
    "#ppWidget.ts0_fpath.observe(w_pump_probe.fig_pump_probe_sum_update, 'value')\n",
    "ppWidget.ts0_fpath.observe(w_pump_probe.fig_pump_probe_update, \"value\")\n",
    "\n",
    "ppWidget.ts0_probed.observe(w_pump_probe.probe_update, 'value')\n",
    "ppWidget.ts0_probed.observe(w_pump_probe.fig_pump_probe_update, 'value')\n",
    "\n",
    "ppWidget.ts0_pumped.observe(w_pump_probe.pump_update, 'value')\n",
    "ppWidget.ts0_pumped.observe(w_pump_probe.fig_pump_probe_update)"
   ]
  },
  {
   "cell_type": "code",
   "execution_count": null,
   "metadata": {
    "collapsed": false
   },
   "outputs": [],
   "source": [
    "ppWidget.ts0_fpath"
   ]
  },
  {
   "cell_type": "code",
   "execution_count": null,
   "metadata": {
    "collapsed": true
   },
   "outputs": [],
   "source": [
    "def set_pump_probe(fpath, sub_base=False, normalize=False):\n",
    "    ppdData.ts0 = SFG2D.io.veronica.read_auto(ppdData.ffolder + fpath)\n",
    "    if sub_base:\n",
    "        ppdData.ts0.base = ppdData.base.med\n",
    "        ppdData.ts0.sub_base(inplace=True)\n",
    "    if ppWidget.ir_spec.value is \"All\":\n",
    "        ppdData.ts0.norm = ppdData.ir.med\n",
    "    else:\n",
    "        ppdData.ts0.norm = ppdData.ir.med[ppWidget.ir_spec.value]\n",
    "    ppdData.ts0u = ppdData.ts0.__deepcopy__()\n",
    "    if normalize:\n",
    "        ppdData.ts0.normalize(inplace=True)\n",
    "    ppWidget.ts0_ppdelay.options = list(ppdData.ts0.pp_delays)\n",
    "    ppWidget.ts0_ppdelay.value=0\n",
    "    \n",
    "def ts0_pump_update(*args):\n",
    "    #global ts0\n",
    "    ppdData.ts0.pumped = ppWidget.ts0_pumped.value\n",
    "    ppdData.ts0u.pumped = ppWidget.ts0_pumped.value\n",
    "    \n",
    "def ts0_probe_update(*args):\n",
    "    #global ts0\n",
    "    ppdData.ts0u.probed = ppWidget.ts0_probed.value\n",
    "    ppdData.ts0.probed = ppWidget.ts0_probed.value\n",
    "    \n",
    "def pump_probe_sum_plot(*args):\n",
    "    ax = axes_pump_probe_get[1]\n",
    "    if isinstance(ppdData.ts0u, SFG2D.core.scan.TimeScan):\n",
    "        [SFG2D.plotting.ts.sum_of_spectra(ppdData.ts0u, spec, ax) for spec in ('spec_0', 'spec_1', 'spec_2')]\n",
    "    ax.set_title(\"Sum of Spectra\")\n",
    "\n",
    "def pump_probe_plot(pp_delay):\n",
    "    ax = axes_pump_probe_get[0]\n",
    "    ax.clear()\n",
    "    \n",
    "    if isinstance(ppdData.ts0u, SFG2D.core.scan.TimeScan):\n",
    "        ppdData.ts0u.med.ix[pp_delay].plot(ax=ax)\n",
    "        ax.set_title(\"%i fs\"%pp_delay)\n",
    "        #plt.ylim(-0.002, 0.015) # get this from set_pump_probedata\n",
    "        #plt.xlim(2100, 2800) # get this from ir profile\n",
    "    fig_pump_probe_get.tight_layout()\n",
    "    display(fig_pump_probe_get)"
   ]
  },
  {
   "cell_type": "code",
   "execution_count": null,
   "metadata": {
    "collapsed": false
   },
   "outputs": [],
   "source": [
    "fig_pump_probe_get, axes_pump_probe_get = plt.subplots(1,2, figsize=(16,6))\n",
    "\n",
    "ppWidget.ts0 = ipyw.interactive(set_pump_probe, fpath=ppWidget.ts0_fpath, sub_base=ppWidget.ts0_sub_base, normalize=ppWidget.ts0_normalize)\n",
    "ppWidget.ts0_pumped.observe(ts0_pump_update, 'value')\n",
    "ppWidget.ts0_probed.observe(ts0_probe_update, 'value')\n",
    "pp\n",
    "\n",
    "\n",
    "ppWidget.ts0_plot = ipyw.interactive(pump_probe_plot, pp_delay=ppWidget.ts0_ppdelay)\n",
    "display(ppWidget.ts0, ppWidget.ts0_pumped, ppWidget.ts0_probed, ppWidget.ts0_plot)\n",
    "pump_probe_sum_plot()"
   ]
  },
  {
   "cell_type": "markdown",
   "metadata": {
    "extensions": {
     "jupyter_dashboards": {
      "version": 1,
      "views": {
       "grid_default": {},
       "report_default": {
        "hidden": false
       }
      }
     }
    }
   },
   "source": [
    "## Normalize Spectra"
   ]
  },
  {
   "cell_type": "code",
   "execution_count": null,
   "metadata": {
    "collapsed": false
   },
   "outputs": [],
   "source": [
    "%%capture\n",
    "fig_norm, ax_norm = plt.subplots(1,2, figsize=(12,6))\n",
    "ax_norm[0].set_title(\"Unnormalized\")\n",
    "ax_norm[1].set_title(\"Normalized\")\n",
    "#ax_norm[1].set_ylim(-0.002, 0.015)\n",
    "ppdData.ts0u.pumped.ix[ppWidget.ts0_ppdelay.value].plot(ax = ax_norm[0], label=\"pumped\")\n",
    "ppdData.ts0u.probed.ix[ppWidget.ts0_ppdelay.value].plot(ax = ax_norm[0], label=\"probed\")\n",
    "\n",
    "ppdData.ts0.pumped.ix[ppWidget.ts0_ppdelay.value].plot(ax = ax_norm[1], label = \"pumped\")\n",
    "ppdData.ts0.probed.ix[ppWidget.ts0_ppdelay.value].plot(ax = ax_norm[1], label = \"probed\")\n",
    "\n",
    "ax_norm[0].legend()\n",
    "fig_norm.tight_layout()\n",
    "\n",
    "\n",
    "def plot_norm_update(pp_delay):\n",
    "    ax_norm[0].lines[0].set_ydata(ppdData.ts0u.pumped.ix[pp_delay])\n",
    "    ax_norm[0].lines[1].set_ydata(ppdData.ts0u.probed.ix[pp_delay])\n",
    "\n",
    "    ax_norm[1].lines[0].set_ydata(ppdData.ts0.pumped.ix[pp_delay])\n",
    "    ax_norm[1].lines[1].set_ydata(ppdData.ts0.probed.ix[pp_delay])\n",
    "       \n",
    "    display(fig_norm)"
   ]
  },
  {
   "cell_type": "code",
   "execution_count": null,
   "metadata": {
    "collapsed": false
   },
   "outputs": [],
   "source": [
    "ipyw.interact(plot_norm_update, pp_delay=ppWidget.ts0_ppdelay_childs[0])"
   ]
  },
  {
   "cell_type": "markdown",
   "metadata": {
    "extensions": {
     "jupyter_dashboards": {
      "version": 1,
      "views": {
       "grid_default": {
        "col": 4,
        "height": 4,
        "hidden": false,
        "row": 50,
        "width": 4
       },
       "report_default": {
        "hidden": false
       }
      }
     }
    }
   },
   "source": [
    "# Spectra Over Time"
   ]
  },
  {
   "cell_type": "code",
   "execution_count": null,
   "metadata": {
    "collapsed": false,
    "extensions": {
     "jupyter_dashboards": {
      "version": 1,
      "views": {
       "grid_default": {},
       "report_default": {
        "hidden": false
       }
      }
     }
    }
   },
   "outputs": [],
   "source": [
    "%%capture\n",
    "roi = slice(2200,2800)\n",
    "\n",
    "def plot_compare_update(pp_delay):\n",
    "    for i in range(ppdData.ts0.df['spec_0'].shape[1]):\n",
    "        data = ppdData.ts0.df.loc[ppWidget.ts0_ppdelay_childs[1].value, \"spec_0\"][roi].iloc[:,i]\n",
    "        ax_compare[0].lines[i].set_ydata(data)\n",
    "        data = ppdData.ts0.df.loc[ppWidget.ts0_ppdelay_childs[1].value, \"spec_1\"][roi].iloc[:,i]\n",
    "        ax_compare[1].lines[i].set_ydata(data)\n",
    "    \n",
    "    display(fig_compare)\n",
    "    \n",
    "\n",
    "fig_compare, ax_compare = plt.subplots(1, 2, sharey=True, figsize=(16,6))\n",
    "ppdData.ts0.df.loc[ppWidget.ts0_ppdelay_childs[1].value, \"spec_0\"][roi].plot(ax=ax_compare[0])        \n",
    "ppdData.ts0.df.loc[ppWidget.ts0_ppdelay_childs[1].value, \"spec_1\"][roi].plot(ax=ax_compare[1])\n",
    "for ax, title in zip(ax_compare, ('spec_0', 'spec_1')):\n",
    "    ax.set_title(title)\n",
    "    for i in range(len(ax.lines)):\n",
    "        ax.lines[i].set_label('run %i'%i)\n",
    "    ax.legend()\n",
    "#plt.ylim(-0.002, 0.017)"
   ]
  },
  {
   "cell_type": "code",
   "execution_count": null,
   "metadata": {
    "collapsed": false,
    "extensions": {
     "jupyter_dashboards": {
      "version": 1,
      "views": {
       "grid_default": {
        "col": 8,
        "height": 8,
        "hidden": false,
        "row": 50,
        "width": 4
       },
       "report_default": {
        "hidden": false
       }
      }
     }
    }
   },
   "outputs": [],
   "source": [
    "w_f0 = ipyw.interact(plot_compare_update, pp_delay=ppWidget.ts0_ppdelay_childs[1])\n",
    "#display(w_f0)"
   ]
  },
  {
   "cell_type": "markdown",
   "metadata": {
    "extensions": {
     "jupyter_dashboards": {
      "version": 1,
      "views": {
       "grid_default": {
        "col": 4,
        "height": 4,
        "hidden": false,
        "row": 54,
        "width": 4
       },
       "report_default": {
        "hidden": false
       }
      }
     }
    }
   },
   "source": [
    "## Smoothed"
   ]
  },
  {
   "cell_type": "code",
   "execution_count": null,
   "metadata": {
    "collapsed": false,
    "extensions": {
     "jupyter_dashboards": {
      "version": 1,
      "views": {
       "grid_default": {
        "col": 0,
        "height": 12,
        "hidden": false,
        "row": 58,
        "width": 4
       },
       "report_default": {
        "hidden": false
       }
      }
     }
    }
   },
   "outputs": [],
   "source": [
    "#pp_slider3 = ipyw.SelectionSlider(options=list(ppdData.ts0.pp_delays), value=0, continuous_update=False)\n",
    "roi = slice(2200,2800) # get this from the pump\n",
    "def p3(pp_delay):\n",
    "    ppdData.ts0.pumped.loc[pp_delay][roi].rolling(10).mean().plot(label=\"pumped\")\n",
    "    ppdData.ts0.probed.loc[pp_delay][roi].rolling(10).mean().plot(label=\"probed\")\n",
    "    #plt.ylim(0.001, 0.015)\n",
    "    plt.title(str(pp_delay) + \" fs\")\n",
    "    plt.legend()\n",
    "    #plt.grid()\n",
    "\n",
    "ppWidget.p3 = ipyw.interactive(p3, pp_delay=ppWidget.ts0_ppdelay_childs[2])\n",
    "display(ppWidget.p3)\n",
    "plt.show()"
   ]
  },
  {
   "cell_type": "markdown",
   "metadata": {
    "extensions": {
     "jupyter_dashboards": {
      "version": 1,
      "views": {
       "grid_default": {
        "col": 4,
        "height": 4,
        "hidden": false,
        "row": 58,
        "width": 4
       },
       "report_default": {
        "hidden": false
       }
      }
     }
    }
   },
   "source": [
    "# Bleach Trace"
   ]
  },
  {
   "cell_type": "code",
   "execution_count": null,
   "metadata": {
    "collapsed": false,
    "extensions": {
     "jupyter_dashboards": {
      "version": 1,
      "views": {
       "grid_default": {
        "col": 8,
        "height": 11,
        "hidden": false,
        "row": 58,
        "width": 4
       },
       "report_default": {
        "hidden": false
       }
      }
     }
    }
   },
   "outputs": [],
   "source": [
    "roi_slider_range = int(ppdData.ts0.df.index.levels[1].min()), int(ppdData.ts0.df.index.levels[1].max())\n",
    "#roi_slider_range = 0, 800\n",
    "roi_slider = ipyw.IntRangeSlider(\n",
    "    value = (2450, 2600),\n",
    "    min = roi_slider_range[0],\n",
    "    max = roi_slider_range[1],\n",
    "    continuous_update=False\n",
    ")\n",
    "\n",
    "#roi = slice(2450,2600)\n",
    "\n",
    "def plot_bleach_trace(roi):\n",
    "    tss = ppdData.ts0.bleach.unstack(0)\n",
    "    tss = tss[(tss.index > roi[0]) & (tss.index < roi[1])].sum()\n",
    "\n",
    "    tss.plot()\n",
    "    plt.scatter(tss.index, tss)\n",
    "    plt.title(r\"Bleach from (%i to %i)cm$^{-1}$\"%(roi[0], roi[1]))\n",
    "    \n",
    "ipyw.interact(plot_bleach_trace, roi=roi_slider)\n",
    "plt.show()"
   ]
  },
  {
   "cell_type": "code",
   "execution_count": null,
   "metadata": {
    "collapsed": true
   },
   "outputs": [],
   "source": [
    "ppdData.ts0.pump"
   ]
  },
  {
   "cell_type": "code",
   "execution_count": null,
   "metadata": {
    "collapsed": false
   },
   "outputs": [],
   "source": [
    "ppdData.ts0.df.ix[0, \"spec_0\"].plot()"
   ]
  },
  {
   "cell_type": "code",
   "execution_count": null,
   "metadata": {
    "collapsed": false
   },
   "outputs": [],
   "source": [
    "import datetime\n",
    "pp_delays = 25\n",
    "exp_time = 10# in minutes\n",
    "reps = 3 #number of repetitions\n",
    "datetime.datetime.now() + datetime.timedelta(minutes=pp_delays*exp_time*reps)"
   ]
  },
  {
   "cell_type": "code",
   "execution_count": null,
   "metadata": {
    "collapsed": false
   },
   "outputs": [],
   "source": [
    "25*10/60"
   ]
  },
  {
   "cell_type": "code",
   "execution_count": null,
   "metadata": {
    "collapsed": true
   },
   "outputs": [],
   "source": []
  }
 ],
 "metadata": {
  "extensions": {
   "jupyter_dashboards": {
    "activeView": "report_default",
    "version": 1,
    "views": {
     "grid_default": {
      "cellMargin": 10,
      "defaultCellHeight": 20,
      "maxColumns": 12,
      "name": "grid",
      "type": "grid"
     },
     "report_default": {
      "name": "report",
      "type": "report"
     }
    }
   }
  },
  "kernelspec": {
   "display_name": "Python 3",
   "language": "python",
   "name": "python3"
  },
  "language_info": {
   "codemirror_mode": {
    "name": "ipython",
    "version": 3
   },
   "file_extension": ".py",
   "mimetype": "text/x-python",
   "name": "python",
   "nbconvert_exporter": "python",
   "pygments_lexer": "ipython3",
   "version": "3.5.2"
  },
  "widgets": {
   "state": {
    "0ac83571a2584097be55be5ea75b0c33": {
     "views": [
      {
       "cell_index": 2
      }
     ]
    },
    "15f91ff603de4e7ea7e1e0ab1e97443b": {
     "views": [
      {
       "cell_index": 6
      }
     ]
    },
    "20dcdab9ab2845988c1a69a5021520da": {
     "views": [
      {
       "cell_index": 2
      }
     ]
    },
    "30d67645dd2e49b78d964524ff92065c": {
     "views": [
      {
       "cell_index": 2
      }
     ]
    },
    "31b93cc9c3824dbcbc9129b6e1d2a533": {
     "views": [
      {
       "cell_index": 2
      }
     ]
    },
    "3806d37f39794872b01b70d2df0a42a4": {
     "views": [
      {
       "cell_index": 2
      }
     ]
    },
    "380813f2cbe14c98958ade921f868066": {
     "views": [
      {
       "cell_index": 6
      }
     ]
    },
    "55d459eda135496fbb980b09f29141e5": {
     "views": [
      {
       "cell_index": 8
      }
     ]
    },
    "7013c988f5bb44d1ba13633828db8741": {
     "views": [
      {
       "cell_index": 6
      }
     ]
    },
    "7b74eb04fbe2438495bb85e66771de51": {
     "views": [
      {
       "cell_index": 8
      }
     ]
    },
    "7fd9b83aeb6d4f419644a84ade82e98b": {
     "views": [
      {
       "cell_index": 8
      }
     ]
    },
    "a8e3fd427c344a7aa0f9ccdab4cd4ecb": {
     "views": [
      {
       "cell_index": 6
      }
     ]
    },
    "ac5aa32284dc402ab23d8c095bc4343a": {
     "views": [
      {
       "cell_index": 8
      }
     ]
    },
    "c2821cbaea4d4171b57b31122405f970": {
     "views": [
      {
       "cell_index": 2
      }
     ]
    },
    "caff7c2e27a74c139680f3760fe8dc2f": {
     "views": [
      {
       "cell_index": 8
      }
     ]
    },
    "ed8560e4d8a44dac96946e1eec5aae1c": {
     "views": [
      {
       "cell_index": 2
      }
     ]
    },
    "f2b923c0335d4c829b0a4685b6b1770b": {
     "views": [
      {
       "cell_index": 2
      }
     ]
    }
   },
   "version": "1.2.0"
  }
 },
 "nbformat": 4,
 "nbformat_minor": 0
}
