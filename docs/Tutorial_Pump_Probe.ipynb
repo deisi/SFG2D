{
 "cells": [
  {
   "cell_type": "markdown",
   "metadata": {},
   "source": [
    "You can run a cell by hitting  `Shift + Enter` on the keyboard\n",
    "\n",
    "A more extensive tutorial can be found [here](https://www.datacamp.com/community/tutorials/tutorial-jupyter-notebook#gs.kwHTUSQ) Skip to: \"Getting Started With Jupyter Notebooks\" if you are hazy."
   ]
  },
  {
   "cell_type": "code",
   "execution_count": null,
   "metadata": {},
   "outputs": [],
   "source": [
    "# Import and load some packages\n",
    "\n",
    "# makes python a little like matlab.\n",
    "%pylab  \n",
    "import sfg2d  # This imports the sfg2d package"
   ]
  },
  {
   "cell_type": "markdown",
   "metadata": {},
   "source": [
    "# Import Data\n",
    "\n",
    "The `SfgRecord` object is the central object of the `sfg2d` toolkit. Almost everything\n",
    "of the sfg2d toolkit relyes on this object. You can create and `SfgRecord` by passing it\n",
    "a path to a datafile. It will then import this data."
   ]
  },
  {
   "cell_type": "code",
   "execution_count": null,
   "metadata": {},
   "outputs": [],
   "source": [
    "bg10 = sfg2d.SfgRecord('/home/malte/MeasurmentData/Viktor/2018/05/23/11_bg_quartz_ssp_purged1_gal1_pu0_pr1.dat')\n",
    "# You can use the TAB key for autocompletion of a path. Enter a fractial path and autocomplete it.\n",
    "bg100 = sfg2d.SfgRecord('/home/malte/MeasurmentData/Viktor/2018/05/23/12_bg_d2o_ssp_purged1_gal1_pu1_pr0.dat')"
   ]
  },
  {
   "cell_type": "markdown",
   "metadata": {},
   "source": [
    "Load some data for normalization. Note how we pass the background `bg10` directly to the normalization\n",
    "data itself. `base` stands for background, because its the baseline of the data. By calling\n",
    "`bg10.select('rawData')` we collect the raw data from `bg10`. This is the same as calling\n",
    "`bg10.rawData`. If you dont belive it you can try to veryfiy this by checking (exercise).\n",
    "The advantege of `select` ist, that you can pass aditional transformations to you data.\n",
    "Here we just tell it it should average all frames by passing `frame_med=True` ofcourse there\n",
    "are many many more options. Most are documented in the help string of the `select` function.\n",
    "Try to open this help function now (exercise)."
   ]
  },
  {
   "cell_type": "code",
   "execution_count": null,
   "metadata": {},
   "outputs": [],
   "source": []
  },
  {
   "cell_type": "code",
   "execution_count": null,
   "metadata": {},
   "outputs": [],
   "source": [
    "q0 = sfg2d.SfgRecord(\n",
    "    '/home/malte/MeasurmentData/Viktor/2018/05/23/11_sc_quartz_ssp_purged1_gal1_pu0_pr1.dat',\n",
    "    base=bg10.select('rawData', frame_med=True),  # Here we set a baseline\n",
    ")"
   ]
  },
  {
   "cell_type": "markdown",
   "metadata": {},
   "source": [
    "Sometimes multiple data files belong to the same measurment. Therefore you can pass a list of\n",
    "filenames to `SfgRecord` and it will load all these files as if they were one big measurment.\n",
    "To have a complere `SfgRecord` you also need a background aka `base` and an normalization aka \n",
    "`norm`. The following shows you how you can pass this to an `SfgRecord`."
   ]
  },
  {
   "cell_type": "code",
   "execution_count": null,
   "metadata": {},
   "outputs": [],
   "source": [
    "d0 = sfg2d.SfgRecord([\n",
    "        '/home/malte/MeasurmentData/Viktor/2018/05/23/16_ts_d2o_ssp_purged1_gal1_pu1_pr1.dat',\n",
    "        '/home/malte/MeasurmentData/Viktor/2018/05/23/17_ts_d2o_ssp_purged1_gal1_pu1_pr1.dat',\n",
    "    ],\n",
    "    # And add baseline and norm\n",
    "    base=bg100.select('rawData', frame_med=True),  # Set a baseline/background\n",
    "    norm=q0.select('basesubed', frame_med=True)  # Set a normalization\n",
    ")"
   ]
  },
  {
   "cell_type": "markdown",
   "metadata": {},
   "source": [
    "## Backgroud"
   ]
  },
  {
   "cell_type": "markdown",
   "metadata": {},
   "source": [
    " This is a more programmatic way of how you could import your background.\n",
    " Thisway, you dont need to pass the same keywords (`kwargs`) to the select function over\n",
    " and over gain."
   ]
  },
  {
   "cell_type": "code",
   "execution_count": null,
   "metadata": {
    "collapsed": true
   },
   "outputs": [],
   "source": [
    "# Position your cursor after the ./ and hit the TAB key\n",
    "kwargs = {\"prop\" : \"rawData\", \"delay_mean\" : True}  # Define some default keywords.\n",
    "bg0 = sfg2d.SfgRecord(\"./\").select(**kwargs) # the ** allows you to pass a dict as a list of keywords to a function.\n",
    "bg1 = sfg2d.SfgRecord(\"./\").select(**kwargs)  "
   ]
  },
  {
   "cell_type": "markdown",
   "metadata": {},
   "source": [
    "Note that bg0 is now just an array and not an `SfgRecord` object any more. Exercise, try to see the diference."
   ]
  },
  {
   "cell_type": "code",
   "execution_count": null,
   "metadata": {},
   "outputs": [],
   "source": []
  },
  {
   "cell_type": "markdown",
   "metadata": {},
   "source": [
    "## Ir Profile"
   ]
  },
  {
   "cell_type": "markdown",
   "metadata": {},
   "source": [
    "Similar as with the baseline you could define default keywords for the import of the normalization data if you need to import multiple of them."
   ]
  },
  {
   "cell_type": "code",
   "execution_count": null,
   "metadata": {
    "collapsed": true
   },
   "outputs": [],
   "source": [
    "kwargs = {'base': bg0}\n",
    "select_kwargs = {'frame_med': True, 'prop': 'basesubed'}\n",
    "q0 = sfg2d.SfgRecord(\"./\", **kwargs).select(**select_kwargs)\n",
    "q1 = sfg2d.SfgRecord(\"./\", **kwargs).select(**select_kwargs)"
   ]
  },
  {
   "cell_type": "markdown",
   "metadata": {},
   "source": [
    "## Pump-Probe Data\n",
    "And for the sake of completness here the same for pump probe data"
   ]
  },
  {
   "cell_type": "code",
   "execution_count": null,
   "metadata": {},
   "outputs": [],
   "source": [
    "kwargs = {'base': bg0, 'norm': q0}\n",
    "d0 = sfg2d.SfgRecord(\"./\", **kwargs)\n",
    "d1 = sfg2d.SfgRecord(\"./\", **kwargs)"
   ]
  },
  {
   "cell_type": "markdown",
   "metadata": {},
   "source": [
    "There are more ways to add baseline data to an `SfgRecord`. After creation of \n",
    "the `SfgRecord` you can slo set the baseline as you see below. As an exercise, try to set the\n",
    "baseline to a constant value."
   ]
  },
  {
   "cell_type": "code",
   "execution_count": null,
   "metadata": {},
   "outputs": [],
   "source": [
    "d0.base = bg0 # Alternative way of setting a baseline. Ofcoures this also works for q0.norm or q0.rawData "
   ]
  },
  {
   "cell_type": "markdown",
   "metadata": {},
   "source": [
    "Many more options are availabe. E.G. a method to replace broken pixels. Note don't use this\n",
    "for spikes. That is not what it is meant for."
   ]
  },
  {
   "cell_type": "code",
   "execution_count": null,
   "metadata": {},
   "outputs": [],
   "source": [
    "d0.replace_pixel(q0, 496) # Replace broken pixel"
   ]
  },
  {
   "cell_type": "markdown",
   "metadata": {},
   "source": [
    "# Using an SFGRecord\n",
    "Take a look at what an SfgRecord object is:"
   ]
  },
  {
   "cell_type": "code",
   "execution_count": null,
   "metadata": {},
   "outputs": [],
   "source": [
    "d0"
   ]
  },
  {
   "cell_type": "markdown",
   "metadata": {},
   "source": [
    "Metadata about the SfgRecord is available"
   ]
  },
  {
   "cell_type": "code",
   "execution_count": null,
   "metadata": {},
   "outputs": [],
   "source": [
    "d0.metadata"
   ]
  },
  {
   "cell_type": "markdown",
   "metadata": {},
   "source": [
    "This is the rawData"
   ]
  },
  {
   "cell_type": "code",
   "execution_count": null,
   "metadata": {},
   "outputs": [],
   "source": [
    "d0.rawData"
   ]
  },
  {
   "cell_type": "markdown",
   "metadata": {},
   "source": [
    "## The Data Structure\n",
    "To get some understanding about the data structure lets have a look what `d0.rawData` actually is"
   ]
  },
  {
   "cell_type": "code",
   "execution_count": null,
   "metadata": {},
   "outputs": [],
   "source": [
    "type(d0.rawData)"
   ]
  },
  {
   "cell_type": "markdown",
   "metadata": {},
   "source": [
    "This tells us, `d0.rawData` is a numpy array. The default documentation about a numpy array can be found [here](https://docs.scipy.org/doc/numpy/reference/generated/numpy.array.html). You dont need to know all of it, but atleast know the diference between a `list` and a `numpy.array`. Also to go on you need to know how you index and slice a numpy array. This you find [here](https://docs.scipy.org/doc/numpy/reference/arrays.indexing.html)\n",
    "\n",
    "Now lets have a look at the shape of the rawData"
   ]
  },
  {
   "cell_type": "code",
   "execution_count": null,
   "metadata": {},
   "outputs": [],
   "source": [
    "d0.rawData.shape"
   ]
  },
  {
   "cell_type": "markdown",
   "metadata": {},
   "source": [
    "As you can see, rawData is a 4 dimensional array. Each index has a certain meaning. \n",
    "- The 1st index stands for a pump_probe value. \n",
    "- The 2nd index stands for frames/scans. E.G. a repetition of the same scan.\n",
    "- The 3rd index stands for y-pixels or spectra\n",
    "- and the 4th index represents the pixel. \n",
    "\n",
    "This means:"
   ]
  },
  {
   "cell_type": "code",
   "execution_count": null,
   "metadata": {},
   "outputs": [],
   "source": [
    "d0.rawData[0,0,0,0]"
   ]
  },
  {
   "cell_type": "markdown",
   "metadata": {},
   "source": [
    "returns a single value, namely the intensity of the first pixel of the first spectrum of the first frame at the first timedelay.\n",
    "\n",
    "If you want to get the complete spectrum, you can do:"
   ]
  },
  {
   "cell_type": "code",
   "execution_count": null,
   "metadata": {},
   "outputs": [],
   "source": [
    "d0.rawData[0,0,0]\n",
    "# or \n",
    "d0.rawData[0, 0, 0, :]"
   ]
  },
  {
   "cell_type": "markdown",
   "metadata": {},
   "source": [
    "Both give the samre result. As you can seen, we now make use of numpys indexing. If this is not clear, [check](https://docs.scipy.org/doc/numpy/reference/arrays.indexing.html) or find a tutorial about this, as this is out of the scope of this tutorial here. \n",
    "\n",
    "Beeing able to work on the rawData is all nice, but oftern you want to work with the normalized data. Fear not. this is readily available under:"
   ]
  },
  {
   "cell_type": "code",
   "execution_count": null,
   "metadata": {},
   "outputs": [],
   "source": [
    "d0.normalized"
   ]
  },
  {
   "cell_type": "markdown",
   "metadata": {},
   "source": [
    "If you have defined a `base` and a `norm`\n",
    "\n",
    "Verify, that this is a numpy array and has the same shape as `rawData` or `basesubed`"
   ]
  },
  {
   "cell_type": "code",
   "execution_count": null,
   "metadata": {},
   "outputs": [],
   "source": []
  },
  {
   "cell_type": "markdown",
   "metadata": {},
   "source": [
    "This is how you could take the mean frame wise mean of an normalized data set:"
   ]
  },
  {
   "cell_type": "code",
   "execution_count": null,
   "metadata": {},
   "outputs": [],
   "source": [
    "d0.normalized[0, :, 0, :].mean(0)"
   ]
  },
  {
   "cell_type": "markdown",
   "metadata": {},
   "source": [
    "or you can do:"
   ]
  },
  {
   "cell_type": "code",
   "execution_count": null,
   "metadata": {},
   "outputs": [],
   "source": [
    "d0.normalized.mean(1)[0, 0]"
   ]
  },
  {
   "cell_type": "markdown",
   "metadata": {},
   "source": [
    "Exercises:\n",
    "    - Try to understand why both methods give the same result\n",
    "    - Try to average all th timedelays as well as the frames and pic the 2nd spectrum\n",
    "    - Try to average frames, keep all time delays, pick the first spectrum and sum pixel 400 to 500"
   ]
  },
  {
   "cell_type": "code",
   "execution_count": null,
   "metadata": {},
   "outputs": [],
   "source": [
    "d0.normalized.mean(1)[:, 1, 400:500].sum(1)"
   ]
  },
  {
   "cell_type": "markdown",
   "metadata": {},
   "source": [
    "## Additional properties\n",
    "If the calibration is correct, `SfgRecords` automatically calculate wavenumbers and wavelengths for you"
   ]
  },
  {
   "cell_type": "code",
   "execution_count": null,
   "metadata": {},
   "outputs": [],
   "source": [
    "d0.pixel"
   ]
  },
  {
   "cell_type": "code",
   "execution_count": null,
   "metadata": {},
   "outputs": [],
   "source": [
    "d0.wavelength"
   ]
  },
  {
   "cell_type": "code",
   "execution_count": null,
   "metadata": {},
   "outputs": [],
   "source": [
    "d0.wavenumber"
   ]
  },
  {
   "cell_type": "markdown",
   "metadata": {},
   "source": [
    "You can also obtain the baseline or the normalization you used for the `SfgRecord` in case you forgot what it was"
   ]
  },
  {
   "cell_type": "code",
   "execution_count": null,
   "metadata": {},
   "outputs": [],
   "source": [
    "d0.norm, d0.base"
   ]
  },
  {
   "cell_type": "markdown",
   "metadata": {},
   "source": [
    "The normalized and baselinesubtracted data is also availabel"
   ]
  },
  {
   "cell_type": "code",
   "execution_count": null,
   "metadata": {},
   "outputs": [],
   "source": [
    "d0.normalized, d0.basesubed"
   ]
  },
  {
   "cell_type": "markdown",
   "metadata": {},
   "source": [
    "## Bleach\n",
    "\n",
    "The `SfgRecord` object can do much more then subtracting baselines and normalize. You can also select a certain index as the index of the pumped and the unpumped signal. By default the `pumped_index` is assumed to be 0 and the `unpumped_index` is assumed to be 1. You can set the indeces up on `SfgRecord` creation or afterwards. To set it afterwards do:"
   ]
  },
  {
   "cell_type": "code",
   "execution_count": null,
   "metadata": {},
   "outputs": [],
   "source": [
    "d0.unpumped_index = 0\n",
    "d0.pumped_index = 1"
   ]
  },
  {
   "cell_type": "markdown",
   "metadata": {},
   "source": [
    "And lets get the bleach from this:"
   ]
  },
  {
   "cell_type": "code",
   "execution_count": null,
   "metadata": {},
   "outputs": [],
   "source": [
    "d0.bleach"
   ]
  },
  {
   "cell_type": "markdown",
   "metadata": {},
   "source": [
    "Ups what happend here? This looks strange. The reason is, the bleach is a function. Therefore you must call it with brackets:"
   ]
  },
  {
   "cell_type": "code",
   "execution_count": null,
   "metadata": {},
   "outputs": [],
   "source": [
    "d0.bleach()"
   ]
  },
  {
   "cell_type": "markdown",
   "metadata": {},
   "source": [
    "Aaaah a lot better. Now there is some data.\n",
    "\n",
    "The reason for `bleach` beeing a function is, that there are multiple ways of calculating the bleach. The most important diference is the `opt` kwarg of bleach. Per default it is `rel` and stand for relative. Thus the bleach is calculated by dividing the `pumped` and the `unpumped` spectrum. If you want to get the difference set opt to be: `abs`"
   ]
  },
  {
   "cell_type": "code",
   "execution_count": null,
   "metadata": {},
   "outputs": [],
   "source": [
    "d0.bleach('abs')"
   ]
  },
  {
   "cell_type": "markdown",
   "metadata": {},
   "source": [
    "Note the shape of the bleach:"
   ]
  },
  {
   "cell_type": "code",
   "execution_count": null,
   "metadata": {},
   "outputs": [],
   "source": [
    "d0.bleach().shape"
   ]
  },
  {
   "cell_type": "markdown",
   "metadata": {},
   "source": [
    "Note:\n",
    "\n",
    "As you see, the 3rd dimension (the spectrum/y-pixel) dimension is 1. This means, we could just drop it because it is not needed any more.\n",
    "The bleach will allways be one spectrum. However I decided to keep it here, because this way plotting functions definded for spectra, that rely on 4dimensional data will just work with the bleach as well. In other words by having the same data structure again and again and again everything can be handeled the same way."
   ]
  },
  {
   "cell_type": "markdown",
   "metadata": {},
   "source": [
    "## Trace\n",
    "Following to the bleach, we are often interested in the trace of the data. That is the sum or average over a certain area of the bleach."
   ]
  },
  {
   "cell_type": "code",
   "execution_count": null,
   "metadata": {},
   "outputs": [],
   "source": [
    "d0.trace()"
   ]
  },
  {
   "cell_type": "markdown",
   "metadata": {},
   "source": [
    "Here you see quite some return. The reason is, `trace()` returns diferent things per default 3.\n",
    "  - the time delay\n",
    "  - the trace data\n",
    "  - the error of the trace data estimated by taking the standard error of the mean per frame\n",
    "Following is a better way of lokking at the return"
   ]
  },
  {
   "cell_type": "code",
   "execution_count": null,
   "metadata": {},
   "outputs": [],
   "source": [
    "time, y, yerr = d0.trace()\n",
    "y"
   ]
  },
  {
   "cell_type": "markdown",
   "metadata": {},
   "source": [
    "Similar to bleach, trace has many options. Some will only become clear after the select function is introduced. So here are some examples"
   ]
  },
  {
   "cell_type": "code",
   "execution_count": null,
   "metadata": {},
   "outputs": [],
   "source": [
    "y = d0.trace(\n",
    "    roi_delay=slice(3, 10), # pick only the 3rd to 10th time delay\n",
    "    y_only=True, # return only the y values and omit time delay and y_err values\n",
    ")\n",
    "y.shape"
   ]
  },
  {
   "cell_type": "code",
   "execution_count": null,
   "metadata": {},
   "outputs": [],
   "source": [
    "d0.bleach(roi_pixel=slice(400, 500)).shape"
   ]
  },
  {
   "cell_type": "code",
   "execution_count": null,
   "metadata": {},
   "outputs": [],
   "source": [
    "d0.trace(\n",
    "    roi_wavenumber = slice(2500, 2800),  # probably the most important keyword. This lets you select the desired region to calculate the mean over.\n",
    "    # if wavenumber is not correctly calibrated, you can fallback to pixels\n",
    "    # roi_pixel = slice(400, 500), \n",
    "    y_only=True\n",
    ")"
   ]
  },
  {
   "cell_type": "markdown",
   "metadata": {},
   "source": [
    "## The Select Function of an SfgRecord\n",
    "\n",
    "Now you have some understanding about the data structure within an `SfgRecord`. In the next section I want to show you how you kan kind of forget most of the details, and have a somewhat generic interface to interact and transform the data. The magic function is the `select` member function of the `SfgRecord`. Lets have a look at it:"
   ]
  },
  {
   "cell_type": "code",
   "execution_count": null,
   "metadata": {},
   "outputs": [],
   "source": [
    "d0.select().shape"
   ]
  },
  {
   "cell_type": "markdown",
   "metadata": {},
   "source": [
    "As we see, it has returned some data in the usual fashion. If you pass no arguments to this function, it basically returns `normalized`"
   ]
  },
  {
   "cell_type": "code",
   "execution_count": null,
   "metadata": {},
   "outputs": [],
   "source": [
    "all(d0.select() == d0.normalized)"
   ]
  },
  {
   "cell_type": "markdown",
   "metadata": {},
   "source": [
    "The advantage of select is, that it provides us with a common interface to transform our data. E.g. lets take the frame wise median:"
   ]
  },
  {
   "cell_type": "code",
   "execution_count": null,
   "metadata": {},
   "outputs": [],
   "source": [
    "d0.select(frame_med=True).shape"
   ]
  },
  {
   "cell_type": "markdown",
   "metadata": {},
   "source": [
    "Compared to our old `d0.normalized.mean(1, keepdims=1)` this has not many benefits jet. \n",
    "\n",
    "But the strength becomes, obvious when you want to do many different transformations."
   ]
  },
  {
   "cell_type": "code",
   "execution_count": null,
   "metadata": {},
   "outputs": [],
   "source": [
    "d0.select(frame_med=True, delay_mean=True, roi_pixel=slice(400, 1200)).shape"
   ]
  },
  {
   "cell_type": "markdown",
   "metadata": {},
   "source": [
    "This is already easier then:"
   ]
  },
  {
   "cell_type": "code",
   "execution_count": null,
   "metadata": {},
   "outputs": [],
   "source": [
    "np.median(d0.norm.mean(0, keepdims=1), 1, keepdims=1)[:, :, :, slice(400, 1200)].shape"
   ]
  },
  {
   "cell_type": "markdown",
   "metadata": {},
   "source": [
    "And the more options of `select` you use, the more obvious this becomes. For example the `medfilt_pixel` or the `resample_freqs` filter. \n",
    "\n",
    "Side Note:\n",
    "The `select` function has also some programmatic reasons. Due to the `select` function, all data transformations go into a single functions and the transformation can be applied to all data. I dont need to define special transofmrations for bleach, or trace or basesubed or normalized. In the end all becomes the same. There is also a third reason for the select function but that will be shown in another tutorial.\n",
    "\n",
    "Of course, the select function alows you to actually select some data"
   ]
  },
  {
   "cell_type": "code",
   "execution_count": null,
   "metadata": {},
   "outputs": [],
   "source": [
    "d0.select('trace', roi_wavenumber=slice(2000, 2800), frame_med=True).shape"
   ]
  },
  {
   "cell_type": "markdown",
   "metadata": {},
   "source": [
    "# Plotting\n",
    "To plot data we use [matplotlib](https://matplotlib.org/) its not always the most conviniet plotting. However it is free widely used and really really powerfull. There is almost nothing it can't do. There is no reason to explain matplotlib here, a good starting point is the default [tutorial](https://matplotlib.org/tutorials/introductory/pyplot.html#sphx-glr-tutorials-introductory-pyplot-py). The only thing you need to note right now, is that we made all of the matplotlib functionas availe in the first line of code `%pylab notebook`. This imports all the matplotlib functions in the way you need them.\n",
    "\n",
    "To make our live a easier, I have defined a plotting module within `sfg2d` it can be found under `sfg2d.plot`. This has quite some functions in it, but many are deprecated, or for a very special usecase. You dont need to master all of them. For now `sfg2d.plot.spectrum`, `sfg2d.plot.trace` and `sfg2d.plot.track` should be enough."
   ]
  },
  {
   "cell_type": "code",
   "execution_count": null,
   "metadata": {},
   "outputs": [],
   "source": [
    "## kwargs common for x and y data\n",
    "kwargs = {\n",
    "    'roi_wavenumber' : slice(2200, 2800),\n",
    "}\n",
    "\n",
    "## select some x data\n",
    "xdata = d0.select(\n",
    "    'wavenumber',\n",
    "    **kwargs\n",
    ")\n",
    "\n",
    "## select some y data\n",
    "ydata = d0.select(\n",
    "    'basesubed', \n",
    "    frame_med=True, \n",
    "    delay_mean=True,\n",
    "    #roi_delay=slice(0, 1),\n",
    "    roi_spectra=slice(0, 2),  # best use slices for rois, there is still a bug hiding when using arrays\n",
    "    medfilt_pixel=5,  # Median filter of 5 pixels\n",
    "    **kwargs,\n",
    ")\n",
    "\n",
    "## Make the actual figure and plot\n",
    "fig, ax = subplots()  # defines a figure\n",
    "sfg2d.plot.spectrum(xdata, ydata)  # Calls a plot function that can handle 4 dim data."
   ]
  },
  {
   "cell_type": "markdown",
   "metadata": {},
   "source": [
    "## Trace\n",
    "A trace is the pixel wise mean over a selected area of the bleach."
   ]
  },
  {
   "cell_type": "code",
   "execution_count": null,
   "metadata": {},
   "outputs": [],
   "source": [
    "## kwargs common for x and y data\n",
    "kwargs = {\n",
    "    #'roi_wavenumber' : slice(2200, 2800),\n",
    "}\n",
    "\n",
    "## select some x data\n",
    "xdata = d0.select(\n",
    "    'pp_delays',\n",
    "    **kwargs\n",
    ")\n",
    "\n",
    "## select some y data\n",
    "ydata = d0.select(\n",
    "    'trace', \n",
    "    frame_med=True, \n",
    "    roi_wavenumber=slice(2400, 2600),\n",
    "    **kwargs,\n",
    ")\n",
    "\n",
    "fig, ax  = subplots()\n",
    "sfg2d.plot.trace(xdata, ydata)"
   ]
  },
  {
   "cell_type": "markdown",
   "metadata": {},
   "source": [
    "## Track\n",
    "A track plots the pixel wise sum of a spectrum vs the time of a spectraum. By Looking a the track, you can see if your measurment was stable or, or if the internsity changed during time."
   ]
  },
  {
   "cell_type": "code",
   "execution_count": null,
   "metadata": {},
   "outputs": [],
   "source": [
    "## kwargs common for x and y data\n",
    "kwargs = {\n",
    "    #'roi_wavenumber' : slice(2200, 2800),\n",
    "}\n",
    "\n",
    "## select some y data\n",
    "ydata = d0.select(\n",
    "    'track', \n",
    "    roi_wavenumber=slice(2200, 2800),\n",
    "    roi_spectra=slice(0, 2),\n",
    "    **kwargs,\n",
    ")\n",
    "\n",
    "fig, ax = subplots()\n",
    "sfg2d.plot.track(None, ydata)"
   ]
  }
 ],
 "metadata": {
  "kernelspec": {
   "display_name": "Python 3",
   "language": "python",
   "name": "python3"
  },
  "language_info": {
   "codemirror_mode": {
    "name": "ipython",
    "version": 3
   },
   "file_extension": ".py",
   "mimetype": "text/x-python",
   "name": "python",
   "nbconvert_exporter": "python",
   "pygments_lexer": "ipython3",
   "version": "3.6.5"
  },
  "toc": {
   "nav_menu": {},
   "number_sections": true,
   "sideBar": true,
   "skip_h1_title": false,
   "toc_cell": false,
   "toc_position": {},
   "toc_section_display": "block",
   "toc_window_display": false
  }
 },
 "nbformat": 4,
 "nbformat_minor": 2
}
