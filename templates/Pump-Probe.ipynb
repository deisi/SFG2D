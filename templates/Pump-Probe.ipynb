{
 "cells": [
  {
   "cell_type": "markdown",
   "metadata": {},
   "source": [
    "Copy this file into the same folder as the data you want to analyse.\n",
    "\n",
    "You can run a cell by hitting  `Shift + Enter` on the keyboard\n",
    "\n",
    "A more extensive tutorial can be found [here](https://www.datacamp.com/community/tutorials/tutorial-jupyter-notebook#gs.kwHTUSQ) Skip to: \"Getting Started With Jupyter Notebooks\" if you are hazy."
   ]
  },
  {
   "cell_type": "code",
   "execution_count": null,
   "metadata": {
    "collapsed": true
   },
   "outputs": [],
   "source": [
    "# Import and load some packages\n",
    "%pylab notebook\n",
    "import sfg2d\n",
    "import os\n",
    "\n",
    "# Create some folders\n",
    "if not os.path.isdir(\"figures\"): \n",
    "    os.mkdir(\"figures\")\n",
    "if not os.path.isdir(\"cache\"):\n",
    "    os.mkdir(\"cache\")\n",
    "    \n",
    "# Monkeypatch some default values\n",
    "sfg2d.core.VIS_WL = 812.7\n",
    "sfg2d.core.PUMP_FREQ = 2400\n",
    "#sfg2d.core.BASE_SPEC = Array_of_data\n",
    "#sfg2d.core.NORM_SPEC = Array_of_data\n",
    "\n",
    "# Reload cached results \n",
    "sample = sfg2d.SfgRecord(\"cache/\")"
   ]
  },
  {
   "cell_type": "code",
   "execution_count": null,
   "metadata": {
    "collapsed": true
   },
   "outputs": [],
   "source": [
    "# Automatic reloading of modules during development\n",
    "%load_ext autoreload\n",
    "%autoreload 2"
   ]
  },
  {
   "cell_type": "markdown",
   "metadata": {},
   "source": [
    "# Backgroud"
   ]
  },
  {
   "cell_type": "code",
   "execution_count": null,
   "metadata": {
    "collapsed": true
   },
   "outputs": [],
   "source": [
    "# Fill in correct data path after the ./\n",
    "# You can use the TAB key for autocompletion.\n",
    "# Position your cursor after the ./ and hit the TAB key\n",
    "bg0 = sfg2d.SfgRecord(\"./\").make_avg().data # <- e.g. shot background scan\n",
    "bg1 = sfg2d.SfgRecord(\"./\").make_avg().data # <- e.g. long background scan"
   ]
  },
  {
   "cell_type": "markdown",
   "metadata": {},
   "source": [
    "# Ir Profile"
   ]
  },
  {
   "cell_type": "code",
   "execution_count": null,
   "metadata": {
    "collapsed": true
   },
   "outputs": [],
   "source": [
    "q0 = sfg2d.SfgRecord(\"./\") # Fill in path\n",
    "\n",
    "q0.base = bg0 # Choos correct baseline here. You can also just put a constan value.\n",
    "norm_spec = np.median(q0.basesubed, 1, keepdims=True) # <- This will be your dataset for normalization"
   ]
  },
  {
   "cell_type": "code",
   "execution_count": null,
   "metadata": {
    "collapsed": true
   },
   "outputs": [],
   "source": [
    "fgi, ax = subplots()\n",
    "q0.plot_spec(x_property=\"wavenumber\", y_property=\"basesubed\")\n",
    "xlabel(\"Wavenumber 1/cm\")\n",
    "ylabel(\"Counts in {0}s\".format(q0.metadata.get('exposure_time').seconds))\n",
    "title(\"Quartz Normalization\")\n",
    "sfg2d.savefig(\"figures/norm\") # Saves the figures as pixel and as vektor graphics.\n",
    "q0.save(\"cache/quartz\") # Saves intermediate result for easier reuse."
   ]
  },
  {
   "cell_type": "markdown",
   "metadata": {},
   "source": [
    "# Cross-Correlation"
   ]
  },
  {
   "cell_type": "code",
   "execution_count": null,
   "metadata": {},
   "outputs": [],
   "source": [
    "cc0 = sfg2d.SfgRecord(\"./\") # Fill in path\n",
    "\n",
    "cc0.base = bg0 # Use correct baseline\n",
    "cc0.roi_x_pixel_spec = slice(500, 1300) # x-pixel slice of interest\n",
    "cc0.roi_spectra = slice(0, 1) # Only look at the first spectrum"
   ]
  },
  {
   "cell_type": "code",
   "execution_count": null,
   "metadata": {},
   "outputs": [],
   "source": [
    "fig, ax = subplots()\n",
    "cc0.plot_spec(y_property=\"basesubed\", x_property=\"wavenumber\");\n",
    "xlabel(\"Wavenumber in 1/cm\")\n",
    "ylabel(\"Counts in {0}s\".format(cc0.metadata.get('exposure_time').seconds))\n",
    "title(\"Pump-Probe IIV\")\n",
    "#sfg2d.savefig(\"figures/cc_spectra\")\n",
    "\n",
    "fig, ax = subplots()\n",
    "cc0.plot_trace(y_property=\"traces_basesubed\")\n",
    "xlabel(\"Time in fs\")\n",
    "ylabel(\"Mean Counts per Peak\")\n",
    "title(\"Cross-Correlation\")\n",
    "#sfg2d.savefig(\"figures/cc_trace\")\n",
    "\n",
    "#cc0.save(\"cache/pump_probe_iiv\")"
   ]
  },
  {
   "cell_type": "markdown",
   "metadata": {},
   "source": [
    "Fit of the Corss-Correlation Trace"
   ]
  },
  {
   "cell_type": "code",
   "execution_count": null,
   "metadata": {
    "collapsed": true
   },
   "outputs": [],
   "source": [
    "cc = cc0 # sfgrecord with cross correlation data\n",
    "\n",
    "xdata = cc.pp_delays[cc0.roi_delays]\n",
    "ydata = cc0.traces_basesubed.squeeze()\n",
    "\n",
    "ydata = ydata/ydata.max()\n",
    "gm = sfg2d.models.GaussianModel(xdata, ydata, p0=[400, 0, 180, 0])\n",
    "gm.curve_fit()\n",
    "gm.box_coords = (.1, .3)\n",
    "\n",
    "fig, ax = subplots()\n",
    "gm.plot(show_fit_line=True, show_box=True)\n",
    "legend()\n",
    "xlabel(\"Time in fs\")\n",
    "ylabel(\"Intensity in a.u.\")\n",
    "title(\"Corss Correlation\")\n",
    "sfg2d.savefig(\"figures/cc\")"
   ]
  },
  {
   "cell_type": "markdown",
   "metadata": {},
   "source": [
    "# Pump SFG"
   ]
  },
  {
   "cell_type": "code",
   "execution_count": null,
   "metadata": {
    "collapsed": true
   },
   "outputs": [],
   "source": [
    "# Pump-Sfg and Probe-SFG\n",
    "pump = sfg2d.SfgRecord(\"\")\n",
    "\n",
    "pump.base = bg0 # Set correct baseline\n",
    "pump.norm = norm_spec\n",
    "pump.rois_x_pixel_trace=[slice(600, 800)]\n",
    "pump.roi_x_pixel_spec=pump.rois_x_pixel_trace[0]\n",
    "pump.roi_spectra=[0]\n",
    "pump.save(\"cache/pump\")"
   ]
  },
  {
   "cell_type": "code",
   "execution_count": null,
   "metadata": {
    "collapsed": true
   },
   "outputs": [],
   "source": [
    "fig, ax = subplots()\n",
    "pump.plot_spec(x_property=\"wavenumber\", y_property=\"basesubed\")\n",
    "xlabel(\"Wavenumber in 1/cm\")\n",
    "ylabel(\"Counts in {:.0f}ms\".format(pump.metadata.get('exposure_time').microseconds/1000))\n",
    "title(\"Pump SFG\")\n",
    "sfg2d.savefig(\"figures/pump\")\n",
    "\n",
    "\n",
    "fig, ax = subplots()\n",
    "pump.plot_trace(y_property='traces_basesubed')\n",
    "xlabel(\"Time in fs\")\n",
    "ylabel(\"Mean Counts\")\n",
    "title(\"Trace of Pump SFG Signal\")\n",
    "#xlim(-5000, 5000)\n",
    "sfg2d.savefig(\"figures/pump_trace\")"
   ]
  },
  {
   "cell_type": "markdown",
   "metadata": {},
   "source": [
    "# Bleach"
   ]
  },
  {
   "cell_type": "code",
   "execution_count": null,
   "metadata": {
    "collapsed": true
   },
   "outputs": [],
   "source": [
    "g0 = sfg2d.SfgRecord(\"./\")# Fill in path\n",
    "\n",
    "g0.base = bg0 # Use correct baseline\n",
    "g0.norm = norm_spec\n",
    "g0.pumped_index = 2\n",
    "g0.unpumped_index = 0\n",
    "g0.rois_x_pixel_trace=[slice(600, 800)] # Where the pumpis\n",
    "g0.roi_x_pixel_spec = slice(200, 1400) # Where the static signal is\n",
    "g0.metadata[\"sample\"] = \"gold\" # Sets a sample name\n",
    "#g0.metadata[\"pump_freq\"] = 2522 # Sets a mean pump frequency\n",
    "#g0.metadata[\"pump_width\"] = 60\n",
    "g0.zero_time_selec=[0, 1, 2]\n",
    "g0.zero_time_subtraction = True\n",
    "g0.save(\"cache/gold\")"
   ]
  },
  {
   "cell_type": "markdown",
   "metadata": {},
   "source": [
    "Pumped and unpumped spectra"
   ]
  },
  {
   "cell_type": "code",
   "execution_count": null,
   "metadata": {
    "collapsed": true
   },
   "outputs": [],
   "source": [
    "fig, ax = subplots(1, 2, figsize=(9,4))\n",
    "sca(ax[0])\n",
    "g0.plot_spec(x_property=\"wavenumber\", y_property=\"unpumped\")\n",
    "xlabel(\"Wavenumber in 1/cm\")\n",
    "ylabel(\"Counts in {:.0f}ms\".format(pump.metadata.get('exposure_time').microseconds/1000))\n",
    "title(\"Gold SFG Unpumped\")\n",
    "\n",
    "sca(ax[1])\n",
    "g0.plot_spec(x_property=\"wavenumber\", y_property=\"pumped\")\n",
    "xlabel(\"Wavenumber in 1/cm\")\n",
    "ylabel(\"Counts in {:.0f}ms\".format(pump.metadata.get('exposure_time').microseconds/1000))\n",
    "title(\"Gold SFG Pumped\")\n",
    "tight_layout()\n",
    "\n",
    "sfg2d.savefig(\"figures/gold\")"
   ]
  },
  {
   "cell_type": "markdown",
   "metadata": {},
   "source": [
    "Save all pump probe delays in a multipage pdf for easy browsing. The result of this is only saved to disk and not shown in the notebook."
   ]
  },
  {
   "cell_type": "code",
   "execution_count": null,
   "metadata": {
    "collapsed": true
   },
   "outputs": [],
   "source": [
    "record = g0 # Use correct SfgRecord.\n",
    "attribute = \"bleach_abs\"\n",
    "attribute = \"bleach_rel\"\n",
    "\n",
    "@sfg2d.multipage_pdf # Within the decorator we hide the loop\n",
    "def my_plot(index):\n",
    "\n",
    "    record.plot_bleach(\n",
    "        y_property=attribute, \n",
    "        roi_delays=slice(index, index+1),\n",
    "        x_property=\"wavenumber\"\n",
    "    )\n",
    "\n",
    "    title(\"{} @ {} fs\".format(record.metadata.get(\"sample\"), record.pp_delays[index]))\n",
    "    # Usually the limits need some tweaking\n",
    "    #xlim(2000, 3000) \n",
    "    ylim(0.4, 1.1)\n",
    "    xlabel(\"wavenumber in 1/cm\")\n",
    "\n",
    "name = \"figures/{}_{}_pump{}\".format(\n",
    "    record.metadata.get(\"sample\"), attribute, record.metadata.get(\"pump_freq\")\n",
    ")\n",
    "my_plot(name, range(record.number_of_pp_delays))"
   ]
  },
  {
   "cell_type": "markdown",
   "metadata": {},
   "source": [
    "This is how you get a trace."
   ]
  },
  {
   "cell_type": "code",
   "execution_count": null,
   "metadata": {
    "collapsed": true
   },
   "outputs": [],
   "source": [
    "fig, ax = subplots()\n",
    "g0.plot_trace(y_property=\"traces_bleach_rel\");\n",
    "xlim(-1000, 5000)\n",
    "xlabel(\"time in fs\")\n",
    "ylabel(\"Mean relative bleach\")\n",
    "title(\"Bleach Trace on Gold\")\n",
    "sfg2d.savefig(\"figures/gold_trace_bleach_rel\")"
   ]
  },
  {
   "cell_type": "markdown",
   "metadata": {},
   "source": [
    "# Combining Scans"
   ]
  },
  {
   "cell_type": "code",
   "execution_count": null,
   "metadata": {
    "collapsed": true
   },
   "outputs": [],
   "source": [
    "# Fill in paths to files\n",
    "imp_data = (\n",
    "    \"./\",  \n",
    "    \"./\", \n",
    ")\n",
    "data_list = []\n",
    "for elm in imp_data:\n",
    "    elm = sfg2d.SfgRecord(elm)\n",
    "    ## Remove unneeded frames like so\n",
    "    #if elm == \"\": # enter name of the file here\n",
    "    #    sfgrecord = sfgrecord.keep_frames(slice(3)) # The second index is the frame slice\n",
    "    data_list.append(elm)\n",
    "record = sfg2d.concatenate_list_of_SfgRecords(data_list) # This cache the records into a single record\n",
    "\n",
    "# Set some Parameters and Properties\n",
    "record.metadata[\"pump_freq\"] = 2500 # Mean freq of the pump\n",
    "record.metadata[\"sample\"] = \"sample\" # Name of the sample\n",
    "record.base = bg1 # Baseline\n",
    "record.norm = norm_spec # Set spectrum for normalization\n",
    "record.pumped_index = 2 # Set index of pumped data\n",
    "record.unpumped_index = 1 # Set index of unpumped data\n",
    "record.sub_base(inplace=True) # Subtract baseline\n",
    "record = record.make_static_corr() # Correct for static drifts in data\n",
    "record = record.make_avg() # Make frame wise average\n",
    "record.sub_base(inplace=True) # Make shure that baseline is still subtracted after corrections\n",
    "record.normalize(inplace=True) # use ir profile to normalize data.\n",
    "record._wavenumber = None # Reset Wavenumber for recalculation\n",
    "\n",
    "# Apply some corrections\n",
    "record = record.make_static_corr() # Correct for static drifts in data\n",
    "record = record.make_avg() # Make frame wise average\n",
    "record.sub_base(inplace=True) # Make shure that baseline is still subtracted after corrections\n",
    "record.normalize(inplace=True) # use ir profile to normalize data.\n",
    "\n",
    "# Save result\n",
    "record.save(\"cache/{0}\".format(record.metadata.get(\"sample\")))"
   ]
  },
  {
   "cell_type": "markdown",
   "metadata": {},
   "source": [
    "# Static Spectrum"
   ]
  },
  {
   "cell_type": "code",
   "execution_count": null,
   "metadata": {
    "collapsed": true
   },
   "outputs": [],
   "source": [
    "record = \n",
    "\n",
    "fig, ax = subplots()\n",
    "\n",
    "record.plot(attribute=\"normalized\", y_pixel=[1], x_axis=\"wavenumber\")\n",
    "ylim(0.005, 0.03)\n",
    "xlim(2100, 2800)\n",
    "xlabel(\"Wavenumber in 1/cm\")\n",
    "ylabel(\"Normalized SFG Intensity\")\n",
    "title(\"{0} Static Spectrum\".format(record.metadata.get(\"sample\")))\n",
    "sfg2d.savefig(\"figures/{0}_normalized\".format(record.metadata.get(\"sample\")))"
   ]
  },
  {
   "cell_type": "markdown",
   "metadata": {},
   "source": [
    "# 2D Spectrum from Scan"
   ]
  },
  {
   "cell_type": "code",
   "execution_count": null,
   "metadata": {
    "collapsed": true
   },
   "outputs": [],
   "source": [
    "record = \n",
    "\n",
    "# Data for axes\n",
    "x = record.pp_delays\n",
    "y = record.wavenumber[400:1200] # only use a pixel subset.\n",
    "z = sfg2d.double_resample(record.bleach_rel.squeeze()[:, 400:1200], 30, axis=-1) # FFT based filters work better here\n",
    "y_slice=(2300, 2500) # Touple with start and stop values for the summation\n",
    "levels = linspace(-0.2, 0.05, 15) # Color levels and boundaries of the image\n",
    "\n",
    "fig = plt.figure(figsize=(10.9, 7.5))\n",
    "fig, ax, axl, axb = sfg2d.contour(\n",
    "    x, y, z, \n",
    "    y_slice=y_slice,\n",
    "    N=10, levels=levels, extend=\"both\", show_colorbar=False, fig=fig) # vmin and vmax usually need some tweaking\n",
    "axb.set_xlabel(\"Time in fs\")\n",
    "axl.set_ylabel(\"Wavenumber in 1/cm\")\n",
    "ax.set_xlim(-5000, 5000)\n",
    "plt.tight_layout()\n",
    "\n",
    "name = \"figures/{}_bleach_pump{}_interval{}-{}_img\".format(\n",
    "    record.metadata.get(\"sample\"), record.metadata.get(\"pump_freq\"), *y_slice\n",
    ")\n",
    "\n",
    "sfg2d.savefig(name, dpi=80)"
   ]
  },
  {
   "cell_type": "markdown",
   "metadata": {},
   "source": [
    "# Combine Traces"
   ]
  },
  {
   "cell_type": "code",
   "execution_count": null,
   "metadata": {
    "collapsed": true
   },
   "outputs": [],
   "source": [
    "record = \n",
    "\n",
    "fig, ax= subplots()\n",
    "for peak_position in record.metadata[\"peak_positions\"]:\n",
    "    summation_slice = slice(*record.wavenumbers2index(peak_position, sort=True))\n",
    "    record.plot_trace(\n",
    "        y_axis=\"get_trace_bleach\", \n",
    "        attr=\"bleach_rel\", \n",
    "        x_pixel_slice=summation_slice,\n",
    "        label=\"{} to {}\".format(*peak_position)\n",
    "    )\n",
    "legend()\n",
    "xlabel(\"Time in fs\")\n",
    "ylabel(\"Relaive Bleach\")\n",
    "title(\"{}\".format(record.metadata[\"sample\"]))\n",
    "\n",
    "name = \"figures/{}_bleach_rel_pump{}_trace\".format(record.metadata.get(\"sample\"), record.metadata.get(\"pump_freq\"), *peak_position)\n",
    "sfg2d.savefig(name)"
   ]
  }
 ],
 "metadata": {
  "kernelspec": {
   "display_name": "sfg2d",
   "language": "python",
   "name": "sfg2d"
  },
  "language_info": {
   "codemirror_mode": {
    "name": "ipython",
    "version": 3
   },
   "file_extension": ".py",
   "mimetype": "text/x-python",
   "name": "python",
   "nbconvert_exporter": "python",
   "pygments_lexer": "ipython3",
   "version": "3.5.2"
  }
 },
 "nbformat": 4,
 "nbformat_minor": 2
}
