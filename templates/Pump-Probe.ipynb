{
 "cells": [
  {
   "cell_type": "markdown",
   "metadata": {},
   "source": [
    "Copy this file into the same folder as the data you want to analyse.\n",
    "\n",
    "You can run a cell by hitting  `Shift + Enter` on the keyboard\n",
    "\n",
    "A more extensive tutorial can be found [here](https://www.datacamp.com/community/tutorials/tutorial-jupyter-notebook#gs.kwHTUSQ) Skip to: \"Getting Started With Jupyter Notebooks\" if you are hazy."
   ]
  },
  {
   "cell_type": "code",
   "execution_count": 6,
   "metadata": {},
   "outputs": [
    {
     "name": "stdout",
     "output_type": "stream",
     "text": [
      "Populating the interactive namespace from numpy and matplotlib\n"
     ]
    }
   ],
   "source": [
    "# Import and load some packages\n",
    "%pylab notebook\n",
    "import sfg2d\n",
    "import os\n",
    "# Set some global variables\n",
    "vis_wl = 810\n",
    "# Create some folders\n",
    "if not os.path.isdir(\"figures\"): \n",
    "    os.mkdir(\"figures\")\n",
    "if not os.path.isdir(\"combined\"):\n",
    "    os.mkdir(\"combined\")"
   ]
  },
  {
   "cell_type": "markdown",
   "metadata": {},
   "source": [
    "# Backgroud"
   ]
  },
  {
   "cell_type": "code",
   "execution_count": null,
   "metadata": {
    "collapsed": true
   },
   "outputs": [],
   "source": [
    "# Fill in correct data path after the ./\n",
    "# You can use the TAB key for autocompletion.\n",
    "# Position your cursor after the ./ and hit the TAB key\n",
    "bg0 = sfg2d.SfgRecord(\"./\").make_avg().data # <- e.g. shot background scan\n",
    "bg1 = sfg2d.SfgRecord(\"./\").make_avg().data # <- e.g. long background scan"
   ]
  },
  {
   "cell_type": "markdown",
   "metadata": {},
   "source": [
    "# Ir Profile"
   ]
  },
  {
   "cell_type": "code",
   "execution_count": null,
   "metadata": {
    "collapsed": true
   },
   "outputs": [],
   "source": [
    "q0 = sfg2d.SfgRecord(\"./\") # Fill in path\n",
    "\n",
    "q0 = q0.make_avg() # Calculates the frame wise average of a data set.\n",
    "q0.base = bg0 # Choos correct baseline here. You can also just put a constan value.\n",
    "q0.sub_base(inplace=True) # substracts baseline from data\n",
    "q0.metadata[\"vis_wl\"] = vis_wl # Sets a new vis_wl. Default is 810\n",
    "q0._wavenumber = None # Reset Wavenumber so it gets recalculated using the above vis_wl\n",
    "norm_spec = q0.data # <- This will be your dataset for normalization"
   ]
  },
  {
   "cell_type": "code",
   "execution_count": null,
   "metadata": {
    "collapsed": true
   },
   "outputs": [],
   "source": [
    "q0.plot(x_axis=\"wavenumber\")\n",
    "xlabel(\"Wavenumber 1/cm\")\n",
    "ylabel(\"Counts in {0}s\".format(q0.metadata.get('exposure_time').seconds)\n",
    "title(\"Quartz Normalization\")\n",
    "sfg2d.savefig(\"figures/norm\") # Saves the figures as pixel and as vektor graphics.\n",
    "q0.save(\"combined/quartz\") # Saves intermediate result for easier reuse."
   ]
  },
  {
   "cell_type": "markdown",
   "metadata": {},
   "source": [
    "# Cross-Correlation"
   ]
  },
  {
   "cell_type": "code",
   "execution_count": null,
   "metadata": {
    "collapsed": true
   },
   "outputs": [],
   "source": [
    "cc0 = sfg2d.SfgRecord(\"./\").make_avg() # Fill in path\n",
    "\n",
    "\n",
    "cc0.base = bg0 # Use correct baseline\n",
    "cc0.sub_base(inplace=True)\n",
    "cc0.metadata[\"vis_wl\"] = vis_wl\n",
    "cc0._wavenumber = None"
   ]
  },
  {
   "cell_type": "code",
   "execution_count": null,
   "metadata": {
    "collapsed": true
   },
   "outputs": [],
   "source": [
    "fig, ax = subplots()\n",
    "cc0.plot(y_pixel=slice(0,1), x_axis=\"wavenumber\");\n",
    "#xlim(4200, 5100) # Select some data range in x_axis coordinates\n",
    "xlabel(\"Wavenumber in 1/cm\")\n",
    "ylabel(\"Counts in {0}s\".format(cc0.metadata.get('exposure_time').seconds)\n",
    "title(\"Pump-Probe IIV\")\n",
    "sfg2d.savefig(\"figures/cc_spectra\")\n",
    "\n",
    "fig, ax = subplots()\n",
    "#x_slice = slice(363, 1277) # select some x_pixel before summing.\n",
    "cc0.plot_trace(y_pixel_slice=slice(0, 1), x_pixel_slice=x_slice, as_mean=True)\n",
    "xlabel(\"Time in fs\")\n",
    "ylabel(\"Mean Counts per Peak\")\n",
    "title(\"Cross-Correlation\")\n",
    "sfg2d.savefig(\"figures/cc_trace\")\n",
    "\n",
    "cc0.save(\"combined/pump_probe_iiv\")"
   ]
  },
  {
   "cell_type": "markdown",
   "metadata": {},
   "source": [
    "# Pump SFG"
   ]
  },
  {
   "cell_type": "code",
   "execution_count": null,
   "metadata": {
    "collapsed": true
   },
   "outputs": [],
   "source": [
    "# Pump-Sfg and Probe-SFG\n",
    "pump = sfg2d.SfgRecord(\"\").make_avg()\n",
    "pump_sfg_spec_index = 0 # The y_pixel_index where the pump-sfg data is.\n",
    " \n",
    "pump.base = bg0 # Set correct baseline\n",
    "pump.norm = norm_spec\n",
    "pump.sub_base(inplace=True)\n",
    "pump.metadata[\"vis_wl\"] = vis_wl\n",
    "pump._wavenumber = None\n",
    "pump_spectra_slice = slice(pump_sfg_spec_index, pump_sfg_spec_index+1)\n",
    "pump.save(\"combined/pump\")"
   ]
  },
  {
   "cell_type": "code",
   "execution_count": null,
   "metadata": {
    "collapsed": true
   },
   "outputs": [],
   "source": [
    "fig, ax = subplots()\n",
    "pump.plot(\n",
    "    x_axis=\"wavenumber\",\n",
    "    y_pixel=pump_spectra_slice,\n",
    "    \n",
    ")\n",
    "xlabel(\"Wavenumber in 1/cm\")\n",
    "ylabel(\"Counts in {0}s\".format(pump.metadata.get('exposure_time').seconds))\n",
    "#xlim(2300, 2600)\n",
    "title(\"Pump SFG\")\n",
    "sfg2d.savefig(\"figures/pump\")\n",
    "\n",
    "\n",
    "fig, ax = subplots()\n",
    "pump.plot_trace(y_pixel_slice=pump_spectra_slice, as_mean=True )\n",
    "xlabel(\"Time in fs\")\n",
    "ylabel(\"Mean Counts\")\n",
    "title(\"Trace of Pump SFG Signal\")\n",
    "#xlim(-5000, 5000)\n",
    "sfg2d.savefig(\"figures/pump_trace\")"
   ]
  },
  {
   "cell_type": "markdown",
   "metadata": {},
   "source": [
    "# Bleach"
   ]
  },
  {
   "cell_type": "code",
   "execution_count": null,
   "metadata": {
    "collapsed": true
   },
   "outputs": [],
   "source": [
    "g0 = sfg2d.SfgRecord(\"./\").make_avg() # Fill in path\n",
    "\n",
    "\n",
    "g0.base = bg0 # Use correct baseline\n",
    "g0.norm = norm_spec\n",
    "g0.sub_base(inplace=True)\n",
    "g0.metadata[\"vis_wl\"] = vis_wl\n",
    "g0._wavenumber = None\n",
    "g0._pumped_index = 2\n",
    "g0._unpumped_index = 1\n",
    "g0.save(\"combined/gold\")"
   ]
  },
  {
   "cell_type": "code",
   "execution_count": null,
   "metadata": {
    "collapsed": true
   },
   "outputs": [],
   "source": [
    "fig, ax = subplots()\n",
    "i = 1 # index of the example pump_probe delay \n",
    "g0.plot_bleach(attribute='bleach_rel', pp_delays=slice(i, i+1), x_axis='wavenumber');\n",
    "xlabel(\"Wavenumber in 1/cm\")\n",
    "ylabel(\"Mean Relative Bleach\")\n",
    "title(\"Gold Relative Bleach {0}fs Delay\".format(g0.pp_delays[i]))\n",
    "sfg2d.savefig(\"figures/gold_bleach_rel_{0}fs\".format(g0.pp_delays[i]))"
   ]
  },
  {
   "cell_type": "code",
   "execution_count": null,
   "metadata": {
    "collapsed": true
   },
   "outputs": [],
   "source": [
    "fig, ax = subplots()\n",
    "x_pixel_slice = slice(None, None) # Select some x_pixels before summing the bleach\n",
    "g0.plot_trace(y_axis=\"get_trace_bleach\", attr=\"bleach_rel\", x_pixel_slice=x_pixel_slice);\n",
    "xlabel(\"time in fs\")\n",
    "ylabel(\"Mean relative bleach\")\n",
    "title(\"Bleach on Gold\")"
   ]
  },
  {
   "cell_type": "markdown",
   "metadata": {},
   "source": [
    "# Combining Scans"
   ]
  },
  {
   "cell_type": "code",
   "execution_count": null,
   "metadata": {
    "collapsed": true
   },
   "outputs": [],
   "source": [
    "# Fill in paths to files\n",
    "imp_data = (\n",
    "    \"./\",  \n",
    "    \"./\", \n",
    ")\n",
    "sample_list = []\n",
    "for elm in imp_data:\n",
    "    sfgrecord = sfg2d.SfgRecord(elm)\n",
    "    ## Remove unneeded frames like so\n",
    "    #if elm == \"\": # enter name of the file here\n",
    "    #    sfgrecord.rawData = sfgrecord.rawData[:,:3] # The second index is the frame slice\n",
    "    sample_list.append(sfgrecord)\n",
    "sample = sfg2d.concatenate_list_of_SfgRecords(sample_lis) # This combined the records into a single record\n",
    "sample.metadata[\"pump_freq\"] = 2500 # You can set a pump frequency in metadata"
   ]
  },
  {
   "cell_type": "markdown",
   "metadata": {},
   "source": [
    "# 2D Spectrum from Scan"
   ]
  },
  {
   "cell_type": "code",
   "execution_count": null,
   "metadata": {
    "collapsed": true
   },
   "outputs": [],
   "source": [
    "# Data for axes\n",
    "x = sample.pp_delays\n",
    "y = sample.wavenumber[400:1200] # only use a pixel subset.\n",
    "z = sfg2d.double_resample(sample.bleach.squeeze()[:, 400:1200], 30, axis=-1) # FFT based filters work better here\n",
    "y_slice=slice(None) # select subslice to calculate the trace from.\n",
    "# This slice can be set in plot coordinates as well. So if you are using wavenumbers here, then e.g.\n",
    "# y_slice = (2300, 2500)\n",
    "\n",
    "fig = plt.figure(figsize=(10.9, 7.5))\n",
    "fig, ax, axl, axb = sfg2d.contour(\n",
    "    x, y, z, \n",
    "    y_slice=y_slice,\n",
    "    N=10, vmin=-0.003, vmax=0.001, show_colorbar=False, fig=fig)\n",
    "axb.set_xlabel(\"Time in fs\")\n",
    "axl.set_ylabel(\"Wavenumber in 1/cm\")\n",
    "ax.set_xlim(-5000, 5000)\n",
    "plt.tight_layout()\n",
    "\n",
    "#name = \"figures/sample_bleach_pump_%i_interval%i-%i_img\"%(sample.metadata[\"pump_freq\"],*y_slice)\n",
    "\n",
    "#sfg2d.savefig(name, dpi=80)"
   ]
  }
 ],
 "metadata": {
  "kernelspec": {
   "display_name": "sfg2d",
   "language": "python",
   "name": "sfg2d"
  },
  "language_info": {
   "codemirror_mode": {
    "name": "ipython",
    "version": 3
   },
   "file_extension": ".py",
   "mimetype": "text/x-python",
   "name": "python",
   "nbconvert_exporter": "python",
   "pygments_lexer": "ipython3",
   "version": "3.5.2"
  }
 },
 "nbformat": 4,
 "nbformat_minor": 2
}
