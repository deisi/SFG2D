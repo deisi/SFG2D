{
 "cells": [
  {
   "cell_type": "markdown",
   "metadata": {},
   "source": [
    "Copy this file into the same folder as the data you want to analyse.\n",
    "\n",
    "You can run a cell by hitting  `Shift + Enter` on the keyboard\n",
    "\n",
    "A more extensive tutorial can be found [here](https://www.datacamp.com/community/tutorials/tutorial-jupyter-notebook#gs.kwHTUSQ) Skip to: \"Getting Started With Jupyter Notebooks\" if you are hazy."
   ]
  },
  {
   "cell_type": "code",
   "execution_count": null,
   "metadata": {},
   "outputs": [],
   "source": [
    "# Import and load some packages\n",
    "%pylab notebook\n",
    "import sfg2d\n",
    "import os\n",
    "\n",
    "# Create some folders\n",
    "if not os.path.isdir(\"figures\"): \n",
    "    os.mkdir(\"figures\")\n",
    "if not os.path.isdir(\"cache\"):\n",
    "    os.mkdir(\"cache\")\n",
    "    \n",
    "# Monkeypatch some default values\n",
    "sfg2d.core.VIS_WL = 812.7\n",
    "sfg2d.core.PUMP_FREQ = 2400\n",
    "#sfg2d.core.BASE_SPEC = Array_of_data\n",
    "#sfg2d.core.NORM_SPEC = Array_of_data\n",
    "\n",
    "# Reload cached results \n",
    "sample = sfg2d.SfgRecord(\"cache/\")"
   ]
  },
  {
   "cell_type": "code",
   "execution_count": null,
   "metadata": {
    "collapsed": true
   },
   "outputs": [],
   "source": [
    "# Automatic reloading of modules during development\n",
    "%load_ext autoreload\n",
    "%autoreload 2"
   ]
  },
  {
   "cell_type": "markdown",
   "metadata": {},
   "source": [
    "# Backgroud"
   ]
  },
  {
   "cell_type": "code",
   "execution_count": null,
   "metadata": {
    "collapsed": true
   },
   "outputs": [],
   "source": [
    "# Fill in correct data path after the ./\n",
    "# You can use the TAB key for autocompletion.\n",
    "# Position your cursor after the ./ and hit the TAB key\n",
    "kwgs = {\"y_property\" : \"rawData\", \"delay_mean\" : True}\n",
    "bg0 = sfg2d.SfgRecord(\"./\").subselect(**kwgs)[1].squeeze() # <- e.g. shot background scan\n",
    "bg1 = sfg2d.SfgRecord(\"./\").subselect(**kwgs)[1].squeeze()"
   ]
  },
  {
   "cell_type": "code",
   "execution_count": null,
   "metadata": {
    "collapsed": true
   },
   "outputs": [],
   "source": [
    "fig, ax = subplots(1, 2, figsize=(9, 4))\n",
    "ax[0].plot(bg0.T)\n",
    "ax[1].plot(bg1.T);"
   ]
  },
  {
   "cell_type": "markdown",
   "metadata": {},
   "source": [
    "# Ir Profile"
   ]
  },
  {
   "cell_type": "code",
   "execution_count": null,
   "metadata": {
    "collapsed": true
   },
   "outputs": [],
   "source": [
    "q0 = sfg2d.SfgRecord(\"./\") # Fill in path\n",
    "\n",
    "sfg2d.replace_pixel(q0, 496) # Replace broken pixel\n",
    "q0.base = bg0 # Choos correct baseline here. You can also just put a constan value.\n",
    "kwgs = {'y_property': \"basesubed\", 'delay_mean': True}\n",
    "norm_spec = q0.subselect(**kwgs)[1] # <- This will be your dataset for normalization"
   ]
  },
  {
   "cell_type": "code",
   "execution_count": null,
   "metadata": {},
   "outputs": [],
   "source": [
    "fig, ax = subplots()\n",
    "sfg2d.plotting.spec_plot(\n",
    "    q0, \n",
    "    title=\"Quartz\", \n",
    "    ylabel=\"Counts in {}s\".format(q0.exporsure_time_s )\n",
    ")\n",
    "sfg2d.savefig(\"figures/norm\") # Saves the figures as pixel and as vektor graphics.\n",
    "q0.save(\"cache/quartz\") # Saves intermediate result for easier reuse."
   ]
  },
  {
   "cell_type": "markdown",
   "metadata": {},
   "source": [
    "# Cross-Correlation"
   ]
  },
  {
   "cell_type": "code",
   "execution_count": null,
   "metadata": {},
   "outputs": [],
   "source": [
    "cc0 = sfg2d.SfgRecord(\"./\") # Fill in path\n",
    "\n",
    "sfg2d.replace_pixel(cc0, 496)\n",
    "cc0.base = bg0 # Use correct baseline\n",
    "cc0.roi_x_pixel_spec = slice(500, 1300) # x-pixel slice of interest\n",
    "cc0.rois_x_pixel_trace = [cc0.roi_x_pixel_spec]\n",
    "cc0.roi_spectra = [0] # Only look at the first spectrum\n",
    "\n",
    "xdata = cc0.pp_delays[cc0.roi_delay]\n",
    "ydata = cc0.traces_basesubed.squeeze()\n",
    "\n",
    "ydata = ydata/ydata.max()\n",
    "gm = sfg2d.models.GaussianModel(xdata, ydata, p0=[400, 0, 180, 0])\n",
    "gm.curve_fit()\n",
    "gm.box_coords = (.1, .3)\n"
   ]
  },
  {
   "cell_type": "code",
   "execution_count": null,
   "metadata": {},
   "outputs": [],
   "source": [
    "fig, ax  = subplots()\n",
    "sfg2d.plotting.spec_plot(\n",
    "    cc0,\n",
    "    title=\"Pump-Probe IIV\",\n",
    "     ylabel=\"Counts in {}ms\".format(cc0.exposure_time_ms)\n",
    ")\n",
    "sfg2d.savefig(\"figures/cc_spectra\")\n",
    "\n",
    "fig, ax =  subplots()\n",
    "sfg2d.plotting.trace_plot(\n",
    "    cc0,\n",
    "    title=\"Cross-Correlation\",\n",
    "    ylabel=\"Mean Counts in {}ms\".format(cc0.exposure_time_ms)\n",
    ")\n",
    "sfg2d.savefig(\"figures/cc_trace\")\n",
    "\n",
    "fig, ax = subplots()\n",
    "gm.plot(show_fit_line=True, show_box=True)\n",
    "xlabel(\"Time in fs\")\n",
    "ylabel(\"Intensity in a.u.\")\n",
    "title(\"Corss Correlation\")\n",
    "sfg2d.savefig(\"figures/cc\")"
   ]
  },
  {
   "cell_type": "markdown",
   "metadata": {},
   "source": [
    "# Pump SFG"
   ]
  },
  {
   "cell_type": "code",
   "execution_count": null,
   "metadata": {},
   "outputs": [],
   "source": [
    "# Pump-Sfg and Probe-SFG\n",
    "pump = sfg2d.SfgRecord(\"\")\n",
    "\n",
    "sfg2d.replace_pixel(pump, 496)\n",
    "pump.base = bg0 # Set correct baseline\n",
    "pump.norm = norm_spec\n",
    "pump.rois_x_pixel_trace=[slice(600, 800)]\n",
    "pump.roi_x_pixel_spec=pump.rois_x_pixel_trace[0]\n",
    "pump.roi_spectra=[0]\n",
    "pump.save(\"cache/pump\")\n",
    "\n",
    "xdata, ydata = pump.subselect(y_property='basesubed', x_property=\"wavenumber\", delay_mean=True)\n",
    "ydata =ydata.squeeze()\n",
    "\n",
    "ydata = ydata/ydata.max()\n",
    "gm = sfg2d.models.GaussianModel(xdata, ydata, p0=[1, 2500, 100, 0])\n",
    "gm.curve_fit()\n",
    "gm.box_coords = (.3, .1)"
   ]
  },
  {
   "cell_type": "code",
   "execution_count": null,
   "metadata": {},
   "outputs": [],
   "source": [
    "fig, ax = subplots()\n",
    "sfg2d.plotting.spec_plot(\n",
    "    pump, \n",
    "    title=\"Pump SFG\",\n",
    "    ylabel=\"Counts in {}ms\".format(pump.exposure_time_ms)\n",
    ")\n",
    "sfg2d.savefig(\"figures/pump\")\n",
    "\n",
    "fig, ax = subplots()\n",
    "sfg2d.plotting.spec_plot(\n",
    "    pump, \n",
    "    title=\"Pump SFG\",\n",
    "    ylabel=\"Counts in {}ms\".format(pump.exposure_time_ms),\n",
    "    delay_mean=True,\n",
    ")\n",
    "sfg2d.savefig(\"figures/pump_mean\")\n",
    "\n",
    "fig, ax = subplots()\n",
    "gm.plot(show_fit_line=True, show_box=True)\n",
    "sfg2d.savefig('figures/pump_mean_fit')\n",
    "\n",
    "fig, ax = subplots()\n",
    "sfg2d.plotting.trace_plot(\n",
    "    pump,\n",
    "    title=\"Pump-Vis Trace\"\n",
    ")\n",
    "sfg2d.savefig(\"figures/pump_trace\")"
   ]
  },
  {
   "cell_type": "markdown",
   "metadata": {},
   "source": [
    "# Tracks"
   ]
  },
  {
   "cell_type": "markdown",
   "metadata": {},
   "source": [
    "I think this is rather useless by now"
   ]
  },
  {
   "cell_type": "code",
   "execution_count": null,
   "metadata": {
    "collapsed": true
   },
   "outputs": [],
   "source": [
    "record = \n",
    "\n",
    "fig, ax = subplots()\n",
    "record.plot_time_track(\n",
    "    y_property=\"basesubed\", \n",
    "    roi_spectra=[0, 2], \n",
    "    roi_x_pixel=slice(300, 1200), \n",
    "    plt_kwg={\"marker\": \"o\", \"ls\": 'None'}\n",
    ")\n",
    "title(\"Mean Signal vs Time\")\n",
    "ylabel(\"Counts\")\n",
    "xlabel(\"Index\")\n",
    "ylim(35, 50)"
   ]
  },
  {
   "cell_type": "markdown",
   "metadata": {},
   "source": [
    "Plots Frame number vs signals, while pp-delays get averaged."
   ]
  },
  {
   "cell_type": "code",
   "execution_count": null,
   "metadata": {
    "collapsed": true
   },
   "outputs": [],
   "source": [
    "record = \n",
    "\n",
    "fig, ax = subplots(figsize=(9,3))\n",
    "sfg2d.plotting.frame_track(record, frame_track_kwg={'roi_spectra': [record.unpumped_index, record.pumped_index]})\n",
    "tight_layout()\n",
    "\n",
    "sfg2d.savefig(\"figures/{}_frame_track\".format(record.metadata['material']))"
   ]
  },
  {
   "cell_type": "markdown",
   "metadata": {},
   "source": [
    "# Heat Bleach"
   ]
  },
  {
   "cell_type": "code",
   "execution_count": null,
   "metadata": {
    "collapsed": true
   },
   "outputs": [],
   "source": [
    "hot = \n",
    "cold = \n",
    "\n",
    "fig, ax = subplots(2, 2, figsize=(9, 8))\n",
    "sca(ax[0, 0])\n",
    "title(\"Raw Static Spectrum\")\n",
    "cold.plot_spec(y_property=\"basesubed\", x_property=\"wavenumber\", label = \"Cool\")\n",
    "hot.plot_spec(y_property=\"basesubed\", x_property=\"wavenumber\", label = \"Hot\")\n",
    "xlabel(\"wavenumber in 1/cm\")\n",
    "legend()\n",
    "\n",
    "sca(ax[0, 1])\n",
    "title(\"Normalized Spectrum\")\n",
    "cold.plot_spec(y_property=\"normalized\", x_property=\"wavenumber\", medfilt_kernel=(5), marker = \"o\", label = \"Cool\")\n",
    "hot.plot_spec(y_property=\"normalized\", x_property=\"wavenumber\", medfilt_kernel=(5), marker = \"o\", label = \"Hot\")\n",
    "xlabel(\"wavenumber in 1/cm\")\n",
    "ylim(0.002, 0.012)\n",
    "legend()\n",
    "\n",
    "sca(ax[1, 0])\n",
    "bleach = sfg2d.core.medfilt(median(hot.basesubed / cold.basesubed, 1)[0, 1], 5)\n",
    "plot(cold.wavenumber, bleach)\n",
    "title(\"Heat Bleach Rel\")\n",
    "xlim(2100, 2800)\n",
    "ylim(1, 1.4)\n",
    "\n",
    "sca(ax[1,1])\n",
    "bleach = sfg2d.core.medfilt(median(hot.normalized - cold.normalized, 1)[0, 1], 5)\n",
    "plot(cold.wavenumber, bleach)\n",
    "title(\"Heat Bleach Abs\")\n",
    "xlim(2100, 2800)\n",
    "ylim(0, 0.0025)\n",
    "tight_layout()\n",
    "sfg2d.savefig(\"figures/{}_heat_bleach\".format(hot.metadata[\"material\"]))"
   ]
  },
  {
   "cell_type": "markdown",
   "metadata": {},
   "source": [
    "# Pump Probe"
   ]
  },
  {
   "cell_type": "markdown",
   "metadata": {},
   "source": [
    "Loading of a pump probe data file and setting its parameters."
   ]
  },
  {
   "cell_type": "code",
   "execution_count": null,
   "metadata": {
    "collapsed": true
   },
   "outputs": [],
   "source": [
    "g0 = sfg2d.SfgRecord(\"./\")# Fill in path\n",
    "record = g0\n",
    "\n",
    "# Victor Camera has a broken Pixel 496. This replaces the values of the broken pixel.\n",
    "sfg2d.replace_pixel(record, 496)\n",
    "record.base = bg0 # Use correct baseline\n",
    "record.norm = norm_spec\n",
    "record.pumped_index = 2\n",
    "record.unpumped_index = 0\n",
    "record.rois_x_pixel_trace=[slice(600, 800),] # Where the pump is and you want to have traces.\n",
    "record.roi_x_pixel_spec = slice(200, 1400) # Where the static signal is\n",
    "record.zero_time_selec=[0, 1, 2] # Lets use the first the pp-delay points for offset correction\n",
    "record.zero_time_subtraction = True # Perform zero time offset correction.\n",
    "record.save(\"cache/{}_pump{}\".format(record.metadata['material'], record.metadata['pump_freq']))\n",
    "\n",
    "#record.save(\"cache/gold\")"
   ]
  },
  {
   "cell_type": "markdown",
   "metadata": {},
   "source": [
    "Import a list of files as a singel record"
   ]
  },
  {
   "cell_type": "code",
   "execution_count": null,
   "metadata": {
    "collapsed": true
   },
   "outputs": [],
   "source": [
    "record_names = (\n",
    "    \"\", \n",
    "    \"\", \n",
    "    \"\", \n",
    "    \"\",\n",
    "    \"\",\n",
    "    \"\",\n",
    ")\n",
    "na2so4 = sfg2d.core.SfgRecords_from_file_list(record_names)"
   ]
  },
  {
   "cell_type": "markdown",
   "metadata": {},
   "source": [
    "## Frame Track"
   ]
  },
  {
   "cell_type": "code",
   "execution_count": null,
   "metadata": {
    "collapsed": true
   },
   "outputs": [],
   "source": [
    "record = \n",
    "\n",
    "fig, ax = subplots(figsize=(9,3))\n",
    "sfg2d.plotting.frame_track(record)\n",
    "tight_layout()\n",
    "\n",
    "sfg2d.savefig(\"figures/{}_frame_track\".format(record.metadata['material']))"
   ]
  },
  {
   "cell_type": "markdown",
   "metadata": {},
   "source": [
    "## Pumped and unpumped"
   ]
  },
  {
   "cell_type": "code",
   "execution_count": null,
   "metadata": {
    "collapsed": true
   },
   "outputs": [],
   "source": [
    "record = \n",
    "\n",
    "fig, ax = subplots(2, 2, squeeze=False, figsize=(9, 8), sharex=True, sharey=\"row\")\n",
    "sca(ax[0, 0])\n",
    "title(\"Unpumped Spectra\")\n",
    "record.plot_spec(y_property=\"unpumped\", x_property=\"wavenumber\", roi_spectra=[0])\n",
    "ylim(0, 100)\n",
    "\n",
    "sca(ax[0, 1])\n",
    "title(\"Pumped Spectra\")\n",
    "record.plot_spec(y_property=\"pumped\", x_property=\"wavenumber\",  roi_spectra=[0])\n",
    "\n",
    "\n",
    "sca(ax[1, 0])\n",
    "title(\"Unpumped Spectra\")\n",
    "record.plot_spec(y_property=\"unpumped_norm\", x_property=\"wavenumber\",  roi_spectra=[0])\n",
    "xlabel(\"wavenumber in 1/cm\")\n",
    "ylim(0, 0.01)\n",
    "\n",
    "sca(ax[1, 1])\n",
    "title(\"Pumped Spectra\")\n",
    "record.plot_spec(y_property=\"pumped_norm\", x_property=\"wavenumber\",  roi_spectra=[0])\n",
    "xlabel(\"wavenumber in 1/cm\")\n",
    "\n",
    "sfg2d.savefig(\"figures/{}_static_spectra\".format(record.metadata.get('material')))"
   ]
  },
  {
   "cell_type": "code",
   "execution_count": null,
   "metadata": {
    "collapsed": true
   },
   "outputs": [],
   "source": [
    "record = g0\n",
    "\n",
    "fig, ax = subplots(1, 2, figsize=(9,4), sharey=True)\n",
    "sca(ax[0])\n",
    "sfg2d.plotting.spec_plot(\n",
    "    record,\n",
    "    title=\"Unpumped\", \n",
    "    y_property=\"unpumped\",\n",
    "    ylabel=\"Counts in {:.0f}ms\".format(record.metadata.get('exposure_time').microseconds/1000)\n",
    ")\n",
    "\n",
    "sca(ax[1])\n",
    "sfg2d.plotting.spec_plot(\n",
    "    record,\n",
    "    title=\"Pumped\", \n",
    "    y_property=\"pumped\",\n",
    "    ylabel=\"Counts in {:.0f}ms\".format(record.metadata.get('exposure_time').microseconds/1000)\n",
    ")\n",
    "tight_layout()\n",
    "\n",
    "#sfg2d.savefig(\"figures/{}\")"
   ]
  },
  {
   "cell_type": "markdown",
   "metadata": {},
   "source": [
    "## Bleach"
   ]
  },
  {
   "cell_type": "markdown",
   "metadata": {},
   "source": [
    "Slideable version in a notebook"
   ]
  },
  {
   "cell_type": "code",
   "execution_count": null,
   "metadata": {
    "collapsed": true
   },
   "outputs": [],
   "source": [
    "sfg2d.plotting.bleach_plot_slider()"
   ]
  },
  {
   "cell_type": "markdown",
   "metadata": {},
   "source": [
    "The easy method"
   ]
  },
  {
   "cell_type": "code",
   "execution_count": null,
   "metadata": {
    "collapsed": true
   },
   "outputs": [],
   "source": [
    "record = \n",
    "\n",
    "attr = 'bleach_abs'\n",
    "sfg2d.plotting.bleach_plot_pdf(\n",
    "    record, \n",
    "    \"{}_pump{}_{}\".format(record.metadata['material'], record.metadata[\"pump_freq\"], attr),\n",
    "    y_property=attr)"
   ]
  },
  {
   "cell_type": "markdown",
   "metadata": {},
   "source": [
    "The hard method"
   ]
  },
  {
   "cell_type": "code",
   "execution_count": null,
   "metadata": {
    "collapsed": true
   },
   "outputs": [],
   "source": [
    "record = g0 # Use correct SfgRecord.\n",
    "attribute = \"bleach_abs\"\n",
    "attribute = \"bleach_rel\"\n",
    "\n",
    "@sfg2d.multipage_pdf # Within the decorator we hide the loop\n",
    "def my_plot(index):\n",
    "\n",
    "    record.plot_bleach(\n",
    "        y_property=attribute, \n",
    "        roi_delay=[slice(index, index+1)],\n",
    "        x_property=\"wavenumber\"\n",
    "    )\n",
    "\n",
    "    title(\"{} @ {} fs\".format(record.metadata.get(\"sample\"), record.pp_delays[index]))\n",
    "    # Usually the limits need some tweaking\n",
    "    #xlim(2000, 3000) \n",
    "    ylim(0.4, 1.1)\n",
    "    xlabel(\"wavenumber in 1/cm\")\n",
    "\n",
    "name = \"figures/{}_{}_pump{}\".format(\n",
    "    record.metadata.get(\"sample\"), attribute, record.metadata.get(\"pump_freq\")\n",
    ")\n",
    "my_plot(name, range(record.number_of_pp_delays))"
   ]
  },
  {
   "cell_type": "markdown",
   "metadata": {},
   "source": [
    "## Traces"
   ]
  },
  {
   "cell_type": "code",
   "execution_count": null,
   "metadata": {
    "collapsed": true
   },
   "outputs": [],
   "source": [
    "record = \n",
    "#record.rois_x_pixel_trace = [slice(900, 1100), slice(700, 900), slice(500, 700)]\n",
    "\n",
    "fig, ax = subplots()\n",
    "sfg2d.plotting.trace_plot(record, y_property=\"traces_bleach_rel\")\n",
    "xlim(-1000, 5000)\n",
    "sfg2d.savefig(\"figures/{}_pump{}_traces\".format(record.metadata[\"material\"], record.metadata['pump_freq']))"
   ]
  },
  {
   "cell_type": "markdown",
   "metadata": {},
   "source": [
    "# Combining Scans"
   ]
  },
  {
   "cell_type": "code",
   "execution_count": null,
   "metadata": {
    "collapsed": true
   },
   "outputs": [],
   "source": [
    "# Fill in paths to files\n",
    "imp_data = (\n",
    "    \"./\",  \n",
    "    \"./\", \n",
    ")\n",
    "data_list = []\n",
    "for elm in imp_data:\n",
    "    elm = sfg2d.SfgRecord(elm)\n",
    "    ## Remove unneeded frames like so\n",
    "    #if elm == \"\": # enter name of the file here\n",
    "    #    sfgrecord = sfgrecord.keep_frames(slice(3)) # The second index is the frame slice\n",
    "    data_list.append(elm)\n",
    "record = sfg2d.concatenate_list_of_SfgRecords(data_list) # This cache the records into a single record\n",
    "\n",
    "# Set some Parameters and Properties\n",
    "record.metadata[\"pump_freq\"] = 2500 # Mean freq of the pump\n",
    "record.metadata[\"sample\"] = \"sample\" # Name of the sample\n",
    "record.base = bg1 # Baseline\n",
    "record.norm = norm_spec # Set spectrum for normalization\n",
    "record.pumped_index = 2 # Set index of pumped data\n",
    "record.unpumped_index = 1 # Set index of unpumped data\n",
    "record.sub_base(inplace=True) # Subtract baseline\n",
    "record = record.make_static_corr() # Correct for static drifts in data\n",
    "record = record.make_avg() # Make frame wise average\n",
    "record.sub_base(inplace=True) # Make shure that baseline is still subtracted after corrections\n",
    "record.normalize(inplace=True) # use ir profile to normalize data.\n",
    "record._wavenumber = None # Reset Wavenumber for recalculation\n",
    "\n",
    "# Apply some corrections\n",
    "record = record.make_static_corr() # Correct for static drifts in data\n",
    "record = record.make_avg() # Make frame wise average\n",
    "record.sub_base(inplace=True) # Make shure that baseline is still subtracted after corrections\n",
    "record.normalize(inplace=True) # use ir profile to normalize data.\n",
    "\n",
    "# Save result\n",
    "record.save(\"cache/{0}\".format(record.metadata.get(\"sample\")))"
   ]
  },
  {
   "cell_type": "markdown",
   "metadata": {},
   "source": [
    "# 2D Spectrum from Scan"
   ]
  },
  {
   "cell_type": "code",
   "execution_count": null,
   "metadata": {
    "collapsed": true
   },
   "outputs": [],
   "source": [
    "record = \n",
    "\n",
    "#record.rois_x_wavenumber_trace = [slice(2309, 2449), slice(2460, 2568), slice(2578, 2661), slice(2686, 2793)]\n",
    "levels = linspace(0.87, 1, 15) \n",
    "fig, ax, axl, axb, axr =sfg2d.plotting.contour(\n",
    "    record, \n",
    "    pixel_med=11,\n",
    "    N=50,\n",
    "    levels=levels,\n",
    "    show_colorbar=False,\n",
    "    show_axl=True\n",
    ")\n",
    "axl.set_xlim(0.6, 1.1)\n",
    "axb.set_xlim(-1000, 5000)\n",
    "\n",
    "name = \"figures/{}_img_pump{}\".format(\n",
    "    record.metadata.get(\"material\"), record.metadata.get(\"pump_freq\"), \n",
    ")\n",
    "sfg2d.savefig(name, dpi=80)"
   ]
  }
 ],
 "metadata": {
  "kernelspec": {
   "display_name": "sfg2d",
   "language": "python",
   "name": "sfg2d"
  },
  "language_info": {
   "codemirror_mode": {
    "name": "ipython",
    "version": 3
   },
   "file_extension": ".py",
   "mimetype": "text/x-python",
   "name": "python",
   "nbconvert_exporter": "python",
   "pygments_lexer": "ipython3",
   "version": "3.5.2"
  }
 },
 "nbformat": 4,
 "nbformat_minor": 2
}
