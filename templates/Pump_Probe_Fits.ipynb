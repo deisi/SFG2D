{
 "cells": [
  {
   "cell_type": "code",
   "execution_count": null,
   "metadata": {
    "collapsed": true
   },
   "outputs": [],
   "source": [
    "%pylab\n",
    "from scipy.stats import sem\n",
    "import sfg2d.talk\n",
    "import json\n",
    "\n",
    "%load_ext autoreload\n",
    "%autoreload 2\n",
    "import sfg2d"
   ]
  },
  {
   "cell_type": "markdown",
   "metadata": {},
   "source": [
    "Import Data"
   ]
  },
  {
   "cell_type": "code",
   "execution_count": null,
   "metadata": {
    "collapsed": true
   },
   "outputs": [],
   "source": [
    "record = sfg2d.SfgRecord('')\n",
    "record.name = ''\n",
    "record.lname = ''\n",
    "record.pump_freq = 0\n",
    "record"
   ]
  },
  {
   "cell_type": "markdown",
   "metadata": {},
   "source": [
    "# Static Spectrum"
   ]
  },
  {
   "cell_type": "code",
   "execution_count": null,
   "metadata": {
    "collapsed": true
   },
   "outputs": [],
   "source": [
    "sfg2d.plot_record_static(record, save=True)"
   ]
  },
  {
   "cell_type": "markdown",
   "metadata": {},
   "source": [
    "# Contour Plot"
   ]
  },
  {
   "cell_type": "code",
   "execution_count": null,
   "metadata": {
    "collapsed": true
   },
   "outputs": [],
   "source": [
    "sfg2d.plot_record_contour(record, save=True, levels=(84, 110, 15))"
   ]
  },
  {
   "cell_type": "markdown",
   "metadata": {},
   "source": [
    "# Four Level Fit"
   ]
  },
  {
   "cell_type": "code",
   "execution_count": null,
   "metadata": {
    "collapsed": true
   },
   "outputs": [],
   "source": [
    "sl = slice(2550, 2650) # Slice in Wavenumbers\n",
    "\n",
    "x, y, yerr = record.trace(roi_wavenumber=sl)\n",
    "x = x.squeeze()\n",
    "y = y.squeeze()\n",
    "yerr = yerr.squeeze()\n",
    "fargs = {\n",
    "     'limit_c': (-10, 10),\n",
    "     'limit_mu': (-800, 0),\n",
    "     'limit_s': (0.0001, 1),\n",
    "     'limit_t1': (1, 10000),\n",
    "     'limit_t2': (1, 10000),\n",
    "     'fix_s': False,\n",
    "     'fix_t1': False,\n",
    "     'fix_t2': True,\n",
    "     'fix_c': False,\n",
    "     'fix_mu': False,\n",
    "     's': 0.044,\n",
    "     't1': 556.0,\n",
    "     't2': 700.0,\n",
    "     'c': 1.22,\n",
    "     'mu': -123,\n",
    "\n",
    "}\n",
    "name = '{}-{}'.format(sl.start, sl.stop)\n",
    "record.models[name] = sfg2d.models.FourLevelMolKinM(\n",
    "    xdata=x, \n",
    "    ydata=y.squeeze(), \n",
    "    sigma=yerr.squeeze(),\n",
    "    fitarg=fargs,\n",
    "    rtol=2.09e-9,\n",
    "    atol=3.00e-9,\n",
    "    gSigma=264,\n",
    ")\n",
    "model = record.models[name]\n",
    "#model.box_coords = (1600, 0.9)\n",
    "sfg2d.plot_model_trace(\n",
    "    record.name  + \"_\" + name, record.models[name], \n",
    "    record, ylim=None, xlim=None, save=False,\n",
    "    title='{} {}-{} 1/cm'.format(record.lname, sl.start, sl.stop)\n",
    ")\n",
    "\n",
    "record.models"
   ]
  },
  {
   "cell_type": "code",
   "execution_count": null,
   "metadata": {
    "collapsed": true
   },
   "outputs": [],
   "source": [
    "model.minuit.migrad()  # Run the minimization\n",
    "sfg2d.plot_model_trace(\n",
    "    record.name  + \"_\" + name, record.models[name], record, \n",
    "    ylim=None, xlim=None, save=False,\n",
    "    title='{} {}-{} 1/cm'.format(record.lname, sl.start, sl.stop)\n",
    ")\n",
    "fit_results[record.name] = sfg2d.core.get_fit_results(record)"
   ]
  },
  {
   "cell_type": "markdown",
   "metadata": {},
   "source": [
    "## Run the Fits"
   ]
  },
  {
   "cell_type": "code",
   "execution_count": null,
   "metadata": {
    "collapsed": true
   },
   "outputs": [],
   "source": [
    "for name, model in record.models.items():\n",
    "    print(name)\n",
    "    stats, params = model.minuit.migrad()\n",
    "    with open(\"cache/{}_trace_pump{}_{}.json\".format(record.name, name, record.pump_freq), \"w\") as file:\n",
    "        json.dump(model.minuit.fitarg, file, indent=2)"
   ]
  },
  {
   "cell_type": "markdown",
   "metadata": {},
   "source": [
    "## Plot Fit Results"
   ]
  },
  {
   "cell_type": "code",
   "execution_count": null,
   "metadata": {
    "collapsed": true
   },
   "outputs": [],
   "source": [
    "#record.models['2550-2650'].box_coords = (1600, .900)\n",
    "\n",
    "for name, model in record.models.items():\n",
    "    sfg2d.plot_model_trace(name, model, record, ylim=(.87, 1.08), xlim=(-1100, 5000), save=True)"
   ]
  },
  {
   "cell_type": "markdown",
   "metadata": {},
   "source": [
    "# CorssCorrelation Fit"
   ]
  },
  {
   "cell_type": "code",
   "execution_count": null,
   "metadata": {
    "collapsed": true
   },
   "outputs": [],
   "source": [
    "cc = sfg2d.SfgRecord('01_cc_gold_pr1_pu1_gal1_ppp.dat')\n",
    "x, y, yerr = cc.trace(prop='rawData', prop_kwgs={}, roi_spectra=[2])\n",
    "gm = sfg2d.models.GaussianModelM(\n",
    "    x, y.squeeze(), sigma=yerr.squeeze(),\n",
    "    fitarg={\n",
    "        'A': 500000,\n",
    "        'mu': -200,\n",
    "        'sigma': 200,\n",
    "        'c':300\n",
    "    },\n",
    "    #roi=slice(3, -5)\n",
    ")\n",
    "gm.box_coords = (-500, 400)\n",
    "gm.minuit.migrad()\n",
    "sfg2d.plot_model_trace(\n",
    "    'CorssCorrelation', \n",
    "    gm, \n",
    "    cc, \n",
    "    xlim=None, \n",
    "    ylim=None, \n",
    "    save=True,\n",
    "    fname_format='figures/cc.pdf'\n",
    ")"
   ]
  }
 ],
 "metadata": {
  "kernelspec": {
   "display_name": "Python 3",
   "language": "python",
   "name": "python3"
  },
  "language_info": {
   "codemirror_mode": {
    "name": "ipython",
    "version": 3
   },
   "file_extension": ".py",
   "mimetype": "text/x-python",
   "name": "python",
   "nbconvert_exporter": "python",
   "pygments_lexer": "ipython3",
   "version": "3.5.2"
  },
  "toc": {
   "nav_menu": {},
   "number_sections": true,
   "sideBar": true,
   "skip_h1_title": false,
   "toc_cell": false,
   "toc_position": {},
   "toc_section_display": "block",
   "toc_window_display": false
  }
 },
 "nbformat": 4,
 "nbformat_minor": 2
}
