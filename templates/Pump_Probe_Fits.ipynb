{
 "cells": [
  {
   "cell_type": "code",
   "execution_count": null,
   "metadata": {
    "collapsed": true
   },
   "outputs": [],
   "source": [
    "%pylab\n",
    "from scipy.stats import sem\n",
    "import sfg2d.talk\n",
    "import json\n",
    "\n",
    "%load_ext autoreload\n",
    "%autoreload 2\n",
    "import sfg2d"
   ]
  },
  {
   "cell_type": "markdown",
   "metadata": {},
   "source": [
    "Import Data"
   ]
  },
  {
   "cell_type": "code",
   "execution_count": null,
   "metadata": {
    "collapsed": true
   },
   "outputs": [],
   "source": [
    "record = sfg2d.SfgRecord('')\n",
    "record.name = ''\n",
    "record.lname = ''\n",
    "record.pump_freq = 0\n",
    "record"
   ]
  },
  {
   "cell_type": "markdown",
   "metadata": {},
   "source": [
    "# Static Spectrum"
   ]
  },
  {
   "cell_type": "code",
   "execution_count": null,
   "metadata": {
    "collapsed": true
   },
   "outputs": [],
   "source": [
    "sfg2d.plot_record_static(na2so4, save=True)"
   ]
  },
  {
   "cell_type": "markdown",
   "metadata": {},
   "source": [
    "# Contour Plot"
   ]
  },
  {
   "cell_type": "code",
   "execution_count": null,
   "metadata": {
    "collapsed": true
   },
   "outputs": [],
   "source": [
    "sfg2d.plot_record_contour(na2so4, save=True, levels=(84, 110, 15))"
   ]
  },
  {
   "cell_type": "markdown",
   "metadata": {},
   "source": [
    "# Four Level Fit"
   ]
  },
  {
   "cell_type": "code",
   "execution_count": null,
   "metadata": {
    "collapsed": true
   },
   "outputs": [],
   "source": [
    "record = \n",
    "sl = slice(2550, 2650) # Slice in Wavenumbers\n",
    "\n",
    "x, y, yerr = record.trace(roi_wavenumber=sl)\n",
    "x = x.squeeze()\n",
    "y = y.squeeze()\n",
    "yerr = yerr.squeeze()\n",
    "fargs = {\n",
    "     'limit_c': (-10, 10),\n",
    "     'limit_mu': (-800, 0),\n",
    "     'limit_s': (0.0001, 1),\n",
    "     'limit_t1': (1, 10000),\n",
    "     'limit_t2': (1, 10000),\n",
    "     's': 0.015,\n",
    "     't1': 829.0,\n",
    "     't2': 700.0,\n",
    "     'c': 0.1,\n",
    "     'mu': -500.0,\n",
    "     'fix_t2': True,\n",
    "}\n",
    "record.models['{}-{}'.format(sl.start, sl.stop)] = sfg2d.models.FourLevelMolKinM(\n",
    "    xdata=x, \n",
    "    ydata=y.squeeze(), \n",
    "    sigma=yerr.squeeze(),\n",
    "    fitarg=fargs,\n",
    "    rtol=2.09e-13,\n",
    "    atol=3.00e-20,\n",
    "    gSigma=264,\n",
    "    roi=slice(3, None)\n",
    "\n",
    ")\n",
    "record.models"
   ]
  },
  {
   "cell_type": "markdown",
   "metadata": {},
   "source": [
    "## Run the Fits"
   ]
  },
  {
   "cell_type": "code",
   "execution_count": null,
   "metadata": {
    "collapsed": true
   },
   "outputs": [],
   "source": [
    "for name, model in record.models.items():\n",
    "    print(name)\n",
    "    stats, params = model.minuit.migrad()\n",
    "    with open(\"cache/{}_trace_pump{}_{}.json\".format(record.name, name, record.pump_freq), \"w\") as file:\n",
    "        json.dump(model.minuit.fitarg, file, indent=2)"
   ]
  },
  {
   "cell_type": "markdown",
   "metadata": {},
   "source": [
    "## Plot Fit Results"
   ]
  },
  {
   "cell_type": "code",
   "execution_count": null,
   "metadata": {
    "collapsed": true
   },
   "outputs": [],
   "source": [
    "#record.models['2550-2650'].box_coords = (1600, .900)\n",
    "\n",
    "for name, model in record.models.items():\n",
    "    sfg2d.plot_model_trace(name, model, record, ylim=(.87, 1.08), xlim=(-1100, 5000), save=True)"
   ]
  }
 ],
 "metadata": {
  "kernelspec": {
   "display_name": "Python 3",
   "language": "python",
   "name": "python3"
  },
  "language_info": {
   "codemirror_mode": {
    "name": "ipython",
    "version": 3
   },
   "file_extension": ".py",
   "mimetype": "text/x-python",
   "name": "python",
   "nbconvert_exporter": "python",
   "pygments_lexer": "ipython3",
   "version": "3.5.2"
  }
 },
 "nbformat": 4,
 "nbformat_minor": 2
}
