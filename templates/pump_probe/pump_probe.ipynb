{
 "cells": [
  {
   "cell_type": "code",
   "execution_count": null,
   "metadata": {},
   "outputs": [],
   "source": [
    "%pylab\n",
    "#%load_ext autoreload\n",
    "\n",
    "import logging\n",
    "#%autoreload 2\n",
    "import sfg2d\n",
    "from sfg2d.raw_reader import *\n",
    "import sfg2d.ana.pumpProbePlots as pp\n",
    "models = {}\n",
    "logging.basicConfig(level=logging.DEBUG)"
   ]
  },
  {
   "cell_type": "markdown",
   "metadata": {},
   "source": [
    "# Import\n",
    "## Data"
   ]
  },
  {
   "cell_type": "markdown",
   "metadata": {},
   "source": [
    "Read records from raw data (slow)"
   ]
  },
  {
   "cell_type": "code",
   "execution_count": null,
   "metadata": {},
   "outputs": [],
   "source": [
    "config_records = read_yaml('./records.yaml')\n",
    "records = import_records(config_records)\n",
    "pp.records = records\n",
    "#cache_records(records)"
   ]
  },
  {
   "cell_type": "markdown",
   "metadata": {},
   "source": [
    "Read records from cahced data (fast)"
   ]
  },
  {
   "cell_type": "code",
   "execution_count": null,
   "metadata": {},
   "outputs": [],
   "source": [
    "#records = read_cache('./cache/')"
   ]
  },
  {
   "cell_type": "markdown",
   "metadata": {},
   "source": [
    "## Models"
   ]
  },
  {
   "cell_type": "code",
   "execution_count": null,
   "metadata": {},
   "outputs": [],
   "source": [
    "#config_models = read_yaml('./models.yaml')\n",
    "#models = make_models(config_models, records, save_models=False)\n",
    "#pp.models = models"
   ]
  },
  {
   "cell_type": "code",
   "execution_count": null,
   "metadata": {},
   "outputs": [],
   "source": [
    "# Update needed if model changed\n",
    "pp.records = records\n",
    "pp.models = models"
   ]
  },
  {
   "cell_type": "markdown",
   "metadata": {},
   "source": [
    "# Spectra"
   ]
  },
  {
   "cell_type": "markdown",
   "metadata": {},
   "source": [
    "## Background"
   ]
  },
  {
   "cell_type": "code",
   "execution_count": null,
   "metadata": {},
   "outputs": [],
   "source": [
    "kwargs_xdata = {'prop': 'pixel'} \n",
    "kwargs_ydata = {\n",
    "    'prop': 'basesubed', \n",
    "    'frame_med': True,\n",
    "    'delay_mean': True,\n",
    "    #'roi_delay': slice(9),\n",
    "}\n",
    "record_names = [\n",
    "    'bg200', \n",
    "    'bg200_ts'\n",
    "    #'bg10'\n",
    "]\n",
    "\n",
    "fig, ax = subplots()\n",
    "plt.title(\"Background\")\n",
    "pp.plot_spectra(record_names, kwargs_xdata, kwargs_ydata)\n",
    "plt.xlabel('pixel')\n",
    "plt.ylabel('counts')\n",
    "plt.ylim(160, 200)"
   ]
  },
  {
   "cell_type": "markdown",
   "metadata": {},
   "source": [
    "## Quartz"
   ]
  },
  {
   "cell_type": "code",
   "execution_count": null,
   "metadata": {},
   "outputs": [],
   "source": [
    "kwargs_xdata = {'prop': 'wavenumber'}\n",
    "kwargs_ydata = {'prop': 'basesubed', \n",
    "                #'roi_spectra': [0, 2], \n",
    "                'frame_med': True}\n",
    "record_names = ['q0', 'q1']\n",
    "record_names2 = ['q0_pl']\n",
    "\n",
    "fig, ax = subplots(2, 1, sharex=True)\n",
    "sca(ax[0])\n",
    "plt.title(\"Quartz\")\n",
    "pp.plot_spectra(record_names, kwargs_xdata, kwargs_ydata)\n",
    "plt.ylabel('counts')\n",
    "\n",
    "sca(ax[1])\n",
    "plt.title('Leackage of Pump-Vis SFG')\n",
    "pp.plot_spectra(record_names2, kwargs_xdata, kwargs_ydata)\n",
    "plt.xlabel('frequency/cm$^{-1}$')\n",
    "plt.ylabel('counts')\n",
    "plt.ylim(-5, 30)"
   ]
  },
  {
   "cell_type": "markdown",
   "metadata": {},
   "source": [
    "## Gold"
   ]
  },
  {
   "cell_type": "markdown",
   "metadata": {},
   "source": [
    "### CC"
   ]
  },
  {
   "cell_type": "code",
   "execution_count": null,
   "metadata": {},
   "outputs": [],
   "source": [
    "roi_wavenumber = slice(4600, 5200)\n",
    "\n",
    "kwargs_xdata = {'prop': 'wavenumber', 'roi_wavenumber': roi_wavenumber}\n",
    "kwargs_ydata = {\n",
    "    'prop': 'basesubed', \n",
    "    'roi_wavenumber': roi_wavenumber, \n",
    "    'frame_med': True, \n",
    "    #'delay_mean': True,\n",
    "    #'roi_spectra': [2]\n",
    "}\n",
    "record_names = ['cc', 'cc1']\n",
    "\n",
    "fig, ax = subplots()\n",
    "plt.title('Spectrum of Crosscorrelation')\n",
    "pp.plot_spectra(record_names, kwargs_xdata, kwargs_ydata)\n",
    "\n",
    "# Add Mean Spectrum\n",
    "kwargs_ydata['delay_mean'] = True\n",
    "kwargs_plots={\n",
    "    'cc': {'label': 'Mean', 'marker': 'o'}, \n",
    "    'cc1': {'label': 'Mean', 'marker': 'o'}, \n",
    "}\n",
    "\n",
    "pp.plot_spectra(record_names, kwargs_xdata, kwargs_ydata, kwargs_plots=kwargs_plots)\n",
    "plt.legend()\n",
    "plt.xlabel('frequency/cm$^{-1}$')\n",
    "plt.ylabel('counts')"
   ]
  },
  {
   "cell_type": "markdown",
   "metadata": {},
   "source": [
    "### Pump-Vis"
   ]
  },
  {
   "cell_type": "code",
   "execution_count": null,
   "metadata": {},
   "outputs": [],
   "source": [
    "kwargs_xdata = {'prop': 'wavenumber'}\n",
    "kwargs_ydata = {'prop': 'basesubed', 'frame_med': True, \n",
    "                'delay_mean': True,\n",
    "                #'roi_spectra': [1],\n",
    "               }\n",
    "record_names = ['pump_vis']\n",
    "\n",
    "fig, ax = subplots()\n",
    "plt.title('Spectrum of pump-vis')\n",
    "pp.plot_spectra(record_names, kwargs_xdata, kwargs_ydata)\n",
    "plt.xlabel('frequency/cm$^{-1}$')\n",
    "plt.ylabel('counts')\n",
    "\n",
    "# Plot fit\n",
    "model_names = ['pump_vis']\n",
    "text_kwargs = {'pump_vis': {'x': 2600, 'y': 2}}\n",
    "pp.plot_models(model_names, text_kwargs=text_kwargs)"
   ]
  },
  {
   "cell_type": "code",
   "execution_count": null,
   "metadata": {},
   "outputs": [],
   "source": [
    "#config_models = read_yaml('./models.yaml')\n",
    "#models = make_models(config_models, records, save_models=False)\n",
    "#pp.models = models"
   ]
  },
  {
   "cell_type": "markdown",
   "metadata": {},
   "source": [
    "### Spectrum"
   ]
  },
  {
   "cell_type": "code",
   "execution_count": null,
   "metadata": {},
   "outputs": [],
   "source": [
    "kwargs_xdata = {'prop': 'pixel'}\n",
    "kwargs_ydata = {'prop': 'basesubed', 'frame_med': True, 'delay_mean': True}\n",
    "record_names = ['gold']\n",
    "\n",
    "fig, ax = subplots()\n",
    "plt.title('Spectrum of Gold')\n",
    "pp.plot_spectra(record_names, kwargs_xdata, kwargs_ydata)\n",
    "plt.xlabel('frequency/cm$^{-1}$')\n",
    "plt.ylabel('counts')"
   ]
  },
  {
   "cell_type": "markdown",
   "metadata": {},
   "source": [
    "## Samples"
   ]
  },
  {
   "cell_type": "code",
   "execution_count": null,
   "metadata": {},
   "outputs": [],
   "source": [
    "kwargs_xdata = {'prop': 'wavenumber'}\n",
    "kwargs_ydata = {\n",
    "    'prop': 'basesubed', \n",
    "    'frame_med': True, \n",
    "    'delay_mean': True, \n",
    "    'roi_spectra': [1],\n",
    "    #'scale': 1000,\n",
    "    #'roi_frames': slice(0, 5),\n",
    "}\n",
    "record_names = ['d2o', 'na2co3', 'na2so4']\n",
    "titles = [\n",
    "    'Spectrum of D$_2$O', \n",
    "    'Spectrum of Na$_2$CO$_3$', \n",
    "    'Spectrum of Na$_2$SO$_4$',\n",
    "]\n",
    "\n",
    "for record_name, title_str in zip(record_names, titles):\n",
    "    if record_name not in records.keys():\n",
    "        continue\n",
    "        \n",
    "    fig, ax = subplots()\n",
    "    plt.title(title_str)\n",
    "    pp.plot_spectra([record_name], kwargs_xdata, kwargs_ydata)\n",
    "    plt.xlabel('frequency/cm$^{-1}$')\n",
    "    plt.xlim(2100, 2600)\n",
    "    #plt.ylim(-2, 20)"
   ]
  },
  {
   "cell_type": "markdown",
   "metadata": {},
   "source": [
    "# Tracks"
   ]
  },
  {
   "cell_type": "code",
   "execution_count": null,
   "metadata": {},
   "outputs": [],
   "source": [
    "kwargs_ydata = {\n",
    "    'prop': 'track', \n",
    "    'roi_spectra': slice(1), \n",
    "    # Choos aggregatoon function for track. \n",
    "    'kwargs_prop': {'aggr': np.nanmean}, \n",
    "    #'roi_frames': [0, 1, 10],\n",
    "}\n",
    "record_names = [\n",
    "    'd2o', 'na2co3', 'na2so4'\n",
    "]\n",
    "kwargs_plots={\n",
    "    'd2o': {'label': 'd2o', 'marker': 'o'},\n",
    "    'na2co3': {'label': 'na2co3', 'marker': 'o'},\n",
    "    'na2so4': {'label': 'na2so4', 'marker': 'o'},\n",
    "\n",
    "}\n",
    "\n",
    "\n",
    "fig, ax = subplots()\n",
    "plt.title('Track')\n",
    "pp.plot_tracks(record_names, kwargs_ydata, kwargs_plots)\n",
    "plt.xlabel('number of frame')\n",
    "plt.ylabel('Mean Counts')\n",
    "plt.legend()"
   ]
  },
  {
   "cell_type": "markdown",
   "metadata": {},
   "source": [
    "# Traces"
   ]
  },
  {
   "cell_type": "markdown",
   "metadata": {},
   "source": [
    "## Gold"
   ]
  },
  {
   "cell_type": "markdown",
   "metadata": {},
   "source": [
    "### CC"
   ]
  },
  {
   "cell_type": "code",
   "execution_count": null,
   "metadata": {},
   "outputs": [],
   "source": [
    "kwargs_xdata = {'prop': 'pp_delays_ps'}\n",
    "kwargs_ydata = {\n",
    "    'prop': 'trace', \n",
    "    'kwargs_prop': {'prop': 'basesubed'}, \n",
    "    'frame_med': True, \n",
    "    'roi_wavenumber': slice(4600, 5200),\n",
    "    #'roi_spectra': [1],\n",
    "}\n",
    "record_names = ['cc']\n",
    "\n",
    "fig, ax = subplots()\n",
    "plt.title('Crosscorrelation')\n",
    "pp.plot_traces(record_names, kwargs_xdata, kwargs_ydata)\n",
    "plt.xlabel('time/ps')\n",
    "plt.ylabel('counts')\n",
    "\n",
    "# Show the fit if possible\n",
    "\n",
    "# Plot fit\n",
    "model_names = ['cc']\n",
    "text_kwargs = {'cc': {'x': -2, 'y': 1000}}\n",
    "try:\n",
    "    pp.plot_models(model_names, text_kwargs=text_kwargs)\n",
    "except KeyError:\n",
    "    pass"
   ]
  },
  {
   "cell_type": "code",
   "execution_count": null,
   "metadata": {},
   "outputs": [],
   "source": [
    "#config_models = read_yaml('./models.yaml')\n",
    "#models = make_models(config_models, records, save_models=True)"
   ]
  },
  {
   "cell_type": "markdown",
   "metadata": {},
   "source": [
    "### Ts"
   ]
  },
  {
   "cell_type": "code",
   "execution_count": null,
   "metadata": {},
   "outputs": [],
   "source": [
    "kwargs_xdata = {'prop': 'pp_delays_ps'}\n",
    "kwargs_ydata = {\n",
    "    'prop': 'trace', \n",
    "    'frame_med': True, \n",
    "    'roi_wavenumber': slice(2300, 2400),\n",
    "}\n",
    "record_names = ['gold']\n",
    "\n",
    "fig, ax = subplots()\n",
    "plt.title('Trace {} @ {}'.format(record_names[0], kwargs_ydata.get('roi_wavenumber')))\n",
    "pp.plot_traces(record_names, kwargs_xdata, kwargs_ydata)\n",
    "plt.xlabel('time/ps')"
   ]
  },
  {
   "cell_type": "markdown",
   "metadata": {},
   "source": [
    "## Samples"
   ]
  },
  {
   "cell_type": "code",
   "execution_count": null,
   "metadata": {},
   "outputs": [],
   "source": [
    "kwargs_xdata = {'prop': 'pp_delays_ps'}\n",
    "kwargs_ydata = {\n",
    "    'prop': 'trace', \n",
    "    'frame_med': True, \n",
    "    'roi_wavenumber': slice(2420, 2480),\n",
    "    #'roi_frames': slice(-2,None),\n",
    "}\n",
    "record_names = ['na2so4', 'd2o', 'na2co3']\n",
    "model_names = {\n",
    "    'na2so4': ['na2so4'],\n",
    "    'd2o': ['d2o'],\n",
    "    'na2co3': ['na2co3'],\n",
    "}\n",
    "\n",
    "for record_name, model_name in zip(record_names, model_names):\n",
    "    if record_name not in records.keys():\n",
    "        continue\n",
    "    rw = kwargs_ydata.get('roi_wavenumber', slice(None))\n",
    "    fig, ax = subplots()\n",
    "    plt.title('Trace {} @ {}-{}'.format(record_name, rw.start, rw.stop))\n",
    "    pp.plot_traces([record_name], kwargs_xdata, kwargs_ydata)\n",
    "    plt.xlabel('time/ps')\n",
    "    plt.xlim(-1, 10)\n",
    "\n",
    "    # Show fit if possible\n",
    "    try:\n",
    "        this_records_model_names = model_names[record_name]\n",
    "        for model_name in this_records_model_names:\n",
    "            m = models[model_name]\n",
    "            plt.plot(m.xsample, m.ysample)\n",
    "        plt.text(2, 0.9, m.box_str);\n",
    "    except:\n",
    "        pass"
   ]
  },
  {
   "cell_type": "code",
   "execution_count": null,
   "metadata": {},
   "outputs": [],
   "source": [
    "#config_models = read_yaml('./models.yaml')\n",
    "#models = make_models(config_models, records, save_models=True)"
   ]
  },
  {
   "cell_type": "markdown",
   "metadata": {},
   "source": [
    "# Contour Plot"
   ]
  },
  {
   "cell_type": "code",
   "execution_count": null,
   "metadata": {},
   "outputs": [],
   "source": [
    "record_names = ['d2o', 'na2co3', 'na2so4']\n",
    "kwargs_data = dict(\n",
    "    kwargs_xdata = {\n",
    "        'prop': 'pp_delays_ps'\n",
    "    },\n",
    "    kwargs_ydata = {\n",
    "        #'roi_pixel': slice(700, 1150)\n",
    "        'roi_wavenumber': slice(2200, 2600),\n",
    "    },\n",
    "    kwargs_zdata = {\n",
    "        'medfilt_pixel': 13,\n",
    "        'resample_freq': 5,\n",
    "    }\n",
    ")\n",
    "kwargs_contourfs = {\n",
    "    'd2o':{'levels': linspace(0.55, 1.15)},\n",
    "    'na2co3': {},\n",
    "    'na2so4': {'levels': linspace(0.7, 1.15)},\n",
    "}\n",
    "titles = {'d2o': 'D$_2$O', 'na2so4': 'Na$_2$SO$_4$', 'na2co3': 'Na$_2$CO$_3$'}\n",
    "\n",
    "\n",
    "for record_name in record_names:\n",
    "    record = records.get(record_name)\n",
    "    kwargs_contourf = kwargs_contourfs.get(record_name, {})\n",
    "    if not record:\n",
    "        continue\n",
    "    pp.plot_contour(\n",
    "        record_name, \n",
    "        kwargs_data,\n",
    "        kwargs_contourf,\n",
    "    )\n",
    "    plt.title('{} @ {} 1/cm'.format(titles[record_name], record.pump_freq))\n",
    "    plt.xlim(-1, 10)"
   ]
  },
  {
   "cell_type": "markdown",
   "metadata": {},
   "source": [
    "# Figs"
   ]
  },
  {
   "cell_type": "markdown",
   "metadata": {},
   "source": [
    "## Save"
   ]
  },
  {
   "cell_type": "code",
   "execution_count": null,
   "metadata": {},
   "outputs": [],
   "source": [
    "figs = [plt.figure(i) for i in plt.get_fignums()]\n",
    "sfg2d.fig.save_figs_to_multipage_pdf(figs, './figures.pdf')"
   ]
  },
  {
   "cell_type": "markdown",
   "metadata": {},
   "source": [
    "## Close All Figures"
   ]
  },
  {
   "cell_type": "code",
   "execution_count": null,
   "metadata": {},
   "outputs": [],
   "source": [
    "plt.close('all')"
   ]
  },
  {
   "cell_type": "markdown",
   "metadata": {},
   "source": [
    "# Bleach"
   ]
  },
  {
   "cell_type": "code",
   "execution_count": null,
   "metadata": {},
   "outputs": [],
   "source": [
    "record_names = ['d2o', 'na2so4', 'na2co3']\n",
    "kwargs_xdata = {\n",
    "    'prop': 'wavenumber',\n",
    "    'roi_wavenumber': slice(2200, 2600),\n",
    "}\n",
    "kwargs_ydata = {\n",
    "    'prop': 'bleach', \n",
    "    'frame_med': True, \n",
    "    #'roi_delay': slice(0, 1),\n",
    "    'roi_wavenumber': slice(2200, 2600),\n",
    "    'medfilt_pixel': 5,\n",
    "    'resample_freqs': 20,\n",
    "    #'roi_frames': slice(0, 8),\n",
    "}\n",
    "sfiles = {\n",
    "    'd2o': 'bleach_d2o.pdf', \n",
    "    'na2so4': 'bleach_na2so4.pdf', \n",
    "    'na2co3': 'bleach_na2co3.pdf'\n",
    "}\n",
    "\n",
    "for record_name in record_names:\n",
    "    record = records.get(record_name)\n",
    "    sfile = sfiles.get(record_name)\n",
    "    if not record:\n",
    "        continue\n",
    "    titles = ['{} @ {} ps'.format(record_name, i) for i in record.pp_delays_ps]\n",
    "    pp.multifig_bleach(record_name, kwargs_xdata, kwargs_ydata, ylim=(0.5, 1.2), titles=titles, sfile=sfile)"
   ]
  },
  {
   "cell_type": "code",
   "execution_count": null,
   "metadata": {},
   "outputs": [],
   "source": [
    "record_names = ['d2o', 'na2so4', 'na2co3']\n",
    "kwargs_xdata = {\n",
    "    'prop': 'wavenumber',\n",
    "    'roi_wavenumber': slice(2000, 2800),\n",
    "}\n",
    "kwargs_ydata = {\n",
    "    'prop': 'basesubed', \n",
    "    'frame_med': True, \n",
    "    #'roi_delay': slice(0, 1),\n",
    "    'roi_wavenumber': slice(2000, 2800),\n",
    "    'medfilt_pixel': 7,\n",
    "    'resample_freqs': 30,\n",
    "    #'roi_frames': slice(0, 8),\n",
    "}\n",
    "sfiles = {\n",
    "    'd2o': 'basesubed_d2o.pdf', \n",
    "    'na2so4': 'basesubed_na2so4.pdf', \n",
    "    'na2co3': 'basesubed_na2co3.pdf'\n",
    "}\n",
    "\n",
    "for record_name in record_names:\n",
    "    record = records.get(record_name)\n",
    "    sfile = sfiles.get(record_name)\n",
    "    if not record:\n",
    "        continue\n",
    "    titles = ['{} @ {} ps'.format(record_name, i) for i in record.pp_delays_ps]\n",
    "    pp.multifig_bleach(\n",
    "        record_name, kwargs_xdata, kwargs_ydata, #ylim=(0.5, 1.2), \n",
    "        titles=titles, sfile=sfile\n",
    "    )"
   ]
  },
  {
   "cell_type": "code",
   "execution_count": null,
   "metadata": {},
   "outputs": [],
   "source": []
  }
 ],
 "metadata": {
  "kernelspec": {
   "display_name": "Python 3",
   "language": "python",
   "name": "python3"
  },
  "language_info": {
   "codemirror_mode": {
    "name": "ipython",
    "version": 3
   },
   "file_extension": ".py",
   "mimetype": "text/x-python",
   "name": "python",
   "nbconvert_exporter": "python",
   "pygments_lexer": "ipython3",
   "version": "3.7.0"
  }
 },
 "nbformat": 4,
 "nbformat_minor": 2
}
