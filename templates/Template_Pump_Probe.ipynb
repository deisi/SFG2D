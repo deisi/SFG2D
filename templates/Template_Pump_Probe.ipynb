{
 "cells": [
  {
   "cell_type": "markdown",
   "metadata": {},
   "source": [
    "DEPRECATED"
   ]
  },
  {
   "cell_type": "code",
   "execution_count": null,
   "metadata": {},
   "outputs": [],
   "source": [
    "# Automatic reloading of modules during development\n",
    "%load_ext autoreload\n",
    "%autoreload 2\n",
    "\n",
    "# Create some folders\n",
    "if not os.path.isdir(\"figures\"): \n",
    "    os.mkdir(\"figures\")\n",
    "if not os.path.isdir(\"cache\"):\n",
    "    os.mkdir(\"cache\")\n",
    "    \n",
    "# Monkeypatch some default values\n",
    "sfg2d.core.VIS_WL = 812.7\n",
    "sfg2d.core.PUMP_FREQ = 2400\n",
    "#sfg2d.core.BASE_SPEC = Array_of_data\n",
    "#sfg2d.core.NORM_SPEC = Array_of_data\n",
    "\n",
    "# Reload cached results \n",
    "#sample = sfg2d.SfgRecord(\"cache/\")"
   ]
  },
  {
   "cell_type": "markdown",
   "metadata": {},
   "source": [
    "## Crosscorrelation"
   ]
  },
  {
   "cell_type": "code",
   "execution_count": null,
   "metadata": {},
   "outputs": [],
   "source": [
    "cc0 = sfg2d.SfgRecord(\"./\") # Fill in path\n",
    "\n",
    "sfg2d.replace_pixel(cc0, 496)\n",
    "cc0.base = bg0 # Use correct baseline\n",
    "cc0.roi_x_pixel_spec = slice(500, 1300) # x-pixel slice of interest\n",
    "cc0.rois_x_pixel_trace = [cc0.roi_x_pixel_spec]\n",
    "cc0.roi_spectra = [0] # Only look at the first spectrum\n",
    "\n",
    "xdata = cc0.pp_delays[cc0.roi_delay]\n",
    "ydata = cc0.traces_basesubed.squeeze()\n",
    "\n",
    "ydata = ydata/ydata.max()\n",
    "gm = sfg2d.models.GaussianModel(xdata, ydata, p0=[400, 0, 180, 0])\n",
    "gm.curve_fit()\n",
    "gm.box_coords = (.1, .3)\n"
   ]
  },
  {
   "cell_type": "markdown",
   "metadata": {},
   "source": [
    "# Pump SFG"
   ]
  },
  {
   "cell_type": "code",
   "execution_count": null,
   "metadata": {},
   "outputs": [],
   "source": [
    "# Pump-Sfg and Probe-SFG\n",
    "pump = sfg2d.SfgRecord(\"\")\n",
    "\n",
    "sfg2d.replace_pixel(pump, 496)\n",
    "pump.base = bg0 # Set correct baseline\n",
    "pump.norm = norm_spec\n",
    "pump.rois_x_pixel_trace=[slice(600, 800)]\n",
    "pump.roi_x_pixel_spec=pump.rois_x_pixel_trace[0]\n",
    "pump.roi_spectra=[0]\n",
    "pump.save(\"cache/pump\")\n",
    "\n",
    "xdata, ydata = pump.subselect(y_property='basesubed', x_property=\"wavenumber\", delay_mean=True)\n",
    "ydata =ydata.squeeze()\n",
    "\n",
    "ydata = ydata/ydata.max()\n",
    "gm = sfg2d.models.GaussianModel(xdata, ydata, p0=[1, 2500, 100, 0])\n",
    "gm.curve_fit()\n",
    "gm.box_coords = (.3, .1)"
   ]
  },
  {
   "cell_type": "code",
   "execution_count": null,
   "metadata": {},
   "outputs": [],
   "source": [
    "fig, ax = subplots()\n",
    "sfg2d.plotting.spec_plot(\n",
    "    pump, \n",
    "    title=\"Pump SFG\",\n",
    "    ylabel=\"Counts in {}ms\".format(pump.exposure_time_ms)\n",
    ")\n",
    "sfg2d.savefig(\"figures/pump\")\n",
    "\n",
    "fig, ax = subplots()\n",
    "sfg2d.plotting.spec_plot(\n",
    "    pump, \n",
    "    title=\"Pump SFG\",\n",
    "    ylabel=\"Counts in {}ms\".format(pump.exposure_time_ms),\n",
    "    delay_mean=True,\n",
    ")\n",
    "sfg2d.savefig(\"figures/pump_mean\")\n",
    "\n",
    "fig, ax = subplots()\n",
    "gm.plot(show_fit_line=True, show_box=True)\n",
    "sfg2d.savefig('figures/pump_mean_fit')\n",
    "\n",
    "fig, ax = subplots()\n",
    "sfg2d.plotting.trace_plot(\n",
    "    pump,\n",
    "    title=\"Pump-Vis Trace\"\n",
    ")\n",
    "sfg2d.savefig(\"figures/pump_trace\")"
   ]
  },
  {
   "cell_type": "markdown",
   "metadata": {},
   "source": [
    "# HEAT"
   ]
  },
  {
   "cell_type": "code",
   "execution_count": null,
   "metadata": {},
   "outputs": [],
   "source": [
    "hot = \n",
    "cold = \n",
    "\n",
    "fig, ax = subplots(2, 2, figsize=(9, 8))\n",
    "sca(ax[0, 0])\n",
    "title(\"Raw Static Spectrum\")\n",
    "cold.plot_spec(y_property=\"basesubed\", x_property=\"wavenumber\", label = \"Cool\")\n",
    "hot.plot_spec(y_property=\"basesubed\", x_property=\"wavenumber\", label = \"Hot\")\n",
    "xlabel(\"wavenumber in 1/cm\")\n",
    "legend()\n",
    "\n",
    "sca(ax[0, 1])\n",
    "title(\"Normalized Spectrum\")\n",
    "cold.plot_spec(y_property=\"normalized\", x_property=\"wavenumber\", medfilt_kernel=(5), marker = \"o\", label = \"Cool\")\n",
    "hot.plot_spec(y_property=\"normalized\", x_property=\"wavenumber\", medfilt_kernel=(5), marker = \"o\", label = \"Hot\")\n",
    "xlabel(\"wavenumber in 1/cm\")\n",
    "ylim(0.002, 0.012)\n",
    "legend()\n",
    "\n",
    "sca(ax[1, 0])\n",
    "bleach = sfg2d.core.medfilt(median(hot.basesubed / cold.basesubed, 1)[0, 1], 5)\n",
    "plot(cold.wavenumber, bleach)\n",
    "title(\"Heat Bleach Rel\")\n",
    "xlim(2100, 2800)\n",
    "ylim(1, 1.4)\n",
    "\n",
    "sca(ax[1,1])\n",
    "bleach = sfg2d.core.medfilt(median(hot.normalized - cold.normalized, 1)[0, 1], 5)\n",
    "plot(cold.wavenumber, bleach)\n",
    "title(\"Heat Bleach Abs\")\n",
    "xlim(2100, 2800)\n",
    "ylim(0, 0.0025)\n",
    "tight_layout()\n",
    "sfg2d.savefig(\"figures/{}_heat_bleach\".format(hot.metadata[\"material\"]))"
   ]
  },
  {
   "cell_type": "markdown",
   "metadata": {},
   "source": [
    "# Pump Probe\n",
    "\n",
    "loading of pump probe"
   ]
  },
  {
   "cell_type": "code",
   "execution_count": null,
   "metadata": {},
   "outputs": [],
   "source": [
    "g0 = sfg2d.SfgRecord(\"./\")# Fill in path\n",
    "record = g0\n",
    "\n",
    "# Victor Camera has a broken Pixel 496. This replaces the values of the broken pixel.\n",
    "sfg2d.replace_pixel(record, 496)\n",
    "record.base = bg0 # Use correct baseline\n",
    "record.norm = norm_spec\n",
    "record.pumped_index = 2\n",
    "record.unpumped_index = 0\n",
    "record.rois_x_pixel_trace=[slice(600, 800),] # Where the pump is and you want to have traces.\n",
    "record.roi_x_pixel_spec = slice(200, 1400) # Where the static signal is\n",
    "record.zero_time_selec=[0, 1, 2] # Lets use the first the pp-delay points for offset correction\n",
    "record.zero_time_subtraction = True # Perform zero time offset correction.\n",
    "record.save(\"cache/{}_pump{}\".format(record.metadata['material'], record.metadata['pump_freq']))\n",
    "\n",
    "#record.save(\"cache/gold\")"
   ]
  },
  {
   "cell_type": "markdown",
   "metadata": {},
   "source": [
    "# Bleach "
   ]
  },
  {
   "cell_type": "code",
   "execution_count": null,
   "metadata": {},
   "outputs": [],
   "source": [
    "record = g0 # Use correct SfgRecord.\n",
    "attribute = \"bleach_abs\"\n",
    "attribute = \"bleach_rel\"\n",
    "\n",
    "@sfg2d.multipage_pdf # Within the decorator we hide the loop\n",
    "def my_plot(index):\n",
    "\n",
    "    record.plot_bleach(\n",
    "        y_property=attribute, \n",
    "        roi_delay=[slice(index, index+1)],\n",
    "        x_property=\"wavenumber\"\n",
    "    )\n",
    "\n",
    "    title(\"{} @ {} fs\".format(record.metadata.get(\"sample\"), record.pp_delays[index]))\n",
    "    # Usually the limits need some tweaking\n",
    "    #xlim(2000, 3000) \n",
    "    ylim(0.4, 1.1)\n",
    "    xlabel(\"wavenumber in 1/cm\")\n",
    "\n",
    "name = \"figures/{}_{}_pump{}\".format(\n",
    "    record.metadata.get(\"sample\"), attribute, record.metadata.get(\"pump_freq\")\n",
    ")\n",
    "my_plot(name, range(record.number_of_pp_delays))"
   ]
  },
  {
   "cell_type": "markdown",
   "metadata": {},
   "source": [
    "# 2D Spectrum"
   ]
  },
  {
   "cell_type": "code",
   "execution_count": null,
   "metadata": {},
   "outputs": [],
   "source": [
    "\n",
    "record = \n",
    "\n",
    "#record.rois_x_wavenumber_trace = [slice(2309, 2449), slice(2460, 2568), slice(2578, 2661), slice(2686, 2793)]\n",
    "levels = linspace(0.87, 1, 15) \n",
    "fig, ax, axl, axb, axr =sfg2d.plotting.contour(\n",
    "    record, \n",
    "    pixel_med=11,\n",
    "    N=50,\n",
    "    levels=levels,\n",
    "    show_colorbar=False,\n",
    "    show_axl=True\n",
    ")\n",
    "axl.set_xlim(0.6, 1.1)\n",
    "axb.set_xlim(-1000, 5000)\n",
    "\n",
    "name = \"figures/{}_img_pump{}\".format(\n",
    "    record.metadata.get(\"material\"), record.metadata.get(\"pump_freq\"), \n",
    ")\n",
    "sfg2d.savefig(name, dpi=80)"
   ]
  }
 ],
 "metadata": {
  "kernelspec": {
   "display_name": "Python 3",
   "language": "python",
   "name": "python3"
  },
  "language_info": {
   "codemirror_mode": {
    "name": "ipython",
    "version": 3
   },
   "file_extension": ".py",
   "mimetype": "text/x-python",
   "name": "python",
   "nbconvert_exporter": "python",
   "pygments_lexer": "ipython3",
   "version": "3.6.5"
  }
 },
 "nbformat": 4,
 "nbformat_minor": 2
}
